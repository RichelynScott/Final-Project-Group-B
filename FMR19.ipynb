{
 "cells": [
  {
   "cell_type": "code",
   "execution_count": 1,
   "id": "92efee60",
   "metadata": {},
   "outputs": [
    {
     "name": "stdout",
     "output_type": "stream",
     "text": [
      "Requirement already satisfied: pyod in c:\\users\\laure\\anaconda3\\envs\\pythondata\\lib\\site-packages (0.9.3)Note: you may need to restart the kernel to use updated packages.\n",
      "Requirement already satisfied: matplotlib in c:\\users\\laure\\anaconda3\\envs\\pythondata\\lib\\site-packages (from pyod) (3.3.4)\n",
      "Requirement already satisfied: numpy>=1.13 in c:\\users\\laure\\anaconda3\\envs\\pythondata\\lib\\site-packages (from pyod) (1.20.1)\n",
      "Requirement already satisfied: numba>=0.35 in c:\\users\\laure\\anaconda3\\envs\\pythondata\\lib\\site-packages (from pyod) (0.53.1)\n",
      "Requirement already satisfied: six in c:\\users\\laure\\appdata\\roaming\\python\\python37\\site-packages (from pyod) (1.16.0)\n",
      "Requirement already satisfied: joblib in c:\\users\\laure\\anaconda3\\envs\\pythondata\\lib\\site-packages (from pyod) (1.0.1)\n",
      "Requirement already satisfied: scipy>=1.3.1 in c:\\users\\laure\\anaconda3\\envs\\pythondata\\lib\\site-packages (from pyod) (1.6.2)\n",
      "Requirement already satisfied: scikit-learn>=0.20.0 in c:\\users\\laure\\anaconda3\\envs\\pythondata\\lib\\site-packages (from pyod) (0.24.1)\n",
      "Requirement already satisfied: statsmodels in c:\\users\\laure\\anaconda3\\envs\\pythondata\\lib\\site-packages (from pyod) (0.12.2)\n",
      "Requirement already satisfied: setuptools in c:\\users\\laure\\anaconda3\\envs\\pythondata\\lib\\site-packages (from numba>=0.35->pyod) (52.0.0.post20210125)\n",
      "Requirement already satisfied: llvmlite<0.37,>=0.36.0rc1 in c:\\users\\laure\\anaconda3\\envs\\pythondata\\lib\\site-packages (from numba>=0.35->pyod) (0.36.0)\n",
      "Requirement already satisfied: threadpoolctl>=2.0.0 in c:\\users\\laure\\anaconda3\\envs\\pythondata\\lib\\site-packages (from scikit-learn>=0.20.0->pyod) (2.1.0)\n",
      "Requirement already satisfied: pillow>=6.2.0 in c:\\users\\laure\\anaconda3\\envs\\pythondata\\lib\\site-packages (from matplotlib->pyod) (8.2.0)\n",
      "Requirement already satisfied: cycler>=0.10 in c:\\users\\laure\\anaconda3\\envs\\pythondata\\lib\\site-packages (from matplotlib->pyod) (0.10.0)\n",
      "Requirement already satisfied: pyparsing!=2.0.4,!=2.1.2,!=2.1.6,>=2.0.3 in c:\\users\\laure\\anaconda3\\envs\\pythondata\\lib\\site-packages (from matplotlib->pyod) (2.4.7)\n",
      "Requirement already satisfied: kiwisolver>=1.0.1 in c:\\users\\laure\\anaconda3\\envs\\pythondata\\lib\\site-packages (from matplotlib->pyod) (1.3.1)\n",
      "\n",
      "Requirement already satisfied: python-dateutil>=2.1 in c:\\users\\laure\\appdata\\roaming\\python\\python37\\site-packages (from matplotlib->pyod) (2.8.1)\n",
      "Requirement already satisfied: pandas>=0.21 in c:\\users\\laure\\anaconda3\\envs\\pythondata\\lib\\site-packages (from statsmodels->pyod) (1.2.4)\n",
      "Requirement already satisfied: patsy>=0.5 in c:\\users\\laure\\anaconda3\\envs\\pythondata\\lib\\site-packages (from statsmodels->pyod) (0.5.1)\n",
      "Requirement already satisfied: pytz>=2017.3 in c:\\users\\laure\\anaconda3\\envs\\pythondata\\lib\\site-packages (from pandas>=0.21->statsmodels->pyod) (2021.1)\n"
     ]
    }
   ],
   "source": [
    "pip install --upgrade pyod  "
   ]
  },
  {
   "cell_type": "code",
   "execution_count": 2,
   "id": "d5cc04ea",
   "metadata": {},
   "outputs": [
    {
     "name": "stdout",
     "output_type": "stream",
     "text": [
      "Requirement already satisfied: combo in c:\\users\\laure\\anaconda3\\envs\\pythondata\\lib\\site-packages (0.1.2)\n",
      "Requirement already satisfied: numpy>=1.13 in c:\\users\\laure\\anaconda3\\envs\\pythondata\\lib\\site-packages (from combo) (1.20.1)\n",
      "Requirement already satisfied: numba>=0.35 in c:\\users\\laure\\anaconda3\\envs\\pythondata\\lib\\site-packages (from combo) (0.53.1)\n",
      "Requirement already satisfied: scikit-learn>=0.20 in c:\\users\\laure\\anaconda3\\envs\\pythondata\\lib\\site-packages (from combo) (0.24.1)\n",
      "Requirement already satisfied: joblib in c:\\users\\laure\\anaconda3\\envs\\pythondata\\lib\\site-packages (from combo) (1.0.1)\n",
      "Requirement already satisfied: scipy in c:\\users\\laure\\anaconda3\\envs\\pythondata\\lib\\site-packages (from combo) (1.6.2)\n",
      "Requirement already satisfied: pyod in c:\\users\\laure\\anaconda3\\envs\\pythondata\\lib\\site-packages (from combo) (0.9.3)\n",
      "Requirement already satisfied: matplotlib in c:\\users\\laure\\anaconda3\\envs\\pythondata\\lib\\site-packages (from combo) (3.3.4)\n",
      "Requirement already satisfied: setuptools in c:\\users\\laure\\anaconda3\\envs\\pythondata\\lib\\site-packages (from numba>=0.35->combo) (52.0.0.post20210125)\n",
      "Requirement already satisfied: llvmlite<0.37,>=0.36.0rc1 in c:\\users\\laure\\anaconda3\\envs\\pythondata\\lib\\site-packages (from numba>=0.35->combo) (0.36.0)\n",
      "Requirement already satisfied: threadpoolctl>=2.0.0 in c:\\users\\laure\\anaconda3\\envs\\pythondata\\lib\\site-packages (from scikit-learn>=0.20->combo) (2.1.0)\n",
      "Requirement already satisfied: python-dateutil>=2.1 in c:\\users\\laure\\appdata\\roaming\\python\\python37\\site-packages (from matplotlib->combo) (2.8.1)\n",
      "Requirement already satisfied: kiwisolver>=1.0.1 in c:\\users\\laure\\anaconda3\\envs\\pythondata\\lib\\site-packages (from matplotlib->combo) (1.3.1)\n",
      "Requirement already satisfied: cycler>=0.10 in c:\\users\\laure\\anaconda3\\envs\\pythondata\\lib\\site-packages (from matplotlib->combo) (0.10.0)\n",
      "Requirement already satisfied: pillow>=6.2.0 in c:\\users\\laure\\anaconda3\\envs\\pythondata\\lib\\site-packages (from matplotlib->combo) (8.2.0)\n",
      "Requirement already satisfied: pyparsing!=2.0.4,!=2.1.2,!=2.1.6,>=2.0.3 in c:\\users\\laure\\anaconda3\\envs\\pythondata\\lib\\site-packages (from matplotlib->combo) (2.4.7)\n",
      "Requirement already satisfied: six in c:\\users\\laure\\appdata\\roaming\\python\\python37\\site-packages (from cycler>=0.10->matplotlib->combo) (1.16.0)\n",
      "Requirement already satisfied: statsmodels in c:\\users\\laure\\anaconda3\\envs\\pythondata\\lib\\site-packages (from pyod->combo) (0.12.2)\n",
      "Requirement already satisfied: pandas>=0.21 in c:\\users\\laure\\anaconda3\\envs\\pythondata\\lib\\site-packages (from statsmodels->pyod->combo) (1.2.4)\n",
      "Requirement already satisfied: patsy>=0.5 in c:\\users\\laure\\anaconda3\\envs\\pythondata\\lib\\site-packages (from statsmodels->pyod->combo) (0.5.1)\n",
      "Requirement already satisfied: pytz>=2017.3 in c:\\users\\laure\\anaconda3\\envs\\pythondata\\lib\\site-packages (from pandas>=0.21->statsmodels->pyod->combo) (2021.1)\n",
      "Note: you may need to restart the kernel to use updated packages.\n"
     ]
    }
   ],
   "source": [
    "pip install combo"
   ]
  },
  {
   "cell_type": "code",
   "execution_count": 3,
   "id": "bc30a458",
   "metadata": {},
   "outputs": [],
   "source": [
    "import numpy as np \n",
    "import pandas as pd \n",
    "\n",
    "import os\n",
    "\n",
    "import seaborn as sns\n",
    "import matplotlib.pyplot as plt\n",
    "import plotly.express as px\n",
    "from plotly.subplots import make_subplots\n",
    "import plotly.graph_objects as go"
   ]
  },
  {
   "cell_type": "code",
   "execution_count": 4,
   "id": "493cf934",
   "metadata": {},
   "outputs": [],
   "source": [
    "from sklearn.model_selection import train_test_split\n",
    "from sklearn.linear_model import Ridge, Lasso, LinearRegression\n",
    "from sklearn.ensemble import RandomForestRegressor\n",
    "from sklearn.preprocessing import StandardScaler, OneHotEncoder\n",
    "from sklearn.compose import make_column_transformer, ColumnTransformer\n",
    "from sklearn.pipeline import make_pipeline\n",
    "from sklearn.neural_network import MLPRegressor\n",
    "\n",
    "from scipy.stats.mstats import winsorize"
   ]
  },
  {
   "cell_type": "code",
   "execution_count": 5,
   "id": "5eef38bf",
   "metadata": {},
   "outputs": [],
   "source": [
    "from pyod.models.feature_bagging import FeatureBagging\n",
    "from pyod.models.lof import LOF"
   ]
  },
  {
   "cell_type": "code",
   "execution_count": 6,
   "id": "5f4225a9",
   "metadata": {},
   "outputs": [
    {
     "name": "stdout",
     "output_type": "stream",
     "text": [
      "Requirement already satisfied: xgboost in c:\\users\\laure\\anaconda3\\envs\\pythondata\\lib\\site-packages (1.4.2)\n",
      "Requirement already satisfied: scipy in c:\\users\\laure\\anaconda3\\envs\\pythondata\\lib\\site-packages (from xgboost) (1.6.2)\n",
      "Requirement already satisfied: numpy in c:\\users\\laure\\anaconda3\\envs\\pythondata\\lib\\site-packages (from xgboost) (1.20.1)\n",
      "Note: you may need to restart the kernel to use updated packages.\n"
     ]
    }
   ],
   "source": [
    "pip install xgboost"
   ]
  },
  {
   "cell_type": "code",
   "execution_count": 7,
   "id": "223bf285",
   "metadata": {},
   "outputs": [
    {
     "name": "stdout",
     "output_type": "stream",
     "text": [
      "Requirement already satisfied: catboost in c:\\users\\laure\\anaconda3\\envs\\pythondata\\lib\\site-packages (0.26.1)\n",
      "Requirement already satisfied: matplotlib in c:\\users\\laure\\anaconda3\\envs\\pythondata\\lib\\site-packages (from catboost) (3.3.4)\n",
      "Requirement already satisfied: graphviz in c:\\users\\laure\\anaconda3\\envs\\pythondata\\lib\\site-packages (from catboost) (0.17)\n",
      "Requirement already satisfied: scipy in c:\\users\\laure\\anaconda3\\envs\\pythondata\\lib\\site-packages (from catboost) (1.6.2)\n",
      "Requirement already satisfied: pandas>=0.24.0 in c:\\users\\laure\\anaconda3\\envs\\pythondata\\lib\\site-packages (from catboost) (1.2.4)\n",
      "Requirement already satisfied: six in c:\\users\\laure\\appdata\\roaming\\python\\python37\\site-packages (from catboost) (1.16.0)\n",
      "Requirement already satisfied: numpy>=1.16.0 in c:\\users\\laure\\anaconda3\\envs\\pythondata\\lib\\site-packages (from catboost) (1.20.1)\n",
      "Requirement already satisfied: plotly in c:\\users\\laure\\anaconda3\\envs\\pythondata\\lib\\site-packages (from catboost) (5.1.0)\n",
      "Requirement already satisfied: python-dateutil>=2.7.3 in c:\\users\\laure\\appdata\\roaming\\python\\python37\\site-packages (from pandas>=0.24.0->catboost) (2.8.1)\n",
      "Requirement already satisfied: pytz>=2017.3 in c:\\users\\laure\\anaconda3\\envs\\pythondata\\lib\\site-packages (from pandas>=0.24.0->catboost) (2021.1)\n",
      "Requirement already satisfied: pyparsing!=2.0.4,!=2.1.2,!=2.1.6,>=2.0.3 in c:\\users\\laure\\anaconda3\\envs\\pythondata\\lib\\site-packages (from matplotlib->catboost) (2.4.7)\n",
      "Requirement already satisfied: kiwisolver>=1.0.1 in c:\\users\\laure\\anaconda3\\envs\\pythondata\\lib\\site-packages (from matplotlib->catboost) (1.3.1)\n",
      "Requirement already satisfied: cycler>=0.10 in c:\\users\\laure\\anaconda3\\envs\\pythondata\\lib\\site-packages (from matplotlib->catboost) (0.10.0)\n",
      "Requirement already satisfied: pillow>=6.2.0 in c:\\users\\laure\\anaconda3\\envs\\pythondata\\lib\\site-packages (from matplotlib->catboost) (8.2.0)\n",
      "Requirement already satisfied: tenacity>=6.2.0 in c:\\users\\laure\\anaconda3\\envs\\pythondata\\lib\\site-packages (from plotly->catboost) (6.3.1)\n",
      "Note: you may need to restart the kernel to use updated packages.\n"
     ]
    }
   ],
   "source": [
    "pip install catboost"
   ]
  },
  {
   "cell_type": "code",
   "execution_count": 8,
   "id": "f7874b9a",
   "metadata": {},
   "outputs": [
    {
     "name": "stdout",
     "output_type": "stream",
     "text": [
      "Requirement already satisfied: lightgbm in c:\\users\\laure\\anaconda3\\envs\\pythondata\\lib\\site-packages (3.2.1)\n",
      "Requirement already satisfied: numpy in c:\\users\\laure\\anaconda3\\envs\\pythondata\\lib\\site-packages (from lightgbm) (1.20.1)\n",
      "Requirement already satisfied: scipy in c:\\users\\laure\\anaconda3\\envs\\pythondata\\lib\\site-packages (from lightgbm) (1.6.2)\n",
      "Requirement already satisfied: scikit-learn!=0.22.0 in c:\\users\\laure\\anaconda3\\envs\\pythondata\\lib\\site-packages (from lightgbm) (0.24.1)\n",
      "Requirement already satisfied: wheel in c:\\users\\laure\\anaconda3\\envs\\pythondata\\lib\\site-packages (from lightgbm) (0.36.2)\n",
      "Requirement already satisfied: joblib>=0.11 in c:\\users\\laure\\anaconda3\\envs\\pythondata\\lib\\site-packages (from scikit-learn!=0.22.0->lightgbm) (1.0.1)\n",
      "Requirement already satisfied: threadpoolctl>=2.0.0 in c:\\users\\laure\\anaconda3\\envs\\pythondata\\lib\\site-packages (from scikit-learn!=0.22.0->lightgbm) (2.1.0)\n",
      "Note: you may need to restart the kernel to use updated packages.\n"
     ]
    }
   ],
   "source": [
    "pip install lightgbm "
   ]
  },
  {
   "cell_type": "code",
   "execution_count": null,
   "id": "61f6d713",
   "metadata": {},
   "outputs": [],
   "source": []
  },
  {
   "cell_type": "code",
   "execution_count": 9,
   "id": "d54a0154",
   "metadata": {},
   "outputs": [],
   "source": [
    "from xgboost import XGBRegressor, XGBRFRegressor\n",
    "from catboost import CatBoostRegressor\n",
    "from lightgbm import LGBMRegressor\n",
    "import catboost\n",
    "import lightgbm"
   ]
  },
  {
   "cell_type": "code",
   "execution_count": 10,
   "id": "ff57a109",
   "metadata": {
    "scrolled": true
   },
   "outputs": [
    {
     "data": {
      "text/html": [
       "<div>\n",
       "<style scoped>\n",
       "    .dataframe tbody tr th:only-of-type {\n",
       "        vertical-align: middle;\n",
       "    }\n",
       "\n",
       "    .dataframe tbody tr th {\n",
       "        vertical-align: top;\n",
       "    }\n",
       "\n",
       "    .dataframe thead th {\n",
       "        text-align: right;\n",
       "    }\n",
       "</style>\n",
       "<table border=\"1\" class=\"dataframe\">\n",
       "  <thead>\n",
       "    <tr style=\"text-align: right;\">\n",
       "      <th></th>\n",
       "      <th>fips2010</th>\n",
       "      <th>fmr_0</th>\n",
       "      <th>fmr_1</th>\n",
       "      <th>fmr_2</th>\n",
       "      <th>fmr_3</th>\n",
       "      <th>fmr_4</th>\n",
       "      <th>state</th>\n",
       "      <th>metro_code</th>\n",
       "      <th>areaname</th>\n",
       "      <th>county</th>\n",
       "      <th>cousub</th>\n",
       "      <th>countyname</th>\n",
       "      <th>county_town_name</th>\n",
       "      <th>pop2010</th>\n",
       "      <th>acs_2018_2</th>\n",
       "      <th>state_alpha</th>\n",
       "      <th>fmr_type</th>\n",
       "      <th>metro</th>\n",
       "      <th>fmr_pct_chg</th>\n",
       "      <th>fmr_dollar_chg</th>\n",
       "    </tr>\n",
       "  </thead>\n",
       "  <tbody>\n",
       "    <tr>\n",
       "      <th>4762</th>\n",
       "      <td>7215199999</td>\n",
       "      <td>431</td>\n",
       "      <td>459</td>\n",
       "      <td>549</td>\n",
       "      <td>728</td>\n",
       "      <td>913</td>\n",
       "      <td>72</td>\n",
       "      <td>METRO41980MM7440</td>\n",
       "      <td>San Juan-Guaynabo, PR HUD Metro FMR Area</td>\n",
       "      <td>151</td>\n",
       "      <td>99999</td>\n",
       "      <td>Yabucoa Municipio</td>\n",
       "      <td>Yabucoa Municipio</td>\n",
       "      <td>37941</td>\n",
       "      <td>530</td>\n",
       "      <td>PR</td>\n",
       "      <td>50</td>\n",
       "      <td>1</td>\n",
       "      <td>0.035849</td>\n",
       "      <td>19</td>\n",
       "    </tr>\n",
       "    <tr>\n",
       "      <th>4763</th>\n",
       "      <td>7215399999</td>\n",
       "      <td>354</td>\n",
       "      <td>363</td>\n",
       "      <td>416</td>\n",
       "      <td>575</td>\n",
       "      <td>731</td>\n",
       "      <td>72</td>\n",
       "      <td>METRO38660M49500</td>\n",
       "      <td>Yauco, PR HUD Metro FMR Area</td>\n",
       "      <td>153</td>\n",
       "      <td>99999</td>\n",
       "      <td>Yauco Municipio</td>\n",
       "      <td>Yauco Municipio</td>\n",
       "      <td>42043</td>\n",
       "      <td>389</td>\n",
       "      <td>PR</td>\n",
       "      <td>50</td>\n",
       "      <td>1</td>\n",
       "      <td>0.069409</td>\n",
       "      <td>27</td>\n",
       "    </tr>\n",
       "    <tr>\n",
       "      <th>4764</th>\n",
       "      <td>7801099999</td>\n",
       "      <td>779</td>\n",
       "      <td>794</td>\n",
       "      <td>970</td>\n",
       "      <td>1215</td>\n",
       "      <td>1311</td>\n",
       "      <td>78</td>\n",
       "      <td>NCNTY78010N78010</td>\n",
       "      <td>St. Croix Island, VI</td>\n",
       "      <td>10</td>\n",
       "      <td>99999</td>\n",
       "      <td>St. Croix</td>\n",
       "      <td>St. Croix</td>\n",
       "      <td>53234</td>\n",
       "      <td>916</td>\n",
       "      <td>VI</td>\n",
       "      <td>50</td>\n",
       "      <td>0</td>\n",
       "      <td>0.058952</td>\n",
       "      <td>54</td>\n",
       "    </tr>\n",
       "    <tr>\n",
       "      <th>4765</th>\n",
       "      <td>7802099999</td>\n",
       "      <td>1034</td>\n",
       "      <td>1225</td>\n",
       "      <td>1523</td>\n",
       "      <td>1908</td>\n",
       "      <td>2059</td>\n",
       "      <td>78</td>\n",
       "      <td>NCNTY78020N78020</td>\n",
       "      <td>St. John Island, VI</td>\n",
       "      <td>20</td>\n",
       "      <td>99999</td>\n",
       "      <td>St. John</td>\n",
       "      <td>St. John</td>\n",
       "      <td>4197</td>\n",
       "      <td>1439</td>\n",
       "      <td>VI</td>\n",
       "      <td>50</td>\n",
       "      <td>0</td>\n",
       "      <td>0.058374</td>\n",
       "      <td>84</td>\n",
       "    </tr>\n",
       "    <tr>\n",
       "      <th>4766</th>\n",
       "      <td>7803099999</td>\n",
       "      <td>744</td>\n",
       "      <td>897</td>\n",
       "      <td>1123</td>\n",
       "      <td>1407</td>\n",
       "      <td>1518</td>\n",
       "      <td>78</td>\n",
       "      <td>NCNTY78030N78030</td>\n",
       "      <td>St. Thomas Island, VI</td>\n",
       "      <td>30</td>\n",
       "      <td>99999</td>\n",
       "      <td>St. Thomas</td>\n",
       "      <td>St. Thomas</td>\n",
       "      <td>51181</td>\n",
       "      <td>1061</td>\n",
       "      <td>VI</td>\n",
       "      <td>50</td>\n",
       "      <td>0</td>\n",
       "      <td>0.058435</td>\n",
       "      <td>62</td>\n",
       "    </tr>\n",
       "  </tbody>\n",
       "</table>\n",
       "</div>"
      ],
      "text/plain": [
       "        fips2010  fmr_0  fmr_1  fmr_2  fmr_3  fmr_4  state        metro_code  \\\n",
       "4762  7215199999    431    459    549    728    913     72  METRO41980MM7440   \n",
       "4763  7215399999    354    363    416    575    731     72  METRO38660M49500   \n",
       "4764  7801099999    779    794    970   1215   1311     78  NCNTY78010N78010   \n",
       "4765  7802099999   1034   1225   1523   1908   2059     78  NCNTY78020N78020   \n",
       "4766  7803099999    744    897   1123   1407   1518     78  NCNTY78030N78030   \n",
       "\n",
       "                                      areaname  county  cousub  \\\n",
       "4762  San Juan-Guaynabo, PR HUD Metro FMR Area     151   99999   \n",
       "4763              Yauco, PR HUD Metro FMR Area     153   99999   \n",
       "4764                      St. Croix Island, VI      10   99999   \n",
       "4765                       St. John Island, VI      20   99999   \n",
       "4766                     St. Thomas Island, VI      30   99999   \n",
       "\n",
       "             countyname   county_town_name  pop2010  acs_2018_2 state_alpha  \\\n",
       "4762  Yabucoa Municipio  Yabucoa Municipio    37941         530          PR   \n",
       "4763    Yauco Municipio    Yauco Municipio    42043         389          PR   \n",
       "4764          St. Croix          St. Croix    53234         916          VI   \n",
       "4765           St. John           St. John     4197        1439          VI   \n",
       "4766         St. Thomas         St. Thomas    51181        1061          VI   \n",
       "\n",
       "      fmr_type  metro  fmr_pct_chg  fmr_dollar_chg  \n",
       "4762        50      1     0.035849              19  \n",
       "4763        50      1     0.069409              27  \n",
       "4764        50      0     0.058952              54  \n",
       "4765        50      0     0.058374              84  \n",
       "4766        50      0     0.058435              62  "
      ]
     },
     "execution_count": 10,
     "metadata": {},
     "output_type": "execute_result"
    }
   ],
   "source": [
    "#CSV to Load\n",
    "FMR_19_data= \"FY19_FMR.csv\"\n",
    "FMR19_df=pd.read_csv(FMR_19_data, na_values=['999.99'])\n",
    "FMR19_df.head()\n",
    "FMR19_df.tail()"
   ]
  },
  {
   "cell_type": "code",
   "execution_count": 11,
   "id": "43630008",
   "metadata": {},
   "outputs": [
    {
     "name": "stdout",
     "output_type": "stream",
     "text": [
      "<class 'pandas.core.frame.DataFrame'>\n",
      "RangeIndex: 4767 entries, 0 to 4766\n",
      "Data columns (total 20 columns):\n",
      " #   Column            Non-Null Count  Dtype  \n",
      "---  ------            --------------  -----  \n",
      " 0   fips2010          4767 non-null   int64  \n",
      " 1   fmr_0             4767 non-null   int64  \n",
      " 2   fmr_1             4767 non-null   int64  \n",
      " 3   fmr_2             4767 non-null   int64  \n",
      " 4   fmr_3             4767 non-null   int64  \n",
      " 5   fmr_4             4767 non-null   int64  \n",
      " 6   state             4767 non-null   int64  \n",
      " 7   metro_code        4767 non-null   object \n",
      " 8   areaname          4767 non-null   object \n",
      " 9   county            4767 non-null   int64  \n",
      " 10  cousub            4767 non-null   int64  \n",
      " 11  countyname        4767 non-null   object \n",
      " 12  county_town_name  4767 non-null   object \n",
      " 13  pop2010           4767 non-null   int64  \n",
      " 14  acs_2018_2        4767 non-null   int64  \n",
      " 15  state_alpha       4767 non-null   object \n",
      " 16  fmr_type          4767 non-null   int64  \n",
      " 17  metro             4767 non-null   int64  \n",
      " 18  fmr_pct_chg       4767 non-null   float64\n",
      " 19  fmr_dollar_chg    4767 non-null   int64  \n",
      "dtypes: float64(1), int64(14), object(5)\n",
      "memory usage: 745.0+ KB\n"
     ]
    }
   ],
   "source": [
    "FMR19_df.info()"
   ]
  },
  {
   "cell_type": "code",
   "execution_count": 12,
   "id": "6675ef94",
   "metadata": {},
   "outputs": [
    {
     "data": {
      "text/plain": [
       "fips2010            0\n",
       "fmr_0               0\n",
       "fmr_1               0\n",
       "fmr_2               0\n",
       "fmr_3               0\n",
       "fmr_4               0\n",
       "state               0\n",
       "metro_code          0\n",
       "areaname            0\n",
       "county              0\n",
       "cousub              0\n",
       "countyname          0\n",
       "county_town_name    0\n",
       "pop2010             0\n",
       "acs_2018_2          0\n",
       "state_alpha         0\n",
       "fmr_type            0\n",
       "metro               0\n",
       "fmr_pct_chg         0\n",
       "fmr_dollar_chg      0\n",
       "dtype: int64"
      ]
     },
     "execution_count": 12,
     "metadata": {},
     "output_type": "execute_result"
    }
   ],
   "source": [
    "FMR19_df.isnull().sum()"
   ]
  },
  {
   "cell_type": "code",
   "execution_count": 13,
   "id": "977da30c",
   "metadata": {},
   "outputs": [
    {
     "name": "stdout",
     "output_type": "stream",
     "text": [
      "Categorical Columns: ['metro_code', 'areaname', 'countyname', 'county_town_name', 'state_alpha']\n",
      "Numerical Columns: ['fips2010', 'fmr_0', 'fmr_1', 'fmr_2', 'fmr_3', 'fmr_4', 'state', 'county', 'cousub', 'pop2010', 'acs_2018_2', 'fmr_type', 'metro', 'fmr_pct_chg', 'fmr_dollar_chg']\n"
     ]
    }
   ],
   "source": [
    "print(\"Categorical Columns:\", list(FMR19_df.select_dtypes(include = 'object').columns))\n",
    "print(\"Numerical Columns:\", list(FMR19_df.select_dtypes(exclude = 'object').columns))"
   ]
  },
  {
   "cell_type": "code",
   "execution_count": 14,
   "id": "fca78727",
   "metadata": {},
   "outputs": [],
   "source": [
    "#"
   ]
  },
  {
   "cell_type": "code",
   "execution_count": 15,
   "id": "440b573f",
   "metadata": {},
   "outputs": [
    {
     "data": {
      "text/plain": [
       "0"
      ]
     },
     "execution_count": 15,
     "metadata": {},
     "output_type": "execute_result"
    }
   ],
   "source": [
    "FMR19_df[FMR19_df['fmr_0']==0]['fmr_0'].count()"
   ]
  },
  {
   "cell_type": "code",
   "execution_count": 16,
   "id": "933ceb2c",
   "metadata": {},
   "outputs": [],
   "source": [
    "#FMR21_studio_df=FMR21_df[FMR21_df['fmr_0']!=0]\n",
    "#FMR21_studio_df.head()"
   ]
  },
  {
   "cell_type": "code",
   "execution_count": 17,
   "id": "acaa2480",
   "metadata": {},
   "outputs": [
    {
     "data": {
      "text/html": [
       "<div>\n",
       "<style scoped>\n",
       "    .dataframe tbody tr th:only-of-type {\n",
       "        vertical-align: middle;\n",
       "    }\n",
       "\n",
       "    .dataframe tbody tr th {\n",
       "        vertical-align: top;\n",
       "    }\n",
       "\n",
       "    .dataframe thead th {\n",
       "        text-align: right;\n",
       "    }\n",
       "</style>\n",
       "<table border=\"1\" class=\"dataframe\">\n",
       "  <thead>\n",
       "    <tr style=\"text-align: right;\">\n",
       "      <th></th>\n",
       "      <th>fips2010</th>\n",
       "      <th>fmr_0</th>\n",
       "      <th>fmr_1</th>\n",
       "      <th>fmr_2</th>\n",
       "      <th>fmr_3</th>\n",
       "      <th>fmr_4</th>\n",
       "      <th>state</th>\n",
       "      <th>metro_code</th>\n",
       "      <th>areaname</th>\n",
       "      <th>county</th>\n",
       "      <th>cousub</th>\n",
       "      <th>countyname</th>\n",
       "      <th>county_town_name</th>\n",
       "      <th>pop2010</th>\n",
       "      <th>acs_2018_2</th>\n",
       "      <th>state_alpha</th>\n",
       "      <th>fmr_type</th>\n",
       "      <th>metro</th>\n",
       "      <th>fmr_pct_chg</th>\n",
       "      <th>fmr_dollar_chg</th>\n",
       "    </tr>\n",
       "  </thead>\n",
       "  <tbody>\n",
       "    <tr>\n",
       "      <th>0</th>\n",
       "      <td>100199999</td>\n",
       "      <td>581</td>\n",
       "      <td>696</td>\n",
       "      <td>825</td>\n",
       "      <td>1043</td>\n",
       "      <td>1436</td>\n",
       "      <td>1</td>\n",
       "      <td>METRO33860M33860</td>\n",
       "      <td>Montgomery, AL MSA</td>\n",
       "      <td>1</td>\n",
       "      <td>99999</td>\n",
       "      <td>Autauga County</td>\n",
       "      <td>Autauga County</td>\n",
       "      <td>54571</td>\n",
       "      <td>829</td>\n",
       "      <td>AL</td>\n",
       "      <td>50</td>\n",
       "      <td>1</td>\n",
       "      <td>-0.004825</td>\n",
       "      <td>-4</td>\n",
       "    </tr>\n",
       "    <tr>\n",
       "      <th>1</th>\n",
       "      <td>100399999</td>\n",
       "      <td>756</td>\n",
       "      <td>773</td>\n",
       "      <td>888</td>\n",
       "      <td>1252</td>\n",
       "      <td>1501</td>\n",
       "      <td>1</td>\n",
       "      <td>METRO19300M19300</td>\n",
       "      <td>Daphne-Fairhope-Foley, AL MSA</td>\n",
       "      <td>3</td>\n",
       "      <td>99999</td>\n",
       "      <td>Baldwin County</td>\n",
       "      <td>Baldwin County</td>\n",
       "      <td>182265</td>\n",
       "      <td>879</td>\n",
       "      <td>AL</td>\n",
       "      <td>50</td>\n",
       "      <td>1</td>\n",
       "      <td>0.010239</td>\n",
       "      <td>9</td>\n",
       "    </tr>\n",
       "    <tr>\n",
       "      <th>2</th>\n",
       "      <td>100599999</td>\n",
       "      <td>500</td>\n",
       "      <td>503</td>\n",
       "      <td>666</td>\n",
       "      <td>838</td>\n",
       "      <td>941</td>\n",
       "      <td>1</td>\n",
       "      <td>NCNTY01005N01005</td>\n",
       "      <td>Barbour County, AL</td>\n",
       "      <td>5</td>\n",
       "      <td>99999</td>\n",
       "      <td>Barbour County</td>\n",
       "      <td>Barbour County</td>\n",
       "      <td>27457</td>\n",
       "      <td>657</td>\n",
       "      <td>AL</td>\n",
       "      <td>50</td>\n",
       "      <td>0</td>\n",
       "      <td>0.013699</td>\n",
       "      <td>9</td>\n",
       "    </tr>\n",
       "    <tr>\n",
       "      <th>3</th>\n",
       "      <td>100799999</td>\n",
       "      <td>706</td>\n",
       "      <td>763</td>\n",
       "      <td>873</td>\n",
       "      <td>1154</td>\n",
       "      <td>1282</td>\n",
       "      <td>1</td>\n",
       "      <td>METRO13820M13820</td>\n",
       "      <td>Birmingham-Hoover, AL HUD Metro FMR Area</td>\n",
       "      <td>7</td>\n",
       "      <td>99999</td>\n",
       "      <td>Bibb County</td>\n",
       "      <td>Bibb County</td>\n",
       "      <td>22915</td>\n",
       "      <td>882</td>\n",
       "      <td>AL</td>\n",
       "      <td>50</td>\n",
       "      <td>1</td>\n",
       "      <td>-0.010204</td>\n",
       "      <td>-9</td>\n",
       "    </tr>\n",
       "    <tr>\n",
       "      <th>4</th>\n",
       "      <td>100999999</td>\n",
       "      <td>706</td>\n",
       "      <td>763</td>\n",
       "      <td>873</td>\n",
       "      <td>1154</td>\n",
       "      <td>1282</td>\n",
       "      <td>1</td>\n",
       "      <td>METRO13820M13820</td>\n",
       "      <td>Birmingham-Hoover, AL HUD Metro FMR Area</td>\n",
       "      <td>9</td>\n",
       "      <td>99999</td>\n",
       "      <td>Blount County</td>\n",
       "      <td>Blount County</td>\n",
       "      <td>57322</td>\n",
       "      <td>882</td>\n",
       "      <td>AL</td>\n",
       "      <td>50</td>\n",
       "      <td>1</td>\n",
       "      <td>-0.010204</td>\n",
       "      <td>-9</td>\n",
       "    </tr>\n",
       "  </tbody>\n",
       "</table>\n",
       "</div>"
      ],
      "text/plain": [
       "    fips2010  fmr_0  fmr_1  fmr_2  fmr_3  fmr_4  state        metro_code  \\\n",
       "0  100199999    581    696    825   1043   1436      1  METRO33860M33860   \n",
       "1  100399999    756    773    888   1252   1501      1  METRO19300M19300   \n",
       "2  100599999    500    503    666    838    941      1  NCNTY01005N01005   \n",
       "3  100799999    706    763    873   1154   1282      1  METRO13820M13820   \n",
       "4  100999999    706    763    873   1154   1282      1  METRO13820M13820   \n",
       "\n",
       "                                   areaname  county  cousub      countyname  \\\n",
       "0                        Montgomery, AL MSA       1   99999  Autauga County   \n",
       "1             Daphne-Fairhope-Foley, AL MSA       3   99999  Baldwin County   \n",
       "2                        Barbour County, AL       5   99999  Barbour County   \n",
       "3  Birmingham-Hoover, AL HUD Metro FMR Area       7   99999     Bibb County   \n",
       "4  Birmingham-Hoover, AL HUD Metro FMR Area       9   99999   Blount County   \n",
       "\n",
       "  county_town_name  pop2010  acs_2018_2 state_alpha  fmr_type  metro  \\\n",
       "0   Autauga County    54571         829          AL        50      1   \n",
       "1   Baldwin County   182265         879          AL        50      1   \n",
       "2   Barbour County    27457         657          AL        50      0   \n",
       "3      Bibb County    22915         882          AL        50      1   \n",
       "4    Blount County    57322         882          AL        50      1   \n",
       "\n",
       "   fmr_pct_chg  fmr_dollar_chg  \n",
       "0    -0.004825              -4  \n",
       "1     0.010239               9  \n",
       "2     0.013699               9  \n",
       "3    -0.010204              -9  \n",
       "4    -0.010204              -9  "
      ]
     },
     "execution_count": 17,
     "metadata": {},
     "output_type": "execute_result"
    }
   ],
   "source": [
    "CFMR19_df = FMR19_df.drop(['state','metro_code', 'fips2010','areaname','county_town_name','metro', 'cousub','county','fmr_type','fmr_pct_chg','fmr_dollar_chg','acs_2018_2'], axis=1)\n",
    "FMR19_df.head()"
   ]
  },
  {
   "cell_type": "code",
   "execution_count": 18,
   "id": "a38af85e",
   "metadata": {},
   "outputs": [],
   "source": [
    "CFMR19_df.rename(columns = {'fmr_0':'Studio', 'fmr_1':'One Bedroom', 'fmr_2':'Two Bedroom', 'fmr_3':'Three Bedroom','fmr_4':'Four Bedroom','pop2010':'Population','countyname':'County','state_alpha':'State'}, inplace = True)"
   ]
  },
  {
   "cell_type": "code",
   "execution_count": 19,
   "id": "f6cbf62c",
   "metadata": {},
   "outputs": [],
   "source": [
    "CFMR19_df=CFMR19_df.groupby(by=['State'], dropna=False).mean()"
   ]
  },
  {
   "cell_type": "code",
   "execution_count": 20,
   "id": "bb2d7399",
   "metadata": {},
   "outputs": [],
   "source": [
    "CFMR19_df.insert(0, 'Year', '2019')"
   ]
  },
  {
   "cell_type": "code",
   "execution_count": 21,
   "id": "a5263ac9",
   "metadata": {},
   "outputs": [],
   "source": [
    "CFMR19_df=CFMR19_df.round(2)"
   ]
  },
  {
   "cell_type": "code",
   "execution_count": 23,
   "id": "56bea6df",
   "metadata": {},
   "outputs": [],
   "source": [
    "CFMR19_df.head()\n",
    "CFMR19_df.to_csv(r\"CFMR19_df.csv\")"
   ]
  },
  {
   "cell_type": "code",
   "execution_count": null,
   "id": "b0c239c4",
   "metadata": {},
   "outputs": [],
   "source": [
    "numeric_columns = list(FMR19_df.select_dtypes(exclude = 'object').columns)\n",
    "fig = make_subplots(rows=2, cols=3, shared_yaxes=True)\n",
    "index = 0\n",
    "for row in range(1,3):\n",
    "    for col in range(1,4):\n",
    "        fig.add_trace(go.Box(x=FMR19_df[numeric_columns[index]], name = numeric_columns[index]),\n",
    "                      row = row,\n",
    "                      col = col,\n",
    ")\n",
    "        index = index + 1\n",
    "fig.update_layout(height=600, width=1300,\n",
    "                  title_text=\"Box-Plots of Numerical Variables\")\n",
    "\n",
    "fig.show()"
   ]
  },
  {
   "cell_type": "code",
   "execution_count": null,
   "id": "84d0174c",
   "metadata": {},
   "outputs": [],
   "source": []
  },
  {
   "cell_type": "code",
   "execution_count": null,
   "id": "1b343feb",
   "metadata": {},
   "outputs": [],
   "source": [
    "sns.regplot(x=\"Studio\", y=\"Population\", data=FMR19_df)\n",
    "plt.ylim(0,)"
   ]
  },
  {
   "cell_type": "code",
   "execution_count": null,
   "id": "2e491399",
   "metadata": {},
   "outputs": [],
   "source": []
  },
  {
   "cell_type": "code",
   "execution_count": null,
   "id": "115b1200",
   "metadata": {},
   "outputs": [],
   "source": []
  },
  {
   "cell_type": "code",
   "execution_count": null,
   "id": "c8fb441e",
   "metadata": {},
   "outputs": [],
   "source": []
  }
 ],
 "metadata": {
  "kernelspec": {
   "display_name": "Python 3",
   "language": "python",
   "name": "python3"
  },
  "language_info": {
   "codemirror_mode": {
    "name": "ipython",
    "version": 3
   },
   "file_extension": ".py",
   "mimetype": "text/x-python",
   "name": "python",
   "nbconvert_exporter": "python",
   "pygments_lexer": "ipython3",
   "version": "3.7.10"
  }
 },
 "nbformat": 4,
 "nbformat_minor": 5
}
