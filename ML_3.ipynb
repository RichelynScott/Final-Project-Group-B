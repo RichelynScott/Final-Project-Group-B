{
 "cells": [
  {
   "cell_type": "code",
   "execution_count": null,
   "id": "72922598",
   "metadata": {},
   "outputs": [],
   "source": [
    "import pandas as pd\n",
    "import numpy as np\n",
    "import re\n",
    "import os\n",
    "#import seaborn as sns\n",
    "import matplotlib.pyplot as plt\n",
    "#import plotly.express as px\n",
    "#from plotly.subplots import make_subplots\n",
    "#import plotly.graph_objects as go\n",
    "\n",
    "import sklearn\n",
    "from sklearn.model_selection import GridSearchCV\n",
    "from sklearn.ensemble import RandomForestRegressor"
   ]
  },
  {
   "cell_type": "code",
   "execution_count": null,
   "id": "add418e7",
   "metadata": {},
   "outputs": [],
   "source": [
    "#from xgboost import XGBRegressor, XGBRFRegressor\n",
    "#from catboost import CatBoostRegressor\n",
    "#import catboost\n",
    "from sklearn.model_selection import train_test_split\n",
    "from sklearn.linear_model import Ridge, Lasso, LinearRegression\n",
    "from sklearn.ensemble import RandomForestRegressor\n",
    "#from sklearn.preprocessing import StandardScaler, OneHotEncoder\n",
    "#from sklearn.compose import make_column_transformer, ColumnTransformer\n",
    "from sklearn.pipeline import make_pipeline\n",
    "from sklearn.neural_network import MLPRegressor\n",
    "\n",
    "#from scipy.stats.mstats import winsorize\n",
    "\n",
    "#from pyod.models.feature_bagging import FeatureBagging\n",
    "#from pyod.models.lof import LOF"
   ]
  },
  {
   "cell_type": "code",
   "execution_count": null,
   "id": "82cc1a4b",
   "metadata": {},
   "outputs": [],
   "source": [
    "#CSV to Load\n",
    "zillow_data= 'zillow_df2.csv'\n",
    "zillow_df=pd.read_csv(zillow_data)\n",
    "# Rename Date column from \"Unnamed:0 to Date\"\n",
    "zillow_df.rename(columns={'Unnamed: 0': 'Date'}, inplace=True)\n",
    "#Set Date Column as Index\n",
    "zillow_df.set_index('Date', inplace=True)\n",
    "zillow_df.head(100)"
   ]
  },
  {
   "cell_type": "code",
   "execution_count": null,
   "id": "3ccd0571",
   "metadata": {},
   "outputs": [],
   "source": []
  },
  {
   "cell_type": "code",
   "execution_count": null,
   "id": "7bae71ff",
   "metadata": {},
   "outputs": [],
   "source": []
  },
  {
   "cell_type": "code",
   "execution_count": null,
   "id": "c0d91b2a",
   "metadata": {},
   "outputs": [],
   "source": [
    "import matplotlib.pyplot as plt\n",
    "from sklearn.linear_model import LinearRegression"
   ]
  },
  {
   "cell_type": "code",
   "execution_count": null,
   "id": "2f8bba45",
   "metadata": {},
   "outputs": [],
   "source": [
    "X = CFMR22_df[['Studio']]\n",
    "Y = CFMR22_df['Population']\n",
    "lm = LinearRegression()\n",
    "lm\n",
    "lm.fit(X,Y)\n",
    "lm.score(X, Y)"
   ]
  },
  {
   "cell_type": "code",
   "execution_count": null,
   "id": "a55660cc",
   "metadata": {},
   "outputs": [],
   "source": [
    "y_data = CFMR22_df['Studio']\n",
    "\n",
    "x_data=CFMR22_df.drop('Studio',axis=1)\n",
    "\n",
    "from sklearn.model_selection import train_test_split\n",
    "\n",
    "x_train, x_test, y_train, y_test = train_test_split(x_data, y_data, test_size=0.15, random_state=1)\n",
    "\n",
    "\n",
    "print(\"number of test samples :\", x_test.shape[0])\n",
    "print(\"number of training samples:\",x_train.shape[0])\n",
    "\n",
    "lre=LinearRegression()\n",
    "\n",
    "lre.fit(x_train[['Population']], y_train)\n",
    "lre.score(x_test[['Population']], y_test)"
   ]
  },
  {
   "cell_type": "code",
   "execution_count": null,
   "id": "085db59f",
   "metadata": {},
   "outputs": [],
   "source": []
  },
  {
   "cell_type": "code",
   "execution_count": null,
   "id": "85cbc147",
   "metadata": {},
   "outputs": [],
   "source": []
  },
  {
   "cell_type": "code",
   "execution_count": null,
   "id": "7bab08fb",
   "metadata": {},
   "outputs": [],
   "source": []
  },
  {
   "cell_type": "code",
   "execution_count": null,
   "id": "95b98131",
   "metadata": {},
   "outputs": [],
   "source": []
  },
  {
   "cell_type": "code",
   "execution_count": null,
   "id": "eb47b302",
   "metadata": {},
   "outputs": [],
   "source": []
  }
 ],
 "metadata": {
  "kernelspec": {
   "display_name": "pythondata",
   "language": "python",
   "name": "pythondata"
  },
  "language_info": {
   "codemirror_mode": {
    "name": "ipython",
    "version": 3
   },
   "file_extension": ".py",
   "mimetype": "text/x-python",
   "name": "python",
   "nbconvert_exporter": "python",
   "pygments_lexer": "ipython3",
   "version": "3.7.10"
  }
 },
 "nbformat": 4,
 "nbformat_minor": 5
}
