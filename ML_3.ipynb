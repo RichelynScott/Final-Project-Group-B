{
 "cells": [
  {
   "cell_type": "code",
<<<<<<< Updated upstream
   "execution_count": 6,
=======
   "execution_count": 92,
>>>>>>> Stashed changes
   "id": "ea3da951",
   "metadata": {},
   "outputs": [],
   "source": [
    "import pandas as pd\n",
    "import numpy as np\n",
    "import re\n",
    "import os\n",
    "import seaborn as sns\n",
    "import matplotlib.pyplot as plt\n",
    "from plotly.subplots import make_subplots\n",
    "\n",
    "\n",
    "import sklearn\n",
    "from sklearn.model_selection import GridSearchCV, train_test_split\n",
    "from sklearn.linear_model import Ridge, Lasso, LinearRegression\n",
    "from sklearn.ensemble import RandomForestRegressor\n",
    "from sklearn.preprocessing import StandardScaler, OneHotEncoder\n",
    "from sklearn.compose import make_column_transformer, ColumnTransformer\n",
    "from sklearn.pipeline import make_pipeline\n",
    "from sklearn.neural_network import MLPRegressor"
   ]
  },
  {
   "cell_type": "code",
<<<<<<< Updated upstream
   "execution_count": 7,
=======
   "execution_count": 93,
>>>>>>> Stashed changes
   "id": "2f1ce617",
   "metadata": {},
   "outputs": [],
   "source": [
    "#from xgboost import XGBRegressor, XGBRFRegressor\n",
    "#from catboost import CatBoostRegressor\n",
    "#import catboost\n",
    "#import plotly.express as px\n",
    "#import plotly.graph_objects as go\n",
    "\n",
    "#from scipy.stats.mstats import winsorize\n",
    "\n",
    "#from pyod.models.feature_bagging import FeatureBagging\n",
    "#from pyod.models.lof import LOF"
   ]
  },
  {
   "cell_type": "code",
<<<<<<< Updated upstream
   "execution_count": 8,
=======
   "execution_count": 94,
>>>>>>> Stashed changes
   "id": "c9ceb6da",
   "metadata": {
    "scrolled": true
   },
   "outputs": [
    {
<<<<<<< Updated upstream
     "data": {
      "text/html": [
       "<div>\n",
       "<style scoped>\n",
       "    .dataframe tbody tr th:only-of-type {\n",
       "        vertical-align: middle;\n",
       "    }\n",
       "\n",
       "    .dataframe tbody tr th {\n",
       "        vertical-align: top;\n",
       "    }\n",
       "\n",
       "    .dataframe thead th {\n",
       "        text-align: right;\n",
       "    }\n",
       "</style>\n",
       "<table border=\"1\" class=\"dataframe\">\n",
       "  <thead>\n",
       "    <tr style=\"text-align: right;\">\n",
       "      <th></th>\n",
       "      <th>State</th>\n",
       "      <th>Year</th>\n",
       "      <th>Studio</th>\n",
       "      <th>One Bedroom</th>\n",
       "      <th>Two Bedroom</th>\n",
       "      <th>Three Bedroom</th>\n",
       "      <th>Four Bedroom</th>\n",
       "      <th>Population</th>\n",
       "      <th>Percent Change</th>\n",
       "    </tr>\n",
       "  </thead>\n",
       "  <tbody>\n",
       "    <tr>\n",
       "      <th>0</th>\n",
       "      <td>AK</td>\n",
       "      <td>2021</td>\n",
       "      <td>850.97</td>\n",
       "      <td>951.28</td>\n",
       "      <td>1200.14</td>\n",
       "      <td>1582.72</td>\n",
       "      <td>1815.38</td>\n",
       "      <td>25467.93</td>\n",
       "      <td>NaN</td>\n",
       "    </tr>\n",
       "    <tr>\n",
       "      <th>1</th>\n",
       "      <td>AL</td>\n",
       "      <td>2021</td>\n",
       "      <td>548.28</td>\n",
       "      <td>591.99</td>\n",
       "      <td>725.82</td>\n",
       "      <td>949.51</td>\n",
       "      <td>1094.63</td>\n",
       "      <td>72399.63</td>\n",
       "      <td>NaN</td>\n",
       "    </tr>\n",
       "    <tr>\n",
       "      <th>2</th>\n",
       "      <td>AR</td>\n",
       "      <td>2021</td>\n",
       "      <td>515.95</td>\n",
       "      <td>553.85</td>\n",
       "      <td>697.31</td>\n",
       "      <td>920.29</td>\n",
       "      <td>1065.15</td>\n",
       "      <td>39706.00</td>\n",
       "      <td>NaN</td>\n",
       "    </tr>\n",
       "    <tr>\n",
       "      <th>3</th>\n",
       "      <td>AS</td>\n",
       "      <td>2021</td>\n",
       "      <td>590.00</td>\n",
       "      <td>594.00</td>\n",
       "      <td>783.00</td>\n",
       "      <td>1121.00</td>\n",
       "      <td>1201.00</td>\n",
       "      <td>55519.00</td>\n",
       "      <td>NaN</td>\n",
       "    </tr>\n",
       "    <tr>\n",
       "      <th>4</th>\n",
       "      <td>AZ</td>\n",
       "      <td>2021</td>\n",
       "      <td>698.13</td>\n",
       "      <td>767.93</td>\n",
       "      <td>970.13</td>\n",
       "      <td>1340.20</td>\n",
       "      <td>1493.53</td>\n",
       "      <td>453995.67</td>\n",
       "      <td>NaN</td>\n",
       "    </tr>\n",
       "    <tr>\n",
       "      <th>...</th>\n",
       "      <td>...</td>\n",
       "      <td>...</td>\n",
       "      <td>...</td>\n",
       "      <td>...</td>\n",
       "      <td>...</td>\n",
       "      <td>...</td>\n",
       "      <td>...</td>\n",
       "      <td>...</td>\n",
       "      <td>...</td>\n",
       "    </tr>\n",
       "    <tr>\n",
       "      <th>275</th>\n",
       "      <td>VT</td>\n",
       "      <td>2022</td>\n",
       "      <td>785.91</td>\n",
       "      <td>869.83</td>\n",
       "      <td>1077.28</td>\n",
       "      <td>1387.28</td>\n",
       "      <td>1530.50</td>\n",
       "      <td>2449.48</td>\n",
       "      <td>NaN</td>\n",
       "    </tr>\n",
       "    <tr>\n",
       "      <th>276</th>\n",
       "      <td>WA</td>\n",
       "      <td>2022</td>\n",
       "      <td>794.72</td>\n",
       "      <td>899.13</td>\n",
       "      <td>1124.38</td>\n",
       "      <td>1563.41</td>\n",
       "      <td>1848.69</td>\n",
       "      <td>183845.77</td>\n",
       "      <td>NaN</td>\n",
       "    </tr>\n",
       "    <tr>\n",
       "      <th>277</th>\n",
       "      <td>WI</td>\n",
       "      <td>2022</td>\n",
       "      <td>597.74</td>\n",
       "      <td>667.40</td>\n",
       "      <td>853.43</td>\n",
       "      <td>1116.50</td>\n",
       "      <td>1242.57</td>\n",
       "      <td>80044.65</td>\n",
       "      <td>NaN</td>\n",
       "    </tr>\n",
       "    <tr>\n",
       "      <th>278</th>\n",
       "      <td>WV</td>\n",
       "      <td>2022</td>\n",
       "      <td>584.65</td>\n",
       "      <td>620.40</td>\n",
       "      <td>761.05</td>\n",
       "      <td>1003.47</td>\n",
       "      <td>1144.07</td>\n",
       "      <td>33397.00</td>\n",
       "      <td>NaN</td>\n",
       "    </tr>\n",
       "    <tr>\n",
       "      <th>279</th>\n",
       "      <td>WY</td>\n",
       "      <td>2022</td>\n",
       "      <td>659.30</td>\n",
       "      <td>681.26</td>\n",
       "      <td>850.96</td>\n",
       "      <td>1153.57</td>\n",
       "      <td>1426.39</td>\n",
       "      <td>25356.52</td>\n",
       "      <td>NaN</td>\n",
       "    </tr>\n",
       "  </tbody>\n",
       "</table>\n",
       "<p>280 rows × 9 columns</p>\n",
       "</div>"
      ],
      "text/plain": [
       "    State  Year  Studio  One Bedroom  Two Bedroom  Three Bedroom  \\\n",
       "0      AK  2021  850.97       951.28      1200.14        1582.72   \n",
       "1      AL  2021  548.28       591.99       725.82         949.51   \n",
       "2      AR  2021  515.95       553.85       697.31         920.29   \n",
       "3      AS  2021  590.00       594.00       783.00        1121.00   \n",
       "4      AZ  2021  698.13       767.93       970.13        1340.20   \n",
       "..    ...   ...     ...          ...          ...            ...   \n",
       "275    VT  2022  785.91       869.83      1077.28        1387.28   \n",
       "276    WA  2022  794.72       899.13      1124.38        1563.41   \n",
       "277    WI  2022  597.74       667.40       853.43        1116.50   \n",
       "278    WV  2022  584.65       620.40       761.05        1003.47   \n",
       "279    WY  2022  659.30       681.26       850.96        1153.57   \n",
       "\n",
       "     Four Bedroom  Population  Percent Change  \n",
       "0         1815.38    25467.93             NaN  \n",
       "1         1094.63    72399.63             NaN  \n",
       "2         1065.15    39706.00             NaN  \n",
       "3         1201.00    55519.00             NaN  \n",
       "4         1493.53   453995.67             NaN  \n",
       "..            ...         ...             ...  \n",
       "275       1530.50     2449.48             NaN  \n",
       "276       1848.69   183845.77             NaN  \n",
       "277       1242.57    80044.65             NaN  \n",
       "278       1144.07    33397.00             NaN  \n",
       "279       1426.39    25356.52             NaN  \n",
       "\n",
       "[280 rows x 9 columns]"
      ]
     },
     "execution_count": 8,
     "metadata": {},
     "output_type": "execute_result"
=======
     "ename": "FileNotFoundError",
     "evalue": "[Errno 2] File Resources/CFMR_df.csv does not exist: 'Resources/CFMR_df.csv'",
     "output_type": "error",
     "traceback": [
      "\u001b[0;31m---------------------------------------------------------------------------\u001b[0m",
      "\u001b[0;31mFileNotFoundError\u001b[0m                         Traceback (most recent call last)",
      "\u001b[0;32m<ipython-input-94-a2437c7abdd3>\u001b[0m in \u001b[0;36m<module>\u001b[0;34m\u001b[0m\n\u001b[1;32m      1\u001b[0m \u001b[0;31m#CSV to Load\u001b[0m\u001b[0;34m\u001b[0m\u001b[0;34m\u001b[0m\u001b[0;34m\u001b[0m\u001b[0m\n\u001b[1;32m      2\u001b[0m \u001b[0mrental_data\u001b[0m\u001b[0;34m=\u001b[0m \u001b[0;34m(\u001b[0m\u001b[0;34m\"Resources/CFMR_df.csv\"\u001b[0m\u001b[0;34m)\u001b[0m\u001b[0;34m\u001b[0m\u001b[0;34m\u001b[0m\u001b[0m\n\u001b[0;32m----> 3\u001b[0;31m \u001b[0mrental_data_df\u001b[0m\u001b[0;34m=\u001b[0m\u001b[0mpd\u001b[0m\u001b[0;34m.\u001b[0m\u001b[0mread_csv\u001b[0m\u001b[0;34m(\u001b[0m\u001b[0mrental_data\u001b[0m\u001b[0;34m)\u001b[0m\u001b[0;34m\u001b[0m\u001b[0;34m\u001b[0m\u001b[0m\n\u001b[0m\u001b[1;32m      4\u001b[0m \u001b[0mrental_data_df\u001b[0m \u001b[0;34m=\u001b[0m \u001b[0mrental_data_df\u001b[0m\u001b[0;34m.\u001b[0m\u001b[0mdrop\u001b[0m\u001b[0;34m(\u001b[0m\u001b[0;34m[\u001b[0m\u001b[0;34m'Unnamed: 0'\u001b[0m\u001b[0;34m]\u001b[0m\u001b[0;34m,\u001b[0m \u001b[0maxis\u001b[0m\u001b[0;34m=\u001b[0m\u001b[0;36m1\u001b[0m\u001b[0;34m)\u001b[0m\u001b[0;34m\u001b[0m\u001b[0;34m\u001b[0m\u001b[0m\n\u001b[1;32m      5\u001b[0m \u001b[0mrental_data_df\u001b[0m\u001b[0;34m.\u001b[0m\u001b[0mhead\u001b[0m\u001b[0;34m(\u001b[0m\u001b[0;36m300\u001b[0m\u001b[0;34m)\u001b[0m\u001b[0;34m\u001b[0m\u001b[0;34m\u001b[0m\u001b[0m\n",
      "\u001b[0;32m~/opt/anaconda3/envs/pythondata/lib/python3.7/site-packages/pandas/io/parsers.py\u001b[0m in \u001b[0;36mparser_f\u001b[0;34m(filepath_or_buffer, sep, delimiter, header, names, index_col, usecols, squeeze, prefix, mangle_dupe_cols, dtype, engine, converters, true_values, false_values, skipinitialspace, skiprows, skipfooter, nrows, na_values, keep_default_na, na_filter, verbose, skip_blank_lines, parse_dates, infer_datetime_format, keep_date_col, date_parser, dayfirst, cache_dates, iterator, chunksize, compression, thousands, decimal, lineterminator, quotechar, quoting, doublequote, escapechar, comment, encoding, dialect, error_bad_lines, warn_bad_lines, delim_whitespace, low_memory, memory_map, float_precision)\u001b[0m\n\u001b[1;32m    674\u001b[0m         )\n\u001b[1;32m    675\u001b[0m \u001b[0;34m\u001b[0m\u001b[0m\n\u001b[0;32m--> 676\u001b[0;31m         \u001b[0;32mreturn\u001b[0m \u001b[0m_read\u001b[0m\u001b[0;34m(\u001b[0m\u001b[0mfilepath_or_buffer\u001b[0m\u001b[0;34m,\u001b[0m \u001b[0mkwds\u001b[0m\u001b[0;34m)\u001b[0m\u001b[0;34m\u001b[0m\u001b[0;34m\u001b[0m\u001b[0m\n\u001b[0m\u001b[1;32m    677\u001b[0m \u001b[0;34m\u001b[0m\u001b[0m\n\u001b[1;32m    678\u001b[0m     \u001b[0mparser_f\u001b[0m\u001b[0;34m.\u001b[0m\u001b[0m__name__\u001b[0m \u001b[0;34m=\u001b[0m \u001b[0mname\u001b[0m\u001b[0;34m\u001b[0m\u001b[0;34m\u001b[0m\u001b[0m\n",
      "\u001b[0;32m~/opt/anaconda3/envs/pythondata/lib/python3.7/site-packages/pandas/io/parsers.py\u001b[0m in \u001b[0;36m_read\u001b[0;34m(filepath_or_buffer, kwds)\u001b[0m\n\u001b[1;32m    446\u001b[0m \u001b[0;34m\u001b[0m\u001b[0m\n\u001b[1;32m    447\u001b[0m     \u001b[0;31m# Create the parser.\u001b[0m\u001b[0;34m\u001b[0m\u001b[0;34m\u001b[0m\u001b[0;34m\u001b[0m\u001b[0m\n\u001b[0;32m--> 448\u001b[0;31m     \u001b[0mparser\u001b[0m \u001b[0;34m=\u001b[0m \u001b[0mTextFileReader\u001b[0m\u001b[0;34m(\u001b[0m\u001b[0mfp_or_buf\u001b[0m\u001b[0;34m,\u001b[0m \u001b[0;34m**\u001b[0m\u001b[0mkwds\u001b[0m\u001b[0;34m)\u001b[0m\u001b[0;34m\u001b[0m\u001b[0;34m\u001b[0m\u001b[0m\n\u001b[0m\u001b[1;32m    449\u001b[0m \u001b[0;34m\u001b[0m\u001b[0m\n\u001b[1;32m    450\u001b[0m     \u001b[0;32mif\u001b[0m \u001b[0mchunksize\u001b[0m \u001b[0;32mor\u001b[0m \u001b[0miterator\u001b[0m\u001b[0;34m:\u001b[0m\u001b[0;34m\u001b[0m\u001b[0;34m\u001b[0m\u001b[0m\n",
      "\u001b[0;32m~/opt/anaconda3/envs/pythondata/lib/python3.7/site-packages/pandas/io/parsers.py\u001b[0m in \u001b[0;36m__init__\u001b[0;34m(self, f, engine, **kwds)\u001b[0m\n\u001b[1;32m    878\u001b[0m             \u001b[0mself\u001b[0m\u001b[0;34m.\u001b[0m\u001b[0moptions\u001b[0m\u001b[0;34m[\u001b[0m\u001b[0;34m\"has_index_names\"\u001b[0m\u001b[0;34m]\u001b[0m \u001b[0;34m=\u001b[0m \u001b[0mkwds\u001b[0m\u001b[0;34m[\u001b[0m\u001b[0;34m\"has_index_names\"\u001b[0m\u001b[0;34m]\u001b[0m\u001b[0;34m\u001b[0m\u001b[0;34m\u001b[0m\u001b[0m\n\u001b[1;32m    879\u001b[0m \u001b[0;34m\u001b[0m\u001b[0m\n\u001b[0;32m--> 880\u001b[0;31m         \u001b[0mself\u001b[0m\u001b[0;34m.\u001b[0m\u001b[0m_make_engine\u001b[0m\u001b[0;34m(\u001b[0m\u001b[0mself\u001b[0m\u001b[0;34m.\u001b[0m\u001b[0mengine\u001b[0m\u001b[0;34m)\u001b[0m\u001b[0;34m\u001b[0m\u001b[0;34m\u001b[0m\u001b[0m\n\u001b[0m\u001b[1;32m    881\u001b[0m \u001b[0;34m\u001b[0m\u001b[0m\n\u001b[1;32m    882\u001b[0m     \u001b[0;32mdef\u001b[0m \u001b[0mclose\u001b[0m\u001b[0;34m(\u001b[0m\u001b[0mself\u001b[0m\u001b[0;34m)\u001b[0m\u001b[0;34m:\u001b[0m\u001b[0;34m\u001b[0m\u001b[0;34m\u001b[0m\u001b[0m\n",
      "\u001b[0;32m~/opt/anaconda3/envs/pythondata/lib/python3.7/site-packages/pandas/io/parsers.py\u001b[0m in \u001b[0;36m_make_engine\u001b[0;34m(self, engine)\u001b[0m\n\u001b[1;32m   1112\u001b[0m     \u001b[0;32mdef\u001b[0m \u001b[0m_make_engine\u001b[0m\u001b[0;34m(\u001b[0m\u001b[0mself\u001b[0m\u001b[0;34m,\u001b[0m \u001b[0mengine\u001b[0m\u001b[0;34m=\u001b[0m\u001b[0;34m\"c\"\u001b[0m\u001b[0;34m)\u001b[0m\u001b[0;34m:\u001b[0m\u001b[0;34m\u001b[0m\u001b[0;34m\u001b[0m\u001b[0m\n\u001b[1;32m   1113\u001b[0m         \u001b[0;32mif\u001b[0m \u001b[0mengine\u001b[0m \u001b[0;34m==\u001b[0m \u001b[0;34m\"c\"\u001b[0m\u001b[0;34m:\u001b[0m\u001b[0;34m\u001b[0m\u001b[0;34m\u001b[0m\u001b[0m\n\u001b[0;32m-> 1114\u001b[0;31m             \u001b[0mself\u001b[0m\u001b[0;34m.\u001b[0m\u001b[0m_engine\u001b[0m \u001b[0;34m=\u001b[0m \u001b[0mCParserWrapper\u001b[0m\u001b[0;34m(\u001b[0m\u001b[0mself\u001b[0m\u001b[0;34m.\u001b[0m\u001b[0mf\u001b[0m\u001b[0;34m,\u001b[0m \u001b[0;34m**\u001b[0m\u001b[0mself\u001b[0m\u001b[0;34m.\u001b[0m\u001b[0moptions\u001b[0m\u001b[0;34m)\u001b[0m\u001b[0;34m\u001b[0m\u001b[0;34m\u001b[0m\u001b[0m\n\u001b[0m\u001b[1;32m   1115\u001b[0m         \u001b[0;32melse\u001b[0m\u001b[0;34m:\u001b[0m\u001b[0;34m\u001b[0m\u001b[0;34m\u001b[0m\u001b[0m\n\u001b[1;32m   1116\u001b[0m             \u001b[0;32mif\u001b[0m \u001b[0mengine\u001b[0m \u001b[0;34m==\u001b[0m \u001b[0;34m\"python\"\u001b[0m\u001b[0;34m:\u001b[0m\u001b[0;34m\u001b[0m\u001b[0;34m\u001b[0m\u001b[0m\n",
      "\u001b[0;32m~/opt/anaconda3/envs/pythondata/lib/python3.7/site-packages/pandas/io/parsers.py\u001b[0m in \u001b[0;36m__init__\u001b[0;34m(self, src, **kwds)\u001b[0m\n\u001b[1;32m   1889\u001b[0m         \u001b[0mkwds\u001b[0m\u001b[0;34m[\u001b[0m\u001b[0;34m\"usecols\"\u001b[0m\u001b[0;34m]\u001b[0m \u001b[0;34m=\u001b[0m \u001b[0mself\u001b[0m\u001b[0;34m.\u001b[0m\u001b[0musecols\u001b[0m\u001b[0;34m\u001b[0m\u001b[0;34m\u001b[0m\u001b[0m\n\u001b[1;32m   1890\u001b[0m \u001b[0;34m\u001b[0m\u001b[0m\n\u001b[0;32m-> 1891\u001b[0;31m         \u001b[0mself\u001b[0m\u001b[0;34m.\u001b[0m\u001b[0m_reader\u001b[0m \u001b[0;34m=\u001b[0m \u001b[0mparsers\u001b[0m\u001b[0;34m.\u001b[0m\u001b[0mTextReader\u001b[0m\u001b[0;34m(\u001b[0m\u001b[0msrc\u001b[0m\u001b[0;34m,\u001b[0m \u001b[0;34m**\u001b[0m\u001b[0mkwds\u001b[0m\u001b[0;34m)\u001b[0m\u001b[0;34m\u001b[0m\u001b[0;34m\u001b[0m\u001b[0m\n\u001b[0m\u001b[1;32m   1892\u001b[0m         \u001b[0mself\u001b[0m\u001b[0;34m.\u001b[0m\u001b[0munnamed_cols\u001b[0m \u001b[0;34m=\u001b[0m \u001b[0mself\u001b[0m\u001b[0;34m.\u001b[0m\u001b[0m_reader\u001b[0m\u001b[0;34m.\u001b[0m\u001b[0munnamed_cols\u001b[0m\u001b[0;34m\u001b[0m\u001b[0;34m\u001b[0m\u001b[0m\n\u001b[1;32m   1893\u001b[0m \u001b[0;34m\u001b[0m\u001b[0m\n",
      "\u001b[0;32mpandas/_libs/parsers.pyx\u001b[0m in \u001b[0;36mpandas._libs.parsers.TextReader.__cinit__\u001b[0;34m()\u001b[0m\n",
      "\u001b[0;32mpandas/_libs/parsers.pyx\u001b[0m in \u001b[0;36mpandas._libs.parsers.TextReader._setup_parser_source\u001b[0;34m()\u001b[0m\n",
      "\u001b[0;31mFileNotFoundError\u001b[0m: [Errno 2] File Resources/CFMR_df.csv does not exist: 'Resources/CFMR_df.csv'"
     ]
>>>>>>> Stashed changes
    }
   ],
   "source": [
    "#CSV to Load\n",
    "rental_data= (\"Resources/CFMR_df.csv\")\n",
    "rental_data_df=pd.read_csv(rental_data)\n",
    "rental_data_df = rental_data_df.drop(['Unnamed: 0'], axis=1)\n",
    "rental_data_df.head(300)"
   ]
  },
  {
   "cell_type": "code",
   "execution_count": 9,
   "id": "1799c1ae",
   "metadata": {},
   "outputs": [
    {
     "data": {
      "text/plain": [
       "Index(['State', 'Year', 'Studio', 'One Bedroom', 'Two Bedroom',\n",
       "       'Three Bedroom', 'Four Bedroom', 'Population', 'Percent Change'],\n",
       "      dtype='object')"
      ]
     },
     "execution_count": 9,
     "metadata": {},
     "output_type": "execute_result"
    }
   ],
   "source": [
    "rental_data_df.columns"
   ]
  },
  {
   "cell_type": "code",
   "execution_count": 10,
   "id": "1f9a26fa",
   "metadata": {},
   "outputs": [],
   "source": [
    "rental_state_df = rental_data_df.sort_values(by=['State', 'Year'])"
   ]
  },
  {
   "cell_type": "code",
   "execution_count": 11,
   "id": "68e4d8c2",
   "metadata": {},
   "outputs": [
    {
     "data": {
      "text/html": [
       "<div>\n",
       "<style scoped>\n",
       "    .dataframe tbody tr th:only-of-type {\n",
       "        vertical-align: middle;\n",
       "    }\n",
       "\n",
       "    .dataframe tbody tr th {\n",
       "        vertical-align: top;\n",
       "    }\n",
       "\n",
       "    .dataframe thead th {\n",
       "        text-align: right;\n",
       "    }\n",
       "</style>\n",
       "<table border=\"1\" class=\"dataframe\">\n",
       "  <thead>\n",
       "    <tr style=\"text-align: right;\">\n",
       "      <th></th>\n",
       "      <th>State</th>\n",
       "      <th>Year</th>\n",
       "      <th>Studio</th>\n",
       "      <th>One Bedroom</th>\n",
       "      <th>Two Bedroom</th>\n",
       "      <th>Three Bedroom</th>\n",
       "      <th>Four Bedroom</th>\n",
       "      <th>Population</th>\n",
       "      <th>Percent Change</th>\n",
       "    </tr>\n",
       "  </thead>\n",
       "  <tbody>\n",
       "    <tr>\n",
       "      <th>168</th>\n",
       "      <td>AK</td>\n",
       "      <td>2018</td>\n",
       "      <td>842.86</td>\n",
       "      <td>948.86</td>\n",
       "      <td>1183.59</td>\n",
       "      <td>1575.90</td>\n",
       "      <td>1848.17</td>\n",
       "      <td>24490.72</td>\n",
       "      <td>-0.01</td>\n",
       "    </tr>\n",
       "    <tr>\n",
       "      <th>112</th>\n",
       "      <td>AK</td>\n",
       "      <td>2019</td>\n",
       "      <td>863.97</td>\n",
       "      <td>977.31</td>\n",
       "      <td>1221.38</td>\n",
       "      <td>1623.93</td>\n",
       "      <td>1866.03</td>\n",
       "      <td>24490.72</td>\n",
       "      <td>0.03</td>\n",
       "    </tr>\n",
       "    <tr>\n",
       "      <th>56</th>\n",
       "      <td>AK</td>\n",
       "      <td>2020</td>\n",
       "      <td>902.24</td>\n",
       "      <td>1022.24</td>\n",
       "      <td>1276.03</td>\n",
       "      <td>1696.00</td>\n",
       "      <td>1926.31</td>\n",
       "      <td>25467.93</td>\n",
       "      <td>0.04</td>\n",
       "    </tr>\n",
       "    <tr>\n",
       "      <th>0</th>\n",
       "      <td>AK</td>\n",
       "      <td>2021</td>\n",
       "      <td>850.97</td>\n",
       "      <td>951.28</td>\n",
       "      <td>1200.14</td>\n",
       "      <td>1582.72</td>\n",
       "      <td>1815.38</td>\n",
       "      <td>25467.93</td>\n",
       "      <td>NaN</td>\n",
       "    </tr>\n",
       "    <tr>\n",
       "      <th>224</th>\n",
       "      <td>AK</td>\n",
       "      <td>2022</td>\n",
       "      <td>864.45</td>\n",
       "      <td>962.66</td>\n",
       "      <td>1236.45</td>\n",
       "      <td>1619.83</td>\n",
       "      <td>1890.34</td>\n",
       "      <td>25467.93</td>\n",
       "      <td>NaN</td>\n",
       "    </tr>\n",
       "    <tr>\n",
       "      <th>169</th>\n",
       "      <td>AL</td>\n",
       "      <td>2018</td>\n",
       "      <td>519.12</td>\n",
       "      <td>554.07</td>\n",
       "      <td>682.06</td>\n",
       "      <td>911.72</td>\n",
       "      <td>1050.61</td>\n",
       "      <td>71339.34</td>\n",
       "      <td>-0.01</td>\n",
       "    </tr>\n",
       "    <tr>\n",
       "      <th>113</th>\n",
       "      <td>AL</td>\n",
       "      <td>2019</td>\n",
       "      <td>530.30</td>\n",
       "      <td>569.61</td>\n",
       "      <td>697.54</td>\n",
       "      <td>925.31</td>\n",
       "      <td>1068.13</td>\n",
       "      <td>71339.34</td>\n",
       "      <td>0.02</td>\n",
       "    </tr>\n",
       "    <tr>\n",
       "      <th>57</th>\n",
       "      <td>AL</td>\n",
       "      <td>2020</td>\n",
       "      <td>533.90</td>\n",
       "      <td>575.87</td>\n",
       "      <td>700.64</td>\n",
       "      <td>924.25</td>\n",
       "      <td>1064.90</td>\n",
       "      <td>72399.63</td>\n",
       "      <td>0.00</td>\n",
       "    </tr>\n",
       "    <tr>\n",
       "      <th>1</th>\n",
       "      <td>AL</td>\n",
       "      <td>2021</td>\n",
       "      <td>548.28</td>\n",
       "      <td>591.99</td>\n",
       "      <td>725.82</td>\n",
       "      <td>949.51</td>\n",
       "      <td>1094.63</td>\n",
       "      <td>72399.63</td>\n",
       "      <td>NaN</td>\n",
       "    </tr>\n",
       "    <tr>\n",
       "      <th>225</th>\n",
       "      <td>AL</td>\n",
       "      <td>2022</td>\n",
       "      <td>586.07</td>\n",
       "      <td>627.84</td>\n",
       "      <td>773.81</td>\n",
       "      <td>1004.81</td>\n",
       "      <td>1154.52</td>\n",
       "      <td>72399.63</td>\n",
       "      <td>NaN</td>\n",
       "    </tr>\n",
       "  </tbody>\n",
       "</table>\n",
       "</div>"
      ],
      "text/plain": [
       "    State  Year  Studio  One Bedroom  Two Bedroom  Three Bedroom  \\\n",
       "168    AK  2018  842.86       948.86      1183.59        1575.90   \n",
       "112    AK  2019  863.97       977.31      1221.38        1623.93   \n",
       "56     AK  2020  902.24      1022.24      1276.03        1696.00   \n",
       "0      AK  2021  850.97       951.28      1200.14        1582.72   \n",
       "224    AK  2022  864.45       962.66      1236.45        1619.83   \n",
       "169    AL  2018  519.12       554.07       682.06         911.72   \n",
       "113    AL  2019  530.30       569.61       697.54         925.31   \n",
       "57     AL  2020  533.90       575.87       700.64         924.25   \n",
       "1      AL  2021  548.28       591.99       725.82         949.51   \n",
       "225    AL  2022  586.07       627.84       773.81        1004.81   \n",
       "\n",
       "     Four Bedroom  Population  Percent Change  \n",
       "168       1848.17    24490.72           -0.01  \n",
       "112       1866.03    24490.72            0.03  \n",
       "56        1926.31    25467.93            0.04  \n",
       "0         1815.38    25467.93             NaN  \n",
       "224       1890.34    25467.93             NaN  \n",
       "169       1050.61    71339.34           -0.01  \n",
       "113       1068.13    71339.34            0.02  \n",
       "57        1064.90    72399.63            0.00  \n",
       "1         1094.63    72399.63             NaN  \n",
       "225       1154.52    72399.63             NaN  "
      ]
     },
     "execution_count": 11,
     "metadata": {},
     "output_type": "execute_result"
    }
   ],
   "source": [
    "rental_state_df.head(10)"
   ]
  },
  {
   "cell_type": "code",
   "execution_count": 13,
   "id": "328e0964",
   "metadata": {},
   "outputs": [],
   "source": [
    "rental_state_df['mean'] = rental_state_df[[\"Studio\", \"One Bedroom\", \"Two Bedroom\", \"Three Bedroom\", \"Four Bedroom\"]].mean(axis=1)"
   ]
  },
  {
   "cell_type": "code",
   "execution_count": 14,
   "id": "4c2a75cd",
   "metadata": {
    "scrolled": true
   },
   "outputs": [
    {
     "data": {
      "text/html": [
       "<div>\n",
       "<style scoped>\n",
       "    .dataframe tbody tr th:only-of-type {\n",
       "        vertical-align: middle;\n",
       "    }\n",
       "\n",
       "    .dataframe tbody tr th {\n",
       "        vertical-align: top;\n",
       "    }\n",
       "\n",
       "    .dataframe thead th {\n",
       "        text-align: right;\n",
       "    }\n",
       "</style>\n",
       "<table border=\"1\" class=\"dataframe\">\n",
       "  <thead>\n",
       "    <tr style=\"text-align: right;\">\n",
       "      <th></th>\n",
       "      <th>State</th>\n",
       "      <th>Year</th>\n",
       "      <th>Studio</th>\n",
       "      <th>One Bedroom</th>\n",
       "      <th>Two Bedroom</th>\n",
       "      <th>Three Bedroom</th>\n",
       "      <th>Four Bedroom</th>\n",
       "      <th>Population</th>\n",
       "      <th>Percent Change</th>\n",
       "      <th>mean</th>\n",
       "    </tr>\n",
       "  </thead>\n",
       "  <tbody>\n",
       "    <tr>\n",
       "      <th>168</th>\n",
       "      <td>AK</td>\n",
       "      <td>2018</td>\n",
       "      <td>842.86</td>\n",
       "      <td>948.86</td>\n",
       "      <td>1183.59</td>\n",
       "      <td>1575.90</td>\n",
       "      <td>1848.17</td>\n",
       "      <td>24490.72</td>\n",
       "      <td>-0.01</td>\n",
       "      <td>1279.876</td>\n",
       "    </tr>\n",
       "    <tr>\n",
       "      <th>112</th>\n",
       "      <td>AK</td>\n",
       "      <td>2019</td>\n",
       "      <td>863.97</td>\n",
       "      <td>977.31</td>\n",
       "      <td>1221.38</td>\n",
       "      <td>1623.93</td>\n",
       "      <td>1866.03</td>\n",
       "      <td>24490.72</td>\n",
       "      <td>0.03</td>\n",
       "      <td>1310.524</td>\n",
       "    </tr>\n",
       "    <tr>\n",
       "      <th>56</th>\n",
       "      <td>AK</td>\n",
       "      <td>2020</td>\n",
       "      <td>902.24</td>\n",
       "      <td>1022.24</td>\n",
       "      <td>1276.03</td>\n",
       "      <td>1696.00</td>\n",
       "      <td>1926.31</td>\n",
       "      <td>25467.93</td>\n",
       "      <td>0.04</td>\n",
       "      <td>1364.564</td>\n",
       "    </tr>\n",
       "    <tr>\n",
       "      <th>0</th>\n",
       "      <td>AK</td>\n",
       "      <td>2021</td>\n",
       "      <td>850.97</td>\n",
       "      <td>951.28</td>\n",
       "      <td>1200.14</td>\n",
       "      <td>1582.72</td>\n",
       "      <td>1815.38</td>\n",
       "      <td>25467.93</td>\n",
       "      <td>NaN</td>\n",
       "      <td>1280.098</td>\n",
       "    </tr>\n",
       "    <tr>\n",
       "      <th>224</th>\n",
       "      <td>AK</td>\n",
       "      <td>2022</td>\n",
       "      <td>864.45</td>\n",
       "      <td>962.66</td>\n",
       "      <td>1236.45</td>\n",
       "      <td>1619.83</td>\n",
       "      <td>1890.34</td>\n",
       "      <td>25467.93</td>\n",
       "      <td>NaN</td>\n",
       "      <td>1314.746</td>\n",
       "    </tr>\n",
       "    <tr>\n",
       "      <th>169</th>\n",
       "      <td>AL</td>\n",
       "      <td>2018</td>\n",
       "      <td>519.12</td>\n",
       "      <td>554.07</td>\n",
       "      <td>682.06</td>\n",
       "      <td>911.72</td>\n",
       "      <td>1050.61</td>\n",
       "      <td>71339.34</td>\n",
       "      <td>-0.01</td>\n",
       "      <td>743.516</td>\n",
       "    </tr>\n",
       "    <tr>\n",
       "      <th>113</th>\n",
       "      <td>AL</td>\n",
       "      <td>2019</td>\n",
       "      <td>530.30</td>\n",
       "      <td>569.61</td>\n",
       "      <td>697.54</td>\n",
       "      <td>925.31</td>\n",
       "      <td>1068.13</td>\n",
       "      <td>71339.34</td>\n",
       "      <td>0.02</td>\n",
       "      <td>758.178</td>\n",
       "    </tr>\n",
       "    <tr>\n",
       "      <th>57</th>\n",
       "      <td>AL</td>\n",
       "      <td>2020</td>\n",
       "      <td>533.90</td>\n",
       "      <td>575.87</td>\n",
       "      <td>700.64</td>\n",
       "      <td>924.25</td>\n",
       "      <td>1064.90</td>\n",
       "      <td>72399.63</td>\n",
       "      <td>0.00</td>\n",
       "      <td>759.912</td>\n",
       "    </tr>\n",
       "    <tr>\n",
       "      <th>1</th>\n",
       "      <td>AL</td>\n",
       "      <td>2021</td>\n",
       "      <td>548.28</td>\n",
       "      <td>591.99</td>\n",
       "      <td>725.82</td>\n",
       "      <td>949.51</td>\n",
       "      <td>1094.63</td>\n",
       "      <td>72399.63</td>\n",
       "      <td>NaN</td>\n",
       "      <td>782.046</td>\n",
       "    </tr>\n",
       "    <tr>\n",
       "      <th>225</th>\n",
       "      <td>AL</td>\n",
       "      <td>2022</td>\n",
       "      <td>586.07</td>\n",
       "      <td>627.84</td>\n",
       "      <td>773.81</td>\n",
       "      <td>1004.81</td>\n",
       "      <td>1154.52</td>\n",
       "      <td>72399.63</td>\n",
       "      <td>NaN</td>\n",
       "      <td>829.410</td>\n",
       "    </tr>\n",
       "  </tbody>\n",
       "</table>\n",
       "</div>"
      ],
      "text/plain": [
       "    State  Year  Studio  One Bedroom  Two Bedroom  Three Bedroom  \\\n",
       "168    AK  2018  842.86       948.86      1183.59        1575.90   \n",
       "112    AK  2019  863.97       977.31      1221.38        1623.93   \n",
       "56     AK  2020  902.24      1022.24      1276.03        1696.00   \n",
       "0      AK  2021  850.97       951.28      1200.14        1582.72   \n",
       "224    AK  2022  864.45       962.66      1236.45        1619.83   \n",
       "169    AL  2018  519.12       554.07       682.06         911.72   \n",
       "113    AL  2019  530.30       569.61       697.54         925.31   \n",
       "57     AL  2020  533.90       575.87       700.64         924.25   \n",
       "1      AL  2021  548.28       591.99       725.82         949.51   \n",
       "225    AL  2022  586.07       627.84       773.81        1004.81   \n",
       "\n",
       "     Four Bedroom  Population  Percent Change      mean  \n",
       "168       1848.17    24490.72           -0.01  1279.876  \n",
       "112       1866.03    24490.72            0.03  1310.524  \n",
       "56        1926.31    25467.93            0.04  1364.564  \n",
       "0         1815.38    25467.93             NaN  1280.098  \n",
       "224       1890.34    25467.93             NaN  1314.746  \n",
       "169       1050.61    71339.34           -0.01   743.516  \n",
       "113       1068.13    71339.34            0.02   758.178  \n",
       "57        1064.90    72399.63            0.00   759.912  \n",
       "1         1094.63    72399.63             NaN   782.046  \n",
       "225       1154.52    72399.63             NaN   829.410  "
      ]
     },
     "execution_count": 14,
     "metadata": {},
     "output_type": "execute_result"
    }
   ],
   "source": [
    "rental_state_df.head(10)"
   ]
  },
  {
   "cell_type": "code",
   "execution_count": 15,
   "id": "7ff34a67",
   "metadata": {},
   "outputs": [],
   "source": [
    "#Completed, Commited out to not be overwritten by accident\n",
    "#rental_state_df.to_csv('ML3.csv')"
   ]
  },
  {
   "cell_type": "code",
   "execution_count": 22,
   "id": "2e74681c",
   "metadata": {},
<<<<<<< Updated upstream
   "outputs": [
    {
     "data": {
      "text/html": [
       "<div>\n",
       "<style scoped>\n",
       "    .dataframe tbody tr th:only-of-type {\n",
       "        vertical-align: middle;\n",
       "    }\n",
       "\n",
       "    .dataframe tbody tr th {\n",
       "        vertical-align: top;\n",
       "    }\n",
       "\n",
       "    .dataframe thead th {\n",
       "        text-align: right;\n",
       "    }\n",
       "</style>\n",
       "<table border=\"1\" class=\"dataframe\">\n",
       "  <thead>\n",
       "    <tr style=\"text-align: right;\">\n",
       "      <th></th>\n",
       "      <th>State</th>\n",
       "      <th>Year</th>\n",
       "      <th>Studio</th>\n",
       "      <th>One Bedroom</th>\n",
       "      <th>Two Bedroom</th>\n",
       "      <th>Three Bedroom</th>\n",
       "      <th>Four Bedroom</th>\n",
       "      <th>Population</th>\n",
       "      <th>Percent Change</th>\n",
       "    </tr>\n",
       "  </thead>\n",
       "  <tbody>\n",
       "    <tr>\n",
       "      <th>0</th>\n",
       "      <td>AK</td>\n",
       "      <td>2018</td>\n",
       "      <td>842.86</td>\n",
       "      <td>948.86</td>\n",
       "      <td>1183.59</td>\n",
       "      <td>1575.90</td>\n",
       "      <td>1848.17</td>\n",
       "      <td>24490.72</td>\n",
       "      <td>-0.01</td>\n",
       "    </tr>\n",
       "    <tr>\n",
       "      <th>1</th>\n",
       "      <td>AK</td>\n",
       "      <td>2019</td>\n",
       "      <td>863.97</td>\n",
       "      <td>977.31</td>\n",
       "      <td>1221.38</td>\n",
       "      <td>1623.93</td>\n",
       "      <td>1866.03</td>\n",
       "      <td>24490.72</td>\n",
       "      <td>0.03</td>\n",
       "    </tr>\n",
       "    <tr>\n",
       "      <th>2</th>\n",
       "      <td>AK</td>\n",
       "      <td>2020</td>\n",
       "      <td>902.24</td>\n",
       "      <td>1022.24</td>\n",
       "      <td>1276.03</td>\n",
       "      <td>1696.00</td>\n",
       "      <td>1926.31</td>\n",
       "      <td>25467.93</td>\n",
       "      <td>0.04</td>\n",
       "    </tr>\n",
       "    <tr>\n",
       "      <th>3</th>\n",
       "      <td>AK</td>\n",
       "      <td>2021</td>\n",
       "      <td>850.97</td>\n",
       "      <td>951.28</td>\n",
       "      <td>1200.14</td>\n",
       "      <td>1582.72</td>\n",
       "      <td>1815.38</td>\n",
       "      <td>25467.93</td>\n",
       "      <td>0.00</td>\n",
       "    </tr>\n",
       "    <tr>\n",
       "      <th>4</th>\n",
       "      <td>AK</td>\n",
       "      <td>2022</td>\n",
       "      <td>864.45</td>\n",
       "      <td>962.66</td>\n",
       "      <td>1236.45</td>\n",
       "      <td>1619.83</td>\n",
       "      <td>1890.34</td>\n",
       "      <td>25467.93</td>\n",
       "      <td>0.00</td>\n",
       "    </tr>\n",
       "    <tr>\n",
       "      <th>...</th>\n",
       "      <td>...</td>\n",
       "      <td>...</td>\n",
       "      <td>...</td>\n",
       "      <td>...</td>\n",
       "      <td>...</td>\n",
       "      <td>...</td>\n",
       "      <td>...</td>\n",
       "      <td>...</td>\n",
       "      <td>...</td>\n",
       "    </tr>\n",
       "    <tr>\n",
       "      <th>275</th>\n",
       "      <td>WY</td>\n",
       "      <td>2018</td>\n",
       "      <td>577.57</td>\n",
       "      <td>638.48</td>\n",
       "      <td>813.74</td>\n",
       "      <td>1096.74</td>\n",
       "      <td>1328.70</td>\n",
       "      <td>24505.48</td>\n",
       "      <td>0.06</td>\n",
       "    </tr>\n",
       "    <tr>\n",
       "      <th>276</th>\n",
       "      <td>WY</td>\n",
       "      <td>2019</td>\n",
       "      <td>591.70</td>\n",
       "      <td>650.91</td>\n",
       "      <td>825.35</td>\n",
       "      <td>1109.83</td>\n",
       "      <td>1375.43</td>\n",
       "      <td>24505.48</td>\n",
       "      <td>0.02</td>\n",
       "    </tr>\n",
       "    <tr>\n",
       "      <th>277</th>\n",
       "      <td>WY</td>\n",
       "      <td>2020</td>\n",
       "      <td>621.39</td>\n",
       "      <td>678.83</td>\n",
       "      <td>845.61</td>\n",
       "      <td>1138.26</td>\n",
       "      <td>1422.96</td>\n",
       "      <td>25356.52</td>\n",
       "      <td>0.02</td>\n",
       "    </tr>\n",
       "    <tr>\n",
       "      <th>278</th>\n",
       "      <td>WY</td>\n",
       "      <td>2021</td>\n",
       "      <td>640.09</td>\n",
       "      <td>676.70</td>\n",
       "      <td>842.09</td>\n",
       "      <td>1138.87</td>\n",
       "      <td>1412.91</td>\n",
       "      <td>25356.52</td>\n",
       "      <td>0.00</td>\n",
       "    </tr>\n",
       "    <tr>\n",
       "      <th>279</th>\n",
       "      <td>WY</td>\n",
       "      <td>2022</td>\n",
       "      <td>659.30</td>\n",
       "      <td>681.26</td>\n",
       "      <td>850.96</td>\n",
       "      <td>1153.57</td>\n",
       "      <td>1426.39</td>\n",
       "      <td>25356.52</td>\n",
       "      <td>0.00</td>\n",
       "    </tr>\n",
       "  </tbody>\n",
       "</table>\n",
       "<p>280 rows × 9 columns</p>\n",
       "</div>"
      ],
      "text/plain": [
       "    State  Year  Studio  One Bedroom  Two Bedroom  Three Bedroom  \\\n",
       "0      AK  2018  842.86       948.86      1183.59        1575.90   \n",
       "1      AK  2019  863.97       977.31      1221.38        1623.93   \n",
       "2      AK  2020  902.24      1022.24      1276.03        1696.00   \n",
       "3      AK  2021  850.97       951.28      1200.14        1582.72   \n",
       "4      AK  2022  864.45       962.66      1236.45        1619.83   \n",
       "..    ...   ...     ...          ...          ...            ...   \n",
       "275    WY  2018  577.57       638.48       813.74        1096.74   \n",
       "276    WY  2019  591.70       650.91       825.35        1109.83   \n",
       "277    WY  2020  621.39       678.83       845.61        1138.26   \n",
       "278    WY  2021  640.09       676.70       842.09        1138.87   \n",
       "279    WY  2022  659.30       681.26       850.96        1153.57   \n",
       "\n",
       "     Four Bedroom  Population  Percent Change  \n",
       "0         1848.17    24490.72           -0.01  \n",
       "1         1866.03    24490.72            0.03  \n",
       "2         1926.31    25467.93            0.04  \n",
       "3         1815.38    25467.93            0.00  \n",
       "4         1890.34    25467.93            0.00  \n",
       "..            ...         ...             ...  \n",
       "275       1328.70    24505.48            0.06  \n",
       "276       1375.43    24505.48            0.02  \n",
       "277       1422.96    25356.52            0.02  \n",
       "278       1412.91    25356.52            0.00  \n",
       "279       1426.39    25356.52            0.00  \n",
       "\n",
       "[280 rows x 9 columns]"
      ]
     },
     "execution_count": 22,
     "metadata": {},
     "output_type": "execute_result"
    }
   ],
   "source": [
    "#Filled all NaNs with accurate % changes via Excel, back with completed dataset\n",
    "#CSV to Load\n",
    "rental_data1= (\"Resources/ML3.csv\")\n",
    "rental_data1_df=pd.read_csv(rental_data1)\n",
    "rental_data1_df = rental_data1_df.drop(['Unnamed: 0'], axis=1)\n",
    "rental_data1_df.head(300)"
   ]
  },
  {
   "cell_type": "code",
   "execution_count": null,
   "id": "4b6720df",
   "metadata": {},
   "outputs": [],
   "source": []
  },
  {
   "cell_type": "code",
   "execution_count": 23,
   "id": "aac453a4",
   "metadata": {},
   "outputs": [
    {
     "data": {
=======
   "outputs": [
    {
     "data": {
      "text/html": [
       "<div>\n",
       "<style scoped>\n",
       "    .dataframe tbody tr th:only-of-type {\n",
       "        vertical-align: middle;\n",
       "    }\n",
       "\n",
       "    .dataframe tbody tr th {\n",
       "        vertical-align: top;\n",
       "    }\n",
       "\n",
       "    .dataframe thead th {\n",
       "        text-align: right;\n",
       "    }\n",
       "</style>\n",
       "<table border=\"1\" class=\"dataframe\">\n",
       "  <thead>\n",
       "    <tr style=\"text-align: right;\">\n",
       "      <th></th>\n",
       "      <th>State</th>\n",
       "      <th>Year</th>\n",
       "      <th>Studio</th>\n",
       "      <th>One Bedroom</th>\n",
       "      <th>Two Bedroom</th>\n",
       "      <th>Three Bedroom</th>\n",
       "      <th>Four Bedroom</th>\n",
       "      <th>Population</th>\n",
       "      <th>Percent Change</th>\n",
       "    </tr>\n",
       "  </thead>\n",
       "  <tbody>\n",
       "    <tr>\n",
       "      <th>0</th>\n",
       "      <td>AK</td>\n",
       "      <td>2018</td>\n",
       "      <td>842.86</td>\n",
       "      <td>948.86</td>\n",
       "      <td>1183.59</td>\n",
       "      <td>1575.90</td>\n",
       "      <td>1848.17</td>\n",
       "      <td>24490.72</td>\n",
       "      <td>-0.01</td>\n",
       "    </tr>\n",
       "    <tr>\n",
       "      <th>1</th>\n",
       "      <td>AK</td>\n",
       "      <td>2019</td>\n",
       "      <td>863.97</td>\n",
       "      <td>977.31</td>\n",
       "      <td>1221.38</td>\n",
       "      <td>1623.93</td>\n",
       "      <td>1866.03</td>\n",
       "      <td>24490.72</td>\n",
       "      <td>0.03</td>\n",
       "    </tr>\n",
       "    <tr>\n",
       "      <th>2</th>\n",
       "      <td>AK</td>\n",
       "      <td>2020</td>\n",
       "      <td>902.24</td>\n",
       "      <td>1022.24</td>\n",
       "      <td>1276.03</td>\n",
       "      <td>1696.00</td>\n",
       "      <td>1926.31</td>\n",
       "      <td>25467.93</td>\n",
       "      <td>0.04</td>\n",
       "    </tr>\n",
       "    <tr>\n",
       "      <th>3</th>\n",
       "      <td>AK</td>\n",
       "      <td>2021</td>\n",
       "      <td>850.97</td>\n",
       "      <td>951.28</td>\n",
       "      <td>1200.14</td>\n",
       "      <td>1582.72</td>\n",
       "      <td>1815.38</td>\n",
       "      <td>25467.93</td>\n",
       "      <td>0.00</td>\n",
       "    </tr>\n",
       "    <tr>\n",
       "      <th>4</th>\n",
       "      <td>AK</td>\n",
       "      <td>2022</td>\n",
       "      <td>864.45</td>\n",
       "      <td>962.66</td>\n",
       "      <td>1236.45</td>\n",
       "      <td>1619.83</td>\n",
       "      <td>1890.34</td>\n",
       "      <td>25467.93</td>\n",
       "      <td>0.00</td>\n",
       "    </tr>\n",
       "    <tr>\n",
       "      <th>...</th>\n",
       "      <td>...</td>\n",
       "      <td>...</td>\n",
       "      <td>...</td>\n",
       "      <td>...</td>\n",
       "      <td>...</td>\n",
       "      <td>...</td>\n",
       "      <td>...</td>\n",
       "      <td>...</td>\n",
       "      <td>...</td>\n",
       "    </tr>\n",
       "    <tr>\n",
       "      <th>275</th>\n",
       "      <td>WY</td>\n",
       "      <td>2018</td>\n",
       "      <td>577.57</td>\n",
       "      <td>638.48</td>\n",
       "      <td>813.74</td>\n",
       "      <td>1096.74</td>\n",
       "      <td>1328.70</td>\n",
       "      <td>24505.48</td>\n",
       "      <td>0.06</td>\n",
       "    </tr>\n",
       "    <tr>\n",
       "      <th>276</th>\n",
       "      <td>WY</td>\n",
       "      <td>2019</td>\n",
       "      <td>591.70</td>\n",
       "      <td>650.91</td>\n",
       "      <td>825.35</td>\n",
       "      <td>1109.83</td>\n",
       "      <td>1375.43</td>\n",
       "      <td>24505.48</td>\n",
       "      <td>0.02</td>\n",
       "    </tr>\n",
       "    <tr>\n",
       "      <th>277</th>\n",
       "      <td>WY</td>\n",
       "      <td>2020</td>\n",
       "      <td>621.39</td>\n",
       "      <td>678.83</td>\n",
       "      <td>845.61</td>\n",
       "      <td>1138.26</td>\n",
       "      <td>1422.96</td>\n",
       "      <td>25356.52</td>\n",
       "      <td>0.02</td>\n",
       "    </tr>\n",
       "    <tr>\n",
       "      <th>278</th>\n",
       "      <td>WY</td>\n",
       "      <td>2021</td>\n",
       "      <td>640.09</td>\n",
       "      <td>676.70</td>\n",
       "      <td>842.09</td>\n",
       "      <td>1138.87</td>\n",
       "      <td>1412.91</td>\n",
       "      <td>25356.52</td>\n",
       "      <td>0.00</td>\n",
       "    </tr>\n",
       "    <tr>\n",
       "      <th>279</th>\n",
       "      <td>WY</td>\n",
       "      <td>2022</td>\n",
       "      <td>659.30</td>\n",
       "      <td>681.26</td>\n",
       "      <td>850.96</td>\n",
       "      <td>1153.57</td>\n",
       "      <td>1426.39</td>\n",
       "      <td>25356.52</td>\n",
       "      <td>0.00</td>\n",
       "    </tr>\n",
       "  </tbody>\n",
       "</table>\n",
       "<p>280 rows × 9 columns</p>\n",
       "</div>"
      ],
      "text/plain": [
       "    State  Year  Studio  One Bedroom  Two Bedroom  Three Bedroom  \\\n",
       "0      AK  2018  842.86       948.86      1183.59        1575.90   \n",
       "1      AK  2019  863.97       977.31      1221.38        1623.93   \n",
       "2      AK  2020  902.24      1022.24      1276.03        1696.00   \n",
       "3      AK  2021  850.97       951.28      1200.14        1582.72   \n",
       "4      AK  2022  864.45       962.66      1236.45        1619.83   \n",
       "..    ...   ...     ...          ...          ...            ...   \n",
       "275    WY  2018  577.57       638.48       813.74        1096.74   \n",
       "276    WY  2019  591.70       650.91       825.35        1109.83   \n",
       "277    WY  2020  621.39       678.83       845.61        1138.26   \n",
       "278    WY  2021  640.09       676.70       842.09        1138.87   \n",
       "279    WY  2022  659.30       681.26       850.96        1153.57   \n",
       "\n",
       "     Four Bedroom  Population  Percent Change  \n",
       "0         1848.17    24490.72           -0.01  \n",
       "1         1866.03    24490.72            0.03  \n",
       "2         1926.31    25467.93            0.04  \n",
       "3         1815.38    25467.93            0.00  \n",
       "4         1890.34    25467.93            0.00  \n",
       "..            ...         ...             ...  \n",
       "275       1328.70    24505.48            0.06  \n",
       "276       1375.43    24505.48            0.02  \n",
       "277       1422.96    25356.52            0.02  \n",
       "278       1412.91    25356.52            0.00  \n",
       "279       1426.39    25356.52            0.00  \n",
       "\n",
       "[280 rows x 9 columns]"
      ]
     },
     "execution_count": 22,
     "metadata": {},
     "output_type": "execute_result"
    }
   ],
   "source": [
    "#Filled all NaNs with accurate % changes via Excel, back with completed dataset\n",
    "#CSV to Load\n",
    "rental_data1= (\"Resources/ML3.csv\")\n",
    "rental_data1_df=pd.read_csv(rental_data1)\n",
    "rental_data1_df = rental_data1_df.drop(['Unnamed: 0'], axis=1)\n",
    "rental_data1_df.head(300)"
   ]
  },
  {
   "cell_type": "code",
   "execution_count": 23,
   "id": "aac453a4",
   "metadata": {},
   "outputs": [
    {
     "data": {
>>>>>>> Stashed changes
      "text/plain": [
       "<matplotlib.axes._subplots.AxesSubplot at 0x7fdfe00b2190>"
      ]
     },
     "execution_count": 23,
     "metadata": {},
     "output_type": "execute_result"
    },
    {
     "data": {
      "image/png": "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\n",
      "text/plain": [
       "<Figure size 432x288 with 2 Axes>"
      ]
     },
<<<<<<< Updated upstream
=======
     "metadata": {
      "needs_background": "light"
     },
     "output_type": "display_data"
    }
   ],
   "source": [
    "sns.heatmap(rental_data_df.corr(), annot=True)"
   ]
  },
  {
   "cell_type": "code",
   "execution_count": 66,
   "id": "e3160690",
   "metadata": {},
   "outputs": [
    {
     "data": {
      "text/plain": [
       "count     280.000000\n",
       "mean      683.562071\n",
       "std       204.557805\n",
       "min       365.290000\n",
       "25%       542.810000\n",
       "50%       613.775000\n",
       "75%       771.050000\n",
       "max      1539.000000\n",
       "Name: Studio, dtype: float64"
      ]
     },
     "execution_count": 66,
     "metadata": {},
     "output_type": "execute_result"
    }
   ],
   "source": [
    "rental_data1_df['Studio'].describe()"
   ]
  },
  {
   "cell_type": "code",
   "execution_count": 68,
   "id": "ec78cc62",
   "metadata": {},
   "outputs": [
    {
     "data": {
      "text/plain": [
       "count     280.000000\n",
       "mean      755.492179\n",
       "std       226.459154\n",
       "min       383.550000\n",
       "25%       601.460000\n",
       "50%       666.680000\n",
       "75%       856.120000\n",
       "max      1567.000000\n",
       "Name: One Bedroom, dtype: float64"
      ]
     },
     "execution_count": 68,
     "metadata": {},
     "output_type": "execute_result"
    }
   ],
   "source": [
    "rental_data1_df['One Bedroom'].describe()"
   ]
  },
  {
   "cell_type": "code",
   "execution_count": 69,
   "id": "1007a547",
   "metadata": {},
   "outputs": [
    {
     "data": {
      "text/plain": [
       "count     280.000000\n",
       "mean      942.552357\n",
       "std       273.936269\n",
       "min       455.950000\n",
       "25%       760.925000\n",
       "50%       827.110000\n",
       "75%      1069.037500\n",
       "max      1887.800000\n",
       "Name: Two Bedroom, dtype: float64"
      ]
     },
     "execution_count": 69,
     "metadata": {},
     "output_type": "execute_result"
    }
   ],
   "source": [
    "rental_data1_df['Two Bedroom'].describe()"
   ]
  },
  {
   "cell_type": "code",
   "execution_count": 70,
   "id": "b5b536b0",
   "metadata": {},
   "outputs": [
    {
     "data": {
      "text/plain": [
       "count     280.000000\n",
       "mean     1255.011929\n",
       "std       359.767801\n",
       "min       610.640000\n",
       "25%      1016.002500\n",
       "50%      1108.325000\n",
       "75%      1426.092500\n",
       "max      2569.200000\n",
       "Name: Three Bedroom, dtype: float64"
      ]
     },
     "execution_count": 70,
     "metadata": {},
     "output_type": "execute_result"
    }
   ],
   "source": [
    "rental_data1_df['Three Bedroom'].describe()"
   ]
  },
  {
   "cell_type": "code",
   "execution_count": 71,
   "id": "ae066704",
   "metadata": {},
   "outputs": [
    {
     "data": {
      "text/plain": [
       "count     280.000000\n",
       "mean     1450.943143\n",
       "std       430.596334\n",
       "min       735.510000\n",
       "25%      1150.605000\n",
       "50%      1299.130000\n",
       "75%      1636.000000\n",
       "max      2944.800000\n",
       "Name: Four Bedroom, dtype: float64"
      ]
     },
     "execution_count": 71,
     "metadata": {},
     "output_type": "execute_result"
    }
   ],
   "source": [
    "rental_data1_df['Four Bedroom'].describe()"
   ]
  },
  {
   "cell_type": "code",
   "execution_count": 84,
   "id": "000b2db8",
   "metadata": {},
   "outputs": [
    {
     "data": {
      "text/plain": [
       "<seaborn.axisgrid.FacetGrid at 0x7fdfd839f1d0>"
      ]
     },
     "execution_count": 84,
     "metadata": {},
     "output_type": "execute_result"
    },
    {
     "data": {
      "image/png": "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\n",
      "text/plain": [
       "<Figure size 360x360 with 1 Axes>"
      ]
     },
     "metadata": {
      "needs_background": "light"
     },
     "output_type": "display_data"
    }
   ],
   "source": [
    "sns.displot(rental_data1_df['Studio'])"
   ]
  },
  {
   "cell_type": "code",
   "execution_count": 83,
   "id": "2d78091f",
   "metadata": {},
   "outputs": [
    {
     "data": {
      "text/plain": [
       "<seaborn.axisgrid.FacetGrid at 0x7fdfd8340e10>"
      ]
     },
     "execution_count": 83,
     "metadata": {},
     "output_type": "execute_result"
    },
    {
     "data": {
      "image/png": "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\n",
      "text/plain": [
       "<Figure size 360x360 with 1 Axes>"
      ]
     },
     "metadata": {
      "needs_background": "light"
     },
     "output_type": "display_data"
    }
   ],
   "source": [
    "sns.displot(rental_data1_df['One Bedroom'])"
   ]
  },
  {
   "cell_type": "code",
   "execution_count": 82,
   "id": "65ce5dec",
   "metadata": {},
   "outputs": [
    {
     "data": {
      "text/plain": [
       "<seaborn.axisgrid.FacetGrid at 0x7fdfd829ea90>"
      ]
     },
     "execution_count": 82,
     "metadata": {},
     "output_type": "execute_result"
    },
    {
     "data": {
      "image/png": "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\n",
      "text/plain": [
       "<Figure size 360x360 with 1 Axes>"
      ]
     },
     "metadata": {
      "needs_background": "light"
     },
     "output_type": "display_data"
    }
   ],
   "source": [
    "sns.displot(rental_data1_df['Two Bedroom'])"
   ]
  },
  {
   "cell_type": "code",
   "execution_count": 81,
   "id": "07ce6c78",
   "metadata": {},
   "outputs": [
    {
     "data": {
      "text/plain": [
       "<seaborn.axisgrid.FacetGrid at 0x7fe0294995d0>"
      ]
     },
     "execution_count": 81,
     "metadata": {},
     "output_type": "execute_result"
    },
    {
     "data": {
      "image/png": "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\n",
      "text/plain": [
       "<Figure size 360x360 with 1 Axes>"
      ]
     },
>>>>>>> Stashed changes
     "metadata": {
      "needs_background": "light"
     },
     "output_type": "display_data"
    }
   ],
   "source": [
    "sns.displot(rental_data1_df['Three Bedroom'])"
   ]
  },
  {
   "cell_type": "code",
   "execution_count": 79,
   "id": "39f3955b",
   "metadata": {},
   "outputs": [
    {
     "data": {
      "text/plain": [
       "<seaborn.axisgrid.FacetGrid at 0x7fdfd8227b10>"
      ]
     },
     "execution_count": 79,
     "metadata": {},
     "output_type": "execute_result"
    },
    {
     "data": {
      "image/png": "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\n",
      "text/plain": [
       "<Figure size 360x360 with 1 Axes>"
      ]
     },
     "metadata": {
      "needs_background": "light"
     },
     "output_type": "display_data"
    }
   ],
   "source": [
    "sns.displot(rental_data1_df['Four Bedroom'])"
   ]
  },
  {
   "cell_type": "code",
   "execution_count": null,
   "id": "48cc2377",
   "metadata": {},
   "outputs": [],
   "source": []
  },
  {
   "cell_type": "code",
   "execution_count": 59,
   "id": "9745b226",
   "metadata": {},
   "outputs": [],
   "source": [
    "X = rental_data1_df[[\"State\", \"Population\", \"Year\"]]\n",
    "y = rental_data1_df['Studio']"
   ]
  },
  {
   "cell_type": "code",
   "execution_count": 64,
   "id": "be989fd8",
   "metadata": {},
   "outputs": [],
   "source": [
    "from sklearn.model_selection import train_test_split\n",
    "\n",
    "X_train, X_test, y_train, y_test = train_test_split(X, y, test_size=0.15, random_state=1)\n"
   ]
  },
  {
   "cell_type": "code",
   "execution_count": 91,
   "id": "ed10352a",
   "metadata": {},
   "outputs": [
    {
     "ename": "ValueError",
     "evalue": "could not convert string to float: 'DC'",
     "output_type": "error",
     "traceback": [
      "\u001b[0;31m---------------------------------------------------------------------------\u001b[0m",
      "\u001b[0;31mValueError\u001b[0m                                Traceback (most recent call last)",
      "\u001b[0;32m<ipython-input-91-7a6399f52158>\u001b[0m in \u001b[0;36m<module>\u001b[0;34m\u001b[0m\n\u001b[1;32m      1\u001b[0m \u001b[0mlin_reg\u001b[0m \u001b[0;34m=\u001b[0m \u001b[0mLinearRegression\u001b[0m\u001b[0;34m(\u001b[0m\u001b[0mnormalize\u001b[0m\u001b[0;34m=\u001b[0m\u001b[0;32mTrue\u001b[0m\u001b[0;34m)\u001b[0m\u001b[0;34m\u001b[0m\u001b[0;34m\u001b[0m\u001b[0m\n\u001b[0;32m----> 2\u001b[0;31m \u001b[0mlin_reg\u001b[0m\u001b[0;34m.\u001b[0m\u001b[0mfit\u001b[0m\u001b[0;34m(\u001b[0m\u001b[0mX_train\u001b[0m\u001b[0;34m,\u001b[0m\u001b[0my_train\u001b[0m\u001b[0;34m)\u001b[0m\u001b[0;34m\u001b[0m\u001b[0;34m\u001b[0m\u001b[0m\n\u001b[0m",
      "\u001b[0;32m~/opt/anaconda3/envs/pythondata/lib/python3.7/site-packages/sklearn/linear_model/_base.py\u001b[0m in \u001b[0;36mfit\u001b[0;34m(self, X, y, sample_weight)\u001b[0m\n\u001b[1;32m    517\u001b[0m \u001b[0;34m\u001b[0m\u001b[0m\n\u001b[1;32m    518\u001b[0m         X, y = self._validate_data(X, y, accept_sparse=accept_sparse,\n\u001b[0;32m--> 519\u001b[0;31m                                    y_numeric=True, multi_output=True)\n\u001b[0m\u001b[1;32m    520\u001b[0m \u001b[0;34m\u001b[0m\u001b[0m\n\u001b[1;32m    521\u001b[0m         \u001b[0;32mif\u001b[0m \u001b[0msample_weight\u001b[0m \u001b[0;32mis\u001b[0m \u001b[0;32mnot\u001b[0m \u001b[0;32mNone\u001b[0m\u001b[0;34m:\u001b[0m\u001b[0;34m\u001b[0m\u001b[0;34m\u001b[0m\u001b[0m\n",
      "\u001b[0;32m~/opt/anaconda3/envs/pythondata/lib/python3.7/site-packages/sklearn/base.py\u001b[0m in \u001b[0;36m_validate_data\u001b[0;34m(self, X, y, reset, validate_separately, **check_params)\u001b[0m\n\u001b[1;32m    431\u001b[0m                 \u001b[0my\u001b[0m \u001b[0;34m=\u001b[0m \u001b[0mcheck_array\u001b[0m\u001b[0;34m(\u001b[0m\u001b[0my\u001b[0m\u001b[0;34m,\u001b[0m \u001b[0;34m**\u001b[0m\u001b[0mcheck_y_params\u001b[0m\u001b[0;34m)\u001b[0m\u001b[0;34m\u001b[0m\u001b[0;34m\u001b[0m\u001b[0m\n\u001b[1;32m    432\u001b[0m             \u001b[0;32melse\u001b[0m\u001b[0;34m:\u001b[0m\u001b[0;34m\u001b[0m\u001b[0;34m\u001b[0m\u001b[0m\n\u001b[0;32m--> 433\u001b[0;31m                 \u001b[0mX\u001b[0m\u001b[0;34m,\u001b[0m \u001b[0my\u001b[0m \u001b[0;34m=\u001b[0m \u001b[0mcheck_X_y\u001b[0m\u001b[0;34m(\u001b[0m\u001b[0mX\u001b[0m\u001b[0;34m,\u001b[0m \u001b[0my\u001b[0m\u001b[0;34m,\u001b[0m \u001b[0;34m**\u001b[0m\u001b[0mcheck_params\u001b[0m\u001b[0;34m)\u001b[0m\u001b[0;34m\u001b[0m\u001b[0;34m\u001b[0m\u001b[0m\n\u001b[0m\u001b[1;32m    434\u001b[0m             \u001b[0mout\u001b[0m \u001b[0;34m=\u001b[0m \u001b[0mX\u001b[0m\u001b[0;34m,\u001b[0m \u001b[0my\u001b[0m\u001b[0;34m\u001b[0m\u001b[0;34m\u001b[0m\u001b[0m\n\u001b[1;32m    435\u001b[0m \u001b[0;34m\u001b[0m\u001b[0m\n",
      "\u001b[0;32m~/opt/anaconda3/envs/pythondata/lib/python3.7/site-packages/sklearn/utils/validation.py\u001b[0m in \u001b[0;36minner_f\u001b[0;34m(*args, **kwargs)\u001b[0m\n\u001b[1;32m     61\u001b[0m             \u001b[0mextra_args\u001b[0m \u001b[0;34m=\u001b[0m \u001b[0mlen\u001b[0m\u001b[0;34m(\u001b[0m\u001b[0margs\u001b[0m\u001b[0;34m)\u001b[0m \u001b[0;34m-\u001b[0m \u001b[0mlen\u001b[0m\u001b[0;34m(\u001b[0m\u001b[0mall_args\u001b[0m\u001b[0;34m)\u001b[0m\u001b[0;34m\u001b[0m\u001b[0;34m\u001b[0m\u001b[0m\n\u001b[1;32m     62\u001b[0m             \u001b[0;32mif\u001b[0m \u001b[0mextra_args\u001b[0m \u001b[0;34m<=\u001b[0m \u001b[0;36m0\u001b[0m\u001b[0;34m:\u001b[0m\u001b[0;34m\u001b[0m\u001b[0;34m\u001b[0m\u001b[0m\n\u001b[0;32m---> 63\u001b[0;31m                 \u001b[0;32mreturn\u001b[0m \u001b[0mf\u001b[0m\u001b[0;34m(\u001b[0m\u001b[0;34m*\u001b[0m\u001b[0margs\u001b[0m\u001b[0;34m,\u001b[0m \u001b[0;34m**\u001b[0m\u001b[0mkwargs\u001b[0m\u001b[0;34m)\u001b[0m\u001b[0;34m\u001b[0m\u001b[0;34m\u001b[0m\u001b[0m\n\u001b[0m\u001b[1;32m     64\u001b[0m \u001b[0;34m\u001b[0m\u001b[0m\n\u001b[1;32m     65\u001b[0m             \u001b[0;31m# extra_args > 0\u001b[0m\u001b[0;34m\u001b[0m\u001b[0;34m\u001b[0m\u001b[0;34m\u001b[0m\u001b[0m\n",
      "\u001b[0;32m~/opt/anaconda3/envs/pythondata/lib/python3.7/site-packages/sklearn/utils/validation.py\u001b[0m in \u001b[0;36mcheck_X_y\u001b[0;34m(X, y, accept_sparse, accept_large_sparse, dtype, order, copy, force_all_finite, ensure_2d, allow_nd, multi_output, ensure_min_samples, ensure_min_features, y_numeric, estimator)\u001b[0m\n\u001b[1;32m    819\u001b[0m                     \u001b[0mensure_min_samples\u001b[0m\u001b[0;34m=\u001b[0m\u001b[0mensure_min_samples\u001b[0m\u001b[0;34m,\u001b[0m\u001b[0;34m\u001b[0m\u001b[0;34m\u001b[0m\u001b[0m\n\u001b[1;32m    820\u001b[0m                     \u001b[0mensure_min_features\u001b[0m\u001b[0;34m=\u001b[0m\u001b[0mensure_min_features\u001b[0m\u001b[0;34m,\u001b[0m\u001b[0;34m\u001b[0m\u001b[0;34m\u001b[0m\u001b[0m\n\u001b[0;32m--> 821\u001b[0;31m                     estimator=estimator)\n\u001b[0m\u001b[1;32m    822\u001b[0m     \u001b[0;32mif\u001b[0m \u001b[0mmulti_output\u001b[0m\u001b[0;34m:\u001b[0m\u001b[0;34m\u001b[0m\u001b[0;34m\u001b[0m\u001b[0m\n\u001b[1;32m    823\u001b[0m         y = check_array(y, accept_sparse='csr', force_all_finite=True,\n",
      "\u001b[0;32m~/opt/anaconda3/envs/pythondata/lib/python3.7/site-packages/sklearn/utils/validation.py\u001b[0m in \u001b[0;36minner_f\u001b[0;34m(*args, **kwargs)\u001b[0m\n\u001b[1;32m     61\u001b[0m             \u001b[0mextra_args\u001b[0m \u001b[0;34m=\u001b[0m \u001b[0mlen\u001b[0m\u001b[0;34m(\u001b[0m\u001b[0margs\u001b[0m\u001b[0;34m)\u001b[0m \u001b[0;34m-\u001b[0m \u001b[0mlen\u001b[0m\u001b[0;34m(\u001b[0m\u001b[0mall_args\u001b[0m\u001b[0;34m)\u001b[0m\u001b[0;34m\u001b[0m\u001b[0;34m\u001b[0m\u001b[0m\n\u001b[1;32m     62\u001b[0m             \u001b[0;32mif\u001b[0m \u001b[0mextra_args\u001b[0m \u001b[0;34m<=\u001b[0m \u001b[0;36m0\u001b[0m\u001b[0;34m:\u001b[0m\u001b[0;34m\u001b[0m\u001b[0;34m\u001b[0m\u001b[0m\n\u001b[0;32m---> 63\u001b[0;31m                 \u001b[0;32mreturn\u001b[0m \u001b[0mf\u001b[0m\u001b[0;34m(\u001b[0m\u001b[0;34m*\u001b[0m\u001b[0margs\u001b[0m\u001b[0;34m,\u001b[0m \u001b[0;34m**\u001b[0m\u001b[0mkwargs\u001b[0m\u001b[0;34m)\u001b[0m\u001b[0;34m\u001b[0m\u001b[0;34m\u001b[0m\u001b[0m\n\u001b[0m\u001b[1;32m     64\u001b[0m \u001b[0;34m\u001b[0m\u001b[0m\n\u001b[1;32m     65\u001b[0m             \u001b[0;31m# extra_args > 0\u001b[0m\u001b[0;34m\u001b[0m\u001b[0;34m\u001b[0m\u001b[0;34m\u001b[0m\u001b[0m\n",
      "\u001b[0;32m~/opt/anaconda3/envs/pythondata/lib/python3.7/site-packages/sklearn/utils/validation.py\u001b[0m in \u001b[0;36mcheck_array\u001b[0;34m(array, accept_sparse, accept_large_sparse, dtype, order, copy, force_all_finite, ensure_2d, allow_nd, ensure_min_samples, ensure_min_features, estimator)\u001b[0m\n\u001b[1;32m    614\u001b[0m                     \u001b[0marray\u001b[0m \u001b[0;34m=\u001b[0m \u001b[0marray\u001b[0m\u001b[0;34m.\u001b[0m\u001b[0mastype\u001b[0m\u001b[0;34m(\u001b[0m\u001b[0mdtype\u001b[0m\u001b[0;34m,\u001b[0m \u001b[0mcasting\u001b[0m\u001b[0;34m=\u001b[0m\u001b[0;34m\"unsafe\"\u001b[0m\u001b[0;34m,\u001b[0m \u001b[0mcopy\u001b[0m\u001b[0;34m=\u001b[0m\u001b[0;32mFalse\u001b[0m\u001b[0;34m)\u001b[0m\u001b[0;34m\u001b[0m\u001b[0;34m\u001b[0m\u001b[0m\n\u001b[1;32m    615\u001b[0m                 \u001b[0;32melse\u001b[0m\u001b[0;34m:\u001b[0m\u001b[0;34m\u001b[0m\u001b[0;34m\u001b[0m\u001b[0m\n\u001b[0;32m--> 616\u001b[0;31m                     \u001b[0marray\u001b[0m \u001b[0;34m=\u001b[0m \u001b[0mnp\u001b[0m\u001b[0;34m.\u001b[0m\u001b[0masarray\u001b[0m\u001b[0;34m(\u001b[0m\u001b[0marray\u001b[0m\u001b[0;34m,\u001b[0m \u001b[0morder\u001b[0m\u001b[0;34m=\u001b[0m\u001b[0morder\u001b[0m\u001b[0;34m,\u001b[0m \u001b[0mdtype\u001b[0m\u001b[0;34m=\u001b[0m\u001b[0mdtype\u001b[0m\u001b[0;34m)\u001b[0m\u001b[0;34m\u001b[0m\u001b[0;34m\u001b[0m\u001b[0m\n\u001b[0m\u001b[1;32m    617\u001b[0m             \u001b[0;32mexcept\u001b[0m \u001b[0mComplexWarning\u001b[0m \u001b[0;32mas\u001b[0m \u001b[0mcomplex_warning\u001b[0m\u001b[0;34m:\u001b[0m\u001b[0;34m\u001b[0m\u001b[0;34m\u001b[0m\u001b[0m\n\u001b[1;32m    618\u001b[0m                 raise ValueError(\"Complex data not supported\\n\"\n",
      "\u001b[0;32m~/opt/anaconda3/envs/pythondata/lib/python3.7/site-packages/numpy/core/_asarray.py\u001b[0m in \u001b[0;36masarray\u001b[0;34m(a, dtype, order)\u001b[0m\n\u001b[1;32m     83\u001b[0m \u001b[0;34m\u001b[0m\u001b[0m\n\u001b[1;32m     84\u001b[0m     \"\"\"\n\u001b[0;32m---> 85\u001b[0;31m     \u001b[0;32mreturn\u001b[0m \u001b[0marray\u001b[0m\u001b[0;34m(\u001b[0m\u001b[0ma\u001b[0m\u001b[0;34m,\u001b[0m \u001b[0mdtype\u001b[0m\u001b[0;34m,\u001b[0m \u001b[0mcopy\u001b[0m\u001b[0;34m=\u001b[0m\u001b[0;32mFalse\u001b[0m\u001b[0;34m,\u001b[0m \u001b[0morder\u001b[0m\u001b[0;34m=\u001b[0m\u001b[0morder\u001b[0m\u001b[0;34m)\u001b[0m\u001b[0;34m\u001b[0m\u001b[0;34m\u001b[0m\u001b[0m\n\u001b[0m\u001b[1;32m     86\u001b[0m \u001b[0;34m\u001b[0m\u001b[0m\n\u001b[1;32m     87\u001b[0m \u001b[0;34m\u001b[0m\u001b[0m\n",
      "\u001b[0;31mValueError\u001b[0m: could not convert string to float: 'DC'"
     ]
    }
   ],
   "source": [
    "lin_reg = LinearRegression(normalize=True)\n",
    "lin_reg.fit(X_train,y_train)"
   ]
  },
  {
   "cell_type": "code",
   "execution_count": null,
   "id": "2afa6988",
   "metadata": {},
   "outputs": [],
   "source": []
  },
  {
   "cell_type": "code",
   "execution_count": null,
   "id": "eb948225",
   "metadata": {},
   "outputs": [],
   "source": []
  },
  {
   "cell_type": "code",
   "execution_count": 65,
   "id": "7e4eb832",
   "metadata": {},
   "outputs": [
    {
     "name": "stdout",
     "output_type": "stream",
     "text": [
      "number of test samples : 42\n",
      "number of training samples: 238\n"
     ]
    }
   ],
   "source": [
    "print(\"number of test samples :\", X_test.shape[0])\n",
    "print(\"number of training samples:\",X_train.shape[0])"
   ]
  },
  {
   "cell_type": "code",
   "execution_count": 54,
   "id": "7adf8811",
   "metadata": {},
   "outputs": [],
   "source": [
    "from sklearn import metrics\n",
    "from sklearn.model_selection import cross_val_score\n",
    "\n",
    "def cross_val(model):\n",
    "    pred = cross_val_score(model, X, y, cv=10)\n",
    "    return pred.mean()\n"
   ]
  },
  {
   "cell_type": "code",
   "execution_count": 57,
   "id": "83299da0",
   "metadata": {},
   "outputs": [],
   "source": [
    "\n",
    "def print_evaluate(true, predicted):  \n",
    "    mae = metrics.mean_absolute_error(true, predicted)\n",
    "    mse = metrics.mean_squared_error(true, predicted)\n",
    "    rmse = np.sqrt(metrics.mean_squared_error(true, predicted))\n",
    "    r2_square = metrics.r2_score(true, predicted)\n",
    "    print('MAE:', mae)\n",
    "    print('MSE:', mse)\n",
    "    print('RMSE:', rmse)\n",
    "    print('R2 Square', r2_square)\n",
    "    print('__________________________________')\n",
    " "
   ]
  },
  {
   "cell_type": "code",
   "execution_count": 58,
   "id": "5ed95ea1",
   "metadata": {},
   "outputs": [
    {
     "ename": "NameError",
     "evalue": "name 'yhat' is not defined",
     "output_type": "error",
     "traceback": [
      "\u001b[0;31m---------------------------------------------------------------------------\u001b[0m",
      "\u001b[0;31mNameError\u001b[0m                                 Traceback (most recent call last)",
      "\u001b[0;32m<ipython-input-58-f56f41219c64>\u001b[0m in \u001b[0;36m<module>\u001b[0;34m\u001b[0m\n\u001b[0;32m----> 1\u001b[0;31m \u001b[0mmae\u001b[0m \u001b[0;34m=\u001b[0m \u001b[0mmetrics\u001b[0m\u001b[0;34m.\u001b[0m\u001b[0mmean_absolute_error\u001b[0m\u001b[0;34m(\u001b[0m\u001b[0my\u001b[0m\u001b[0;34m,\u001b[0m \u001b[0myhat\u001b[0m\u001b[0;34m)\u001b[0m\u001b[0;34m\u001b[0m\u001b[0;34m\u001b[0m\u001b[0m\n\u001b[0m\u001b[1;32m      2\u001b[0m \u001b[0mmse\u001b[0m \u001b[0;34m=\u001b[0m \u001b[0mmetrics\u001b[0m\u001b[0;34m.\u001b[0m\u001b[0mmean_squared_error\u001b[0m\u001b[0;34m(\u001b[0m\u001b[0my\u001b[0m\u001b[0;34m,\u001b[0m \u001b[0myhat\u001b[0m\u001b[0;34m)\u001b[0m\u001b[0;34m\u001b[0m\u001b[0;34m\u001b[0m\u001b[0m\n\u001b[1;32m      3\u001b[0m \u001b[0mrmse\u001b[0m \u001b[0;34m=\u001b[0m \u001b[0mnp\u001b[0m\u001b[0;34m.\u001b[0m\u001b[0msqrt\u001b[0m\u001b[0;34m(\u001b[0m\u001b[0mmse\u001b[0m\u001b[0;34m)\u001b[0m \u001b[0;31m# or mse**(0.5)\u001b[0m\u001b[0;34m\u001b[0m\u001b[0;34m\u001b[0m\u001b[0m\n\u001b[1;32m      4\u001b[0m \u001b[0mr2\u001b[0m \u001b[0;34m=\u001b[0m \u001b[0mmetrics\u001b[0m\u001b[0;34m.\u001b[0m\u001b[0mr2_score\u001b[0m\u001b[0;34m(\u001b[0m\u001b[0my\u001b[0m\u001b[0;34m,\u001b[0m\u001b[0myhat\u001b[0m\u001b[0;34m)\u001b[0m\u001b[0;34m\u001b[0m\u001b[0;34m\u001b[0m\u001b[0m\n\u001b[1;32m      5\u001b[0m \u001b[0;34m\u001b[0m\u001b[0m\n",
      "\u001b[0;31mNameError\u001b[0m: name 'yhat' is not defined"
     ]
    }
   ],
   "source": [
    "mae = metrics.mean_absolute_error(y, yhat)\n",
    "mse = metrics.mean_squared_error(y, yhat)\n",
    "rmse = np.sqrt(mse) # or mse**(0.5)  \n",
    "r2 = metrics.r2_score(y,yhat)\n",
    "\n",
    "print(\"Results of sklearn.metrics:\")\n",
    "print(\"MAE:\",mae)\n",
    "print(\"MSE:\", mse)\n",
    "print(\"RMSE:\", rmse)\n",
    "print(\"R-Squared:\", r2)"
   ]
  },
  {
   "cell_type": "code",
   "execution_count": null,
   "id": "e27537c0",
   "metadata": {},
   "outputs": [],
   "source": [
    "   \n",
    "def evaluate(true, predicted):\n",
    "    mae = metrics.mean_absolute_error(true, predicted)\n",
    "    mse = metrics.mean_squared_error(true, predicted)\n",
    "    rmse = np.sqrt(metrics.mean_squared_error(true, predicted))\n",
    "    r2_square = metrics.r2_score(true, predicted)\n",
    "    return mae, mse, rmse, r2_square"
   ]
  },
  {
   "cell_type": "code",
   "execution_count": null,
   "id": "e6d0826d",
   "metadata": {},
   "outputs": [],
   "source": []
  },
  {
   "cell_type": "code",
   "execution_count": 46,
   "id": "d159923b",
   "metadata": {},
   "outputs": [],
   "source": [
    "from sklearn.preprocessing import StandardScaler\n",
    "from sklearn.pipeline import Pipeline\n",
    "\n",
    "pipeline = Pipeline([\n",
    "    ('std_scalar', StandardScaler())\n",
    "])\n",
    "\n",
    "X_train = pipeline.fit_transform(X_train)\n",
    "X_test = pipeline.transform(X_test)"
   ]
  },
  {
   "cell_type": "code",
   "execution_count": 47,
   "id": "a17c65a6",
   "metadata": {},
   "outputs": [
    {
     "data": {
      "text/plain": [
       "LinearRegression(normalize=True)"
      ]
     },
     "execution_count": 47,
     "metadata": {},
     "output_type": "execute_result"
    }
   ],
   "source": [
    "from sklearn.linear_model import LinearRegression\n",
    "\n",
    "lin_reg = LinearRegression(normalize=True)\n",
    "lin_reg.fit(X_train,y_train)\n",
    "\n"
   ]
  },
  {
   "cell_type": "code",
   "execution_count": 51,
   "id": "d4ac46d8",
   "metadata": {},
   "outputs": [
    {
     "name": "stdout",
     "output_type": "stream",
     "text": [
      "687.3003361344532\n"
     ]
    }
   ],
   "source": [
    "# print the intercept \n",
    "print(lin_reg.intercept_)"
   ]
  },
  {
   "cell_type": "code",
   "execution_count": 49,
   "id": "64aae95e",
   "metadata": {},
   "outputs": [
    {
     "data": {
      "text/html": [
       "<div>\n",
       "<style scoped>\n",
       "    .dataframe tbody tr th:only-of-type {\n",
       "        vertical-align: middle;\n",
       "    }\n",
       "\n",
       "    .dataframe tbody tr th {\n",
       "        vertical-align: top;\n",
       "    }\n",
       "\n",
       "    .dataframe thead th {\n",
       "        text-align: right;\n",
       "    }\n",
       "</style>\n",
       "<table border=\"1\" class=\"dataframe\">\n",
       "  <thead>\n",
       "    <tr style=\"text-align: right;\">\n",
       "      <th></th>\n",
       "      <th>Coefficient</th>\n",
       "    </tr>\n",
       "  </thead>\n",
       "  <tbody>\n",
       "    <tr>\n",
       "      <th>Population</th>\n",
       "      <td>127.883932</td>\n",
       "    </tr>\n",
       "    <tr>\n",
       "      <th>Year</th>\n",
       "      <td>37.852306</td>\n",
       "    </tr>\n",
       "  </tbody>\n",
       "</table>\n",
       "</div>"
      ],
      "text/plain": [
       "            Coefficient\n",
       "Population   127.883932\n",
       "Year          37.852306"
      ]
     },
     "execution_count": 49,
     "metadata": {},
     "output_type": "execute_result"
    }
   ],
   "source": [
    "coeff_df = pd.DataFrame(lin_reg.coef_, X.columns, columns=['Coefficient'])\n",
    "coeff_df"
   ]
  },
  {
   "cell_type": "code",
   "execution_count": null,
   "id": "6e9140f1",
   "metadata": {},
   "outputs": [],
   "source": [
    "# For every one-unit increase in [Population], \n",
    "# the odds that the observation in [Studio Prices] are [coefficient] times as large as\n",
    "# the odds that the observation is not in (y class) when all other variables are held \n",
    "# constant."
   ]
  },
  {
   "cell_type": "code",
   "execution_count": null,
   "id": "1fdff443",
   "metadata": {},
   "outputs": [],
   "source": []
  },
  {
   "cell_type": "code",
   "execution_count": null,
   "id": "cad1541e",
   "metadata": {},
   "outputs": [],
   "source": [
    "lre=LinearRegression()\n",
    "lre.fit(x_train[['Population']], y_train)\n",
    "lre.score(x_test[['Population']], y_test)"
   ]
  },
  {
   "cell_type": "code",
   "execution_count": null,
   "id": "ccb4cde9",
   "metadata": {},
   "outputs": [],
   "source": []
  },
  {
   "cell_type": "code",
   "execution_count": null,
   "id": "bb917d62",
   "metadata": {},
   "outputs": [],
   "source": []
  },
  {
   "cell_type": "code",
   "execution_count": 8,
   "id": "62e03907",
   "metadata": {},
   "outputs": [
    {
     "data": {
      "text/plain": [
       "0.3620817833909957"
      ]
     },
     "execution_count": 8,
     "metadata": {},
     "output_type": "execute_result"
    }
   ],
   "source": [
    "X = rental_data_df[['Studio']]\n",
    "Y = rental_data_df['Population']\n",
    "lm = LinearRegression()\n",
    "lm\n",
    "lm.fit(X,Y)\n",
    "lm.score(X, Y)"
   ]
  },
  {
   "cell_type": "code",
   "execution_count": null,
   "id": "2d1585bd",
   "metadata": {},
   "outputs": [],
   "source": [
    "y_data = CFMR22_df['Studio']\n",
    "\n",
    "x_data=CFMR22_df.drop('Studio',axis=1)\n",
    "\n",
    "from sklearn.model_selection import train_test_split\n",
    "\n",
    "x_train, x_test, y_train, y_test = train_test_split(x_data, y_data, test_size=0.15, random_state=1)\n",
    "\n",
    "\n",
    "print(\"number of test samples :\", x_test.shape[0])\n",
    "print(\"number of training samples:\",x_train.shape[0])\n",
    "\n",
    "lre=LinearRegression()\n",
    "\n",
    "lre.fit(x_train[['Population']], y_train)\n",
    "lre.score(x_test[['Population']], y_test)"
   ]
  },
  {
   "cell_type": "code",
   "execution_count": null,
   "id": "e9c47353",
   "metadata": {},
   "outputs": [],
   "source": []
  },
  {
   "cell_type": "code",
   "execution_count": null,
   "id": "9c49fea1",
   "metadata": {},
   "outputs": [],
   "source": []
  },
  {
   "cell_type": "code",
   "execution_count": null,
   "id": "6b56e0d2",
   "metadata": {},
   "outputs": [],
   "source": []
  },
  {
   "cell_type": "code",
   "execution_count": null,
   "id": "c170f95a",
   "metadata": {},
   "outputs": [],
   "source": []
  },
  {
   "cell_type": "code",
   "execution_count": null,
   "id": "c940c2fa",
   "metadata": {},
   "outputs": [],
   "source": []
  }
 ],
 "metadata": {
  "kernelspec": {
   "display_name": "pythondata",
   "language": "python",
   "name": "pythondata"
  },
  "language_info": {
   "codemirror_mode": {
    "name": "ipython",
    "version": 3
   },
   "file_extension": ".py",
   "mimetype": "text/x-python",
   "name": "python",
   "nbconvert_exporter": "python",
   "pygments_lexer": "ipython3",
   "version": "3.7.10"
  }
 },
 "nbformat": 4,
 "nbformat_minor": 5
}
