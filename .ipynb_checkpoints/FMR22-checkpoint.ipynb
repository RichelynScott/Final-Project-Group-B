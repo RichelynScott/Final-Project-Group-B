{
 "cells": [
  {
   "cell_type": "code",
   "execution_count": 1,
   "id": "92efee60",
   "metadata": {},
   "outputs": [
    {
     "name": "stdout",
     "output_type": "stream",
     "text": [
      "Requirement already satisfied: pyod in /Users/richelynscott/opt/anaconda3/envs/pythondata/lib/python3.7/site-packages (0.9.3)\n",
      "Requirement already satisfied: pyod in /Users/richelynscott/opt/anaconda3/envs/pythondata/lib/python3.7/site-packages (0.9.3)\n",
      "Requirement already satisfied: statsmodels in /Users/richelynscott/opt/anaconda3/envs/pythondata/lib/python3.7/site-packages (from pyod) (0.12.2)\n",
      "Requirement already satisfied: statsmodels in /Users/richelynscott/opt/anaconda3/envs/pythondata/lib/python3.7/site-packages (from pyod) (0.12.2)\n",
      "Requirement already satisfied: matplotlib in /Users/richelynscott/opt/anaconda3/envs/pythondata/lib/python3.7/site-packages (from pyod) (3.1.3)\n",
      "Requirement already satisfied: scikit-learn>=0.20.0 in /Users/richelynscott/opt/anaconda3/envs/pythondata/lib/python3.7/site-packages (from pyod) (0.24.1)\n",
      "Requirement already satisfied: numpy>=1.13 in /Users/richelynscott/opt/anaconda3/envs/pythondata/lib/python3.7/site-packages (from pyod) (1.18.1)\n",
      "Requirement already satisfied: six in /Users/richelynscott/opt/anaconda3/envs/pythondata/lib/python3.7/site-packages (from pyod) (1.15.0)\n",
      "Requirement already satisfied: numba>=0.35 in /Users/richelynscott/opt/anaconda3/envs/pythondata/lib/python3.7/site-packages (from pyod) (0.53.1)\n",
      "Requirement already satisfied: scipy>=1.3.1 in /Users/richelynscott/opt/anaconda3/envs/pythondata/lib/python3.7/site-packages (from pyod) (1.6.2)\n",
      "Requirement already satisfied: joblib in /Users/richelynscott/opt/anaconda3/envs/pythondata/lib/python3.7/site-packages (from pyod) (1.0.1)\n",
      "Requirement already satisfied: setuptools in /Users/richelynscott/opt/anaconda3/envs/pythondata/lib/python3.7/site-packages (from numba>=0.35->pyod) (52.0.0.post20210125)\n",
      "Requirement already satisfied: llvmlite<0.37,>=0.36.0rc1 in /Users/richelynscott/opt/anaconda3/envs/pythondata/lib/python3.7/site-packages (from numba>=0.35->pyod) (0.36.0)\n",
      "Requirement already satisfied: threadpoolctl>=2.0.0 in /Users/richelynscott/opt/anaconda3/envs/pythondata/lib/python3.7/site-packages (from scikit-learn>=0.20.0->pyod) (2.1.0)\n",
      "Requirement already satisfied: cycler>=0.10 in /Users/richelynscott/opt/anaconda3/envs/pythondata/lib/python3.7/site-packages (from matplotlib->pyod) (0.10.0)\n",
      "Requirement already satisfied: python-dateutil>=2.1 in /Users/richelynscott/opt/anaconda3/envs/pythondata/lib/python3.7/site-packages (from matplotlib->pyod) (2.8.1)\n",
      "Requirement already satisfied: pyparsing!=2.0.4,!=2.1.2,!=2.1.6,>=2.0.1 in /Users/richelynscott/opt/anaconda3/envs/pythondata/lib/python3.7/site-packages (from matplotlib->pyod) (2.4.7)\n",
      "Requirement already satisfied: kiwisolver>=1.0.1 in /Users/richelynscott/opt/anaconda3/envs/pythondata/lib/python3.7/site-packages (from matplotlib->pyod) (1.3.1)\n",
      "Requirement already satisfied: patsy>=0.5 in /Users/richelynscott/opt/anaconda3/envs/pythondata/lib/python3.7/site-packages (from statsmodels->pyod) (0.5.1)\n",
      "Requirement already satisfied: pandas>=0.21 in /Users/richelynscott/opt/anaconda3/envs/pythondata/lib/python3.7/site-packages (from statsmodels->pyod) (1.0.3)\n",
      "Requirement already satisfied: pytz>=2017.2 in /Users/richelynscott/opt/anaconda3/envs/pythondata/lib/python3.7/site-packages (from pandas>=0.21->statsmodels->pyod) (2021.1)\n",
      "Requirement already satisfied: matplotlib in /Users/richelynscott/opt/anaconda3/envs/pythondata/lib/python3.7/site-packages (from pyod) (3.1.3)\n",
      "Requirement already satisfied: scikit-learn>=0.20.0 in /Users/richelynscott/opt/anaconda3/envs/pythondata/lib/python3.7/site-packages (from pyod) (0.24.1)\n",
      "Requirement already satisfied: numpy>=1.13 in /Users/richelynscott/opt/anaconda3/envs/pythondata/lib/python3.7/site-packages (from pyod) (1.18.1)\n",
      "Requirement already satisfied: six in /Users/richelynscott/opt/anaconda3/envs/pythondata/lib/python3.7/site-packages (from pyod) (1.15.0)\n",
      "Requirement already satisfied: numba>=0.35 in /Users/richelynscott/opt/anaconda3/envs/pythondata/lib/python3.7/site-packages (from pyod) (0.53.1)\n",
      "Requirement already satisfied: scipy>=1.3.1 in /Users/richelynscott/opt/anaconda3/envs/pythondata/lib/python3.7/site-packages (from pyod) (1.6.2)\n",
      "Requirement already satisfied: joblib in /Users/richelynscott/opt/anaconda3/envs/pythondata/lib/python3.7/site-packages (from pyod) (1.0.1)\n",
      "Requirement already satisfied: setuptools in /Users/richelynscott/opt/anaconda3/envs/pythondata/lib/python3.7/site-packages (from numba>=0.35->pyod) (52.0.0.post20210125)\n",
      "Requirement already satisfied: llvmlite<0.37,>=0.36.0rc1 in /Users/richelynscott/opt/anaconda3/envs/pythondata/lib/python3.7/site-packages (from numba>=0.35->pyod) (0.36.0)\n",
      "Requirement already satisfied: threadpoolctl>=2.0.0 in /Users/richelynscott/opt/anaconda3/envs/pythondata/lib/python3.7/site-packages (from scikit-learn>=0.20.0->pyod) (2.1.0)\n",
      "Requirement already satisfied: cycler>=0.10 in /Users/richelynscott/opt/anaconda3/envs/pythondata/lib/python3.7/site-packages (from matplotlib->pyod) (0.10.0)\n",
      "Requirement already satisfied: python-dateutil>=2.1 in /Users/richelynscott/opt/anaconda3/envs/pythondata/lib/python3.7/site-packages (from matplotlib->pyod) (2.8.1)\n",
      "Requirement already satisfied: pyparsing!=2.0.4,!=2.1.2,!=2.1.6,>=2.0.1 in /Users/richelynscott/opt/anaconda3/envs/pythondata/lib/python3.7/site-packages (from matplotlib->pyod) (2.4.7)\n",
      "Requirement already satisfied: kiwisolver>=1.0.1 in /Users/richelynscott/opt/anaconda3/envs/pythondata/lib/python3.7/site-packages (from matplotlib->pyod) (1.3.1)\n",
      "Requirement already satisfied: patsy>=0.5 in /Users/richelynscott/opt/anaconda3/envs/pythondata/lib/python3.7/site-packages (from statsmodels->pyod) (0.5.1)\n",
      "Requirement already satisfied: pandas>=0.21 in /Users/richelynscott/opt/anaconda3/envs/pythondata/lib/python3.7/site-packages (from statsmodels->pyod) (1.0.3)\n",
      "Requirement already satisfied: pytz>=2017.2 in /Users/richelynscott/opt/anaconda3/envs/pythondata/lib/python3.7/site-packages (from pandas>=0.21->statsmodels->pyod) (2021.1)\n",
      "Note: you may need to restart the kernel to use updated packages.\n",
      "Note: you may need to restart the kernel to use updated packages.\n"
     ]
    }
   ],
   "source": [
    "pip install --upgrade pyod  "
   ]
  },
  {
   "cell_type": "code",
   "execution_count": 2,
   "id": "d5cc04ea",
   "metadata": {},
   "outputs": [
    {
     "name": "stdout",
     "output_type": "stream",
     "text": [
      "Requirement already satisfied: combo in /Users/richelynscott/opt/anaconda3/envs/pythondata/lib/python3.7/site-packages (0.1.2)\n",
      "Requirement already satisfied: scikit-learn>=0.20 in /Users/richelynscott/opt/anaconda3/envs/pythondata/lib/python3.7/site-packages (from combo) (0.24.1)\n",
      "Requirement already satisfied: joblib in /Users/richelynscott/opt/anaconda3/envs/pythondata/lib/python3.7/site-packages (from combo) (1.0.1)\n",
      "Requirement already satisfied: pyod in /Users/richelynscott/opt/anaconda3/envs/pythondata/lib/python3.7/site-packages (from combo) (0.9.3)\n",
      "Requirement already satisfied: matplotlib in /Users/richelynscott/opt/anaconda3/envs/pythondata/lib/python3.7/site-packages (from combo) (3.1.3)\n",
      "Requirement already satisfied: numpy>=1.13 in /Users/richelynscott/opt/anaconda3/envs/pythondata/lib/python3.7/site-packages (from combo) (1.18.1)\n",
      "Requirement already satisfied: scipy in /Users/richelynscott/opt/anaconda3/envs/pythondata/lib/python3.7/site-packages (from combo) (1.6.2)\n",
      "Requirement already satisfied: numba>=0.35 in /Users/richelynscott/opt/anaconda3/envs/pythondata/lib/python3.7/site-packages (from combo) (0.53.1)\n",
      "Requirement already satisfied: setuptools in /Users/richelynscott/opt/anaconda3/envs/pythondata/lib/python3.7/site-packages (from numba>=0.35->combo) (52.0.0.post20210125)\n",
      "Requirement already satisfied: llvmlite<0.37,>=0.36.0rc1 in /Users/richelynscott/opt/anaconda3/envs/pythondata/lib/python3.7/site-packages (from numba>=0.35->combo) (0.36.0)\n",
      "Requirement already satisfied: threadpoolctl>=2.0.0 in /Users/richelynscott/opt/anaconda3/envs/pythondata/lib/python3.7/site-packages (from scikit-learn>=0.20->combo) (2.1.0)\n",
      "Requirement already satisfied: python-dateutil>=2.1 in /Users/richelynscott/opt/anaconda3/envs/pythondata/lib/python3.7/site-packages (from matplotlib->combo) (2.8.1)\n",
      "Requirement already satisfied: kiwisolver>=1.0.1 in /Users/richelynscott/opt/anaconda3/envs/pythondata/lib/python3.7/site-packages (from matplotlib->combo) (1.3.1)\n",
      "Requirement already satisfied: cycler>=0.10 in /Users/richelynscott/opt/anaconda3/envs/pythondata/lib/python3.7/site-packages (from matplotlib->combo) (0.10.0)\n",
      "Requirement already satisfied: pyparsing!=2.0.4,!=2.1.2,!=2.1.6,>=2.0.1 in /Users/richelynscott/opt/anaconda3/envs/pythondata/lib/python3.7/site-packages (from matplotlib->combo) (2.4.7)\n",
      "Requirement already satisfied: six in /Users/richelynscott/opt/anaconda3/envs/pythondata/lib/python3.7/site-packages (from cycler>=0.10->matplotlib->combo) (1.15.0)\n",
      "Requirement already satisfied: combo in /Users/richelynscott/opt/anaconda3/envs/pythondata/lib/python3.7/site-packages (0.1.2)\n",
      "Requirement already satisfied: scikit-learn>=0.20 in /Users/richelynscott/opt/anaconda3/envs/pythondata/lib/python3.7/site-packages (from combo) (0.24.1)\n",
      "Requirement already satisfied: joblib in /Users/richelynscott/opt/anaconda3/envs/pythondata/lib/python3.7/site-packages (from combo) (1.0.1)\n",
      "Requirement already satisfied: pyod in /Users/richelynscott/opt/anaconda3/envs/pythondata/lib/python3.7/site-packages (from combo) (0.9.3)\n",
      "Requirement already satisfied: matplotlib in /Users/richelynscott/opt/anaconda3/envs/pythondata/lib/python3.7/site-packages (from combo) (3.1.3)\n",
      "Requirement already satisfied: numpy>=1.13 in /Users/richelynscott/opt/anaconda3/envs/pythondata/lib/python3.7/site-packages (from combo) (1.18.1)\n",
      "Requirement already satisfied: scipy in /Users/richelynscott/opt/anaconda3/envs/pythondata/lib/python3.7/site-packages (from combo) (1.6.2)\n",
      "Requirement already satisfied: numba>=0.35 in /Users/richelynscott/opt/anaconda3/envs/pythondata/lib/python3.7/site-packages (from combo) (0.53.1)\n",
      "Requirement already satisfied: setuptools in /Users/richelynscott/opt/anaconda3/envs/pythondata/lib/python3.7/site-packages (from numba>=0.35->combo) (52.0.0.post20210125)\n",
      "Requirement already satisfied: llvmlite<0.37,>=0.36.0rc1 in /Users/richelynscott/opt/anaconda3/envs/pythondata/lib/python3.7/site-packages (from numba>=0.35->combo) (0.36.0)\n",
      "Requirement already satisfied: threadpoolctl>=2.0.0 in /Users/richelynscott/opt/anaconda3/envs/pythondata/lib/python3.7/site-packages (from scikit-learn>=0.20->combo) (2.1.0)\n",
      "Requirement already satisfied: python-dateutil>=2.1 in /Users/richelynscott/opt/anaconda3/envs/pythondata/lib/python3.7/site-packages (from matplotlib->combo) (2.8.1)\n",
      "Requirement already satisfied: kiwisolver>=1.0.1 in /Users/richelynscott/opt/anaconda3/envs/pythondata/lib/python3.7/site-packages (from matplotlib->combo) (1.3.1)\n",
      "Requirement already satisfied: cycler>=0.10 in /Users/richelynscott/opt/anaconda3/envs/pythondata/lib/python3.7/site-packages (from matplotlib->combo) (0.10.0)\n",
      "Requirement already satisfied: pyparsing!=2.0.4,!=2.1.2,!=2.1.6,>=2.0.1 in /Users/richelynscott/opt/anaconda3/envs/pythondata/lib/python3.7/site-packages (from matplotlib->combo) (2.4.7)\n",
      "Requirement already satisfied: six in /Users/richelynscott/opt/anaconda3/envs/pythondata/lib/python3.7/site-packages (from cycler>=0.10->matplotlib->combo) (1.15.0)\n",
      "Requirement already satisfied: statsmodels in /Users/richelynscott/opt/anaconda3/envs/pythondata/lib/python3.7/site-packages (from pyod->combo) (0.12.2)\n",
      "Requirement already satisfied: patsy>=0.5 in /Users/richelynscott/opt/anaconda3/envs/pythondata/lib/python3.7/site-packages (from statsmodels->pyod->combo) (0.5.1)\n",
      "Requirement already satisfied: pandas>=0.21 in /Users/richelynscott/opt/anaconda3/envs/pythondata/lib/python3.7/site-packages (from statsmodels->pyod->combo) (1.0.3)\n",
      "Requirement already satisfied: pytz>=2017.2 in /Users/richelynscott/opt/anaconda3/envs/pythondata/lib/python3.7/site-packages (from pandas>=0.21->statsmodels->pyod->combo) (2021.1)\n",
      "Requirement already satisfied: statsmodels in /Users/richelynscott/opt/anaconda3/envs/pythondata/lib/python3.7/site-packages (from pyod->combo) (0.12.2)\n",
      "Requirement already satisfied: patsy>=0.5 in /Users/richelynscott/opt/anaconda3/envs/pythondata/lib/python3.7/site-packages (from statsmodels->pyod->combo) (0.5.1)\n",
      "Requirement already satisfied: pandas>=0.21 in /Users/richelynscott/opt/anaconda3/envs/pythondata/lib/python3.7/site-packages (from statsmodels->pyod->combo) (1.0.3)\n",
      "Requirement already satisfied: pytz>=2017.2 in /Users/richelynscott/opt/anaconda3/envs/pythondata/lib/python3.7/site-packages (from pandas>=0.21->statsmodels->pyod->combo) (2021.1)\n",
      "Note: you may need to restart the kernel to use updated packages.\n",
      "Note: you may need to restart the kernel to use updated packages.\n"
     ]
    }
   ],
   "source": [
    "pip install combo"
   ]
  },
  {
   "cell_type": "code",
   "execution_count": 3,
   "id": "bc30a458",
   "metadata": {},
   "outputs": [],
   "source": [
    "import numpy as np \n",
    "import pandas as pd \n",
    "\n",
    "import os\n",
    "\n",
    "import seaborn as sns\n",
    "import matplotlib.pyplot as plt\n",
    "import plotly.express as px\n",
    "from plotly.subplots import make_subplots\n",
    "import plotly.graph_objects as go"
   ]
  },
  {
   "cell_type": "code",
   "execution_count": 4,
   "id": "493cf934",
   "metadata": {},
   "outputs": [],
   "source": [
    "from sklearn.model_selection import train_test_split\n",
    "from sklearn.linear_model import Ridge, Lasso, LinearRegression\n",
    "from sklearn.ensemble import RandomForestRegressor\n",
    "from sklearn.preprocessing import StandardScaler, OneHotEncoder\n",
    "from sklearn.compose import make_column_transformer, ColumnTransformer\n",
    "from sklearn.pipeline import make_pipeline\n",
    "from sklearn.neural_network import MLPRegressor\n",
    "\n",
    "from scipy.stats.mstats import winsorize"
   ]
  },
  {
   "cell_type": "code",
   "execution_count": 5,
   "id": "5eef38bf",
   "metadata": {},
   "outputs": [],
   "source": [
    "from pyod.models.feature_bagging import FeatureBagging\n",
    "from pyod.models.lof import LOF"
   ]
  },
  {
   "cell_type": "code",
   "execution_count": 6,
   "id": "5f4225a9",
   "metadata": {},
   "outputs": [
    {
     "name": "stdout",
     "output_type": "stream",
     "text": [
      "Requirement already satisfied: xgboost in /Users/richelynscott/opt/anaconda3/envs/pythondata/lib/python3.7/site-packages (1.4.2)\n",
      "Requirement already satisfied: scipy in /Users/richelynscott/opt/anaconda3/envs/pythondata/lib/python3.7/site-packages (from xgboost) (1.6.2)\n",
      "Requirement already satisfied: numpy in /Users/richelynscott/opt/anaconda3/envs/pythondata/lib/python3.7/site-packages (from xgboost) (1.18.1)\n",
      "Requirement already satisfied: xgboost in /Users/richelynscott/opt/anaconda3/envs/pythondata/lib/python3.7/site-packages (1.4.2)\n",
      "Requirement already satisfied: scipy in /Users/richelynscott/opt/anaconda3/envs/pythondata/lib/python3.7/site-packages (from xgboost) (1.6.2)\n",
      "Requirement already satisfied: numpy in /Users/richelynscott/opt/anaconda3/envs/pythondata/lib/python3.7/site-packages (from xgboost) (1.18.1)\n",
      "Note: you may need to restart the kernel to use updated packages.\n",
      "Note: you may need to restart the kernel to use updated packages.\n"
     ]
    }
   ],
   "source": [
    "pip install xgboost"
   ]
  },
  {
   "cell_type": "code",
   "execution_count": 7,
   "id": "223bf285",
   "metadata": {},
   "outputs": [
    {
     "name": "stdout",
     "output_type": "stream",
     "text": [
      "Requirement already satisfied: catboost in /Users/richelynscott/opt/anaconda3/envs/pythondata/lib/python3.7/site-packages (0.26.1)\n",
      "Requirement already satisfied: numpy>=1.16.0 in /Users/richelynscott/opt/anaconda3/envs/pythondata/lib/python3.7/site-packages (from catboost) (1.18.1)\n",
      "Requirement already satisfied: pandas>=0.24.0 in /Users/richelynscott/opt/anaconda3/envs/pythondata/lib/python3.7/site-packages (from catboost) (1.0.3)\n",
      "Requirement already satisfied: six in /Users/richelynscott/opt/anaconda3/envs/pythondata/lib/python3.7/site-packages (from catboost) (1.15.0)\n",
      "Requirement already satisfied: matplotlib in /Users/richelynscott/opt/anaconda3/envs/pythondata/lib/python3.7/site-packages (from catboost) (3.1.3)\n",
      "Requirement already satisfied: plotly in /Users/richelynscott/opt/anaconda3/envs/pythondata/lib/python3.7/site-packages (from catboost) (5.1.0)\n",
      "Requirement already satisfied: graphviz in /Users/richelynscott/opt/anaconda3/envs/pythondata/lib/python3.7/site-packages (from catboost) (0.17)\n",
      "Requirement already satisfied: scipy in /Users/richelynscott/opt/anaconda3/envs/pythondata/lib/python3.7/site-packages (from catboost) (1.6.2)\n",
      "Requirement already satisfied: pytz>=2017.2 in /Users/richelynscott/opt/anaconda3/envs/pythondata/lib/python3.7/site-packages (from pandas>=0.24.0->catboost) (2021.1)\n",
      "Requirement already satisfied: python-dateutil>=2.6.1 in /Users/richelynscott/opt/anaconda3/envs/pythondata/lib/python3.7/site-packages (from pandas>=0.24.0->catboost) (2.8.1)\n",
      "Requirement already satisfied: pyparsing!=2.0.4,!=2.1.2,!=2.1.6,>=2.0.1 in /Users/richelynscott/opt/anaconda3/envs/pythondata/lib/python3.7/site-packages (from matplotlib->catboost) (2.4.7)\n",
      "Requirement already satisfied: kiwisolver>=1.0.1 in /Users/richelynscott/opt/anaconda3/envs/pythondata/lib/python3.7/site-packages (from matplotlib->catboost) (1.3.1)\n",
      "Requirement already satisfied: cycler>=0.10 in /Users/richelynscott/opt/anaconda3/envs/pythondata/lib/python3.7/site-packages (from matplotlib->catboost) (0.10.0)\n",
      "Requirement already satisfied: tenacity>=6.2.0 in /Users/richelynscott/opt/anaconda3/envs/pythondata/lib/python3.7/site-packages (from plotly->catboost) (8.0.1)\n",
      "Requirement already satisfied: catboost in /Users/richelynscott/opt/anaconda3/envs/pythondata/lib/python3.7/site-packages (0.26.1)\n",
      "Requirement already satisfied: numpy>=1.16.0 in /Users/richelynscott/opt/anaconda3/envs/pythondata/lib/python3.7/site-packages (from catboost) (1.18.1)\n",
      "Requirement already satisfied: pandas>=0.24.0 in /Users/richelynscott/opt/anaconda3/envs/pythondata/lib/python3.7/site-packages (from catboost) (1.0.3)\n",
      "Requirement already satisfied: six in /Users/richelynscott/opt/anaconda3/envs/pythondata/lib/python3.7/site-packages (from catboost) (1.15.0)\n",
      "Requirement already satisfied: matplotlib in /Users/richelynscott/opt/anaconda3/envs/pythondata/lib/python3.7/site-packages (from catboost) (3.1.3)\n",
      "Requirement already satisfied: plotly in /Users/richelynscott/opt/anaconda3/envs/pythondata/lib/python3.7/site-packages (from catboost) (5.1.0)\n",
      "Requirement already satisfied: graphviz in /Users/richelynscott/opt/anaconda3/envs/pythondata/lib/python3.7/site-packages (from catboost) (0.17)\n",
      "Requirement already satisfied: scipy in /Users/richelynscott/opt/anaconda3/envs/pythondata/lib/python3.7/site-packages (from catboost) (1.6.2)\n",
      "Requirement already satisfied: pytz>=2017.2 in /Users/richelynscott/opt/anaconda3/envs/pythondata/lib/python3.7/site-packages (from pandas>=0.24.0->catboost) (2021.1)\n",
      "Requirement already satisfied: python-dateutil>=2.6.1 in /Users/richelynscott/opt/anaconda3/envs/pythondata/lib/python3.7/site-packages (from pandas>=0.24.0->catboost) (2.8.1)\n",
      "Requirement already satisfied: pyparsing!=2.0.4,!=2.1.2,!=2.1.6,>=2.0.1 in /Users/richelynscott/opt/anaconda3/envs/pythondata/lib/python3.7/site-packages (from matplotlib->catboost) (2.4.7)\n",
      "Requirement already satisfied: kiwisolver>=1.0.1 in /Users/richelynscott/opt/anaconda3/envs/pythondata/lib/python3.7/site-packages (from matplotlib->catboost) (1.3.1)\n",
      "Requirement already satisfied: cycler>=0.10 in /Users/richelynscott/opt/anaconda3/envs/pythondata/lib/python3.7/site-packages (from matplotlib->catboost) (0.10.0)\n",
      "Requirement already satisfied: tenacity>=6.2.0 in /Users/richelynscott/opt/anaconda3/envs/pythondata/lib/python3.7/site-packages (from plotly->catboost) (8.0.1)\n",
      "Note: you may need to restart the kernel to use updated packages.\n",
      "Note: you may need to restart the kernel to use updated packages.\n"
     ]
    }
   ],
   "source": [
    "pip install catboost"
   ]
  },
  {
   "cell_type": "code",
   "execution_count": 8,
   "id": "f7874b9a",
   "metadata": {},
   "outputs": [
    {
     "name": "stdout",
     "output_type": "stream",
     "text": [
      "Requirement already satisfied: lightgbm in /Users/richelynscott/opt/anaconda3/envs/pythondata/lib/python3.7/site-packages (3.2.1)\n",
      "Requirement already satisfied: wheel in /Users/richelynscott/opt/anaconda3/envs/pythondata/lib/python3.7/site-packages (from lightgbm) (0.36.2)\n",
      "Requirement already satisfied: scipy in /Users/richelynscott/opt/anaconda3/envs/pythondata/lib/python3.7/site-packages (from lightgbm) (1.6.2)\n",
      "Requirement already satisfied: scikit-learn!=0.22.0 in /Users/richelynscott/opt/anaconda3/envs/pythondata/lib/python3.7/site-packages (from lightgbm) (0.24.1)\n",
      "Requirement already satisfied: numpy in /Users/richelynscott/opt/anaconda3/envs/pythondata/lib/python3.7/site-packages (from lightgbm) (1.18.1)\n",
      "Requirement already satisfied: threadpoolctl>=2.0.0 in /Users/richelynscott/opt/anaconda3/envs/pythondata/lib/python3.7/site-packages (from scikit-learn!=0.22.0->lightgbm) (2.1.0)\n",
      "Requirement already satisfied: joblib>=0.11 in /Users/richelynscott/opt/anaconda3/envs/pythondata/lib/python3.7/site-packages (from scikit-learn!=0.22.0->lightgbm) (1.0.1)\n",
      "Requirement already satisfied: lightgbm in /Users/richelynscott/opt/anaconda3/envs/pythondata/lib/python3.7/site-packages (3.2.1)\n",
      "Requirement already satisfied: wheel in /Users/richelynscott/opt/anaconda3/envs/pythondata/lib/python3.7/site-packages (from lightgbm) (0.36.2)\n",
      "Requirement already satisfied: scipy in /Users/richelynscott/opt/anaconda3/envs/pythondata/lib/python3.7/site-packages (from lightgbm) (1.6.2)\n",
      "Requirement already satisfied: scikit-learn!=0.22.0 in /Users/richelynscott/opt/anaconda3/envs/pythondata/lib/python3.7/site-packages (from lightgbm) (0.24.1)\n",
      "Requirement already satisfied: numpy in /Users/richelynscott/opt/anaconda3/envs/pythondata/lib/python3.7/site-packages (from lightgbm) (1.18.1)\n",
      "Requirement already satisfied: threadpoolctl>=2.0.0 in /Users/richelynscott/opt/anaconda3/envs/pythondata/lib/python3.7/site-packages (from scikit-learn!=0.22.0->lightgbm) (2.1.0)\n",
      "Requirement already satisfied: joblib>=0.11 in /Users/richelynscott/opt/anaconda3/envs/pythondata/lib/python3.7/site-packages (from scikit-learn!=0.22.0->lightgbm) (1.0.1)\n",
      "Note: you may need to restart the kernel to use updated packages.\n",
      "Note: you may need to restart the kernel to use updated packages.\n"
     ]
    }
   ],
   "source": [
    "pip install lightgbm "
   ]
  },
  {
   "cell_type": "code",
   "execution_count": 9,
   "id": "61f6d713",
   "metadata": {},
   "outputs": [
    {
     "name": "stdout",
     "output_type": "stream",
     "text": [
      "Collecting package metadata (current_repodata.json): - Collecting package metadata (current_repodata.json): done\n",
      "Solving environment: done\n",
      "Solving environment: done\n",
      "done\n",
      "\n",
      "# All requested packages already installed.\n",
      "\n",
      "\n",
      "# All requested packages already installed.\n",
      "\n",
      "\n",
      "Note: you may need to restart the kernel to use updated packages.\n",
      "\n",
      "Note: you may need to restart the kernel to use updated packages.\n"
     ]
    }
   ],
   "source": [
    "conda install py-xgboost"
   ]
  },
  {
   "cell_type": "code",
   "execution_count": 10,
   "id": "d54a0154",
   "metadata": {},
   "outputs": [
    {
     "ename": "OSError",
     "evalue": "dlopen(/Users/richelynscott/opt/anaconda3/envs/pythondata/lib/python3.7/site-packages/lightgbm/lib_lightgbm.so, 6): Library not loaded: /usr/local/opt/libomp/lib/libomp.dylib\n  Referenced from: /Users/richelynscott/opt/anaconda3/envs/PythonData/lib/python3.7/site-packages/lightgbm/lib_lightgbm.so\n  Reason: image not found",
     "output_type": "error",
     "traceback": [
      "\u001b[0;31m---------------------------------------------------------------------------\u001b[0m",
      "\u001b[0;31mOSError\u001b[0m                                   Traceback (most recent call last)",
      "\u001b[0;32m<ipython-input-10-6908a34402e8>\u001b[0m in \u001b[0;36m<module>\u001b[0;34m\u001b[0m\n\u001b[1;32m      1\u001b[0m \u001b[0;32mfrom\u001b[0m \u001b[0mxgboost\u001b[0m \u001b[0;32mimport\u001b[0m \u001b[0mXGBRegressor\u001b[0m\u001b[0;34m,\u001b[0m \u001b[0mXGBRFRegressor\u001b[0m\u001b[0;34m\u001b[0m\u001b[0;34m\u001b[0m\u001b[0m\n\u001b[1;32m      2\u001b[0m \u001b[0;32mfrom\u001b[0m \u001b[0mcatboost\u001b[0m \u001b[0;32mimport\u001b[0m \u001b[0mCatBoostRegressor\u001b[0m\u001b[0;34m\u001b[0m\u001b[0;34m\u001b[0m\u001b[0m\n\u001b[0;32m----> 3\u001b[0;31m \u001b[0;32mfrom\u001b[0m \u001b[0mlightgbm\u001b[0m \u001b[0;32mimport\u001b[0m \u001b[0mLGBMRegressor\u001b[0m\u001b[0;34m\u001b[0m\u001b[0;34m\u001b[0m\u001b[0m\n\u001b[0m\u001b[1;32m      4\u001b[0m \u001b[0;32mimport\u001b[0m \u001b[0mcatboost\u001b[0m\u001b[0;34m\u001b[0m\u001b[0;34m\u001b[0m\u001b[0m\n\u001b[1;32m      5\u001b[0m \u001b[0;32mimport\u001b[0m \u001b[0mlightgbm\u001b[0m\u001b[0;34m\u001b[0m\u001b[0;34m\u001b[0m\u001b[0m\n",
      "\u001b[0;32m~/opt/anaconda3/envs/pythondata/lib/python3.7/site-packages/lightgbm/__init__.py\u001b[0m in \u001b[0;36m<module>\u001b[0;34m\u001b[0m\n\u001b[1;32m      6\u001b[0m \u001b[0;32mimport\u001b[0m \u001b[0mos\u001b[0m\u001b[0;34m\u001b[0m\u001b[0;34m\u001b[0m\u001b[0m\n\u001b[1;32m      7\u001b[0m \u001b[0;34m\u001b[0m\u001b[0m\n\u001b[0;32m----> 8\u001b[0;31m \u001b[0;32mfrom\u001b[0m \u001b[0;34m.\u001b[0m\u001b[0mbasic\u001b[0m \u001b[0;32mimport\u001b[0m \u001b[0mBooster\u001b[0m\u001b[0;34m,\u001b[0m \u001b[0mDataset\u001b[0m\u001b[0;34m,\u001b[0m \u001b[0mregister_logger\u001b[0m\u001b[0;34m\u001b[0m\u001b[0;34m\u001b[0m\u001b[0m\n\u001b[0m\u001b[1;32m      9\u001b[0m \u001b[0;32mfrom\u001b[0m \u001b[0;34m.\u001b[0m\u001b[0mcallback\u001b[0m \u001b[0;32mimport\u001b[0m \u001b[0mearly_stopping\u001b[0m\u001b[0;34m,\u001b[0m \u001b[0mprint_evaluation\u001b[0m\u001b[0;34m,\u001b[0m \u001b[0mrecord_evaluation\u001b[0m\u001b[0;34m,\u001b[0m \u001b[0mreset_parameter\u001b[0m\u001b[0;34m\u001b[0m\u001b[0;34m\u001b[0m\u001b[0m\n\u001b[1;32m     10\u001b[0m \u001b[0;32mfrom\u001b[0m \u001b[0;34m.\u001b[0m\u001b[0mengine\u001b[0m \u001b[0;32mimport\u001b[0m \u001b[0mCVBooster\u001b[0m\u001b[0;34m,\u001b[0m \u001b[0mcv\u001b[0m\u001b[0;34m,\u001b[0m \u001b[0mtrain\u001b[0m\u001b[0;34m\u001b[0m\u001b[0;34m\u001b[0m\u001b[0m\n",
      "\u001b[0;32m~/opt/anaconda3/envs/pythondata/lib/python3.7/site-packages/lightgbm/basic.py\u001b[0m in \u001b[0;36m<module>\u001b[0;34m\u001b[0m\n\u001b[1;32m     93\u001b[0m \u001b[0;34m\u001b[0m\u001b[0m\n\u001b[1;32m     94\u001b[0m \u001b[0;34m\u001b[0m\u001b[0m\n\u001b[0;32m---> 95\u001b[0;31m \u001b[0m_LIB\u001b[0m \u001b[0;34m=\u001b[0m \u001b[0m_load_lib\u001b[0m\u001b[0;34m(\u001b[0m\u001b[0;34m)\u001b[0m\u001b[0;34m\u001b[0m\u001b[0;34m\u001b[0m\u001b[0m\n\u001b[0m\u001b[1;32m     96\u001b[0m \u001b[0;34m\u001b[0m\u001b[0m\n\u001b[1;32m     97\u001b[0m \u001b[0;34m\u001b[0m\u001b[0m\n",
      "\u001b[0;32m~/opt/anaconda3/envs/pythondata/lib/python3.7/site-packages/lightgbm/basic.py\u001b[0m in \u001b[0;36m_load_lib\u001b[0;34m()\u001b[0m\n\u001b[1;32m     84\u001b[0m     \u001b[0;32mif\u001b[0m \u001b[0mlen\u001b[0m\u001b[0;34m(\u001b[0m\u001b[0mlib_path\u001b[0m\u001b[0;34m)\u001b[0m \u001b[0;34m==\u001b[0m \u001b[0;36m0\u001b[0m\u001b[0;34m:\u001b[0m\u001b[0;34m\u001b[0m\u001b[0;34m\u001b[0m\u001b[0m\n\u001b[1;32m     85\u001b[0m         \u001b[0;32mreturn\u001b[0m \u001b[0;32mNone\u001b[0m\u001b[0;34m\u001b[0m\u001b[0;34m\u001b[0m\u001b[0m\n\u001b[0;32m---> 86\u001b[0;31m     \u001b[0mlib\u001b[0m \u001b[0;34m=\u001b[0m \u001b[0mctypes\u001b[0m\u001b[0;34m.\u001b[0m\u001b[0mcdll\u001b[0m\u001b[0;34m.\u001b[0m\u001b[0mLoadLibrary\u001b[0m\u001b[0;34m(\u001b[0m\u001b[0mlib_path\u001b[0m\u001b[0;34m[\u001b[0m\u001b[0;36m0\u001b[0m\u001b[0;34m]\u001b[0m\u001b[0;34m)\u001b[0m\u001b[0;34m\u001b[0m\u001b[0;34m\u001b[0m\u001b[0m\n\u001b[0m\u001b[1;32m     87\u001b[0m     \u001b[0mlib\u001b[0m\u001b[0;34m.\u001b[0m\u001b[0mLGBM_GetLastError\u001b[0m\u001b[0;34m.\u001b[0m\u001b[0mrestype\u001b[0m \u001b[0;34m=\u001b[0m \u001b[0mctypes\u001b[0m\u001b[0;34m.\u001b[0m\u001b[0mc_char_p\u001b[0m\u001b[0;34m\u001b[0m\u001b[0;34m\u001b[0m\u001b[0m\n\u001b[1;32m     88\u001b[0m     \u001b[0mcallback\u001b[0m \u001b[0;34m=\u001b[0m \u001b[0mctypes\u001b[0m\u001b[0;34m.\u001b[0m\u001b[0mCFUNCTYPE\u001b[0m\u001b[0;34m(\u001b[0m\u001b[0;32mNone\u001b[0m\u001b[0;34m,\u001b[0m \u001b[0mctypes\u001b[0m\u001b[0;34m.\u001b[0m\u001b[0mc_char_p\u001b[0m\u001b[0;34m)\u001b[0m\u001b[0;34m\u001b[0m\u001b[0;34m\u001b[0m\u001b[0m\n",
      "\u001b[0;32m~/opt/anaconda3/envs/pythondata/lib/python3.7/ctypes/__init__.py\u001b[0m in \u001b[0;36mLoadLibrary\u001b[0;34m(self, name)\u001b[0m\n\u001b[1;32m    440\u001b[0m \u001b[0;34m\u001b[0m\u001b[0m\n\u001b[1;32m    441\u001b[0m     \u001b[0;32mdef\u001b[0m \u001b[0mLoadLibrary\u001b[0m\u001b[0;34m(\u001b[0m\u001b[0mself\u001b[0m\u001b[0;34m,\u001b[0m \u001b[0mname\u001b[0m\u001b[0;34m)\u001b[0m\u001b[0;34m:\u001b[0m\u001b[0;34m\u001b[0m\u001b[0;34m\u001b[0m\u001b[0m\n\u001b[0;32m--> 442\u001b[0;31m         \u001b[0;32mreturn\u001b[0m \u001b[0mself\u001b[0m\u001b[0;34m.\u001b[0m\u001b[0m_dlltype\u001b[0m\u001b[0;34m(\u001b[0m\u001b[0mname\u001b[0m\u001b[0;34m)\u001b[0m\u001b[0;34m\u001b[0m\u001b[0;34m\u001b[0m\u001b[0m\n\u001b[0m\u001b[1;32m    443\u001b[0m \u001b[0;34m\u001b[0m\u001b[0m\n\u001b[1;32m    444\u001b[0m \u001b[0mcdll\u001b[0m \u001b[0;34m=\u001b[0m \u001b[0mLibraryLoader\u001b[0m\u001b[0;34m(\u001b[0m\u001b[0mCDLL\u001b[0m\u001b[0;34m)\u001b[0m\u001b[0;34m\u001b[0m\u001b[0;34m\u001b[0m\u001b[0m\n",
      "\u001b[0;32m~/opt/anaconda3/envs/pythondata/lib/python3.7/ctypes/__init__.py\u001b[0m in \u001b[0;36m__init__\u001b[0;34m(self, name, mode, handle, use_errno, use_last_error)\u001b[0m\n\u001b[1;32m    362\u001b[0m \u001b[0;34m\u001b[0m\u001b[0m\n\u001b[1;32m    363\u001b[0m         \u001b[0;32mif\u001b[0m \u001b[0mhandle\u001b[0m \u001b[0;32mis\u001b[0m \u001b[0;32mNone\u001b[0m\u001b[0;34m:\u001b[0m\u001b[0;34m\u001b[0m\u001b[0;34m\u001b[0m\u001b[0m\n\u001b[0;32m--> 364\u001b[0;31m             \u001b[0mself\u001b[0m\u001b[0;34m.\u001b[0m\u001b[0m_handle\u001b[0m \u001b[0;34m=\u001b[0m \u001b[0m_dlopen\u001b[0m\u001b[0;34m(\u001b[0m\u001b[0mself\u001b[0m\u001b[0;34m.\u001b[0m\u001b[0m_name\u001b[0m\u001b[0;34m,\u001b[0m \u001b[0mmode\u001b[0m\u001b[0;34m)\u001b[0m\u001b[0;34m\u001b[0m\u001b[0;34m\u001b[0m\u001b[0m\n\u001b[0m\u001b[1;32m    365\u001b[0m         \u001b[0;32melse\u001b[0m\u001b[0;34m:\u001b[0m\u001b[0;34m\u001b[0m\u001b[0;34m\u001b[0m\u001b[0m\n\u001b[1;32m    366\u001b[0m             \u001b[0mself\u001b[0m\u001b[0;34m.\u001b[0m\u001b[0m_handle\u001b[0m \u001b[0;34m=\u001b[0m \u001b[0mhandle\u001b[0m\u001b[0;34m\u001b[0m\u001b[0;34m\u001b[0m\u001b[0m\n",
      "\u001b[0;31mOSError\u001b[0m: dlopen(/Users/richelynscott/opt/anaconda3/envs/pythondata/lib/python3.7/site-packages/lightgbm/lib_lightgbm.so, 6): Library not loaded: /usr/local/opt/libomp/lib/libomp.dylib\n  Referenced from: /Users/richelynscott/opt/anaconda3/envs/PythonData/lib/python3.7/site-packages/lightgbm/lib_lightgbm.so\n  Reason: image not found"
     ]
    },
    {
     "ename": "OSError",
     "evalue": "dlopen(/Users/richelynscott/opt/anaconda3/envs/pythondata/lib/python3.7/site-packages/lightgbm/lib_lightgbm.so, 6): Library not loaded: /usr/local/opt/libomp/lib/libomp.dylib\n  Referenced from: /Users/richelynscott/opt/anaconda3/envs/PythonData/lib/python3.7/site-packages/lightgbm/lib_lightgbm.so\n  Reason: image not found",
     "output_type": "error",
     "traceback": [
      "\u001b[0;31m---------------------------------------------------------------------------\u001b[0m",
      "\u001b[0;31mOSError\u001b[0m                                   Traceback (most recent call last)",
      "\u001b[0;32m<ipython-input-10-6908a34402e8>\u001b[0m in \u001b[0;36m<module>\u001b[0;34m\u001b[0m\n\u001b[1;32m      1\u001b[0m \u001b[0;32mfrom\u001b[0m \u001b[0mxgboost\u001b[0m \u001b[0;32mimport\u001b[0m \u001b[0mXGBRegressor\u001b[0m\u001b[0;34m,\u001b[0m \u001b[0mXGBRFRegressor\u001b[0m\u001b[0;34m\u001b[0m\u001b[0;34m\u001b[0m\u001b[0m\n\u001b[1;32m      2\u001b[0m \u001b[0;32mfrom\u001b[0m \u001b[0mcatboost\u001b[0m \u001b[0;32mimport\u001b[0m \u001b[0mCatBoostRegressor\u001b[0m\u001b[0;34m\u001b[0m\u001b[0;34m\u001b[0m\u001b[0m\n\u001b[0;32m----> 3\u001b[0;31m \u001b[0;32mfrom\u001b[0m \u001b[0mlightgbm\u001b[0m \u001b[0;32mimport\u001b[0m \u001b[0mLGBMRegressor\u001b[0m\u001b[0;34m\u001b[0m\u001b[0;34m\u001b[0m\u001b[0m\n\u001b[0m\u001b[1;32m      4\u001b[0m \u001b[0;32mimport\u001b[0m \u001b[0mcatboost\u001b[0m\u001b[0;34m\u001b[0m\u001b[0;34m\u001b[0m\u001b[0m\n\u001b[1;32m      5\u001b[0m \u001b[0;32mimport\u001b[0m \u001b[0mlightgbm\u001b[0m\u001b[0;34m\u001b[0m\u001b[0;34m\u001b[0m\u001b[0m\n",
      "\u001b[0;32m~/opt/anaconda3/envs/pythondata/lib/python3.7/site-packages/lightgbm/__init__.py\u001b[0m in \u001b[0;36m<module>\u001b[0;34m\u001b[0m\n\u001b[1;32m      6\u001b[0m \u001b[0;32mimport\u001b[0m \u001b[0mos\u001b[0m\u001b[0;34m\u001b[0m\u001b[0;34m\u001b[0m\u001b[0m\n\u001b[1;32m      7\u001b[0m \u001b[0;34m\u001b[0m\u001b[0m\n\u001b[0;32m----> 8\u001b[0;31m \u001b[0;32mfrom\u001b[0m \u001b[0;34m.\u001b[0m\u001b[0mbasic\u001b[0m \u001b[0;32mimport\u001b[0m \u001b[0mBooster\u001b[0m\u001b[0;34m,\u001b[0m \u001b[0mDataset\u001b[0m\u001b[0;34m,\u001b[0m \u001b[0mregister_logger\u001b[0m\u001b[0;34m\u001b[0m\u001b[0;34m\u001b[0m\u001b[0m\n\u001b[0m\u001b[1;32m      9\u001b[0m \u001b[0;32mfrom\u001b[0m \u001b[0;34m.\u001b[0m\u001b[0mcallback\u001b[0m \u001b[0;32mimport\u001b[0m \u001b[0mearly_stopping\u001b[0m\u001b[0;34m,\u001b[0m \u001b[0mprint_evaluation\u001b[0m\u001b[0;34m,\u001b[0m \u001b[0mrecord_evaluation\u001b[0m\u001b[0;34m,\u001b[0m \u001b[0mreset_parameter\u001b[0m\u001b[0;34m\u001b[0m\u001b[0;34m\u001b[0m\u001b[0m\n\u001b[1;32m     10\u001b[0m \u001b[0;32mfrom\u001b[0m \u001b[0;34m.\u001b[0m\u001b[0mengine\u001b[0m \u001b[0;32mimport\u001b[0m \u001b[0mCVBooster\u001b[0m\u001b[0;34m,\u001b[0m \u001b[0mcv\u001b[0m\u001b[0;34m,\u001b[0m \u001b[0mtrain\u001b[0m\u001b[0;34m\u001b[0m\u001b[0;34m\u001b[0m\u001b[0m\n",
      "\u001b[0;32m~/opt/anaconda3/envs/pythondata/lib/python3.7/site-packages/lightgbm/basic.py\u001b[0m in \u001b[0;36m<module>\u001b[0;34m\u001b[0m\n\u001b[1;32m     93\u001b[0m \u001b[0;34m\u001b[0m\u001b[0m\n\u001b[1;32m     94\u001b[0m \u001b[0;34m\u001b[0m\u001b[0m\n\u001b[0;32m---> 95\u001b[0;31m \u001b[0m_LIB\u001b[0m \u001b[0;34m=\u001b[0m \u001b[0m_load_lib\u001b[0m\u001b[0;34m(\u001b[0m\u001b[0;34m)\u001b[0m\u001b[0;34m\u001b[0m\u001b[0;34m\u001b[0m\u001b[0m\n\u001b[0m\u001b[1;32m     96\u001b[0m \u001b[0;34m\u001b[0m\u001b[0m\n\u001b[1;32m     97\u001b[0m \u001b[0;34m\u001b[0m\u001b[0m\n",
      "\u001b[0;32m~/opt/anaconda3/envs/pythondata/lib/python3.7/site-packages/lightgbm/basic.py\u001b[0m in \u001b[0;36m_load_lib\u001b[0;34m()\u001b[0m\n\u001b[1;32m     84\u001b[0m     \u001b[0;32mif\u001b[0m \u001b[0mlen\u001b[0m\u001b[0;34m(\u001b[0m\u001b[0mlib_path\u001b[0m\u001b[0;34m)\u001b[0m \u001b[0;34m==\u001b[0m \u001b[0;36m0\u001b[0m\u001b[0;34m:\u001b[0m\u001b[0;34m\u001b[0m\u001b[0;34m\u001b[0m\u001b[0m\n\u001b[1;32m     85\u001b[0m         \u001b[0;32mreturn\u001b[0m \u001b[0;32mNone\u001b[0m\u001b[0;34m\u001b[0m\u001b[0;34m\u001b[0m\u001b[0m\n\u001b[0;32m---> 86\u001b[0;31m     \u001b[0mlib\u001b[0m \u001b[0;34m=\u001b[0m \u001b[0mctypes\u001b[0m\u001b[0;34m.\u001b[0m\u001b[0mcdll\u001b[0m\u001b[0;34m.\u001b[0m\u001b[0mLoadLibrary\u001b[0m\u001b[0;34m(\u001b[0m\u001b[0mlib_path\u001b[0m\u001b[0;34m[\u001b[0m\u001b[0;36m0\u001b[0m\u001b[0;34m]\u001b[0m\u001b[0;34m)\u001b[0m\u001b[0;34m\u001b[0m\u001b[0;34m\u001b[0m\u001b[0m\n\u001b[0m\u001b[1;32m     87\u001b[0m     \u001b[0mlib\u001b[0m\u001b[0;34m.\u001b[0m\u001b[0mLGBM_GetLastError\u001b[0m\u001b[0;34m.\u001b[0m\u001b[0mrestype\u001b[0m \u001b[0;34m=\u001b[0m \u001b[0mctypes\u001b[0m\u001b[0;34m.\u001b[0m\u001b[0mc_char_p\u001b[0m\u001b[0;34m\u001b[0m\u001b[0;34m\u001b[0m\u001b[0m\n\u001b[1;32m     88\u001b[0m     \u001b[0mcallback\u001b[0m \u001b[0;34m=\u001b[0m \u001b[0mctypes\u001b[0m\u001b[0;34m.\u001b[0m\u001b[0mCFUNCTYPE\u001b[0m\u001b[0;34m(\u001b[0m\u001b[0;32mNone\u001b[0m\u001b[0;34m,\u001b[0m \u001b[0mctypes\u001b[0m\u001b[0;34m.\u001b[0m\u001b[0mc_char_p\u001b[0m\u001b[0;34m)\u001b[0m\u001b[0;34m\u001b[0m\u001b[0;34m\u001b[0m\u001b[0m\n",
      "\u001b[0;32m~/opt/anaconda3/envs/pythondata/lib/python3.7/ctypes/__init__.py\u001b[0m in \u001b[0;36mLoadLibrary\u001b[0;34m(self, name)\u001b[0m\n\u001b[1;32m    440\u001b[0m \u001b[0;34m\u001b[0m\u001b[0m\n\u001b[1;32m    441\u001b[0m     \u001b[0;32mdef\u001b[0m \u001b[0mLoadLibrary\u001b[0m\u001b[0;34m(\u001b[0m\u001b[0mself\u001b[0m\u001b[0;34m,\u001b[0m \u001b[0mname\u001b[0m\u001b[0;34m)\u001b[0m\u001b[0;34m:\u001b[0m\u001b[0;34m\u001b[0m\u001b[0;34m\u001b[0m\u001b[0m\n\u001b[0;32m--> 442\u001b[0;31m         \u001b[0;32mreturn\u001b[0m \u001b[0mself\u001b[0m\u001b[0;34m.\u001b[0m\u001b[0m_dlltype\u001b[0m\u001b[0;34m(\u001b[0m\u001b[0mname\u001b[0m\u001b[0;34m)\u001b[0m\u001b[0;34m\u001b[0m\u001b[0;34m\u001b[0m\u001b[0m\n\u001b[0m\u001b[1;32m    443\u001b[0m \u001b[0;34m\u001b[0m\u001b[0m\n\u001b[1;32m    444\u001b[0m \u001b[0mcdll\u001b[0m \u001b[0;34m=\u001b[0m \u001b[0mLibraryLoader\u001b[0m\u001b[0;34m(\u001b[0m\u001b[0mCDLL\u001b[0m\u001b[0;34m)\u001b[0m\u001b[0;34m\u001b[0m\u001b[0;34m\u001b[0m\u001b[0m\n",
      "\u001b[0;32m~/opt/anaconda3/envs/pythondata/lib/python3.7/ctypes/__init__.py\u001b[0m in \u001b[0;36m__init__\u001b[0;34m(self, name, mode, handle, use_errno, use_last_error)\u001b[0m\n\u001b[1;32m    362\u001b[0m \u001b[0;34m\u001b[0m\u001b[0m\n\u001b[1;32m    363\u001b[0m         \u001b[0;32mif\u001b[0m \u001b[0mhandle\u001b[0m \u001b[0;32mis\u001b[0m \u001b[0;32mNone\u001b[0m\u001b[0;34m:\u001b[0m\u001b[0;34m\u001b[0m\u001b[0;34m\u001b[0m\u001b[0m\n\u001b[0;32m--> 364\u001b[0;31m             \u001b[0mself\u001b[0m\u001b[0;34m.\u001b[0m\u001b[0m_handle\u001b[0m \u001b[0;34m=\u001b[0m \u001b[0m_dlopen\u001b[0m\u001b[0;34m(\u001b[0m\u001b[0mself\u001b[0m\u001b[0;34m.\u001b[0m\u001b[0m_name\u001b[0m\u001b[0;34m,\u001b[0m \u001b[0mmode\u001b[0m\u001b[0;34m)\u001b[0m\u001b[0;34m\u001b[0m\u001b[0;34m\u001b[0m\u001b[0m\n\u001b[0m\u001b[1;32m    365\u001b[0m         \u001b[0;32melse\u001b[0m\u001b[0;34m:\u001b[0m\u001b[0;34m\u001b[0m\u001b[0;34m\u001b[0m\u001b[0m\n\u001b[1;32m    366\u001b[0m             \u001b[0mself\u001b[0m\u001b[0;34m.\u001b[0m\u001b[0m_handle\u001b[0m \u001b[0;34m=\u001b[0m \u001b[0mhandle\u001b[0m\u001b[0;34m\u001b[0m\u001b[0;34m\u001b[0m\u001b[0m\n",
      "\u001b[0;31mOSError\u001b[0m: dlopen(/Users/richelynscott/opt/anaconda3/envs/pythondata/lib/python3.7/site-packages/lightgbm/lib_lightgbm.so, 6): Library not loaded: /usr/local/opt/libomp/lib/libomp.dylib\n  Referenced from: /Users/richelynscott/opt/anaconda3/envs/PythonData/lib/python3.7/site-packages/lightgbm/lib_lightgbm.so\n  Reason: image not found"
     ]
    }
   ],
   "source": [
    "from xgboost import XGBRegressor, XGBRFRegressor\n",
    "from catboost import CatBoostRegressor\n",
    "from lightgbm import LGBMRegressor\n",
    "import catboost\n",
    "import lightgbm"
   ]
  },
  {
   "cell_type": "code",
   "execution_count": null,
   "id": "ff57a109",
   "metadata": {},
   "outputs": [],
   "source": [
    "#CSV to Load\n",
    "FMR_22_data= \"FY22_FMR.csv\"\n",
    "FMR22_df=pd.read_csv(FMR_22_data, na_values=['999.99'])\n",
    "FMR22_df.head()\n",
    "FMR22_df.tail()"
   ]
  },
  {
   "cell_type": "code",
   "execution_count": null,
   "id": "43630008",
   "metadata": {},
   "outputs": [],
   "source": [
    "FMR22_df.info()"
   ]
  },
  {
   "cell_type": "code",
   "execution_count": null,
   "id": "6675ef94",
   "metadata": {},
   "outputs": [],
   "source": [
    "FMR22_df.isnull().sum()"
   ]
  },
  {
   "cell_type": "code",
   "execution_count": null,
   "id": "977da30c",
   "metadata": {},
   "outputs": [],
   "source": [
    "print(\"Categorical Columns:\", list(FMR22_df.select_dtypes(include = 'object').columns))\n",
    "print(\"Numerical Columns:\", list(FMR22_df.select_dtypes(exclude = 'object').columns))"
   ]
  },
  {
   "cell_type": "code",
   "execution_count": null,
   "id": "fca78727",
   "metadata": {},
   "outputs": [],
   "source": [
    "#"
   ]
  },
  {
   "cell_type": "code",
   "execution_count": null,
   "id": "440b573f",
   "metadata": {},
   "outputs": [],
   "source": [
    "FMR22_df[FMR22_df['fmr_0']==0]['fmr_0'].count()"
   ]
  },
  {
   "cell_type": "code",
   "execution_count": null,
   "id": "933ceb2c",
   "metadata": {},
   "outputs": [],
   "source": [
    "FMR22_studio_df=FMR22_df[FMR22_df['fmr_0']!=0]\n",
    "FMR22_studio_df.head()"
   ]
  },
  {
   "cell_type": "code",
   "execution_count": null,
   "id": "acaa2480",
   "metadata": {},
   "outputs": [],
   "source": [
    "FMR22_studio_df = FMR22_studio_df.drop(['state','metro_code', 'fips2010','areaname','county_town_name','metro'], axis=1)\n",
    "FMR22_studio_df.head()"
   ]
  },
  {
   "cell_type": "code",
   "execution_count": null,
   "id": "a38af85e",
   "metadata": {},
   "outputs": [],
   "source": [
    "FMR22_df.rename(columns = {'fmr_0':'Studio', 'fmr_1':'One Bedroom', 'fmr_2':'Two Bedroom', 'fmr_3':'Three Bedroom','fmr_4':'Four Bedroom','pop2017':'Population','countyname':'County','state_alpha':'State'}, inplace = True)"
   ]
  },
  {
   "cell_type": "code",
   "execution_count": null,
   "id": "56bea6df",
   "metadata": {},
   "outputs": [],
   "source": [
    "FMR22_df.head()\n"
   ]
  },
  {
   "cell_type": "code",
   "execution_count": null,
   "id": "b0c239c4",
   "metadata": {},
   "outputs": [],
   "source": [
    "numeric_columns = list(FMR22_df.select_dtypes(exclude = 'object').columns)\n",
    "fig = make_subplots(rows=2, cols=3, shared_yaxes=True)\n",
    "index = 0\n",
    "for row in range(1,3):\n",
    "    for col in range(1,4):\n",
    "        fig.add_trace(go.Box(x=FMR22_df[numeric_columns[index]], name = numeric_columns[index]),\n",
    "                      row = row,\n",
    "                      col = col,\n",
    ")\n",
    "        index = index + 1\n",
    "fig.update_layout(height=600, width=1300,\n",
    "                  title_text=\"Box-Plots of Numerical Variables\")\n",
    "\n",
    "fig.show()"
   ]
  },
  {
   "cell_type": "code",
   "execution_count": null,
   "id": "84d0174c",
   "metadata": {},
   "outputs": [],
   "source": []
  },
  {
   "cell_type": "code",
   "execution_count": null,
   "id": "1b343feb",
   "metadata": {},
   "outputs": [],
   "source": [
    "import matplotlib.pyplot as plt\n",
    "zillow_df.plot(x=\"State\", y=['Jan-14'])\n",
    "plt.show()"
   ]
  }
 ],
 "metadata": {
  "kernelspec": {
   "display_name": "pythondata",
   "language": "python",
   "name": "pythondata"
  },
  "language_info": {
   "codemirror_mode": {
    "name": "ipython",
    "version": 3
   },
   "file_extension": ".py",
   "mimetype": "text/x-python",
   "name": "python",
   "nbconvert_exporter": "python",
   "pygments_lexer": "ipython3",
   "version": "3.7.10"
  }
 },
 "nbformat": 4,
 "nbformat_minor": 5
}
