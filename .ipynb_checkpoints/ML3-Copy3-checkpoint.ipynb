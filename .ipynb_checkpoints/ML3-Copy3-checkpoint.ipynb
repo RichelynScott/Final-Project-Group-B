{
 "cells": [
  {
   "cell_type": "code",
   "execution_count": 1,
   "id": "ea3da951",
   "metadata": {},
   "outputs": [],
   "source": [
    "import pandas as pd\n",
    "import numpy as np\n",
    "import re\n",
    "import os\n",
    "import seaborn as sns\n",
    "import matplotlib.pyplot as plt\n",
    "from plotly.subplots import make_subplots\n",
    "\n",
    "\n",
    "import sklearn\n",
    "from sklearn.model_selection import GridSearchCV, train_test_split\n",
    "from sklearn.linear_model import Ridge, Lasso, LinearRegression\n",
    "from sklearn.ensemble import RandomForestRegressor\n",
    "from sklearn.preprocessing import StandardScaler, OneHotEncoder, PolynomialFeatures\n",
    "from sklearn.compose import make_column_transformer, ColumnTransformer\n",
    "from sklearn.pipeline import make_pipeline\n",
    "from sklearn.neural_network import MLPRegressor\n",
    "from sklearn.neighbors import KNeighborsRegressor\n"
   ]
  },
  {
   "cell_type": "code",
   "execution_count": 2,
   "id": "2f1ce617",
   "metadata": {},
   "outputs": [],
   "source": [
    "#from xgboost import XGBRegressor, XGBRFRegressor\n",
    "#from catboost import CatBoostRegressor\n",
    "#import catboost\n",
    "import plotly.express as px\n",
    "#import plotly.graph_objects as go\n",
    "\n",
    "#from scipy.stats.mstats import winsorize\n",
    "\n",
    "#from pyod.models.feature_bagging import FeatureBagging\n",
    "#from pyod.models.lof import LOF\n",
    "\n",
    "\n",
    "\n",
    "# import warnings filter\n",
    "from warnings import simplefilter\n",
    "# ignore all future warnings\n",
    "simplefilter(action='ignore', category=FutureWarning)"
   ]
  },
  {
   "cell_type": "code",
   "execution_count": 3,
   "id": "c9ceb6da",
   "metadata": {
    "scrolled": false
   },
   "outputs": [
    {
     "data": {
      "text/html": [
       "<div>\n",
       "<style scoped>\n",
       "    .dataframe tbody tr th:only-of-type {\n",
       "        vertical-align: middle;\n",
       "    }\n",
       "\n",
       "    .dataframe tbody tr th {\n",
       "        vertical-align: top;\n",
       "    }\n",
       "\n",
       "    .dataframe thead th {\n",
       "        text-align: right;\n",
       "    }\n",
       "</style>\n",
       "<table border=\"1\" class=\"dataframe\">\n",
       "  <thead>\n",
       "    <tr style=\"text-align: right;\">\n",
       "      <th></th>\n",
       "      <th>State</th>\n",
       "      <th>Year</th>\n",
       "      <th>Studio</th>\n",
       "      <th>One Bedroom</th>\n",
       "      <th>Two Bedroom</th>\n",
       "      <th>Three Bedroom</th>\n",
       "      <th>Four Bedroom</th>\n",
       "      <th>Population</th>\n",
       "      <th>Percent Change</th>\n",
       "    </tr>\n",
       "  </thead>\n",
       "  <tbody>\n",
       "    <tr>\n",
       "      <th>0</th>\n",
       "      <td>AK</td>\n",
       "      <td>2021</td>\n",
       "      <td>850.97</td>\n",
       "      <td>951.28</td>\n",
       "      <td>1200.14</td>\n",
       "      <td>1582.72</td>\n",
       "      <td>1815.38</td>\n",
       "      <td>25467.93</td>\n",
       "      <td>NaN</td>\n",
       "    </tr>\n",
       "    <tr>\n",
       "      <th>1</th>\n",
       "      <td>AL</td>\n",
       "      <td>2021</td>\n",
       "      <td>548.28</td>\n",
       "      <td>591.99</td>\n",
       "      <td>725.82</td>\n",
       "      <td>949.51</td>\n",
       "      <td>1094.63</td>\n",
       "      <td>72399.63</td>\n",
       "      <td>NaN</td>\n",
       "    </tr>\n",
       "    <tr>\n",
       "      <th>2</th>\n",
       "      <td>AR</td>\n",
       "      <td>2021</td>\n",
       "      <td>515.95</td>\n",
       "      <td>553.85</td>\n",
       "      <td>697.31</td>\n",
       "      <td>920.29</td>\n",
       "      <td>1065.15</td>\n",
       "      <td>39706.00</td>\n",
       "      <td>NaN</td>\n",
       "    </tr>\n",
       "    <tr>\n",
       "      <th>3</th>\n",
       "      <td>AS</td>\n",
       "      <td>2021</td>\n",
       "      <td>590.00</td>\n",
       "      <td>594.00</td>\n",
       "      <td>783.00</td>\n",
       "      <td>1121.00</td>\n",
       "      <td>1201.00</td>\n",
       "      <td>55519.00</td>\n",
       "      <td>NaN</td>\n",
       "    </tr>\n",
       "    <tr>\n",
       "      <th>4</th>\n",
       "      <td>AZ</td>\n",
       "      <td>2021</td>\n",
       "      <td>698.13</td>\n",
       "      <td>767.93</td>\n",
       "      <td>970.13</td>\n",
       "      <td>1340.20</td>\n",
       "      <td>1493.53</td>\n",
       "      <td>453995.67</td>\n",
       "      <td>NaN</td>\n",
       "    </tr>\n",
       "    <tr>\n",
       "      <th>...</th>\n",
       "      <td>...</td>\n",
       "      <td>...</td>\n",
       "      <td>...</td>\n",
       "      <td>...</td>\n",
       "      <td>...</td>\n",
       "      <td>...</td>\n",
       "      <td>...</td>\n",
       "      <td>...</td>\n",
       "      <td>...</td>\n",
       "    </tr>\n",
       "    <tr>\n",
       "      <th>275</th>\n",
       "      <td>VT</td>\n",
       "      <td>2022</td>\n",
       "      <td>785.91</td>\n",
       "      <td>869.83</td>\n",
       "      <td>1077.28</td>\n",
       "      <td>1387.28</td>\n",
       "      <td>1530.50</td>\n",
       "      <td>2449.48</td>\n",
       "      <td>NaN</td>\n",
       "    </tr>\n",
       "    <tr>\n",
       "      <th>276</th>\n",
       "      <td>WA</td>\n",
       "      <td>2022</td>\n",
       "      <td>794.72</td>\n",
       "      <td>899.13</td>\n",
       "      <td>1124.38</td>\n",
       "      <td>1563.41</td>\n",
       "      <td>1848.69</td>\n",
       "      <td>183845.77</td>\n",
       "      <td>NaN</td>\n",
       "    </tr>\n",
       "    <tr>\n",
       "      <th>277</th>\n",
       "      <td>WI</td>\n",
       "      <td>2022</td>\n",
       "      <td>597.74</td>\n",
       "      <td>667.40</td>\n",
       "      <td>853.43</td>\n",
       "      <td>1116.50</td>\n",
       "      <td>1242.57</td>\n",
       "      <td>80044.65</td>\n",
       "      <td>NaN</td>\n",
       "    </tr>\n",
       "    <tr>\n",
       "      <th>278</th>\n",
       "      <td>WV</td>\n",
       "      <td>2022</td>\n",
       "      <td>584.65</td>\n",
       "      <td>620.40</td>\n",
       "      <td>761.05</td>\n",
       "      <td>1003.47</td>\n",
       "      <td>1144.07</td>\n",
       "      <td>33397.00</td>\n",
       "      <td>NaN</td>\n",
       "    </tr>\n",
       "    <tr>\n",
       "      <th>279</th>\n",
       "      <td>WY</td>\n",
       "      <td>2022</td>\n",
       "      <td>659.30</td>\n",
       "      <td>681.26</td>\n",
       "      <td>850.96</td>\n",
       "      <td>1153.57</td>\n",
       "      <td>1426.39</td>\n",
       "      <td>25356.52</td>\n",
       "      <td>NaN</td>\n",
       "    </tr>\n",
       "  </tbody>\n",
       "</table>\n",
       "<p>280 rows × 9 columns</p>\n",
       "</div>"
      ],
      "text/plain": [
       "    State  Year  Studio  One Bedroom  Two Bedroom  Three Bedroom  \\\n",
       "0      AK  2021  850.97       951.28      1200.14        1582.72   \n",
       "1      AL  2021  548.28       591.99       725.82         949.51   \n",
       "2      AR  2021  515.95       553.85       697.31         920.29   \n",
       "3      AS  2021  590.00       594.00       783.00        1121.00   \n",
       "4      AZ  2021  698.13       767.93       970.13        1340.20   \n",
       "..    ...   ...     ...          ...          ...            ...   \n",
       "275    VT  2022  785.91       869.83      1077.28        1387.28   \n",
       "276    WA  2022  794.72       899.13      1124.38        1563.41   \n",
       "277    WI  2022  597.74       667.40       853.43        1116.50   \n",
       "278    WV  2022  584.65       620.40       761.05        1003.47   \n",
       "279    WY  2022  659.30       681.26       850.96        1153.57   \n",
       "\n",
       "     Four Bedroom  Population  Percent Change  \n",
       "0         1815.38    25467.93             NaN  \n",
       "1         1094.63    72399.63             NaN  \n",
       "2         1065.15    39706.00             NaN  \n",
       "3         1201.00    55519.00             NaN  \n",
       "4         1493.53   453995.67             NaN  \n",
       "..            ...         ...             ...  \n",
       "275       1530.50     2449.48             NaN  \n",
       "276       1848.69   183845.77             NaN  \n",
       "277       1242.57    80044.65             NaN  \n",
       "278       1144.07    33397.00             NaN  \n",
       "279       1426.39    25356.52             NaN  \n",
       "\n",
       "[280 rows x 9 columns]"
      ]
     },
     "execution_count": 3,
     "metadata": {},
     "output_type": "execute_result"
    }
   ],
   "source": [
    "#CSV to Load\n",
    "rental_data= (\"Resources/CFMR_df.csv\")\n",
    "rental_data_df=pd.read_csv(rental_data)\n",
    "rental_data_df = rental_data_df.drop(['Unnamed: 0'], axis=1)\n",
    "rental_data_df.head(300)"
   ]
  },
  {
   "cell_type": "code",
   "execution_count": 4,
   "id": "1799c1ae",
   "metadata": {},
   "outputs": [
    {
     "data": {
      "text/plain": [
       "Index(['State', 'Year', 'Studio', 'One Bedroom', 'Two Bedroom',\n",
       "       'Three Bedroom', 'Four Bedroom', 'Population', 'Percent Change'],\n",
       "      dtype='object')"
      ]
     },
     "execution_count": 4,
     "metadata": {},
     "output_type": "execute_result"
    }
   ],
   "source": [
    "rental_data_df.columns"
   ]
  },
  {
   "cell_type": "code",
   "execution_count": 5,
   "id": "1f9a26fa",
   "metadata": {},
   "outputs": [],
   "source": [
    "rental_state_df = rental_data_df.sort_values(by=['State', 'Year'])"
   ]
  },
  {
   "cell_type": "code",
   "execution_count": 6,
   "id": "68e4d8c2",
   "metadata": {},
   "outputs": [
    {
     "data": {
      "text/html": [
       "<div>\n",
       "<style scoped>\n",
       "    .dataframe tbody tr th:only-of-type {\n",
       "        vertical-align: middle;\n",
       "    }\n",
       "\n",
       "    .dataframe tbody tr th {\n",
       "        vertical-align: top;\n",
       "    }\n",
       "\n",
       "    .dataframe thead th {\n",
       "        text-align: right;\n",
       "    }\n",
       "</style>\n",
       "<table border=\"1\" class=\"dataframe\">\n",
       "  <thead>\n",
       "    <tr style=\"text-align: right;\">\n",
       "      <th></th>\n",
       "      <th>State</th>\n",
       "      <th>Year</th>\n",
       "      <th>Studio</th>\n",
       "      <th>One Bedroom</th>\n",
       "      <th>Two Bedroom</th>\n",
       "      <th>Three Bedroom</th>\n",
       "      <th>Four Bedroom</th>\n",
       "      <th>Population</th>\n",
       "      <th>Percent Change</th>\n",
       "    </tr>\n",
       "  </thead>\n",
       "  <tbody>\n",
       "    <tr>\n",
       "      <th>168</th>\n",
       "      <td>AK</td>\n",
       "      <td>2018</td>\n",
       "      <td>842.86</td>\n",
       "      <td>948.86</td>\n",
       "      <td>1183.59</td>\n",
       "      <td>1575.90</td>\n",
       "      <td>1848.17</td>\n",
       "      <td>24490.72</td>\n",
       "      <td>-0.01</td>\n",
       "    </tr>\n",
       "    <tr>\n",
       "      <th>112</th>\n",
       "      <td>AK</td>\n",
       "      <td>2019</td>\n",
       "      <td>863.97</td>\n",
       "      <td>977.31</td>\n",
       "      <td>1221.38</td>\n",
       "      <td>1623.93</td>\n",
       "      <td>1866.03</td>\n",
       "      <td>24490.72</td>\n",
       "      <td>0.03</td>\n",
       "    </tr>\n",
       "    <tr>\n",
       "      <th>56</th>\n",
       "      <td>AK</td>\n",
       "      <td>2020</td>\n",
       "      <td>902.24</td>\n",
       "      <td>1022.24</td>\n",
       "      <td>1276.03</td>\n",
       "      <td>1696.00</td>\n",
       "      <td>1926.31</td>\n",
       "      <td>25467.93</td>\n",
       "      <td>0.04</td>\n",
       "    </tr>\n",
       "    <tr>\n",
       "      <th>0</th>\n",
       "      <td>AK</td>\n",
       "      <td>2021</td>\n",
       "      <td>850.97</td>\n",
       "      <td>951.28</td>\n",
       "      <td>1200.14</td>\n",
       "      <td>1582.72</td>\n",
       "      <td>1815.38</td>\n",
       "      <td>25467.93</td>\n",
       "      <td>NaN</td>\n",
       "    </tr>\n",
       "    <tr>\n",
       "      <th>224</th>\n",
       "      <td>AK</td>\n",
       "      <td>2022</td>\n",
       "      <td>864.45</td>\n",
       "      <td>962.66</td>\n",
       "      <td>1236.45</td>\n",
       "      <td>1619.83</td>\n",
       "      <td>1890.34</td>\n",
       "      <td>25467.93</td>\n",
       "      <td>NaN</td>\n",
       "    </tr>\n",
       "    <tr>\n",
       "      <th>169</th>\n",
       "      <td>AL</td>\n",
       "      <td>2018</td>\n",
       "      <td>519.12</td>\n",
       "      <td>554.07</td>\n",
       "      <td>682.06</td>\n",
       "      <td>911.72</td>\n",
       "      <td>1050.61</td>\n",
       "      <td>71339.34</td>\n",
       "      <td>-0.01</td>\n",
       "    </tr>\n",
       "    <tr>\n",
       "      <th>113</th>\n",
       "      <td>AL</td>\n",
       "      <td>2019</td>\n",
       "      <td>530.30</td>\n",
       "      <td>569.61</td>\n",
       "      <td>697.54</td>\n",
       "      <td>925.31</td>\n",
       "      <td>1068.13</td>\n",
       "      <td>71339.34</td>\n",
       "      <td>0.02</td>\n",
       "    </tr>\n",
       "    <tr>\n",
       "      <th>57</th>\n",
       "      <td>AL</td>\n",
       "      <td>2020</td>\n",
       "      <td>533.90</td>\n",
       "      <td>575.87</td>\n",
       "      <td>700.64</td>\n",
       "      <td>924.25</td>\n",
       "      <td>1064.90</td>\n",
       "      <td>72399.63</td>\n",
       "      <td>0.00</td>\n",
       "    </tr>\n",
       "    <tr>\n",
       "      <th>1</th>\n",
       "      <td>AL</td>\n",
       "      <td>2021</td>\n",
       "      <td>548.28</td>\n",
       "      <td>591.99</td>\n",
       "      <td>725.82</td>\n",
       "      <td>949.51</td>\n",
       "      <td>1094.63</td>\n",
       "      <td>72399.63</td>\n",
       "      <td>NaN</td>\n",
       "    </tr>\n",
       "    <tr>\n",
       "      <th>225</th>\n",
       "      <td>AL</td>\n",
       "      <td>2022</td>\n",
       "      <td>586.07</td>\n",
       "      <td>627.84</td>\n",
       "      <td>773.81</td>\n",
       "      <td>1004.81</td>\n",
       "      <td>1154.52</td>\n",
       "      <td>72399.63</td>\n",
       "      <td>NaN</td>\n",
       "    </tr>\n",
       "  </tbody>\n",
       "</table>\n",
       "</div>"
      ],
      "text/plain": [
       "    State  Year  Studio  One Bedroom  Two Bedroom  Three Bedroom  \\\n",
       "168    AK  2018  842.86       948.86      1183.59        1575.90   \n",
       "112    AK  2019  863.97       977.31      1221.38        1623.93   \n",
       "56     AK  2020  902.24      1022.24      1276.03        1696.00   \n",
       "0      AK  2021  850.97       951.28      1200.14        1582.72   \n",
       "224    AK  2022  864.45       962.66      1236.45        1619.83   \n",
       "169    AL  2018  519.12       554.07       682.06         911.72   \n",
       "113    AL  2019  530.30       569.61       697.54         925.31   \n",
       "57     AL  2020  533.90       575.87       700.64         924.25   \n",
       "1      AL  2021  548.28       591.99       725.82         949.51   \n",
       "225    AL  2022  586.07       627.84       773.81        1004.81   \n",
       "\n",
       "     Four Bedroom  Population  Percent Change  \n",
       "168       1848.17    24490.72           -0.01  \n",
       "112       1866.03    24490.72            0.03  \n",
       "56        1926.31    25467.93            0.04  \n",
       "0         1815.38    25467.93             NaN  \n",
       "224       1890.34    25467.93             NaN  \n",
       "169       1050.61    71339.34           -0.01  \n",
       "113       1068.13    71339.34            0.02  \n",
       "57        1064.90    72399.63            0.00  \n",
       "1         1094.63    72399.63             NaN  \n",
       "225       1154.52    72399.63             NaN  "
      ]
     },
     "execution_count": 6,
     "metadata": {},
     "output_type": "execute_result"
    }
   ],
   "source": [
    "rental_state_df.head(10)"
   ]
  },
  {
   "cell_type": "code",
   "execution_count": 7,
   "id": "328e0964",
   "metadata": {},
   "outputs": [],
   "source": [
    "rental_state_df['mean'] = rental_state_df[[\"Studio\", \"One Bedroom\", \"Two Bedroom\", \"Three Bedroom\", \"Four Bedroom\"]].mean(axis=1)"
   ]
  },
  {
   "cell_type": "code",
   "execution_count": 8,
   "id": "4c2a75cd",
   "metadata": {
    "scrolled": true
   },
   "outputs": [
    {
     "data": {
      "text/html": [
       "<div>\n",
       "<style scoped>\n",
       "    .dataframe tbody tr th:only-of-type {\n",
       "        vertical-align: middle;\n",
       "    }\n",
       "\n",
       "    .dataframe tbody tr th {\n",
       "        vertical-align: top;\n",
       "    }\n",
       "\n",
       "    .dataframe thead th {\n",
       "        text-align: right;\n",
       "    }\n",
       "</style>\n",
       "<table border=\"1\" class=\"dataframe\">\n",
       "  <thead>\n",
       "    <tr style=\"text-align: right;\">\n",
       "      <th></th>\n",
       "      <th>State</th>\n",
       "      <th>Year</th>\n",
       "      <th>Studio</th>\n",
       "      <th>One Bedroom</th>\n",
       "      <th>Two Bedroom</th>\n",
       "      <th>Three Bedroom</th>\n",
       "      <th>Four Bedroom</th>\n",
       "      <th>Population</th>\n",
       "      <th>Percent Change</th>\n",
       "      <th>mean</th>\n",
       "    </tr>\n",
       "  </thead>\n",
       "  <tbody>\n",
       "    <tr>\n",
       "      <th>168</th>\n",
       "      <td>AK</td>\n",
       "      <td>2018</td>\n",
       "      <td>842.86</td>\n",
       "      <td>948.86</td>\n",
       "      <td>1183.59</td>\n",
       "      <td>1575.90</td>\n",
       "      <td>1848.17</td>\n",
       "      <td>24490.72</td>\n",
       "      <td>-0.01</td>\n",
       "      <td>1279.876</td>\n",
       "    </tr>\n",
       "    <tr>\n",
       "      <th>112</th>\n",
       "      <td>AK</td>\n",
       "      <td>2019</td>\n",
       "      <td>863.97</td>\n",
       "      <td>977.31</td>\n",
       "      <td>1221.38</td>\n",
       "      <td>1623.93</td>\n",
       "      <td>1866.03</td>\n",
       "      <td>24490.72</td>\n",
       "      <td>0.03</td>\n",
       "      <td>1310.524</td>\n",
       "    </tr>\n",
       "    <tr>\n",
       "      <th>56</th>\n",
       "      <td>AK</td>\n",
       "      <td>2020</td>\n",
       "      <td>902.24</td>\n",
       "      <td>1022.24</td>\n",
       "      <td>1276.03</td>\n",
       "      <td>1696.00</td>\n",
       "      <td>1926.31</td>\n",
       "      <td>25467.93</td>\n",
       "      <td>0.04</td>\n",
       "      <td>1364.564</td>\n",
       "    </tr>\n",
       "    <tr>\n",
       "      <th>0</th>\n",
       "      <td>AK</td>\n",
       "      <td>2021</td>\n",
       "      <td>850.97</td>\n",
       "      <td>951.28</td>\n",
       "      <td>1200.14</td>\n",
       "      <td>1582.72</td>\n",
       "      <td>1815.38</td>\n",
       "      <td>25467.93</td>\n",
       "      <td>NaN</td>\n",
       "      <td>1280.098</td>\n",
       "    </tr>\n",
       "    <tr>\n",
       "      <th>224</th>\n",
       "      <td>AK</td>\n",
       "      <td>2022</td>\n",
       "      <td>864.45</td>\n",
       "      <td>962.66</td>\n",
       "      <td>1236.45</td>\n",
       "      <td>1619.83</td>\n",
       "      <td>1890.34</td>\n",
       "      <td>25467.93</td>\n",
       "      <td>NaN</td>\n",
       "      <td>1314.746</td>\n",
       "    </tr>\n",
       "    <tr>\n",
       "      <th>169</th>\n",
       "      <td>AL</td>\n",
       "      <td>2018</td>\n",
       "      <td>519.12</td>\n",
       "      <td>554.07</td>\n",
       "      <td>682.06</td>\n",
       "      <td>911.72</td>\n",
       "      <td>1050.61</td>\n",
       "      <td>71339.34</td>\n",
       "      <td>-0.01</td>\n",
       "      <td>743.516</td>\n",
       "    </tr>\n",
       "    <tr>\n",
       "      <th>113</th>\n",
       "      <td>AL</td>\n",
       "      <td>2019</td>\n",
       "      <td>530.30</td>\n",
       "      <td>569.61</td>\n",
       "      <td>697.54</td>\n",
       "      <td>925.31</td>\n",
       "      <td>1068.13</td>\n",
       "      <td>71339.34</td>\n",
       "      <td>0.02</td>\n",
       "      <td>758.178</td>\n",
       "    </tr>\n",
       "    <tr>\n",
       "      <th>57</th>\n",
       "      <td>AL</td>\n",
       "      <td>2020</td>\n",
       "      <td>533.90</td>\n",
       "      <td>575.87</td>\n",
       "      <td>700.64</td>\n",
       "      <td>924.25</td>\n",
       "      <td>1064.90</td>\n",
       "      <td>72399.63</td>\n",
       "      <td>0.00</td>\n",
       "      <td>759.912</td>\n",
       "    </tr>\n",
       "    <tr>\n",
       "      <th>1</th>\n",
       "      <td>AL</td>\n",
       "      <td>2021</td>\n",
       "      <td>548.28</td>\n",
       "      <td>591.99</td>\n",
       "      <td>725.82</td>\n",
       "      <td>949.51</td>\n",
       "      <td>1094.63</td>\n",
       "      <td>72399.63</td>\n",
       "      <td>NaN</td>\n",
       "      <td>782.046</td>\n",
       "    </tr>\n",
       "    <tr>\n",
       "      <th>225</th>\n",
       "      <td>AL</td>\n",
       "      <td>2022</td>\n",
       "      <td>586.07</td>\n",
       "      <td>627.84</td>\n",
       "      <td>773.81</td>\n",
       "      <td>1004.81</td>\n",
       "      <td>1154.52</td>\n",
       "      <td>72399.63</td>\n",
       "      <td>NaN</td>\n",
       "      <td>829.410</td>\n",
       "    </tr>\n",
       "  </tbody>\n",
       "</table>\n",
       "</div>"
      ],
      "text/plain": [
       "    State  Year  Studio  One Bedroom  Two Bedroom  Three Bedroom  \\\n",
       "168    AK  2018  842.86       948.86      1183.59        1575.90   \n",
       "112    AK  2019  863.97       977.31      1221.38        1623.93   \n",
       "56     AK  2020  902.24      1022.24      1276.03        1696.00   \n",
       "0      AK  2021  850.97       951.28      1200.14        1582.72   \n",
       "224    AK  2022  864.45       962.66      1236.45        1619.83   \n",
       "169    AL  2018  519.12       554.07       682.06         911.72   \n",
       "113    AL  2019  530.30       569.61       697.54         925.31   \n",
       "57     AL  2020  533.90       575.87       700.64         924.25   \n",
       "1      AL  2021  548.28       591.99       725.82         949.51   \n",
       "225    AL  2022  586.07       627.84       773.81        1004.81   \n",
       "\n",
       "     Four Bedroom  Population  Percent Change      mean  \n",
       "168       1848.17    24490.72           -0.01  1279.876  \n",
       "112       1866.03    24490.72            0.03  1310.524  \n",
       "56        1926.31    25467.93            0.04  1364.564  \n",
       "0         1815.38    25467.93             NaN  1280.098  \n",
       "224       1890.34    25467.93             NaN  1314.746  \n",
       "169       1050.61    71339.34           -0.01   743.516  \n",
       "113       1068.13    71339.34            0.02   758.178  \n",
       "57        1064.90    72399.63            0.00   759.912  \n",
       "1         1094.63    72399.63             NaN   782.046  \n",
       "225       1154.52    72399.63             NaN   829.410  "
      ]
     },
     "execution_count": 8,
     "metadata": {},
     "output_type": "execute_result"
    }
   ],
   "source": [
    "rental_state_df.head(10)"
   ]
  },
  {
   "cell_type": "code",
   "execution_count": 9,
   "id": "7ff34a67",
   "metadata": {},
   "outputs": [],
   "source": [
    "#Completed, Commited out to not be overwritten by accident\n",
    "#rental_state_df.to_csv('ML3.csv')"
   ]
  },
  {
   "cell_type": "code",
   "execution_count": 10,
   "id": "2e74681c",
   "metadata": {},
   "outputs": [
    {
     "data": {
      "text/html": [
       "<div>\n",
       "<style scoped>\n",
       "    .dataframe tbody tr th:only-of-type {\n",
       "        vertical-align: middle;\n",
       "    }\n",
       "\n",
       "    .dataframe tbody tr th {\n",
       "        vertical-align: top;\n",
       "    }\n",
       "\n",
       "    .dataframe thead th {\n",
       "        text-align: right;\n",
       "    }\n",
       "</style>\n",
       "<table border=\"1\" class=\"dataframe\">\n",
       "  <thead>\n",
       "    <tr style=\"text-align: right;\">\n",
       "      <th></th>\n",
       "      <th>State</th>\n",
       "      <th>Year</th>\n",
       "      <th>Studio</th>\n",
       "      <th>One Bedroom</th>\n",
       "      <th>Two Bedroom</th>\n",
       "      <th>Three Bedroom</th>\n",
       "      <th>Four Bedroom</th>\n",
       "      <th>Population</th>\n",
       "      <th>Percent Change</th>\n",
       "    </tr>\n",
       "  </thead>\n",
       "  <tbody>\n",
       "    <tr>\n",
       "      <th>0</th>\n",
       "      <td>AK</td>\n",
       "      <td>2018</td>\n",
       "      <td>842.86</td>\n",
       "      <td>948.86</td>\n",
       "      <td>1183.59</td>\n",
       "      <td>1575.90</td>\n",
       "      <td>1848.17</td>\n",
       "      <td>24490.72</td>\n",
       "      <td>-0.01</td>\n",
       "    </tr>\n",
       "    <tr>\n",
       "      <th>1</th>\n",
       "      <td>AK</td>\n",
       "      <td>2019</td>\n",
       "      <td>863.97</td>\n",
       "      <td>977.31</td>\n",
       "      <td>1221.38</td>\n",
       "      <td>1623.93</td>\n",
       "      <td>1866.03</td>\n",
       "      <td>24490.72</td>\n",
       "      <td>0.03</td>\n",
       "    </tr>\n",
       "    <tr>\n",
       "      <th>2</th>\n",
       "      <td>AK</td>\n",
       "      <td>2020</td>\n",
       "      <td>902.24</td>\n",
       "      <td>1022.24</td>\n",
       "      <td>1276.03</td>\n",
       "      <td>1696.00</td>\n",
       "      <td>1926.31</td>\n",
       "      <td>25467.93</td>\n",
       "      <td>0.04</td>\n",
       "    </tr>\n",
       "    <tr>\n",
       "      <th>3</th>\n",
       "      <td>AK</td>\n",
       "      <td>2021</td>\n",
       "      <td>850.97</td>\n",
       "      <td>951.28</td>\n",
       "      <td>1200.14</td>\n",
       "      <td>1582.72</td>\n",
       "      <td>1815.38</td>\n",
       "      <td>25467.93</td>\n",
       "      <td>0.00</td>\n",
       "    </tr>\n",
       "    <tr>\n",
       "      <th>4</th>\n",
       "      <td>AK</td>\n",
       "      <td>2022</td>\n",
       "      <td>864.45</td>\n",
       "      <td>962.66</td>\n",
       "      <td>1236.45</td>\n",
       "      <td>1619.83</td>\n",
       "      <td>1890.34</td>\n",
       "      <td>25467.93</td>\n",
       "      <td>0.00</td>\n",
       "    </tr>\n",
       "    <tr>\n",
       "      <th>...</th>\n",
       "      <td>...</td>\n",
       "      <td>...</td>\n",
       "      <td>...</td>\n",
       "      <td>...</td>\n",
       "      <td>...</td>\n",
       "      <td>...</td>\n",
       "      <td>...</td>\n",
       "      <td>...</td>\n",
       "      <td>...</td>\n",
       "    </tr>\n",
       "    <tr>\n",
       "      <th>275</th>\n",
       "      <td>WY</td>\n",
       "      <td>2018</td>\n",
       "      <td>577.57</td>\n",
       "      <td>638.48</td>\n",
       "      <td>813.74</td>\n",
       "      <td>1096.74</td>\n",
       "      <td>1328.70</td>\n",
       "      <td>24505.48</td>\n",
       "      <td>0.06</td>\n",
       "    </tr>\n",
       "    <tr>\n",
       "      <th>276</th>\n",
       "      <td>WY</td>\n",
       "      <td>2019</td>\n",
       "      <td>591.70</td>\n",
       "      <td>650.91</td>\n",
       "      <td>825.35</td>\n",
       "      <td>1109.83</td>\n",
       "      <td>1375.43</td>\n",
       "      <td>24505.48</td>\n",
       "      <td>0.02</td>\n",
       "    </tr>\n",
       "    <tr>\n",
       "      <th>277</th>\n",
       "      <td>WY</td>\n",
       "      <td>2020</td>\n",
       "      <td>621.39</td>\n",
       "      <td>678.83</td>\n",
       "      <td>845.61</td>\n",
       "      <td>1138.26</td>\n",
       "      <td>1422.96</td>\n",
       "      <td>25356.52</td>\n",
       "      <td>0.02</td>\n",
       "    </tr>\n",
       "    <tr>\n",
       "      <th>278</th>\n",
       "      <td>WY</td>\n",
       "      <td>2021</td>\n",
       "      <td>640.09</td>\n",
       "      <td>676.70</td>\n",
       "      <td>842.09</td>\n",
       "      <td>1138.87</td>\n",
       "      <td>1412.91</td>\n",
       "      <td>25356.52</td>\n",
       "      <td>0.00</td>\n",
       "    </tr>\n",
       "    <tr>\n",
       "      <th>279</th>\n",
       "      <td>WY</td>\n",
       "      <td>2022</td>\n",
       "      <td>659.30</td>\n",
       "      <td>681.26</td>\n",
       "      <td>850.96</td>\n",
       "      <td>1153.57</td>\n",
       "      <td>1426.39</td>\n",
       "      <td>25356.52</td>\n",
       "      <td>0.00</td>\n",
       "    </tr>\n",
       "  </tbody>\n",
       "</table>\n",
       "<p>280 rows × 9 columns</p>\n",
       "</div>"
      ],
      "text/plain": [
       "    State  Year  Studio  One Bedroom  Two Bedroom  Three Bedroom  \\\n",
       "0      AK  2018  842.86       948.86      1183.59        1575.90   \n",
       "1      AK  2019  863.97       977.31      1221.38        1623.93   \n",
       "2      AK  2020  902.24      1022.24      1276.03        1696.00   \n",
       "3      AK  2021  850.97       951.28      1200.14        1582.72   \n",
       "4      AK  2022  864.45       962.66      1236.45        1619.83   \n",
       "..    ...   ...     ...          ...          ...            ...   \n",
       "275    WY  2018  577.57       638.48       813.74        1096.74   \n",
       "276    WY  2019  591.70       650.91       825.35        1109.83   \n",
       "277    WY  2020  621.39       678.83       845.61        1138.26   \n",
       "278    WY  2021  640.09       676.70       842.09        1138.87   \n",
       "279    WY  2022  659.30       681.26       850.96        1153.57   \n",
       "\n",
       "     Four Bedroom  Population  Percent Change  \n",
       "0         1848.17    24490.72           -0.01  \n",
       "1         1866.03    24490.72            0.03  \n",
       "2         1926.31    25467.93            0.04  \n",
       "3         1815.38    25467.93            0.00  \n",
       "4         1890.34    25467.93            0.00  \n",
       "..            ...         ...             ...  \n",
       "275       1328.70    24505.48            0.06  \n",
       "276       1375.43    24505.48            0.02  \n",
       "277       1422.96    25356.52            0.02  \n",
       "278       1412.91    25356.52            0.00  \n",
       "279       1426.39    25356.52            0.00  \n",
       "\n",
       "[280 rows x 9 columns]"
      ]
     },
     "execution_count": 10,
     "metadata": {},
     "output_type": "execute_result"
    }
   ],
   "source": [
    "#Filled all NaNs with accurate % changes via Excel, back with completed dataset\n",
    "#CSV to Load\n",
    "rental_data1= (\"Resources/ML3.csv\")\n",
    "rental_data1_df=pd.read_csv(rental_data1)\n",
    "rental_data1_df = rental_data1_df.drop(['Unnamed: 0'], axis=1)\n",
    "rental_data1_df.head(300)"
   ]
  },
  {
   "cell_type": "code",
   "execution_count": 11,
   "id": "aac453a4",
   "metadata": {
    "scrolled": true
   },
   "outputs": [
    {
     "data": {
      "text/plain": [
       "<matplotlib.axes._subplots.AxesSubplot at 0x7fa081035090>"
      ]
     },
     "execution_count": 11,
     "metadata": {},
     "output_type": "execute_result"
    },
    {
     "data": {
      "image/png": "[encoded data removed]",
      "text/plain": [
       "<Figure size 432x288 with 2 Axes>"
      ]
     },
     "metadata": {
      "needs_background": "light"
     },
     "output_type": "display_data"
    }
   ],
   "source": [
    "sns.heatmap(rental_data_df.corr(), annot=True)"
   ]
  },
  {
   "cell_type": "code",
   "execution_count": 12,
   "id": "70302c10",
   "metadata": {},
   "outputs": [],
   "source": [
    "# The heat map above tells us that year is not a great predictor of anything \n",
    "# Likely because we only have 5 years of data, only by year, not by month\n",
    "# Population appears to be a modest predictor "
   ]
  },
  {
   "cell_type": "code",
   "execution_count": 13,
   "id": "810f0b34",
   "metadata": {},
   "outputs": [
    {
     "data": {
      "text/plain": [
       "count     280.000000\n",
       "mean      683.562071\n",
       "std       204.557805\n",
       "min       365.290000\n",
       "25%       542.810000\n",
       "50%       613.775000\n",
       "75%       771.050000\n",
       "max      1539.000000\n",
       "Name: Studio, dtype: float64"
      ]
     },
     "execution_count": 13,
     "metadata": {},
     "output_type": "execute_result"
    }
   ],
   "source": [
    "rental_data1_df['Studio'].describe()"
   ]
  },
  {
   "cell_type": "code",
   "execution_count": 14,
   "id": "ecece4cd",
   "metadata": {},
   "outputs": [
    {
     "data": {
      "text/plain": [
       "count     280.000000\n",
       "mean      755.492179\n",
       "std       226.459154\n",
       "min       383.550000\n",
       "25%       601.460000\n",
       "50%       666.680000\n",
       "75%       856.120000\n",
       "max      1567.000000\n",
       "Name: One Bedroom, dtype: float64"
      ]
     },
     "execution_count": 14,
     "metadata": {},
     "output_type": "execute_result"
    }
   ],
   "source": [
    "rental_data1_df['One Bedroom'].describe()"
   ]
  },
  {
   "cell_type": "code",
   "execution_count": 15,
   "id": "d5b3dcb7",
   "metadata": {},
   "outputs": [
    {
     "data": {
      "text/plain": [
       "count     280.000000\n",
       "mean      942.552357\n",
       "std       273.936269\n",
       "min       455.950000\n",
       "25%       760.925000\n",
       "50%       827.110000\n",
       "75%      1069.037500\n",
       "max      1887.800000\n",
       "Name: Two Bedroom, dtype: float64"
      ]
     },
     "execution_count": 15,
     "metadata": {},
     "output_type": "execute_result"
    }
   ],
   "source": [
    "rental_data1_df['Two Bedroom'].describe()"
   ]
  },
  {
   "cell_type": "code",
   "execution_count": 16,
   "id": "3073627b",
   "metadata": {},
   "outputs": [
    {
     "data": {
      "text/plain": [
       "count     280.000000\n",
       "mean     1255.011929\n",
       "std       359.767801\n",
       "min       610.640000\n",
       "25%      1016.002500\n",
       "50%      1108.325000\n",
       "75%      1426.092500\n",
       "max      2569.200000\n",
       "Name: Three Bedroom, dtype: float64"
      ]
     },
     "execution_count": 16,
     "metadata": {},
     "output_type": "execute_result"
    }
   ],
   "source": [
    "rental_data1_df['Three Bedroom'].describe()"
   ]
  },
  {
   "cell_type": "code",
   "execution_count": 17,
   "id": "4f09468b",
   "metadata": {},
   "outputs": [
    {
     "data": {
      "text/plain": [
       "count     280.000000\n",
       "mean     1450.943143\n",
       "std       430.596334\n",
       "min       735.510000\n",
       "25%      1150.605000\n",
       "50%      1299.130000\n",
       "75%      1636.000000\n",
       "max      2944.800000\n",
       "Name: Four Bedroom, dtype: float64"
      ]
     },
     "execution_count": 17,
     "metadata": {},
     "output_type": "execute_result"
    }
   ],
   "source": [
    "rental_data1_df['Four Bedroom'].describe()"
   ]
  },
  {
   "cell_type": "code",
   "execution_count": 18,
   "id": "5f1a6e06",
   "metadata": {},
   "outputs": [
    {
     "data": {
      "text/plain": [
       "<matplotlib.axes._subplots.AxesSubplot at 0x7fa06458cd90>"
      ]
     },
     "execution_count": 18,
     "metadata": {},
     "output_type": "execute_result"
    },
    {
     "data": {
      "image/png": "[encoded data removed]",
      "text/plain": [
       "<Figure size 432x288 with 1 Axes>"
      ]
     },
     "metadata": {
      "needs_background": "light"
     },
     "output_type": "display_data"
    }
   ],
   "source": [
    "sns.boxplot(x = rental_data1_df[\"Year\"], y = rental_data1_df[\"Studio\"])"
   ]
  },
  {
   "cell_type": "code",
   "execution_count": 19,
   "id": "208bbc1a",
   "metadata": {},
   "outputs": [
    {
     "data": {
      "text/plain": [
       "<matplotlib.axes._subplots.AxesSubplot at 0x7fa0701973d0>"
      ]
     },
     "execution_count": 19,
     "metadata": {},
     "output_type": "execute_result"
    },
    {
     "data": {
      "image/png": "[encoded data removed]",
      "text/plain": [
       "<Figure size 432x288 with 1 Axes>"
      ]
     },
     "metadata": {
      "needs_background": "light"
     },
     "output_type": "display_data"
    }
   ],
   "source": [
    "sns.boxplot(x = rental_data1_df[\"Year\"], y = rental_data1_df[\"One Bedroom\"])"
   ]
  },
  {
   "cell_type": "code",
   "execution_count": 20,
   "id": "a02ab626",
   "metadata": {},
   "outputs": [
    {
     "data": {
      "text/plain": [
       "<matplotlib.axes._subplots.AxesSubplot at 0x7fa0701efa10>"
      ]
     },
     "execution_count": 20,
     "metadata": {},
     "output_type": "execute_result"
    },
    {
     "data": {
      "image/png": "[encoded data removed]",
      "text/plain": [
       "<Figure size 432x288 with 1 Axes>"
      ]
     },
     "metadata": {
      "needs_background": "light"
     },
     "output_type": "display_data"
    }
   ],
   "source": [
    "sns.boxplot(x = rental_data1_df[\"Year\"], y = rental_data1_df[\"Two Bedroom\"])"
   ]
  },
  {
   "cell_type": "code",
   "execution_count": 21,
   "id": "b9249b40",
   "metadata": {},
   "outputs": [
    {
     "data": {
      "text/plain": [
       "<matplotlib.axes._subplots.AxesSubplot at 0x7fa070226210>"
      ]
     },
     "execution_count": 21,
     "metadata": {},
     "output_type": "execute_result"
    },
    {
     "data": {
      "image/png": "[encoded data removed]",
      "text/plain": [
       "<Figure size 432x288 with 1 Axes>"
      ]
     },
     "metadata": {
      "needs_background": "light"
     },
     "output_type": "display_data"
    }
   ],
   "source": [
    "sns.boxplot(x = rental_data1_df[\"Year\"], y = rental_data1_df[\"Three Bedroom\"])"
   ]
  },
  {
   "cell_type": "code",
   "execution_count": 22,
   "id": "4afdd7e9",
   "metadata": {},
   "outputs": [
    {
     "data": {
      "text/plain": [
       "<matplotlib.axes._subplots.AxesSubplot at 0x7fa08111f490>"
      ]
     },
     "execution_count": 22,
     "metadata": {},
     "output_type": "execute_result"
    },
    {
     "data": {
      "image/png": "[encoded data removed]",
      "text/plain": [
       "<Figure size 432x288 with 1 Axes>"
      ]
     },
     "metadata": {
      "needs_background": "light"
     },
     "output_type": "display_data"
    }
   ],
   "source": [
    "sns.boxplot(x = rental_data1_df[\"Year\"], y = rental_data1_df[\"Four Bedroom\"])"
   ]
  },
  {
   "cell_type": "code",
   "execution_count": 23,
   "id": "eef4580d",
   "metadata": {},
   "outputs": [
    {
     "data": {
      "image/png": "[encoded data removed]",
      "text/plain": [
       "<Figure size 432x288 with 1 Axes>"
      ]
     },
     "metadata": {
      "needs_background": "light"
     },
     "output_type": "display_data"
    }
   ],
   "source": [
    "sns.distplot(rental_data1_df['Studio']);"
   ]
  },
  {
   "cell_type": "code",
   "execution_count": 24,
   "id": "0c32a4bc",
   "metadata": {},
   "outputs": [
    {
     "data": {
      "text/plain": [
       "<matplotlib.axes._subplots.AxesSubplot at 0x7fa064941990>"
      ]
     },
     "execution_count": 24,
     "metadata": {},
     "output_type": "execute_result"
    },
    {
     "data": {
      "image/png": "[encoded data removed]",
      "text/plain": [
       "<Figure size 432x288 with 1 Axes>"
      ]
     },
     "metadata": {
      "needs_background": "light"
     },
     "output_type": "display_data"
    }
   ],
   "source": [
    "sns.distplot(rental_data1_df['One Bedroom'])"
   ]
  },
  {
   "cell_type": "code",
   "execution_count": 25,
   "id": "1323470f",
   "metadata": {},
   "outputs": [
    {
     "data": {
      "text/plain": [
       "<matplotlib.axes._subplots.AxesSubplot at 0x7fa06495aed0>"
      ]
     },
     "execution_count": 25,
     "metadata": {},
     "output_type": "execute_result"
    },
    {
     "data": {
      "image/png": "[encoded data removed]",
      "text/plain": [
       "<Figure size 432x288 with 1 Axes>"
      ]
     },
     "metadata": {
      "needs_background": "light"
     },
     "output_type": "display_data"
    }
   ],
   "source": [
    "sns.distplot(rental_data1_df['Two Bedroom'])"
   ]
  },
  {
   "cell_type": "code",
   "execution_count": 26,
   "id": "0f94be52",
   "metadata": {},
   "outputs": [
    {
     "data": {
      "text/plain": [
       "<matplotlib.axes._subplots.AxesSubplot at 0x7fa06499ec90>"
      ]
     },
     "execution_count": 26,
     "metadata": {},
     "output_type": "execute_result"
    },
    {
     "data": {
      "image/png": "[encoded data removed]",
      "text/plain": [
       "<Figure size 432x288 with 1 Axes>"
      ]
     },
     "metadata": {
      "needs_background": "light"
     },
     "output_type": "display_data"
    }
   ],
   "source": [
    "sns.distplot(rental_data1_df['Three Bedroom'])"
   ]
  },
  {
   "cell_type": "code",
   "execution_count": 27,
   "id": "cf512fa1",
   "metadata": {},
   "outputs": [
    {
     "data": {
      "text/plain": [
       "<matplotlib.axes._subplots.AxesSubplot at 0x7fa0905fdd50>"
      ]
     },
     "execution_count": 27,
     "metadata": {},
     "output_type": "execute_result"
    },
    {
     "data": {
      "image/png": "[encoded data removed]",
      "text/plain": [
       "<Figure size 432x288 with 1 Axes>"
      ]
     },
     "metadata": {
      "needs_background": "light"
     },
     "output_type": "display_data"
    }
   ],
   "source": [
    "sns.distplot(rental_data1_df['Four Bedroom'])"
   ]
  },
  {
   "cell_type": "code",
   "execution_count": 28,
   "id": "81293fef",
   "metadata": {},
   "outputs": [
    {
     "data": {
      "text/plain": [
       "<matplotlib.collections.PathCollection at 0x7fa07047bf90>"
      ]
     },
     "execution_count": 28,
     "metadata": {},
     "output_type": "execute_result"
    },
    {
     "data": {
      "image/png": "[encoded data removed]",
      "text/plain": [
       "<Figure size 432x288 with 1 Axes>"
      ]
     },
     "metadata": {
      "needs_background": "light"
     },
     "output_type": "display_data"
    }
   ],
   "source": [
    "# Plot outputs\n",
    "plt.scatter(rental_data1_df['Population'],rental_data1_df['Studio'])"
   ]
  },
  {
   "cell_type": "code",
   "execution_count": 29,
   "id": "a9284882",
   "metadata": {},
   "outputs": [
    {
     "data": {
      "text/plain": [
       "<matplotlib.collections.PathCollection at 0x7fa0906e7450>"
      ]
     },
     "execution_count": 29,
     "metadata": {},
     "output_type": "execute_result"
    },
    {
     "data": {
      "image/png": "[encoded data removed]",
      "text/plain": [
       "<Figure size 432x288 with 1 Axes>"
      ]
     },
     "metadata": {
      "needs_background": "light"
     },
     "output_type": "display_data"
    }
   ],
   "source": [
    "# Plot outputs\n",
    "plt.scatter(rental_data1_df['State'],rental_data1_df['Studio'])"
   ]
  },
  {
   "cell_type": "code",
   "execution_count": 30,
   "id": "5ea868cb",
   "metadata": {},
   "outputs": [
    {
     "data": {
      "text/plain": [
       "<matplotlib.collections.PathCollection at 0x7fa064acd490>"
      ]
     },
     "execution_count": 30,
     "metadata": {},
     "output_type": "execute_result"
    },
    {
     "data": {
      "image/png": "[encoded data removed]",
      "text/plain": [
       "<Figure size 432x288 with 1 Axes>"
      ]
     },
     "metadata": {
      "needs_background": "light"
     },
     "output_type": "display_data"
    }
   ],
   "source": [
    "# Plot outputs\n",
    "plt.scatter(rental_data1_df['Year'],rental_data1_df['Studio'])"
   ]
  },
  {
   "cell_type": "code",
   "execution_count": 31,
   "id": "ba22c3ad",
   "metadata": {
    "scrolled": true
   },
   "outputs": [
    {
     "data": {
      "image/png": "[encoded data removed]",
      "text/plain": [
       "<Figure size 5760x504 with 1 Axes>"
      ]
     },
     "metadata": {
      "needs_background": "light"
     },
     "output_type": "display_data"
    }
   ],
   "source": [
    "plt.rcParams[\"figure.figsize\"] = (80, 7)\n",
    "rental_data1_df.plot.bar(x='State', y='Studio')\n",
    "plt.show()"
   ]
  },
  {
   "cell_type": "code",
   "execution_count": 32,
   "id": "6f2aa5a7",
   "metadata": {},
   "outputs": [],
   "source": [
    "## POPULATION APPEARS TO BE THE BEST MODERATE PREDICTOR WITH A TREND FROM OUR DATA\n",
    "# Price appears to gradually increase by year as well, but less Predictive Power (#s)\n",
    "# A handful of states are above average in price (AK,CA,DC,GU,HI,MA,MD,NJ,NY,RI,VI)\n",
    "## Also note that regardless of # of bedrooms, distributions of price are about the same"
   ]
  },
  {
   "cell_type": "markdown",
   "id": "47981973",
   "metadata": {},
   "source": [
    "# STUDIO PRICES ANALYSIS"
   ]
  },
  {
   "cell_type": "code",
   "execution_count": 33,
   "id": "9745b226",
   "metadata": {},
   "outputs": [],
   "source": [
    "# Prepare data for use in analysis below\n",
    "X = rental_data1_df.iloc[:,7].values\n",
    "Y = rental_data1_df.iloc[:,2].values\n",
    "Z = pd.DataFrame(X)\n",
    "W = pd.DataFrame(Y)\n"
   ]
  },
  {
   "cell_type": "code",
   "execution_count": 34,
   "id": "3b5f4588",
   "metadata": {},
   "outputs": [
    {
     "name": "stdout",
     "output_type": "stream",
     "text": [
      "            0\n",
      "0    24490.72\n",
      "1    24490.72\n",
      "2    25467.93\n",
      "3    25467.93\n",
      "4    25467.93\n",
      "..        ...\n",
      "275  24505.48\n",
      "276  24505.48\n",
      "277  25356.52\n",
      "278  25356.52\n",
      "279  25356.52\n",
      "\n",
      "[280 rows x 1 columns]\n",
      "          0\n",
      "0    842.86\n",
      "1    863.97\n",
      "2    902.24\n",
      "3    850.97\n",
      "4    864.45\n",
      "..      ...\n",
      "275  577.57\n",
      "276  591.70\n",
      "277  621.39\n",
      "278  640.09\n",
      "279  659.30\n",
      "\n",
      "[280 rows x 1 columns]\n"
     ]
    }
   ],
   "source": [
    "print(Z)\n",
    "print(W)"
   ]
  },
  {
   "cell_type": "markdown",
   "id": "1406b0d8",
   "metadata": {},
   "source": [
    "## TRAIN TEST SPLIT & INITIAL LINEAR REGRESSION ANALYSIS"
   ]
  },
  {
   "cell_type": "code",
   "execution_count": 35,
   "id": "a7b969f4",
   "metadata": {
    "scrolled": false
   },
   "outputs": [],
   "source": [
    "from sklearn.linear_model import LinearRegression\n",
    "from sklearn.model_selection import train_test_split\n",
    "\n",
    "X_train, X_test, y_train, y_test = train_test_split(Z, W, test_size=0.2, random_state = 1, shuffle= True)\n",
    "\n",
    "Z_train = pd.DataFrame(X_train)\n",
    "Z_test = pd.DataFrame(X_test)\n",
    "W_train = pd.DataFrame(y_train)\n",
    "W_test = pd.DataFrame(y_test)\n"
   ]
  },
  {
   "cell_type": "code",
   "execution_count": 36,
   "id": "fa3b8b0b",
   "metadata": {},
   "outputs": [
    {
     "data": {
      "text/plain": [
       "0.2939320660031093"
      ]
     },
     "execution_count": 36,
     "metadata": {},
     "output_type": "execute_result"
    }
   ],
   "source": [
    "lineReg = LinearRegression()\n",
    "lineReg.fit(Z_train, W_train)\n",
    "lineReg.score(Z_test, W_test)"
   ]
  },
  {
   "cell_type": "markdown",
   "id": "40f79506",
   "metadata": {},
   "source": [
    "### R2 Accuracy Score coming in at 0.2939320660031093 w/ test size of 0.2"
   ]
  },
  {
   "cell_type": "code",
   "execution_count": 37,
   "id": "7e4eb832",
   "metadata": {},
   "outputs": [
    {
     "name": "stdout",
     "output_type": "stream",
     "text": [
      "number of test samples : 56\n",
      "number of training samples: 224\n"
     ]
    }
   ],
   "source": [
    "# let us check the shape of all of these\n",
    "print(\"number of test samples :\", Z_test.shape[0])\n",
    "print(\"number of training samples:\",W_train.shape[0])"
   ]
  },
  {
   "cell_type": "code",
   "execution_count": 38,
   "id": "1a495466",
   "metadata": {},
   "outputs": [],
   "source": [
    "y_pred = lineReg.predict(X_test)"
   ]
  },
  {
   "cell_type": "code",
   "execution_count": 39,
   "id": "6ae6d9c2",
   "metadata": {},
   "outputs": [
    {
     "name": "stdout",
     "output_type": "stream",
     "text": [
      "Coefficients: \n",
      " [[0.00087483]]\n",
      "Mean squared error: 26104.90\n",
      "Coefficient of determination AKA R2: 0.29\n"
     ]
    }
   ],
   "source": [
    "from sklearn.metrics import mean_squared_error, r2_score\n",
    "# The coefficients\n",
    "print('Coefficients: \\n', lineReg.coef_)\n",
    "# The mean squared error\n",
    "print('Mean squared error: %.2f'\n",
    "      % mean_squared_error(y_test, y_pred))\n",
    "# The coefficient of determination: 1 is perfect prediction\n",
    "print('Coefficient of determination AKA R2: %.2f'\n",
    "      % r2_score(y_test, y_pred))"
   ]
  },
  {
   "cell_type": "markdown",
   "id": "88bd20b9",
   "metadata": {},
   "source": [
    "### MSE of 26104.90--- No error would be 0, this is a high amount of potential error"
   ]
  },
  {
   "cell_type": "markdown",
   "id": "ccc74fe2",
   "metadata": {},
   "source": [
    "## Gradient Boost Regressor used below to increase predictive capability"
   ]
  },
  {
   "cell_type": "code",
   "execution_count": 40,
   "id": "532f90ef",
   "metadata": {},
   "outputs": [],
   "source": [
    "from sklearn import ensemble\n",
    "clf = ensemble.GradientBoostingRegressor(n_estimators = 400, max_depth = 5, min_samples_split = 2,\n",
    "          learning_rate = 0.1, loss = 'ls')"
   ]
  },
  {
   "cell_type": "code",
   "execution_count": 41,
   "id": "82383672",
   "metadata": {},
   "outputs": [],
   "source": [
    "XT = np.ravel(X_train)"
   ]
  },
  {
   "cell_type": "code",
   "execution_count": 42,
   "id": "eefb4991",
   "metadata": {},
   "outputs": [],
   "source": [
    "# Excessive errors, used this line to check data, Commited out to reduce space\n",
    "# print(X_train)\n",
    "# print(XT)\n",
    "# print(y_train)\n",
    "# print(YT)"
   ]
  },
  {
   "cell_type": "code",
   "execution_count": 43,
   "id": "e58be1d7",
   "metadata": {},
   "outputs": [],
   "source": [
    "YT = np.ravel(y_train)"
   ]
  },
  {
   "cell_type": "code",
   "execution_count": 44,
   "id": "4ba2f2f9",
   "metadata": {},
   "outputs": [
    {
     "data": {
      "text/plain": [
       "GradientBoostingRegressor(max_depth=5, n_estimators=400)"
      ]
     },
     "execution_count": 44,
     "metadata": {},
     "output_type": "execute_result"
    }
   ],
   "source": [
    "clf.fit(X_train,YT)"
   ]
  },
  {
   "cell_type": "code",
   "execution_count": 45,
   "id": "c8af7a53",
   "metadata": {},
   "outputs": [
    {
     "data": {
      "text/plain": [
       "0.9539078317625146"
      ]
     },
     "execution_count": 45,
     "metadata": {},
     "output_type": "execute_result"
    }
   ],
   "source": [
    "clf.score(X_test,y_test)"
   ]
  },
  {
   "cell_type": "markdown",
   "id": "fa594347",
   "metadata": {},
   "source": [
    "## Analysis:\n",
    "#### We can see that for weak predictions gradient boosting does the trick for the same  \n",
    "#### train and test data.\n",
    "#### With GBR (GradientBoostedRegressor) Model we are able to increase the confidence \n",
    "#### level to an estimated 0.9630312013553498"
   ]
  },
  {
   "cell_type": "markdown",
   "id": "959f102d",
   "metadata": {},
   "source": [
    "#### LOOK ABOVE AND BELOW TO UNDERSTAND STATEMENTS BELOW: \n",
    "#### Simple Linear Analysis shows a linear relationship between two or more variables.\n",
    "#### When we draw this relationship within two variables, we get a straight line. \n",
    "#### Quadratic Discriminant Analysis would be similar to Simple Linear Analysis,\n",
    "#### except that the model allowed polynomial (e.g: x squared) and would produce curves."
   ]
  },
  {
   "cell_type": "markdown",
   "id": "d4e719c8",
   "metadata": {},
   "source": [
    "## LINEAR REGRESSION, QUADRATIC REGRESSIONS, & KNN REGRESSION"
   ]
  },
  {
   "cell_type": "code",
   "execution_count": 46,
   "id": "17f744be",
   "metadata": {},
   "outputs": [
    {
     "name": "stderr",
     "output_type": "stream",
     "text": [
      "/Users/richelynscott/opt/anaconda3/envs/pythondata/lib/python3.7/site-packages/sklearn/linear_model/_ridge.py:148: LinAlgWarning: Ill-conditioned matrix (rcond=6.14118e-25): result may not be accurate.\n",
      "  overwrite_a=True).T\n",
      "/Users/richelynscott/opt/anaconda3/envs/pythondata/lib/python3.7/site-packages/sklearn/linear_model/_ridge.py:148: LinAlgWarning: Ill-conditioned matrix (rcond=1.60644e-36): result may not be accurate.\n",
      "  overwrite_a=True).T\n"
     ]
    },
    {
     "data": {
      "text/plain": [
       "Pipeline(steps=[('polynomialfeatures', PolynomialFeatures(degree=3)),\n",
       "                ('ridge', Ridge())])"
      ]
     },
     "execution_count": 46,
     "metadata": {},
     "output_type": "execute_result"
    }
   ],
   "source": [
    "# Linear regression\n",
    "clfreg = LinearRegression(n_jobs=-1)\n",
    "clfreg.fit(X_train, y_train)\n",
    "# Quadratic Regression 2\n",
    "clfpoly2 = make_pipeline(PolynomialFeatures(2), Ridge())\n",
    "clfpoly2.fit(X_train, y_train)\n",
    "\n",
    "# Quadratic Regression 3\n",
    "clfpoly3 = make_pipeline(PolynomialFeatures(3), Ridge())\n",
    "clfpoly3.fit(X_train, y_train)"
   ]
  },
  {
   "cell_type": "code",
   "execution_count": 47,
   "id": "b8491eff",
   "metadata": {},
   "outputs": [
    {
     "data": {
      "text/plain": [
       "KNeighborsRegressor(n_neighbors=2)"
      ]
     },
     "execution_count": 47,
     "metadata": {},
     "output_type": "execute_result"
    }
   ],
   "source": [
    "# KNN Regression on Studio\n",
    "clfknn = KNeighborsRegressor(n_neighbors=2)\n",
    "clfknn.fit(X_train, y_train)"
   ]
  },
  {
   "cell_type": "code",
   "execution_count": 48,
   "id": "51819bbf",
   "metadata": {},
   "outputs": [],
   "source": [
    "confidencereg = clfreg.score(X_test, y_test)\n",
    "confidencepoly2 = clfpoly2.score(X_test,y_test)\n",
    "confidencepoly3 = clfpoly3.score(X_test,y_test)\n",
    "confidenceknn = clfknn.score(X_test, y_test)"
   ]
  },
  {
   "cell_type": "code",
   "execution_count": 49,
   "id": "e9478270",
   "metadata": {},
   "outputs": [
    {
     "name": "stdout",
     "output_type": "stream",
     "text": [
      "0.2939320660031093\n",
      "0.3425768529164398\n",
      "0.3800495196980026\n",
      "0.8936304660815191\n"
     ]
    }
   ],
   "source": [
    "print(confidencereg)\n",
    "#The linear regression confidence\n",
    "print(confidencepoly2)\n",
    "#The quadratic regression 2 confidence\n",
    "print(confidencepoly3)\n",
    "#The quadratic regression 3 confidence\n",
    "print(confidenceknn)\n",
    "#The knn regression confidence "
   ]
  },
  {
   "cell_type": "markdown",
   "id": "0c4694ec",
   "metadata": {},
   "source": [
    "#### The KNN Regression model provided a higher confidence level vs any of the linear\n",
    "#### regression analysis (with the exception of the GradientBoosted Regression)\n",
    "#### the KNN Regression model yielded the highest confidence at 0.8936304660815191\n",
    "#### On par with the Gradient Boosted Linear Regression from earlier"
   ]
  },
  {
   "cell_type": "code",
   "execution_count": null,
   "id": "ff5bc25c",
   "metadata": {},
   "outputs": [],
   "source": []
  },
  {
   "cell_type": "markdown",
   "id": "433b4ba8",
   "metadata": {},
   "source": [
    "# One Bedroom Prices Analysis"
   ]
  },
  {
   "cell_type": "code",
   "execution_count": 65,
   "id": "b0ceeff2",
   "metadata": {},
   "outputs": [],
   "source": [
    "X = rental_data1_df.iloc[:,7].values\n",
    "Y = rental_data1_df.iloc[:,3].values\n",
    "Z = pd.DataFrame(X)\n",
    "W = pd.DataFrame(Y)"
   ]
  },
  {
   "cell_type": "markdown",
   "id": "606e2f51",
   "metadata": {},
   "source": [
    "## TRAIN TEST SPLIT & INITIAL LINEAR REGRESSION ANALYSIS"
   ]
  },
  {
   "cell_type": "code",
   "execution_count": 66,
   "id": "a88912de",
   "metadata": {},
   "outputs": [
    {
     "data": {
      "text/plain": [
       "0.27903918848730547"
      ]
     },
     "execution_count": 66,
     "metadata": {},
     "output_type": "execute_result"
    }
   ],
   "source": [
    "from sklearn.linear_model import LinearRegression\n",
    "from sklearn.model_selection import train_test_split\n",
    "\n",
    "\n",
    "X_train, X_test, y_train, y_test = train_test_split(Z, W, test_size=0.2, random_state = 1, shuffle= True)\n",
    "\n",
    "Z_train = pd.DataFrame(X_train)\n",
    "Z_test = pd.DataFrame(X_test)\n",
    "W_train = pd.DataFrame(y_train)\n",
    "W_test = pd.DataFrame(y_test)\n",
    "\n",
    "lineReg = LinearRegression()\n",
    "lineReg.fit(Z_train, W_train)\n",
    "lineReg.score(Z_test, W_test)"
   ]
  },
  {
   "cell_type": "markdown",
   "id": "73209a45",
   "metadata": {},
   "source": [
    "### R2 Accuracy Score coming in at 0.27903918848730547 w/ test size of 0.2"
   ]
  },
  {
   "cell_type": "code",
   "execution_count": 72,
   "id": "7d636eca",
   "metadata": {},
   "outputs": [
    {
     "name": "stdout",
     "output_type": "stream",
     "text": [
      "number of test samples : 56\n",
      "number of training samples: 224\n"
     ]
    }
   ],
   "source": [
    "# let us check the shape of all of these\n",
    "print(\"number of test samples :\", Z_test.shape[0])\n",
    "print(\"number of training samples:\",W_train.shape[0])"
   ]
  },
  {
   "cell_type": "code",
   "execution_count": 73,
   "id": "4625bb19",
   "metadata": {},
   "outputs": [],
   "source": [
    "y_pred = lineReg.predict(X_test)"
   ]
  },
  {
   "cell_type": "code",
   "execution_count": 74,
   "id": "bd355eab",
   "metadata": {},
   "outputs": [
    {
     "name": "stdout",
     "output_type": "stream",
     "text": [
      "Coefficients: \n",
      " [[0.00095075]]\n",
      "Mean squared error: 33420.34\n",
      "Coefficient of determination AKA R2: 0.28\n"
     ]
    }
   ],
   "source": [
    "from sklearn.metrics import mean_squared_error, r2_score\n",
    "# The coefficients\n",
    "print('Coefficients: \\n', lineReg.coef_)\n",
    "# The mean squared error\n",
    "print('Mean squared error: %.2f'\n",
    "      % mean_squared_error(y_test, y_pred))\n",
    "# The coefficient of determination: 1 is perfect prediction\n",
    "print('Coefficient of determination AKA R2: %.2f'\n",
    "      % r2_score(y_test, y_pred))"
   ]
  },
  {
   "cell_type": "markdown",
   "id": "7a2c7978",
   "metadata": {},
   "source": [
    "### MSE of 33420.34--- No error would be 0, this is a high amount of potential error"
   ]
  },
  {
   "cell_type": "markdown",
   "id": "0d2669af",
   "metadata": {},
   "source": [
    "## Gradient Boost Regressor used below to increase predictive capability"
   ]
  },
  {
   "cell_type": "code",
   "execution_count": 75,
   "id": "5883ce48",
   "metadata": {},
   "outputs": [],
   "source": [
    "from sklearn import ensemble\n",
    "clf = ensemble.GradientBoostingRegressor(n_estimators = 400, max_depth = 5, min_samples_split = 2,\n",
    "          learning_rate = 0.1, loss = 'ls')"
   ]
  },
  {
   "cell_type": "code",
   "execution_count": 76,
   "id": "31adc5d0",
   "metadata": {},
   "outputs": [],
   "source": [
    "XT = np.ravel(X_train)"
   ]
  },
  {
   "cell_type": "code",
   "execution_count": 78,
   "id": "fc2f32bb",
   "metadata": {},
   "outputs": [],
   "source": [
    "YT = np.ravel(y_train)"
   ]
  },
  {
   "cell_type": "code",
   "execution_count": 79,
   "id": "ed7d29dc",
   "metadata": {},
   "outputs": [],
   "source": [
    "# Excessive errors, used this line to check data, Commited out to reduce space\n",
    "# print(X_train)\n",
    "# print(XT)\n",
    "# print(y_train)\n",
    "# print(YT)"
   ]
  },
  {
   "cell_type": "code",
   "execution_count": 80,
   "id": "9532a238",
   "metadata": {},
   "outputs": [
    {
     "data": {
      "text/plain": [
       "GradientBoostingRegressor(max_depth=5, n_estimators=400)"
      ]
     },
     "execution_count": 80,
     "metadata": {},
     "output_type": "execute_result"
    }
   ],
   "source": [
    "clf.fit(X_train,YT)"
   ]
  },
  {
   "cell_type": "code",
   "execution_count": 81,
   "id": "18a51121",
   "metadata": {},
   "outputs": [
    {
     "data": {
      "text/plain": [
       "0.9630312013553498"
      ]
     },
     "execution_count": 81,
     "metadata": {},
     "output_type": "execute_result"
    }
   ],
   "source": [
    "clf.score(X_test,y_test)"
   ]
  },
  {
   "cell_type": "code",
   "execution_count": 58,
   "id": "3581b5df",
   "metadata": {},
   "outputs": [],
   "source": [
    "# We can see that for weak predictions gradient boosting does the trick for the same \n",
    "# train and test data.\n",
    "## With GBR (GradientBoostedRegressor) Model we are able to increase the confidence \n",
    "# level to an estimated 0.9261621946844649"
   ]
  },
  {
   "cell_type": "code",
   "execution_count": 59,
   "id": "7d02d124",
   "metadata": {},
   "outputs": [],
   "source": [
    "# Simple Linear Analysis shows a linear relationship between two or more variables.\n",
    "# When we draw this relationship within two variables, we get a straight line. \n",
    "# Quadratic Discriminant Analysis would be similar to Simple Linear Analysis,\n",
    "# except that the model allowed polynomial (e.g: x squared) and would produce curves."
   ]
  },
  {
   "cell_type": "code",
   "execution_count": 60,
   "id": "2dde7f54",
   "metadata": {},
   "outputs": [
    {
     "name": "stderr",
     "output_type": "stream",
     "text": [
      "/Users/richelynscott/opt/anaconda3/envs/pythondata/lib/python3.7/site-packages/sklearn/linear_model/_ridge.py:148: LinAlgWarning: Ill-conditioned matrix (rcond=6.14118e-25): result may not be accurate.\n",
      "  overwrite_a=True).T\n",
      "/Users/richelynscott/opt/anaconda3/envs/pythondata/lib/python3.7/site-packages/sklearn/linear_model/_ridge.py:148: LinAlgWarning: Ill-conditioned matrix (rcond=1.60644e-36): result may not be accurate.\n",
      "  overwrite_a=True).T\n"
     ]
    },
    {
     "data": {
      "text/plain": [
       "Pipeline(steps=[('polynomialfeatures', PolynomialFeatures(degree=3)),\n",
       "                ('ridge', Ridge())])"
      ]
     },
     "execution_count": 60,
     "metadata": {},
     "output_type": "execute_result"
    }
   ],
   "source": [
    "# Linear regression\n",
    "clfreg = LinearRegression(n_jobs=-1)\n",
    "clfreg.fit(X_train, y_train)\n",
    "# Quadratic Regression 2\n",
    "clfpoly2 = make_pipeline(PolynomialFeatures(2), Ridge())\n",
    "clfpoly2.fit(X_train, y_train)\n",
    "\n",
    "# Quadratic Regression 3\n",
    "clfpoly3 = make_pipeline(PolynomialFeatures(3), Ridge())\n",
    "clfpoly3.fit(X_train, y_train)"
   ]
  },
  {
   "cell_type": "code",
   "execution_count": 61,
   "id": "d870c1b4",
   "metadata": {},
   "outputs": [
    {
     "data": {
      "text/plain": [
       "KNeighborsRegressor(n_neighbors=2)"
      ]
     },
     "execution_count": 61,
     "metadata": {},
     "output_type": "execute_result"
    }
   ],
   "source": [
    "# KNN Regression on One Bedroom\n",
    "clfknn = KNeighborsRegressor(n_neighbors=2)\n",
    "clfknn.fit(X_train, y_train)"
   ]
  },
  {
   "cell_type": "code",
   "execution_count": 62,
   "id": "89262184",
   "metadata": {},
   "outputs": [],
   "source": [
    "confidencereg = clfreg.score(X_test, y_test)\n",
    "confidencepoly2 = clfpoly2.score(X_test,y_test)\n",
    "confidencepoly3 = clfpoly3.score(X_test,y_test)\n",
    "confidenceknn = clfknn.score(X_test, y_test)"
   ]
  },
  {
   "cell_type": "code",
   "execution_count": 63,
   "id": "293a43c9",
   "metadata": {},
   "outputs": [
    {
     "name": "stdout",
     "output_type": "stream",
     "text": [
      "0.27903918848730547\n",
      "0.3115405577424176\n",
      "0.35998870444409137\n",
      "0.8955947178777434\n"
     ]
    }
   ],
   "source": [
    "print(confidencereg)\n",
    "#The linear regression confidence\n",
    "print(confidencepoly2)\n",
    "#The quadratic regression 2 confidence\n",
    "print(confidencepoly3)\n",
    "#The quadratic regression 3 confidence\n",
    "print(confidenceknn)\n",
    "#The knn regression confidence "
   ]
  },
  {
   "cell_type": "markdown",
   "id": "16a941d1",
   "metadata": {},
   "source": [
    "#### The KNN Regression model provided a higher confidence level vs any of the linear\n",
    "#### regression analysis (with the exception of the GradientBoosted Regression)\n",
    "#### the KNN Regression model yielded the highest confidence at 0.8955947178777434\n",
    "#### On par with the Gradient Boosted Linear Regression from earlier"
   ]
  },
  {
   "cell_type": "code",
   "execution_count": null,
   "id": "9c6a32ff",
   "metadata": {},
   "outputs": [],
   "source": []
  },
  {
   "cell_type": "markdown",
   "id": "80f54824",
   "metadata": {},
   "source": [
    "# Two Bedroom Prices Analysis"
   ]
  },
  {
   "cell_type": "code",
   "execution_count": 88,
   "id": "57a8279d",
   "metadata": {},
   "outputs": [],
   "source": [
    "X = rental_data1_df.iloc[:,7].values\n",
    "Y = rental_data1_df.iloc[:,4].values\n",
    "Z = pd.DataFrame(X)\n",
    "W = pd.DataFrame(Y)"
   ]
  },
  {
   "cell_type": "markdown",
   "id": "f5f94a97",
   "metadata": {},
   "source": [
    "## TRAIN TEST SPLIT & INITIAL LINEAR REGRESSION ANALYSIS"
   ]
  },
  {
   "cell_type": "code",
   "execution_count": 90,
   "id": "be49ee45",
   "metadata": {},
   "outputs": [
    {
     "data": {
      "text/plain": [
       "0.27903918848730547"
      ]
     },
     "execution_count": 90,
     "metadata": {},
     "output_type": "execute_result"
    }
   ],
   "source": [
    "from sklearn.linear_model import LinearRegression\n",
    "from sklearn.model_selection import train_test_split\n",
    "\n",
    "\n",
    "X_train, X_test, y_train, y_test = train_test_split(Z, W, test_size=0.2, random_state = 1, shuffle= True)\n",
    "\n",
    "X_train = pd.DataFrame(X)\n",
    "X_test = pd.DataFrame(X_test)\n",
    "y_train = pd.DataFrame(y_train)\n",
    "y_test = pd.DataFrame(y_test)\n",
    "\n",
    "lineReg = LinearRegression()\n",
    "lineReg.fit(Z_train, W_train)\n",
    "lineReg.score(Z_test, W_test)"
   ]
  },
  {
   "cell_type": "markdown",
   "id": "33f72c39",
   "metadata": {},
   "source": [
    "### R2 Accuracy Score coming in at 0.27903918848730547 w/ test size of 0.2\n"
   ]
  },
  {
   "cell_type": "code",
   "execution_count": 91,
   "id": "ae092408",
   "metadata": {},
   "outputs": [
    {
     "name": "stdout",
     "output_type": "stream",
     "text": [
      "number of test samples : 56\n",
      "number of training samples: 280\n"
     ]
    }
   ],
   "source": [
    "# let us check the shape of all of these\n",
    "print(\"number of test samples :\", X_test.shape[0])\n",
    "print(\"number of training samples:\",X_train.shape[0])"
   ]
  },
  {
   "cell_type": "code",
   "execution_count": 92,
   "id": "481233cd",
   "metadata": {},
   "outputs": [],
   "source": [
    "y_pred = lineReg.predict(X_test)"
   ]
  },
  {
   "cell_type": "code",
   "execution_count": 93,
   "id": "7adf8811",
   "metadata": {},
   "outputs": [
    {
     "name": "stdout",
     "output_type": "stream",
     "text": [
      "Coefficients: \n",
      " [[0.00095075]]\n",
      "Mean squared error: 85728.24\n",
      "Coefficient of determination AKA R2: -0.29\n"
     ]
    }
   ],
   "source": [
    "from sklearn.metrics import mean_squared_error, r2_score\n",
    "# The coefficients\n",
    "print('Coefficients: \\n', lineReg.coef_)\n",
    "# The mean squared error\n",
    "print('Mean squared error: %.2f'\n",
    "      % mean_squared_error(y_test, y_pred))\n",
    "# The coefficient of determination: 1 is perfect prediction\n",
    "print('Coefficient of determination AKA R2: %.2f'\n",
    "      % r2_score(y_test, y_pred))"
   ]
  },
  {
   "cell_type": "markdown",
   "id": "a68a103b",
   "metadata": {},
   "source": [
    "### MSE of 33420.34--- No error would be 0, this is a high amount of potential error"
   ]
  },
  {
   "cell_type": "markdown",
   "id": "05366f54",
   "metadata": {},
   "source": [
    "## Gradient Boost Regressor used below to increase predictive capability"
   ]
  },
  {
   "cell_type": "code",
   "execution_count": 105,
   "id": "d8b4cb04",
   "metadata": {},
   "outputs": [],
   "source": [
    "from sklearn import ensemble\n",
    "clf = ensemble.GradientBoostingRegressor(n_estimators = 400, max_depth = 5, min_samples_split = 2,\n",
    "          learning_rate = 0.1, loss = 'ls')"
   ]
  },
  {
   "cell_type": "code",
   "execution_count": 106,
   "id": "382db5ec",
   "metadata": {},
   "outputs": [],
   "source": [
    "XT = np.ravel(X_train)"
   ]
  },
  {
   "cell_type": "code",
   "execution_count": 107,
   "id": "2d475491",
   "metadata": {},
   "outputs": [],
   "source": [
    "YT = np.ravel(y_train)"
   ]
  },
  {
   "cell_type": "code",
   "execution_count": 108,
   "id": "f0ac4e25",
   "metadata": {},
   "outputs": [],
   "source": [
    "# Excessive errors, used this line to check data, Commited out to reduce space\n",
    "# print(X_train)\n",
    "# print(XT)\n",
    "# print(y_train)\n",
    "# print(YT)"
   ]
  },
  {
   "cell_type": "code",
   "execution_count": 117,
   "id": "38913dee",
   "metadata": {},
   "outputs": [
    {
     "data": {
      "text/plain": [
       "(280, 1)"
      ]
     },
     "execution_count": 117,
     "metadata": {},
     "output_type": "execute_result"
    }
   ],
   "source": [
    "# X_train.shape"
   ]
  },
  {
   "cell_type": "code",
   "execution_count": 115,
   "id": "a1b5b521",
   "metadata": {},
   "outputs": [
    {
     "data": {
      "text/plain": [
       "(224,)"
      ]
     },
     "execution_count": 115,
     "metadata": {},
     "output_type": "execute_result"
    }
   ],
   "source": [
    "# YT.shape  #####NEED TO COME BACK AND TROUBLESHOOT FOR ALL THESE MISMATCHED"
   ]
  },
  {
   "cell_type": "code",
   "execution_count": 109,
   "id": "75f472d8",
   "metadata": {},
   "outputs": [
    {
     "ename": "ValueError",
     "evalue": "Found input variables with inconsistent numbers of samples: [280, 224]",
     "output_type": "error",
     "traceback": [
      "\u001b[0;31m---------------------------------------------------------------------------\u001b[0m",
      "\u001b[0;31mValueError\u001b[0m                                Traceback (most recent call last)",
      "\u001b[0;32m<ipython-input-109-f6dadaec71a1>\u001b[0m in \u001b[0;36m<module>\u001b[0;34m\u001b[0m\n\u001b[0;32m----> 1\u001b[0;31m \u001b[0mclf\u001b[0m\u001b[0;34m.\u001b[0m\u001b[0mfit\u001b[0m\u001b[0;34m(\u001b[0m\u001b[0mX_train\u001b[0m\u001b[0;34m,\u001b[0m\u001b[0mYT\u001b[0m\u001b[0;34m)\u001b[0m\u001b[0;34m\u001b[0m\u001b[0;34m\u001b[0m\u001b[0m\n\u001b[0m",
      "\u001b[0;32m~/opt/anaconda3/envs/pythondata/lib/python3.7/site-packages/sklearn/ensemble/_gb.py\u001b[0m in \u001b[0;36mfit\u001b[0;34m(self, X, y, sample_weight, monitor)\u001b[0m\n\u001b[1;32m    411\u001b[0m \u001b[0;34m\u001b[0m\u001b[0m\n\u001b[1;32m    412\u001b[0m         X, y = self._validate_data(X, y, accept_sparse=['csr', 'csc', 'coo'],\n\u001b[0;32m--> 413\u001b[0;31m                                    dtype=DTYPE, multi_output=True)\n\u001b[0m\u001b[1;32m    414\u001b[0m         \u001b[0mn_samples\u001b[0m\u001b[0;34m,\u001b[0m \u001b[0mself\u001b[0m\u001b[0;34m.\u001b[0m\u001b[0mn_features_\u001b[0m \u001b[0;34m=\u001b[0m \u001b[0mX\u001b[0m\u001b[0;34m.\u001b[0m\u001b[0mshape\u001b[0m\u001b[0;34m\u001b[0m\u001b[0;34m\u001b[0m\u001b[0m\n\u001b[1;32m    415\u001b[0m \u001b[0;34m\u001b[0m\u001b[0m\n",
      "\u001b[0;32m~/opt/anaconda3/envs/pythondata/lib/python3.7/site-packages/sklearn/base.py\u001b[0m in \u001b[0;36m_validate_data\u001b[0;34m(self, X, y, reset, validate_separately, **check_params)\u001b[0m\n\u001b[1;32m    431\u001b[0m                 \u001b[0my\u001b[0m \u001b[0;34m=\u001b[0m \u001b[0mcheck_array\u001b[0m\u001b[0;34m(\u001b[0m\u001b[0my\u001b[0m\u001b[0;34m,\u001b[0m \u001b[0;34m**\u001b[0m\u001b[0mcheck_y_params\u001b[0m\u001b[0;34m)\u001b[0m\u001b[0;34m\u001b[0m\u001b[0;34m\u001b[0m\u001b[0m\n\u001b[1;32m    432\u001b[0m             \u001b[0;32melse\u001b[0m\u001b[0;34m:\u001b[0m\u001b[0;34m\u001b[0m\u001b[0;34m\u001b[0m\u001b[0m\n\u001b[0;32m--> 433\u001b[0;31m                 \u001b[0mX\u001b[0m\u001b[0;34m,\u001b[0m \u001b[0my\u001b[0m \u001b[0;34m=\u001b[0m \u001b[0mcheck_X_y\u001b[0m\u001b[0;34m(\u001b[0m\u001b[0mX\u001b[0m\u001b[0;34m,\u001b[0m \u001b[0my\u001b[0m\u001b[0;34m,\u001b[0m \u001b[0;34m**\u001b[0m\u001b[0mcheck_params\u001b[0m\u001b[0;34m)\u001b[0m\u001b[0;34m\u001b[0m\u001b[0;34m\u001b[0m\u001b[0m\n\u001b[0m\u001b[1;32m    434\u001b[0m             \u001b[0mout\u001b[0m \u001b[0;34m=\u001b[0m \u001b[0mX\u001b[0m\u001b[0;34m,\u001b[0m \u001b[0my\u001b[0m\u001b[0;34m\u001b[0m\u001b[0;34m\u001b[0m\u001b[0m\n\u001b[1;32m    435\u001b[0m \u001b[0;34m\u001b[0m\u001b[0m\n",
      "\u001b[0;32m~/opt/anaconda3/envs/pythondata/lib/python3.7/site-packages/sklearn/utils/validation.py\u001b[0m in \u001b[0;36minner_f\u001b[0;34m(*args, **kwargs)\u001b[0m\n\u001b[1;32m     61\u001b[0m             \u001b[0mextra_args\u001b[0m \u001b[0;34m=\u001b[0m \u001b[0mlen\u001b[0m\u001b[0;34m(\u001b[0m\u001b[0margs\u001b[0m\u001b[0;34m)\u001b[0m \u001b[0;34m-\u001b[0m \u001b[0mlen\u001b[0m\u001b[0;34m(\u001b[0m\u001b[0mall_args\u001b[0m\u001b[0;34m)\u001b[0m\u001b[0;34m\u001b[0m\u001b[0;34m\u001b[0m\u001b[0m\n\u001b[1;32m     62\u001b[0m             \u001b[0;32mif\u001b[0m \u001b[0mextra_args\u001b[0m \u001b[0;34m<=\u001b[0m \u001b[0;36m0\u001b[0m\u001b[0;34m:\u001b[0m\u001b[0;34m\u001b[0m\u001b[0;34m\u001b[0m\u001b[0m\n\u001b[0;32m---> 63\u001b[0;31m                 \u001b[0;32mreturn\u001b[0m \u001b[0mf\u001b[0m\u001b[0;34m(\u001b[0m\u001b[0;34m*\u001b[0m\u001b[0margs\u001b[0m\u001b[0;34m,\u001b[0m \u001b[0;34m**\u001b[0m\u001b[0mkwargs\u001b[0m\u001b[0;34m)\u001b[0m\u001b[0;34m\u001b[0m\u001b[0;34m\u001b[0m\u001b[0m\n\u001b[0m\u001b[1;32m     64\u001b[0m \u001b[0;34m\u001b[0m\u001b[0m\n\u001b[1;32m     65\u001b[0m             \u001b[0;31m# extra_args > 0\u001b[0m\u001b[0;34m\u001b[0m\u001b[0;34m\u001b[0m\u001b[0;34m\u001b[0m\u001b[0m\n",
      "\u001b[0;32m~/opt/anaconda3/envs/pythondata/lib/python3.7/site-packages/sklearn/utils/validation.py\u001b[0m in \u001b[0;36mcheck_X_y\u001b[0;34m(X, y, accept_sparse, accept_large_sparse, dtype, order, copy, force_all_finite, ensure_2d, allow_nd, multi_output, ensure_min_samples, ensure_min_features, y_numeric, estimator)\u001b[0m\n\u001b[1;32m    829\u001b[0m         \u001b[0my\u001b[0m \u001b[0;34m=\u001b[0m \u001b[0my\u001b[0m\u001b[0;34m.\u001b[0m\u001b[0mastype\u001b[0m\u001b[0;34m(\u001b[0m\u001b[0mnp\u001b[0m\u001b[0;34m.\u001b[0m\u001b[0mfloat64\u001b[0m\u001b[0;34m)\u001b[0m\u001b[0;34m\u001b[0m\u001b[0;34m\u001b[0m\u001b[0m\n\u001b[1;32m    830\u001b[0m \u001b[0;34m\u001b[0m\u001b[0m\n\u001b[0;32m--> 831\u001b[0;31m     \u001b[0mcheck_consistent_length\u001b[0m\u001b[0;34m(\u001b[0m\u001b[0mX\u001b[0m\u001b[0;34m,\u001b[0m \u001b[0my\u001b[0m\u001b[0;34m)\u001b[0m\u001b[0;34m\u001b[0m\u001b[0;34m\u001b[0m\u001b[0m\n\u001b[0m\u001b[1;32m    832\u001b[0m \u001b[0;34m\u001b[0m\u001b[0m\n\u001b[1;32m    833\u001b[0m     \u001b[0;32mreturn\u001b[0m \u001b[0mX\u001b[0m\u001b[0;34m,\u001b[0m \u001b[0my\u001b[0m\u001b[0;34m\u001b[0m\u001b[0;34m\u001b[0m\u001b[0m\n",
      "\u001b[0;32m~/opt/anaconda3/envs/pythondata/lib/python3.7/site-packages/sklearn/utils/validation.py\u001b[0m in \u001b[0;36mcheck_consistent_length\u001b[0;34m(*arrays)\u001b[0m\n\u001b[1;32m    261\u001b[0m     \u001b[0;32mif\u001b[0m \u001b[0mlen\u001b[0m\u001b[0;34m(\u001b[0m\u001b[0muniques\u001b[0m\u001b[0;34m)\u001b[0m \u001b[0;34m>\u001b[0m \u001b[0;36m1\u001b[0m\u001b[0;34m:\u001b[0m\u001b[0;34m\u001b[0m\u001b[0;34m\u001b[0m\u001b[0m\n\u001b[1;32m    262\u001b[0m         raise ValueError(\"Found input variables with inconsistent numbers of\"\n\u001b[0;32m--> 263\u001b[0;31m                          \" samples: %r\" % [int(l) for l in lengths])\n\u001b[0m\u001b[1;32m    264\u001b[0m \u001b[0;34m\u001b[0m\u001b[0m\n\u001b[1;32m    265\u001b[0m \u001b[0;34m\u001b[0m\u001b[0m\n",
      "\u001b[0;31mValueError\u001b[0m: Found input variables with inconsistent numbers of samples: [280, 224]"
     ]
    }
   ],
   "source": [
    "clf.fit(X_train,YT)"
   ]
  },
  {
   "cell_type": "code",
   "execution_count": 110,
   "id": "6bde56da",
   "metadata": {},
   "outputs": [
    {
     "ename": "NotFittedError",
     "evalue": "This GradientBoostingRegressor instance is not fitted yet. Call 'fit' with appropriate arguments before using this estimator.",
     "output_type": "error",
     "traceback": [
      "\u001b[0;31m---------------------------------------------------------------------------\u001b[0m",
      "\u001b[0;31mNotFittedError\u001b[0m                            Traceback (most recent call last)",
      "\u001b[0;32m<ipython-input-110-c43f8f09f1d4>\u001b[0m in \u001b[0;36m<module>\u001b[0;34m\u001b[0m\n\u001b[0;32m----> 1\u001b[0;31m \u001b[0mclf\u001b[0m\u001b[0;34m.\u001b[0m\u001b[0mscore\u001b[0m\u001b[0;34m(\u001b[0m\u001b[0mX_test\u001b[0m\u001b[0;34m,\u001b[0m\u001b[0my_test\u001b[0m\u001b[0;34m)\u001b[0m\u001b[0;34m\u001b[0m\u001b[0;34m\u001b[0m\u001b[0m\n\u001b[0m",
      "\u001b[0;32m~/opt/anaconda3/envs/pythondata/lib/python3.7/site-packages/sklearn/base.py\u001b[0m in \u001b[0;36mscore\u001b[0;34m(self, X, y, sample_weight)\u001b[0m\n\u001b[1;32m    551\u001b[0m \u001b[0;34m\u001b[0m\u001b[0m\n\u001b[1;32m    552\u001b[0m         \u001b[0;32mfrom\u001b[0m \u001b[0;34m.\u001b[0m\u001b[0mmetrics\u001b[0m \u001b[0;32mimport\u001b[0m \u001b[0mr2_score\u001b[0m\u001b[0;34m\u001b[0m\u001b[0;34m\u001b[0m\u001b[0m\n\u001b[0;32m--> 553\u001b[0;31m         \u001b[0my_pred\u001b[0m \u001b[0;34m=\u001b[0m \u001b[0mself\u001b[0m\u001b[0;34m.\u001b[0m\u001b[0mpredict\u001b[0m\u001b[0;34m(\u001b[0m\u001b[0mX\u001b[0m\u001b[0;34m)\u001b[0m\u001b[0;34m\u001b[0m\u001b[0;34m\u001b[0m\u001b[0m\n\u001b[0m\u001b[1;32m    554\u001b[0m         \u001b[0;32mreturn\u001b[0m \u001b[0mr2_score\u001b[0m\u001b[0;34m(\u001b[0m\u001b[0my\u001b[0m\u001b[0;34m,\u001b[0m \u001b[0my_pred\u001b[0m\u001b[0;34m,\u001b[0m \u001b[0msample_weight\u001b[0m\u001b[0;34m=\u001b[0m\u001b[0msample_weight\u001b[0m\u001b[0;34m)\u001b[0m\u001b[0;34m\u001b[0m\u001b[0;34m\u001b[0m\u001b[0m\n\u001b[1;32m    555\u001b[0m \u001b[0;34m\u001b[0m\u001b[0m\n",
      "\u001b[0;32m~/opt/anaconda3/envs/pythondata/lib/python3.7/site-packages/sklearn/ensemble/_gb.py\u001b[0m in \u001b[0;36mpredict\u001b[0;34m(self, X)\u001b[0m\n\u001b[1;32m   1650\u001b[0m         \u001b[0mX\u001b[0m \u001b[0;34m=\u001b[0m \u001b[0mcheck_array\u001b[0m\u001b[0;34m(\u001b[0m\u001b[0mX\u001b[0m\u001b[0;34m,\u001b[0m \u001b[0mdtype\u001b[0m\u001b[0;34m=\u001b[0m\u001b[0mDTYPE\u001b[0m\u001b[0;34m,\u001b[0m \u001b[0morder\u001b[0m\u001b[0;34m=\u001b[0m\u001b[0;34m\"C\"\u001b[0m\u001b[0;34m,\u001b[0m \u001b[0maccept_sparse\u001b[0m\u001b[0;34m=\u001b[0m\u001b[0;34m'csr'\u001b[0m\u001b[0;34m)\u001b[0m\u001b[0;34m\u001b[0m\u001b[0;34m\u001b[0m\u001b[0m\n\u001b[1;32m   1651\u001b[0m         \u001b[0;31m# In regression we can directly return the raw value from the trees.\u001b[0m\u001b[0;34m\u001b[0m\u001b[0;34m\u001b[0m\u001b[0;34m\u001b[0m\u001b[0m\n\u001b[0;32m-> 1652\u001b[0;31m         \u001b[0;32mreturn\u001b[0m \u001b[0mself\u001b[0m\u001b[0;34m.\u001b[0m\u001b[0m_raw_predict\u001b[0m\u001b[0;34m(\u001b[0m\u001b[0mX\u001b[0m\u001b[0;34m)\u001b[0m\u001b[0;34m.\u001b[0m\u001b[0mravel\u001b[0m\u001b[0;34m(\u001b[0m\u001b[0;34m)\u001b[0m\u001b[0;34m\u001b[0m\u001b[0;34m\u001b[0m\u001b[0m\n\u001b[0m\u001b[1;32m   1653\u001b[0m \u001b[0;34m\u001b[0m\u001b[0m\n\u001b[1;32m   1654\u001b[0m     \u001b[0;32mdef\u001b[0m \u001b[0mstaged_predict\u001b[0m\u001b[0;34m(\u001b[0m\u001b[0mself\u001b[0m\u001b[0;34m,\u001b[0m \u001b[0mX\u001b[0m\u001b[0;34m)\u001b[0m\u001b[0;34m:\u001b[0m\u001b[0;34m\u001b[0m\u001b[0;34m\u001b[0m\u001b[0m\n",
      "\u001b[0;32m~/opt/anaconda3/envs/pythondata/lib/python3.7/site-packages/sklearn/ensemble/_gb.py\u001b[0m in \u001b[0;36m_raw_predict\u001b[0;34m(self, X)\u001b[0m\n\u001b[1;32m    622\u001b[0m     \u001b[0;32mdef\u001b[0m \u001b[0m_raw_predict\u001b[0m\u001b[0;34m(\u001b[0m\u001b[0mself\u001b[0m\u001b[0;34m,\u001b[0m \u001b[0mX\u001b[0m\u001b[0;34m)\u001b[0m\u001b[0;34m:\u001b[0m\u001b[0;34m\u001b[0m\u001b[0;34m\u001b[0m\u001b[0m\n\u001b[1;32m    623\u001b[0m         \u001b[0;34m\"\"\"Return the sum of the trees raw predictions (+ init estimator).\"\"\"\u001b[0m\u001b[0;34m\u001b[0m\u001b[0;34m\u001b[0m\u001b[0m\n\u001b[0;32m--> 624\u001b[0;31m         \u001b[0mraw_predictions\u001b[0m \u001b[0;34m=\u001b[0m \u001b[0mself\u001b[0m\u001b[0;34m.\u001b[0m\u001b[0m_raw_predict_init\u001b[0m\u001b[0;34m(\u001b[0m\u001b[0mX\u001b[0m\u001b[0;34m)\u001b[0m\u001b[0;34m\u001b[0m\u001b[0;34m\u001b[0m\u001b[0m\n\u001b[0m\u001b[1;32m    625\u001b[0m         predict_stages(self.estimators_, X, self.learning_rate,\n\u001b[1;32m    626\u001b[0m                        raw_predictions)\n",
      "\u001b[0;32m~/opt/anaconda3/envs/pythondata/lib/python3.7/site-packages/sklearn/ensemble/_gb.py\u001b[0m in \u001b[0;36m_raw_predict_init\u001b[0;34m(self, X)\u001b[0m\n\u001b[1;32m    607\u001b[0m     \u001b[0;32mdef\u001b[0m \u001b[0m_raw_predict_init\u001b[0m\u001b[0;34m(\u001b[0m\u001b[0mself\u001b[0m\u001b[0;34m,\u001b[0m \u001b[0mX\u001b[0m\u001b[0;34m)\u001b[0m\u001b[0;34m:\u001b[0m\u001b[0;34m\u001b[0m\u001b[0;34m\u001b[0m\u001b[0m\n\u001b[1;32m    608\u001b[0m         \u001b[0;34m\"\"\"Check input and compute raw predictions of the init estimator.\"\"\"\u001b[0m\u001b[0;34m\u001b[0m\u001b[0;34m\u001b[0m\u001b[0m\n\u001b[0;32m--> 609\u001b[0;31m         \u001b[0mself\u001b[0m\u001b[0;34m.\u001b[0m\u001b[0m_check_initialized\u001b[0m\u001b[0;34m(\u001b[0m\u001b[0;34m)\u001b[0m\u001b[0;34m\u001b[0m\u001b[0;34m\u001b[0m\u001b[0m\n\u001b[0m\u001b[1;32m    610\u001b[0m         \u001b[0mX\u001b[0m \u001b[0;34m=\u001b[0m \u001b[0mself\u001b[0m\u001b[0;34m.\u001b[0m\u001b[0mestimators_\u001b[0m\u001b[0;34m[\u001b[0m\u001b[0;36m0\u001b[0m\u001b[0;34m,\u001b[0m \u001b[0;36m0\u001b[0m\u001b[0;34m]\u001b[0m\u001b[0;34m.\u001b[0m\u001b[0m_validate_X_predict\u001b[0m\u001b[0;34m(\u001b[0m\u001b[0mX\u001b[0m\u001b[0;34m,\u001b[0m \u001b[0mcheck_input\u001b[0m\u001b[0;34m=\u001b[0m\u001b[0;32mTrue\u001b[0m\u001b[0;34m)\u001b[0m\u001b[0;34m\u001b[0m\u001b[0;34m\u001b[0m\u001b[0m\n\u001b[1;32m    611\u001b[0m         \u001b[0;32mif\u001b[0m \u001b[0mX\u001b[0m\u001b[0;34m.\u001b[0m\u001b[0mshape\u001b[0m\u001b[0;34m[\u001b[0m\u001b[0;36m1\u001b[0m\u001b[0;34m]\u001b[0m \u001b[0;34m!=\u001b[0m \u001b[0mself\u001b[0m\u001b[0;34m.\u001b[0m\u001b[0mn_features_\u001b[0m\u001b[0;34m:\u001b[0m\u001b[0;34m\u001b[0m\u001b[0;34m\u001b[0m\u001b[0m\n",
      "\u001b[0;32m~/opt/anaconda3/envs/pythondata/lib/python3.7/site-packages/sklearn/ensemble/_gb.py\u001b[0m in \u001b[0;36m_check_initialized\u001b[0;34m(self)\u001b[0m\n\u001b[1;32m    357\u001b[0m     \u001b[0;32mdef\u001b[0m \u001b[0m_check_initialized\u001b[0m\u001b[0;34m(\u001b[0m\u001b[0mself\u001b[0m\u001b[0;34m)\u001b[0m\u001b[0;34m:\u001b[0m\u001b[0;34m\u001b[0m\u001b[0;34m\u001b[0m\u001b[0m\n\u001b[1;32m    358\u001b[0m         \u001b[0;34m\"\"\"Check that the estimator is initialized, raising an error if not.\"\"\"\u001b[0m\u001b[0;34m\u001b[0m\u001b[0;34m\u001b[0m\u001b[0m\n\u001b[0;32m--> 359\u001b[0;31m         \u001b[0mcheck_is_fitted\u001b[0m\u001b[0;34m(\u001b[0m\u001b[0mself\u001b[0m\u001b[0;34m)\u001b[0m\u001b[0;34m\u001b[0m\u001b[0;34m\u001b[0m\u001b[0m\n\u001b[0m\u001b[1;32m    360\u001b[0m \u001b[0;34m\u001b[0m\u001b[0m\n\u001b[1;32m    361\u001b[0m     \u001b[0;34m@\u001b[0m\u001b[0mabstractmethod\u001b[0m\u001b[0;34m\u001b[0m\u001b[0;34m\u001b[0m\u001b[0m\n",
      "\u001b[0;32m~/opt/anaconda3/envs/pythondata/lib/python3.7/site-packages/sklearn/utils/validation.py\u001b[0m in \u001b[0;36minner_f\u001b[0;34m(*args, **kwargs)\u001b[0m\n\u001b[1;32m     61\u001b[0m             \u001b[0mextra_args\u001b[0m \u001b[0;34m=\u001b[0m \u001b[0mlen\u001b[0m\u001b[0;34m(\u001b[0m\u001b[0margs\u001b[0m\u001b[0;34m)\u001b[0m \u001b[0;34m-\u001b[0m \u001b[0mlen\u001b[0m\u001b[0;34m(\u001b[0m\u001b[0mall_args\u001b[0m\u001b[0;34m)\u001b[0m\u001b[0;34m\u001b[0m\u001b[0;34m\u001b[0m\u001b[0m\n\u001b[1;32m     62\u001b[0m             \u001b[0;32mif\u001b[0m \u001b[0mextra_args\u001b[0m \u001b[0;34m<=\u001b[0m \u001b[0;36m0\u001b[0m\u001b[0;34m:\u001b[0m\u001b[0;34m\u001b[0m\u001b[0;34m\u001b[0m\u001b[0m\n\u001b[0;32m---> 63\u001b[0;31m                 \u001b[0;32mreturn\u001b[0m \u001b[0mf\u001b[0m\u001b[0;34m(\u001b[0m\u001b[0;34m*\u001b[0m\u001b[0margs\u001b[0m\u001b[0;34m,\u001b[0m \u001b[0;34m**\u001b[0m\u001b[0mkwargs\u001b[0m\u001b[0;34m)\u001b[0m\u001b[0;34m\u001b[0m\u001b[0;34m\u001b[0m\u001b[0m\n\u001b[0m\u001b[1;32m     64\u001b[0m \u001b[0;34m\u001b[0m\u001b[0m\n\u001b[1;32m     65\u001b[0m             \u001b[0;31m# extra_args > 0\u001b[0m\u001b[0;34m\u001b[0m\u001b[0;34m\u001b[0m\u001b[0;34m\u001b[0m\u001b[0m\n",
      "\u001b[0;32m~/opt/anaconda3/envs/pythondata/lib/python3.7/site-packages/sklearn/utils/validation.py\u001b[0m in \u001b[0;36mcheck_is_fitted\u001b[0;34m(estimator, attributes, msg, all_or_any)\u001b[0m\n\u001b[1;32m   1039\u001b[0m \u001b[0;34m\u001b[0m\u001b[0m\n\u001b[1;32m   1040\u001b[0m     \u001b[0;32mif\u001b[0m \u001b[0;32mnot\u001b[0m \u001b[0mattrs\u001b[0m\u001b[0;34m:\u001b[0m\u001b[0;34m\u001b[0m\u001b[0;34m\u001b[0m\u001b[0m\n\u001b[0;32m-> 1041\u001b[0;31m         \u001b[0;32mraise\u001b[0m \u001b[0mNotFittedError\u001b[0m\u001b[0;34m(\u001b[0m\u001b[0mmsg\u001b[0m \u001b[0;34m%\u001b[0m \u001b[0;34m{\u001b[0m\u001b[0;34m'name'\u001b[0m\u001b[0;34m:\u001b[0m \u001b[0mtype\u001b[0m\u001b[0;34m(\u001b[0m\u001b[0mestimator\u001b[0m\u001b[0;34m)\u001b[0m\u001b[0;34m.\u001b[0m\u001b[0m__name__\u001b[0m\u001b[0;34m}\u001b[0m\u001b[0;34m)\u001b[0m\u001b[0;34m\u001b[0m\u001b[0;34m\u001b[0m\u001b[0m\n\u001b[0m\u001b[1;32m   1042\u001b[0m \u001b[0;34m\u001b[0m\u001b[0m\n\u001b[1;32m   1043\u001b[0m \u001b[0;34m\u001b[0m\u001b[0m\n",
      "\u001b[0;31mNotFittedError\u001b[0m: This GradientBoostingRegressor instance is not fitted yet. Call 'fit' with appropriate arguments before using this estimator."
     ]
    }
   ],
   "source": [
    "clf.score(X_test,y_test)"
   ]
  },
  {
   "cell_type": "markdown",
   "id": "3f73696d",
   "metadata": {},
   "source": [
    "## Analysis:\n",
    "#### We can see that for weak predictions gradient boosting does the trick for the same  \n",
    "#### train and test data.\n",
    "#### With GBR (GradientBoostedRegressor) Model we are able to increase the confidence \n",
    "#### level to an estimated 0.9630312013553498"
   ]
  },
  {
   "cell_type": "markdown",
   "id": "dbf813ce",
   "metadata": {},
   "source": [
    "#### LOOK ABOVE AND BELOW TO UNDERSTAND STATEMENTS BELOW: \n",
    "#### Simple Linear Analysis shows a linear relationship between two or more variables.\n",
    "#### When we draw this relationship within two variables, we get a straight line. \n",
    "#### Quadratic Discriminant Analysis would be similar to Simple Linear Analysis,\n",
    "#### except that the model allowed polynomial (e.g: x squared) and would produce curves."
   ]
  },
  {
   "cell_type": "markdown",
   "id": "c31461d3",
   "metadata": {},
   "source": [
    "## LINEAR REGRESSION, QUADRATIC REGRESSIONS, & KNN REGRESSION"
   ]
  },
  {
   "cell_type": "code",
   "execution_count": 113,
   "id": "7e898b1d",
   "metadata": {},
   "outputs": [
    {
     "ename": "ValueError",
     "evalue": "Found input variables with inconsistent numbers of samples: [280, 224]",
     "output_type": "error",
     "traceback": [
      "\u001b[0;31m---------------------------------------------------------------------------\u001b[0m",
      "\u001b[0;31mValueError\u001b[0m                                Traceback (most recent call last)",
      "\u001b[0;32m<ipython-input-113-0809d7905c5f>\u001b[0m in \u001b[0;36m<module>\u001b[0;34m\u001b[0m\n\u001b[1;32m      1\u001b[0m \u001b[0;31m# Linear regression\u001b[0m\u001b[0;34m\u001b[0m\u001b[0;34m\u001b[0m\u001b[0;34m\u001b[0m\u001b[0m\n\u001b[1;32m      2\u001b[0m \u001b[0mclfreg\u001b[0m \u001b[0;34m=\u001b[0m \u001b[0mLinearRegression\u001b[0m\u001b[0;34m(\u001b[0m\u001b[0mn_jobs\u001b[0m\u001b[0;34m=\u001b[0m\u001b[0;34m-\u001b[0m\u001b[0;36m1\u001b[0m\u001b[0;34m)\u001b[0m\u001b[0;34m\u001b[0m\u001b[0;34m\u001b[0m\u001b[0m\n\u001b[0;32m----> 3\u001b[0;31m \u001b[0mclfreg\u001b[0m\u001b[0;34m.\u001b[0m\u001b[0mfit\u001b[0m\u001b[0;34m(\u001b[0m\u001b[0mX_train\u001b[0m\u001b[0;34m,\u001b[0m \u001b[0my_train\u001b[0m\u001b[0;34m)\u001b[0m\u001b[0;34m\u001b[0m\u001b[0;34m\u001b[0m\u001b[0m\n\u001b[0m\u001b[1;32m      4\u001b[0m \u001b[0;31m# Quadratic Regression 2\u001b[0m\u001b[0;34m\u001b[0m\u001b[0;34m\u001b[0m\u001b[0;34m\u001b[0m\u001b[0m\n\u001b[1;32m      5\u001b[0m \u001b[0mclfpoly2\u001b[0m \u001b[0;34m=\u001b[0m \u001b[0mmake_pipeline\u001b[0m\u001b[0;34m(\u001b[0m\u001b[0mPolynomialFeatures\u001b[0m\u001b[0;34m(\u001b[0m\u001b[0;36m2\u001b[0m\u001b[0;34m)\u001b[0m\u001b[0;34m,\u001b[0m \u001b[0mRidge\u001b[0m\u001b[0;34m(\u001b[0m\u001b[0;34m)\u001b[0m\u001b[0;34m)\u001b[0m\u001b[0;34m\u001b[0m\u001b[0;34m\u001b[0m\u001b[0m\n",
      "\u001b[0;32m~/opt/anaconda3/envs/pythondata/lib/python3.7/site-packages/sklearn/linear_model/_base.py\u001b[0m in \u001b[0;36mfit\u001b[0;34m(self, X, y, sample_weight)\u001b[0m\n\u001b[1;32m    517\u001b[0m \u001b[0;34m\u001b[0m\u001b[0m\n\u001b[1;32m    518\u001b[0m         X, y = self._validate_data(X, y, accept_sparse=accept_sparse,\n\u001b[0;32m--> 519\u001b[0;31m                                    y_numeric=True, multi_output=True)\n\u001b[0m\u001b[1;32m    520\u001b[0m \u001b[0;34m\u001b[0m\u001b[0m\n\u001b[1;32m    521\u001b[0m         \u001b[0;32mif\u001b[0m \u001b[0msample_weight\u001b[0m \u001b[0;32mis\u001b[0m \u001b[0;32mnot\u001b[0m \u001b[0;32mNone\u001b[0m\u001b[0;34m:\u001b[0m\u001b[0;34m\u001b[0m\u001b[0;34m\u001b[0m\u001b[0m\n",
      "\u001b[0;32m~/opt/anaconda3/envs/pythondata/lib/python3.7/site-packages/sklearn/base.py\u001b[0m in \u001b[0;36m_validate_data\u001b[0;34m(self, X, y, reset, validate_separately, **check_params)\u001b[0m\n\u001b[1;32m    431\u001b[0m                 \u001b[0my\u001b[0m \u001b[0;34m=\u001b[0m \u001b[0mcheck_array\u001b[0m\u001b[0;34m(\u001b[0m\u001b[0my\u001b[0m\u001b[0;34m,\u001b[0m \u001b[0;34m**\u001b[0m\u001b[0mcheck_y_params\u001b[0m\u001b[0;34m)\u001b[0m\u001b[0;34m\u001b[0m\u001b[0;34m\u001b[0m\u001b[0m\n\u001b[1;32m    432\u001b[0m             \u001b[0;32melse\u001b[0m\u001b[0;34m:\u001b[0m\u001b[0;34m\u001b[0m\u001b[0;34m\u001b[0m\u001b[0m\n\u001b[0;32m--> 433\u001b[0;31m                 \u001b[0mX\u001b[0m\u001b[0;34m,\u001b[0m \u001b[0my\u001b[0m \u001b[0;34m=\u001b[0m \u001b[0mcheck_X_y\u001b[0m\u001b[0;34m(\u001b[0m\u001b[0mX\u001b[0m\u001b[0;34m,\u001b[0m \u001b[0my\u001b[0m\u001b[0;34m,\u001b[0m \u001b[0;34m**\u001b[0m\u001b[0mcheck_params\u001b[0m\u001b[0;34m)\u001b[0m\u001b[0;34m\u001b[0m\u001b[0;34m\u001b[0m\u001b[0m\n\u001b[0m\u001b[1;32m    434\u001b[0m             \u001b[0mout\u001b[0m \u001b[0;34m=\u001b[0m \u001b[0mX\u001b[0m\u001b[0;34m,\u001b[0m \u001b[0my\u001b[0m\u001b[0;34m\u001b[0m\u001b[0;34m\u001b[0m\u001b[0m\n\u001b[1;32m    435\u001b[0m \u001b[0;34m\u001b[0m\u001b[0m\n",
      "\u001b[0;32m~/opt/anaconda3/envs/pythondata/lib/python3.7/site-packages/sklearn/utils/validation.py\u001b[0m in \u001b[0;36minner_f\u001b[0;34m(*args, **kwargs)\u001b[0m\n\u001b[1;32m     61\u001b[0m             \u001b[0mextra_args\u001b[0m \u001b[0;34m=\u001b[0m \u001b[0mlen\u001b[0m\u001b[0;34m(\u001b[0m\u001b[0margs\u001b[0m\u001b[0;34m)\u001b[0m \u001b[0;34m-\u001b[0m \u001b[0mlen\u001b[0m\u001b[0;34m(\u001b[0m\u001b[0mall_args\u001b[0m\u001b[0;34m)\u001b[0m\u001b[0;34m\u001b[0m\u001b[0;34m\u001b[0m\u001b[0m\n\u001b[1;32m     62\u001b[0m             \u001b[0;32mif\u001b[0m \u001b[0mextra_args\u001b[0m \u001b[0;34m<=\u001b[0m \u001b[0;36m0\u001b[0m\u001b[0;34m:\u001b[0m\u001b[0;34m\u001b[0m\u001b[0;34m\u001b[0m\u001b[0m\n\u001b[0;32m---> 63\u001b[0;31m                 \u001b[0;32mreturn\u001b[0m \u001b[0mf\u001b[0m\u001b[0;34m(\u001b[0m\u001b[0;34m*\u001b[0m\u001b[0margs\u001b[0m\u001b[0;34m,\u001b[0m \u001b[0;34m**\u001b[0m\u001b[0mkwargs\u001b[0m\u001b[0;34m)\u001b[0m\u001b[0;34m\u001b[0m\u001b[0;34m\u001b[0m\u001b[0m\n\u001b[0m\u001b[1;32m     64\u001b[0m \u001b[0;34m\u001b[0m\u001b[0m\n\u001b[1;32m     65\u001b[0m             \u001b[0;31m# extra_args > 0\u001b[0m\u001b[0;34m\u001b[0m\u001b[0;34m\u001b[0m\u001b[0;34m\u001b[0m\u001b[0m\n",
      "\u001b[0;32m~/opt/anaconda3/envs/pythondata/lib/python3.7/site-packages/sklearn/utils/validation.py\u001b[0m in \u001b[0;36mcheck_X_y\u001b[0;34m(X, y, accept_sparse, accept_large_sparse, dtype, order, copy, force_all_finite, ensure_2d, allow_nd, multi_output, ensure_min_samples, ensure_min_features, y_numeric, estimator)\u001b[0m\n\u001b[1;32m    829\u001b[0m         \u001b[0my\u001b[0m \u001b[0;34m=\u001b[0m \u001b[0my\u001b[0m\u001b[0;34m.\u001b[0m\u001b[0mastype\u001b[0m\u001b[0;34m(\u001b[0m\u001b[0mnp\u001b[0m\u001b[0;34m.\u001b[0m\u001b[0mfloat64\u001b[0m\u001b[0;34m)\u001b[0m\u001b[0;34m\u001b[0m\u001b[0;34m\u001b[0m\u001b[0m\n\u001b[1;32m    830\u001b[0m \u001b[0;34m\u001b[0m\u001b[0m\n\u001b[0;32m--> 831\u001b[0;31m     \u001b[0mcheck_consistent_length\u001b[0m\u001b[0;34m(\u001b[0m\u001b[0mX\u001b[0m\u001b[0;34m,\u001b[0m \u001b[0my\u001b[0m\u001b[0;34m)\u001b[0m\u001b[0;34m\u001b[0m\u001b[0;34m\u001b[0m\u001b[0m\n\u001b[0m\u001b[1;32m    832\u001b[0m \u001b[0;34m\u001b[0m\u001b[0m\n\u001b[1;32m    833\u001b[0m     \u001b[0;32mreturn\u001b[0m \u001b[0mX\u001b[0m\u001b[0;34m,\u001b[0m \u001b[0my\u001b[0m\u001b[0;34m\u001b[0m\u001b[0;34m\u001b[0m\u001b[0m\n",
      "\u001b[0;32m~/opt/anaconda3/envs/pythondata/lib/python3.7/site-packages/sklearn/utils/validation.py\u001b[0m in \u001b[0;36mcheck_consistent_length\u001b[0;34m(*arrays)\u001b[0m\n\u001b[1;32m    261\u001b[0m     \u001b[0;32mif\u001b[0m \u001b[0mlen\u001b[0m\u001b[0;34m(\u001b[0m\u001b[0muniques\u001b[0m\u001b[0;34m)\u001b[0m \u001b[0;34m>\u001b[0m \u001b[0;36m1\u001b[0m\u001b[0;34m:\u001b[0m\u001b[0;34m\u001b[0m\u001b[0;34m\u001b[0m\u001b[0m\n\u001b[1;32m    262\u001b[0m         raise ValueError(\"Found input variables with inconsistent numbers of\"\n\u001b[0;32m--> 263\u001b[0;31m                          \" samples: %r\" % [int(l) for l in lengths])\n\u001b[0m\u001b[1;32m    264\u001b[0m \u001b[0;34m\u001b[0m\u001b[0m\n\u001b[1;32m    265\u001b[0m \u001b[0;34m\u001b[0m\u001b[0m\n",
      "\u001b[0;31mValueError\u001b[0m: Found input variables with inconsistent numbers of samples: [280, 224]"
     ]
    }
   ],
   "source": [
    "# Linear regression\n",
    "clfreg = LinearRegression(n_jobs=-1)\n",
    "clfreg.fit(X_train, y_train)\n",
    "# Quadratic Regression 2\n",
    "clfpoly2 = make_pipeline(PolynomialFeatures(2), Ridge())\n",
    "clfpoly2.fit(X_train, y_train)\n",
    "\n",
    "# Quadratic Regression 3\n",
    "clfpoly3 = make_pipeline(PolynomialFeatures(3), Ridge())\n",
    "clfpoly3.fit(X_train, y_train)"
   ]
  },
  {
   "cell_type": "code",
   "execution_count": null,
   "id": "232c867c",
   "metadata": {},
   "outputs": [],
   "source": [
    "# KNN Regression on Studio\n",
    "clfknn = KNeighborsRegressor(n_neighbors=2)\n",
    "clfknn.fit(X_train, y_train)"
   ]
  },
  {
   "cell_type": "code",
   "execution_count": null,
   "id": "3a2dc853",
   "metadata": {},
   "outputs": [],
   "source": [
    "confidencereg = clfreg.score(X_test, y_test)\n",
    "confidencepoly2 = clfpoly2.score(X_test,y_test)\n",
    "confidencepoly3 = clfpoly3.score(X_test,y_test)\n",
    "confidenceknn = clfknn.score(X_test, y_test)"
   ]
  },
  {
   "cell_type": "code",
   "execution_count": null,
   "id": "62e03907",
   "metadata": {},
   "outputs": [],
   "source": [
    "print(confidencereg)\n",
    "#The linear regression confidence\n",
    "print(confidencepoly2)\n",
    "#The quadratic regression 2 confidence\n",
    "print(confidencepoly3)\n",
    "#The quadratic regression 3 confidence\n",
    "print(confidenceknn)\n",
    "#The knn regression confidence "
   ]
  },
  {
   "cell_type": "code",
   "execution_count": null,
   "id": "e9c47353",
   "metadata": {},
   "outputs": [],
   "source": [
    "#### The KNN Regression model provided a higher confidence level vs any of the linear\n",
    "#### regression analysis (with the exception of the GradientBoosted Regression)\n",
    "#### the KNN Regression model yielded the highest confidence at 0.8955947178777434\n",
    "#### On par with the Gradient Boosted Linear Regression from earlier"
   ]
  },
  {
   "cell_type": "code",
   "execution_count": null,
   "id": "9c49fea1",
   "metadata": {},
   "outputs": [],
   "source": []
  },
  {
   "cell_type": "code",
   "execution_count": null,
   "id": "fedef1c5",
   "metadata": {},
   "outputs": [],
   "source": []
  },
  {
   "cell_type": "code",
   "execution_count": null,
   "id": "fe4ee85c",
   "metadata": {},
   "outputs": [],
   "source": []
  },
  {
   "cell_type": "code",
   "execution_count": null,
   "id": "eed999bb",
   "metadata": {},
   "outputs": [],
   "source": []
  },
  {
   "cell_type": "code",
   "execution_count": null,
   "id": "a4ab908b",
   "metadata": {},
   "outputs": [],
   "source": []
  },
  {
   "cell_type": "code",
   "execution_count": null,
   "id": "c2f3e9a2",
   "metadata": {},
   "outputs": [],
   "source": []
  },
  {
   "cell_type": "code",
   "execution_count": null,
   "id": "833f4ed1",
   "metadata": {},
   "outputs": [],
   "source": []
  },
  {
   "cell_type": "code",
   "execution_count": null,
   "id": "aebb05d8",
   "metadata": {},
   "outputs": [],
   "source": []
  },
  {
   "cell_type": "code",
   "execution_count": null,
   "id": "485cd1ea",
   "metadata": {},
   "outputs": [],
   "source": []
  },
  {
   "cell_type": "code",
   "execution_count": null,
   "id": "d1394920",
   "metadata": {},
   "outputs": [],
   "source": []
  },
  {
   "cell_type": "code",
   "execution_count": null,
   "id": "bd6e5b11",
   "metadata": {},
   "outputs": [],
   "source": []
  },
  {
   "cell_type": "code",
   "execution_count": null,
   "id": "9c669ad4",
   "metadata": {},
   "outputs": [],
   "source": []
  },
  {
   "cell_type": "code",
   "execution_count": null,
   "id": "d7e24144",
   "metadata": {},
   "outputs": [],
   "source": []
  },
  {
   "cell_type": "code",
   "execution_count": null,
   "id": "d14304ad",
   "metadata": {},
   "outputs": [],
   "source": []
  },
  {
   "cell_type": "code",
   "execution_count": null,
   "id": "6b56e0d2",
   "metadata": {},
   "outputs": [],
   "source": []
  },
  {
   "cell_type": "code",
   "execution_count": null,
   "id": "c170f95a",
   "metadata": {},
   "outputs": [],
   "source": []
  },
  {
   "cell_type": "code",
   "execution_count": null,
   "id": "c940c2fa",
   "metadata": {},
   "outputs": [],
   "source": []
  }
 ],
 "metadata": {
  "kernelspec": {
   "display_name": "pythondata",
   "language": "python",
   "name": "pythondata"
  },
  "language_info": {
   "codemirror_mode": {
    "name": "ipython",
    "version": 3
   },
   "file_extension": ".py",
   "mimetype": "text/x-python",
   "name": "python",
   "nbconvert_exporter": "python",
   "pygments_lexer": "ipython3",
   "version": "3.7.10"
  }
 },
 "nbformat": 4,
 "nbformat_minor": 5
}
