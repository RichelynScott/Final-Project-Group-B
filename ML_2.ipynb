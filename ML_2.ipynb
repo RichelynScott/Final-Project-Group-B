{
 "cells": [
  {
   "cell_type": "code",
   "execution_count": 1,
   "id": "a934d7c6",
   "metadata": {},
   "outputs": [],
   "source": [
    "import pandas as pd\n",
    "import numpy as np\n",
    "import re\n",
    "import os\n",
    "#import seaborn as sns\n",
    "import matplotlib.pyplot as plt\n",
    "#import plotly.express as px\n",
    "#from plotly.subplots import make_subplots\n",
    "#import plotly.graph_objects as go\n",
    "\n",
    "import sklearn\n",
    "from sklearn.model_selection import GridSearchCV\n",
    "from sklearn.ensemble import RandomForestRegressor\n"
   ]
  },
  {
   "cell_type": "code",
   "execution_count": 2,
   "id": "8122ae26",
   "metadata": {},
   "outputs": [],
   "source": [
    "#from xgboost import XGBRegressor, XGBRFRegressor\n",
    "#from catboost import CatBoostRegressor\n",
    "#import catboost\n",
    "from sklearn.model_selection import train_test_split\n",
    "from sklearn.linear_model import Ridge, Lasso, LinearRegression\n",
    "from sklearn.ensemble import RandomForestRegressor\n",
    "#from sklearn.preprocessing import StandardScaler, OneHotEncoder\n",
    "#from sklearn.compose import make_column_transformer, ColumnTransformer\n",
    "from sklearn.pipeline import make_pipeline\n",
    "from sklearn.neural_network import MLPRegressor\n",
    "\n",
    "#from scipy.stats.mstats import winsorize\n",
    "\n",
    "#from pyod.models.feature_bagging import FeatureBagging\n",
    "#from pyod.models.lof import LOF"
   ]
  },
  {
   "cell_type": "code",
   "execution_count": 3,
   "id": "d52fe071",
   "metadata": {
    "scrolled": true
   },
   "outputs": [
    {
     "data": {
      "text/html": [
       "<div>\n",
       "<style scoped>\n",
       "    .dataframe tbody tr th:only-of-type {\n",
       "        vertical-align: middle;\n",
       "    }\n",
       "\n",
       "    .dataframe tbody tr th {\n",
       "        vertical-align: top;\n",
       "    }\n",
       "\n",
       "    .dataframe thead th {\n",
       "        text-align: right;\n",
       "    }\n",
       "</style>\n",
       "<table border=\"1\" class=\"dataframe\">\n",
       "  <thead>\n",
       "    <tr style=\"text-align: right;\">\n",
       "      <th></th>\n",
       "      <th>87120</th>\n",
       "      <th>87121</th>\n",
       "      <th>87124</th>\n",
       "      <th>87109</th>\n",
       "      <th>87108</th>\n",
       "      <th>87110</th>\n",
       "      <th>87144</th>\n",
       "      <th>87106</th>\n",
       "      <th>87102</th>\n",
       "      <th>18103</th>\n",
       "      <th>...</th>\n",
       "      <th>22044</th>\n",
       "      <th>22181</th>\n",
       "      <th>20166</th>\n",
       "      <th>20036</th>\n",
       "      <th>67203</th>\n",
       "      <th>27103</th>\n",
       "      <th>27104</th>\n",
       "      <th>27012</th>\n",
       "      <th>27101</th>\n",
       "      <th>1604</th>\n",
       "    </tr>\n",
       "    <tr>\n",
       "      <th>Date</th>\n",
       "      <th></th>\n",
       "      <th></th>\n",
       "      <th></th>\n",
       "      <th></th>\n",
       "      <th></th>\n",
       "      <th></th>\n",
       "      <th></th>\n",
       "      <th></th>\n",
       "      <th></th>\n",
       "      <th></th>\n",
       "      <th></th>\n",
       "      <th></th>\n",
       "      <th></th>\n",
       "      <th></th>\n",
       "      <th></th>\n",
       "      <th></th>\n",
       "      <th></th>\n",
       "      <th></th>\n",
       "      <th></th>\n",
       "      <th></th>\n",
       "      <th></th>\n",
       "    </tr>\n",
       "  </thead>\n",
       "  <tbody>\n",
       "    <tr>\n",
       "      <th>2014-01-01</th>\n",
       "      <td>791.0</td>\n",
       "      <td>1010.0</td>\n",
       "      <td>943.0</td>\n",
       "      <td>856.0</td>\n",
       "      <td>500.0</td>\n",
       "      <td>1173.0</td>\n",
       "      <td>1215.0</td>\n",
       "      <td>796.0</td>\n",
       "      <td>627.00</td>\n",
       "      <td>999.99</td>\n",
       "      <td>...</td>\n",
       "      <td>999.99</td>\n",
       "      <td>999.99</td>\n",
       "      <td>1781.00</td>\n",
       "      <td>999.99</td>\n",
       "      <td>654.00</td>\n",
       "      <td>996.0</td>\n",
       "      <td>999.99</td>\n",
       "      <td>999.99</td>\n",
       "      <td>999.99</td>\n",
       "      <td>1090.0</td>\n",
       "    </tr>\n",
       "    <tr>\n",
       "      <th>2014-02-01</th>\n",
       "      <td>823.0</td>\n",
       "      <td>989.0</td>\n",
       "      <td>913.0</td>\n",
       "      <td>893.0</td>\n",
       "      <td>544.0</td>\n",
       "      <td>1152.0</td>\n",
       "      <td>1195.0</td>\n",
       "      <td>845.0</td>\n",
       "      <td>688.00</td>\n",
       "      <td>901.00</td>\n",
       "      <td>...</td>\n",
       "      <td>1424.00</td>\n",
       "      <td>2304.00</td>\n",
       "      <td>999.99</td>\n",
       "      <td>999.99</td>\n",
       "      <td>611.00</td>\n",
       "      <td>1050.0</td>\n",
       "      <td>940.00</td>\n",
       "      <td>1093.00</td>\n",
       "      <td>1064.00</td>\n",
       "      <td>1087.0</td>\n",
       "    </tr>\n",
       "    <tr>\n",
       "      <th>2014-03-01</th>\n",
       "      <td>808.0</td>\n",
       "      <td>966.0</td>\n",
       "      <td>916.0</td>\n",
       "      <td>882.0</td>\n",
       "      <td>531.0</td>\n",
       "      <td>1170.0</td>\n",
       "      <td>1198.0</td>\n",
       "      <td>835.0</td>\n",
       "      <td>999.99</td>\n",
       "      <td>850.00</td>\n",
       "      <td>...</td>\n",
       "      <td>999.99</td>\n",
       "      <td>2182.00</td>\n",
       "      <td>1832.00</td>\n",
       "      <td>2232.00</td>\n",
       "      <td>999.99</td>\n",
       "      <td>1037.0</td>\n",
       "      <td>940.00</td>\n",
       "      <td>999.99</td>\n",
       "      <td>1030.00</td>\n",
       "      <td>1096.0</td>\n",
       "    </tr>\n",
       "    <tr>\n",
       "      <th>2014-04-01</th>\n",
       "      <td>821.0</td>\n",
       "      <td>985.0</td>\n",
       "      <td>931.0</td>\n",
       "      <td>878.0</td>\n",
       "      <td>534.0</td>\n",
       "      <td>1172.0</td>\n",
       "      <td>1195.0</td>\n",
       "      <td>859.0</td>\n",
       "      <td>660.00</td>\n",
       "      <td>858.00</td>\n",
       "      <td>...</td>\n",
       "      <td>1431.00</td>\n",
       "      <td>2129.00</td>\n",
       "      <td>1815.00</td>\n",
       "      <td>999.99</td>\n",
       "      <td>999.99</td>\n",
       "      <td>1036.0</td>\n",
       "      <td>966.00</td>\n",
       "      <td>1095.00</td>\n",
       "      <td>1035.00</td>\n",
       "      <td>1089.0</td>\n",
       "    </tr>\n",
       "    <tr>\n",
       "      <th>2014-05-01</th>\n",
       "      <td>832.0</td>\n",
       "      <td>996.0</td>\n",
       "      <td>948.0</td>\n",
       "      <td>871.0</td>\n",
       "      <td>523.0</td>\n",
       "      <td>1179.0</td>\n",
       "      <td>1209.0</td>\n",
       "      <td>880.0</td>\n",
       "      <td>676.00</td>\n",
       "      <td>999.99</td>\n",
       "      <td>...</td>\n",
       "      <td>1420.00</td>\n",
       "      <td>2103.00</td>\n",
       "      <td>1819.00</td>\n",
       "      <td>2164.00</td>\n",
       "      <td>707.00</td>\n",
       "      <td>1052.0</td>\n",
       "      <td>982.00</td>\n",
       "      <td>999.99</td>\n",
       "      <td>1050.00</td>\n",
       "      <td>1098.0</td>\n",
       "    </tr>\n",
       "    <tr>\n",
       "      <th>...</th>\n",
       "      <td>...</td>\n",
       "      <td>...</td>\n",
       "      <td>...</td>\n",
       "      <td>...</td>\n",
       "      <td>...</td>\n",
       "      <td>...</td>\n",
       "      <td>...</td>\n",
       "      <td>...</td>\n",
       "      <td>...</td>\n",
       "      <td>...</td>\n",
       "      <td>...</td>\n",
       "      <td>...</td>\n",
       "      <td>...</td>\n",
       "      <td>...</td>\n",
       "      <td>...</td>\n",
       "      <td>...</td>\n",
       "      <td>...</td>\n",
       "      <td>...</td>\n",
       "      <td>...</td>\n",
       "      <td>...</td>\n",
       "      <td>...</td>\n",
       "    </tr>\n",
       "    <tr>\n",
       "      <th>2021-03-01</th>\n",
       "      <td>1068.0</td>\n",
       "      <td>1300.0</td>\n",
       "      <td>1242.0</td>\n",
       "      <td>1140.0</td>\n",
       "      <td>735.0</td>\n",
       "      <td>1482.0</td>\n",
       "      <td>1557.0</td>\n",
       "      <td>1216.0</td>\n",
       "      <td>810.00</td>\n",
       "      <td>1368.00</td>\n",
       "      <td>...</td>\n",
       "      <td>1556.00</td>\n",
       "      <td>2304.00</td>\n",
       "      <td>1969.00</td>\n",
       "      <td>2089.00</td>\n",
       "      <td>846.00</td>\n",
       "      <td>1399.0</td>\n",
       "      <td>1259.00</td>\n",
       "      <td>1456.00</td>\n",
       "      <td>1444.00</td>\n",
       "      <td>1680.0</td>\n",
       "    </tr>\n",
       "    <tr>\n",
       "      <th>2021-04-01</th>\n",
       "      <td>1093.0</td>\n",
       "      <td>1300.0</td>\n",
       "      <td>1260.0</td>\n",
       "      <td>1164.0</td>\n",
       "      <td>763.0</td>\n",
       "      <td>1508.0</td>\n",
       "      <td>1583.0</td>\n",
       "      <td>1242.0</td>\n",
       "      <td>844.00</td>\n",
       "      <td>1421.00</td>\n",
       "      <td>...</td>\n",
       "      <td>1557.00</td>\n",
       "      <td>2329.00</td>\n",
       "      <td>2007.00</td>\n",
       "      <td>2111.00</td>\n",
       "      <td>854.00</td>\n",
       "      <td>1433.0</td>\n",
       "      <td>1345.00</td>\n",
       "      <td>1455.00</td>\n",
       "      <td>1469.00</td>\n",
       "      <td>1671.0</td>\n",
       "    </tr>\n",
       "    <tr>\n",
       "      <th>2021-05-01</th>\n",
       "      <td>1111.0</td>\n",
       "      <td>1320.0</td>\n",
       "      <td>1294.0</td>\n",
       "      <td>1184.0</td>\n",
       "      <td>771.0</td>\n",
       "      <td>1543.0</td>\n",
       "      <td>1616.0</td>\n",
       "      <td>1250.0</td>\n",
       "      <td>962.00</td>\n",
       "      <td>1425.00</td>\n",
       "      <td>...</td>\n",
       "      <td>1576.00</td>\n",
       "      <td>2350.00</td>\n",
       "      <td>2011.00</td>\n",
       "      <td>2099.00</td>\n",
       "      <td>836.00</td>\n",
       "      <td>1441.0</td>\n",
       "      <td>1350.00</td>\n",
       "      <td>1449.00</td>\n",
       "      <td>1507.00</td>\n",
       "      <td>1723.0</td>\n",
       "    </tr>\n",
       "    <tr>\n",
       "      <th>2021-06-01</th>\n",
       "      <td>1142.0</td>\n",
       "      <td>1364.0</td>\n",
       "      <td>1320.0</td>\n",
       "      <td>1214.0</td>\n",
       "      <td>765.0</td>\n",
       "      <td>1526.0</td>\n",
       "      <td>1665.0</td>\n",
       "      <td>1270.0</td>\n",
       "      <td>977.00</td>\n",
       "      <td>1462.00</td>\n",
       "      <td>...</td>\n",
       "      <td>1630.00</td>\n",
       "      <td>2369.00</td>\n",
       "      <td>2008.00</td>\n",
       "      <td>2107.00</td>\n",
       "      <td>856.00</td>\n",
       "      <td>1470.0</td>\n",
       "      <td>1346.00</td>\n",
       "      <td>1520.00</td>\n",
       "      <td>1663.00</td>\n",
       "      <td>1716.0</td>\n",
       "    </tr>\n",
       "    <tr>\n",
       "      <th>2021-07-01</th>\n",
       "      <td>1177.0</td>\n",
       "      <td>1482.0</td>\n",
       "      <td>1336.0</td>\n",
       "      <td>1282.0</td>\n",
       "      <td>766.0</td>\n",
       "      <td>1486.0</td>\n",
       "      <td>1688.0</td>\n",
       "      <td>1324.0</td>\n",
       "      <td>974.00</td>\n",
       "      <td>1460.00</td>\n",
       "      <td>...</td>\n",
       "      <td>1668.00</td>\n",
       "      <td>2360.00</td>\n",
       "      <td>2034.00</td>\n",
       "      <td>2119.00</td>\n",
       "      <td>840.00</td>\n",
       "      <td>1520.0</td>\n",
       "      <td>1397.00</td>\n",
       "      <td>1532.00</td>\n",
       "      <td>1637.00</td>\n",
       "      <td>1732.0</td>\n",
       "    </tr>\n",
       "  </tbody>\n",
       "</table>\n",
       "<p>91 rows × 2233 columns</p>\n",
       "</div>"
      ],
      "text/plain": [
       "             87120   87121   87124   87109  87108   87110   87144   87106  \\\n",
       "Date                                                                        \n",
       "2014-01-01   791.0  1010.0   943.0   856.0  500.0  1173.0  1215.0   796.0   \n",
       "2014-02-01   823.0   989.0   913.0   893.0  544.0  1152.0  1195.0   845.0   \n",
       "2014-03-01   808.0   966.0   916.0   882.0  531.0  1170.0  1198.0   835.0   \n",
       "2014-04-01   821.0   985.0   931.0   878.0  534.0  1172.0  1195.0   859.0   \n",
       "2014-05-01   832.0   996.0   948.0   871.0  523.0  1179.0  1209.0   880.0   \n",
       "...            ...     ...     ...     ...    ...     ...     ...     ...   \n",
       "2021-03-01  1068.0  1300.0  1242.0  1140.0  735.0  1482.0  1557.0  1216.0   \n",
       "2021-04-01  1093.0  1300.0  1260.0  1164.0  763.0  1508.0  1583.0  1242.0   \n",
       "2021-05-01  1111.0  1320.0  1294.0  1184.0  771.0  1543.0  1616.0  1250.0   \n",
       "2021-06-01  1142.0  1364.0  1320.0  1214.0  765.0  1526.0  1665.0  1270.0   \n",
       "2021-07-01  1177.0  1482.0  1336.0  1282.0  766.0  1486.0  1688.0  1324.0   \n",
       "\n",
       "             87102    18103  ...    22044    22181    20166    20036   67203  \\\n",
       "Date                         ...                                               \n",
       "2014-01-01  627.00   999.99  ...   999.99   999.99  1781.00   999.99  654.00   \n",
       "2014-02-01  688.00   901.00  ...  1424.00  2304.00   999.99   999.99  611.00   \n",
       "2014-03-01  999.99   850.00  ...   999.99  2182.00  1832.00  2232.00  999.99   \n",
       "2014-04-01  660.00   858.00  ...  1431.00  2129.00  1815.00   999.99  999.99   \n",
       "2014-05-01  676.00   999.99  ...  1420.00  2103.00  1819.00  2164.00  707.00   \n",
       "...            ...      ...  ...      ...      ...      ...      ...     ...   \n",
       "2021-03-01  810.00  1368.00  ...  1556.00  2304.00  1969.00  2089.00  846.00   \n",
       "2021-04-01  844.00  1421.00  ...  1557.00  2329.00  2007.00  2111.00  854.00   \n",
       "2021-05-01  962.00  1425.00  ...  1576.00  2350.00  2011.00  2099.00  836.00   \n",
       "2021-06-01  977.00  1462.00  ...  1630.00  2369.00  2008.00  2107.00  856.00   \n",
       "2021-07-01  974.00  1460.00  ...  1668.00  2360.00  2034.00  2119.00  840.00   \n",
       "\n",
       "             27103    27104    27012    27101    1604  \n",
       "Date                                                   \n",
       "2014-01-01   996.0   999.99   999.99   999.99  1090.0  \n",
       "2014-02-01  1050.0   940.00  1093.00  1064.00  1087.0  \n",
       "2014-03-01  1037.0   940.00   999.99  1030.00  1096.0  \n",
       "2014-04-01  1036.0   966.00  1095.00  1035.00  1089.0  \n",
       "2014-05-01  1052.0   982.00   999.99  1050.00  1098.0  \n",
       "...            ...      ...      ...      ...     ...  \n",
       "2021-03-01  1399.0  1259.00  1456.00  1444.00  1680.0  \n",
       "2021-04-01  1433.0  1345.00  1455.00  1469.00  1671.0  \n",
       "2021-05-01  1441.0  1350.00  1449.00  1507.00  1723.0  \n",
       "2021-06-01  1470.0  1346.00  1520.00  1663.00  1716.0  \n",
       "2021-07-01  1520.0  1397.00  1532.00  1637.00  1732.0  \n",
       "\n",
       "[91 rows x 2233 columns]"
      ]
     },
     "execution_count": 3,
     "metadata": {},
     "output_type": "execute_result"
    }
   ],
   "source": [
    "#CSV to Load\n",
    "zillow_data= 'zillow_df2.csv'\n",
    "zillow_df=pd.read_csv(zillow_data)\n",
    "# Rename Date column from \"Unnamed:0 to Date\"\n",
    "zillow_df.rename(columns={'Unnamed: 0': 'Date'}, inplace=True)\n",
    "#Set Date Column as Index\n",
    "zillow_df.set_index('Date', inplace=True)\n",
    "zillow_df.head(100)"
   ]
  },
  {
   "cell_type": "code",
   "execution_count": 49,
   "id": "6564ba39",
   "metadata": {},
   "outputs": [
    {
     "data": {
      "image/png": "[encoded data removed]",
      "text/plain": [
       "<Figure size 1152x576 with 1 Axes>"
      ]
     },
     "metadata": {
      "needs_background": "light"
     },
     "output_type": "display_data"
    }
   ],
   "source": [
    "plt.figure(figsize=(16, 8)) # resizing the plot\n",
    "zillow_df['87120'].plot()\n",
    "plt.title('ZIP:87120: Prices') # adding a title\n",
    "plt.xlabel('Date') # x label\n",
    "plt.ylabel('Price') # y label\n",
    "plt.show()"
   ]
  },
  {
   "cell_type": "code",
   "execution_count": 10,
   "id": "14ddbbeb",
   "metadata": {},
   "outputs": [
    {
     "data": {
      "text/plain": [
       "Date\n",
       "2014-01-01    1377.012472\n",
       "2014-02-01    1331.091661\n",
       "2014-03-01    1307.963153\n",
       "2014-04-01    1380.098092\n",
       "2014-05-01    1417.820761\n",
       "                 ...     \n",
       "2021-03-01    1834.253153\n",
       "2021-04-01    1859.524174\n",
       "2021-05-01    1892.358916\n",
       "2021-06-01    1922.614738\n",
       "2021-07-01    1974.358150\n",
       "Length: 91, dtype: float64"
      ]
     },
     "execution_count": 10,
     "metadata": {},
     "output_type": "execute_result"
    }
   ],
   "source": [
    "zillow_df.mean(axis='columns')"
   ]
  },
  {
   "cell_type": "code",
   "execution_count": 16,
   "id": "876ddeec",
   "metadata": {},
   "outputs": [],
   "source": [
    "zillow_df3 = zillow_df.mean(axis='columns')"
   ]
  },
  {
   "cell_type": "code",
   "execution_count": 17,
   "id": "c4733bd7",
   "metadata": {
    "scrolled": true
   },
   "outputs": [
    {
     "name": "stdout",
     "output_type": "stream",
     "text": [
      "Date\n",
      "2014-01-01    1377.012472\n",
      "2014-02-01    1331.091661\n",
      "2014-03-01    1307.963153\n",
      "2014-04-01    1380.098092\n",
      "2014-05-01    1417.820761\n",
      "                 ...     \n",
      "2021-03-01    1834.253153\n",
      "2021-04-01    1859.524174\n",
      "2021-05-01    1892.358916\n",
      "2021-06-01    1922.614738\n",
      "2021-07-01    1974.358150\n",
      "Length: 91, dtype: float64\n"
     ]
    }
   ],
   "source": [
    "print (zillow_df3)"
   ]
  },
  {
   "cell_type": "code",
   "execution_count": 42,
   "id": "df3bae76",
   "metadata": {},
   "outputs": [
    {
     "data": {
      "application/vnd.plotly.v1+json": {
       "config": {
        "plotlyServerURL": "https://plot.ly"
       },
       "data": [
        {
         "hovertemplate": "variable=0<br>Date=%{x}<br>value=%{y}<extra></extra>",
         "legendgroup": "0",
         "line": {
          "color": "#636efa",
          "dash": "solid"
         },
         "mode": "lines",
         "name": "0",
         "orientation": "v",
         "showlegend": true,
         "type": "scatter",
         "x": [
          "2014-01-01",
          "2014-02-01",
          "2014-03-01",
          "2014-04-01",
          "2014-05-01",
          "2014-06-01",
          "2014-07-01",
          "2014-08-01",
          "2014-09-01",
          "2014-10-01",
          "2014-11-01",
          "2014-12-01",
          "2015-01-01",
          "2015-02-01",
          "2015-03-01",
          "2015-04-01",
          "2015-05-01",
          "2015-06-01",
          "2015-07-01",
          "2015-08-01",
          "2015-09-01",
          "2015-10-01",
          "2015-11-01",
          "2015-12-01",
          "2016-01-01",
          "2016-02-01",
          "2016-03-01",
          "2016-04-01",
          "2016-05-01",
          "2016-06-01",
          "2016-07-01",
          "2016-08-01",
          "2016-09-01",
          "2016-10-01",
          "2016-11-01",
          "2016-12-01",
          "2017-01-01",
          "2017-02-01",
          "2017-03-01",
          "2017-04-01",
          "2017-05-01",
          "2017-06-01",
          "2017-07-01",
          "2017-08-01",
          "2017-09-01",
          "2017-10-01",
          "2017-11-01",
          "2017-12-01",
          "2018-01-01",
          "2018-02-01",
          "2018-03-01",
          "2018-04-01",
          "2018-05-01",
          "2018-06-01",
          "2018-07-01",
          "2018-08-01",
          "2018-09-01",
          "2018-10-01",
          "2018-11-01",
          "2018-12-01",
          "2019-01-01",
          "2019-02-01",
          "2019-03-01",
          "2019-04-01",
          "2019-05-01",
          "2019-06-01",
          "2019-07-01",
          "2019-08-01",
          "2019-09-01",
          "2019-10-01",
          "2019-11-01",
          "2019-12-01",
          "2020-01-01",
          "2020-02-01",
          "2020-03-01",
          "2020-04-01",
          "2020-05-01",
          "2020-06-01",
          "2020-07-01",
          "2020-08-01",
          "2020-09-01",
          "2020-10-01",
          "2020-11-01",
          "2020-12-01",
          "2021-01-01",
          "2021-02-01",
          "2021-03-01",
          "2021-04-01",
          "2021-05-01",
          "2021-06-01",
          "2021-07-01"
         ],
         "xaxis": "x",
         "y": [
          1377.0124720107572,
          1331.091661442017,
          1307.9631527093716,
          1380.0980922525814,
          1417.820761307662,
          1451.3018137035401,
          1455.0909314823139,
          1470.3496283027355,
          1467.9348723690155,
          1431.3535288849127,
          1419.8326959247736,
          1431.016569637269,
          1458.9178011643576,
          1438.4957008508793,
          1484.0998477384726,
          1486.449646215857,
          1490.99879086431,
          1541.60431258397,
          1557.4122570532927,
          1556.0266412897463,
          1554.7100179131232,
          1557.59891177788,
          1552.1312897447413,
          1532.205991939099,
          1551.691576354682,
          1574.7900940438894,
          1562.2512763099003,
          1571.0276712942277,
          1609.1413479623834,
          1614.6586296462167,
          1604.5932198835665,
          1610.9627451858496,
          1622.8592521271846,
          1618.1690953873729,
          1599.3759785042557,
          1598.5528437080177,
          1630.7791580832964,
          1624.4594043887153,
          1648.7536408419173,
          1661.4571562919846,
          1668.3841513658765,
          1661.958746081505,
          1668.7612539184959,
          1680.71736229288,
          1668.664043887148,
          1669.1803806538298,
          1662.6075727720563,
          1642.176247201076,
          1654.2108374384245,
          1684.653304970892,
          1678.8449619346181,
          1692.9771025526206,
          1716.7442454097632,
          1727.7930900134352,
          1734.1231034482767,
          1726.3447559337224,
          1737.9524988804303,
          1734.4764218540088,
          1734.9748186296472,
          1737.3971518137043,
          1736.109189431259,
          1747.2749081952538,
          1758.4719749216306,
          1768.0581504702202,
          1783.4424048365433,
          1792.118172861622,
          1784.066256157636,
          1786.0958172861624,
          1794.3752530228394,
          1789.3416390506054,
          1782.9130362740714,
          1775.3733855799387,
          1790.7594491715192,
          1788.1445723242289,
          1785.741074787283,
          1773.680125391851,
          1800.1602463054196,
          1800.0357590685182,
          1805.3792386923428,
          1808.8266368114653,
          1797.4979131213622,
          1810.3178772951198,
          1809.391236005376,
          1795.5282803403513,
          1815.408696820423,
          1820.784791759967,
          1834.2531527093638,
          1859.5241737572799,
          1892.3589162561605,
          1922.614738020602,
          1974.358150470221
         ],
         "yaxis": "y"
        }
       ],
       "layout": {
        "legend": {
         "title": {
          "text": "variable"
         },
         "tracegroupgap": 0
        },
        "template": {
         "data": {
          "bar": [
           {
            "error_x": {
             "color": "#2a3f5f"
            },
            "error_y": {
             "color": "#2a3f5f"
            },
            "marker": {
             "line": {
              "color": "#E5ECF6",
              "width": 0.5
             },
             "pattern": {
              "fillmode": "overlay",
              "size": 10,
              "solidity": 0.2
             }
            },
            "type": "bar"
           }
          ],
          "barpolar": [
           {
            "marker": {
             "line": {
              "color": "#E5ECF6",
              "width": 0.5
             },
             "pattern": {
              "fillmode": "overlay",
              "size": 10,
              "solidity": 0.2
             }
            },
            "type": "barpolar"
           }
          ],
          "carpet": [
           {
            "aaxis": {
             "endlinecolor": "#2a3f5f",
             "gridcolor": "white",
             "linecolor": "white",
             "minorgridcolor": "white",
             "startlinecolor": "#2a3f5f"
            },
            "baxis": {
             "endlinecolor": "#2a3f5f",
             "gridcolor": "white",
             "linecolor": "white",
             "minorgridcolor": "white",
             "startlinecolor": "#2a3f5f"
            },
            "type": "carpet"
           }
          ],
          "choropleth": [
           {
            "colorbar": {
             "outlinewidth": 0,
             "ticks": ""
            },
            "type": "choropleth"
           }
          ],
          "contour": [
           {
            "colorbar": {
             "outlinewidth": 0,
             "ticks": ""
            },
            "colorscale": [
             [
              0,
              "#0d0887"
             ],
             [
              0.1111111111111111,
              "#46039f"
             ],
             [
              0.2222222222222222,
              "#7201a8"
             ],
             [
              0.3333333333333333,
              "#9c179e"
             ],
             [
              0.4444444444444444,
              "#bd3786"
             ],
             [
              0.5555555555555556,
              "#d8576b"
             ],
             [
              0.6666666666666666,
              "#ed7953"
             ],
             [
              0.7777777777777778,
              "#fb9f3a"
             ],
             [
              0.8888888888888888,
              "#fdca26"
             ],
             [
              1,
              "#f0f921"
             ]
            ],
            "type": "contour"
           }
          ],
          "contourcarpet": [
           {
            "colorbar": {
             "outlinewidth": 0,
             "ticks": ""
            },
            "type": "contourcarpet"
           }
          ],
          "heatmap": [
           {
            "colorbar": {
             "outlinewidth": 0,
             "ticks": ""
            },
            "colorscale": [
             [
              0,
              "#0d0887"
             ],
             [
              0.1111111111111111,
              "#46039f"
             ],
             [
              0.2222222222222222,
              "#7201a8"
             ],
             [
              0.3333333333333333,
              "#9c179e"
             ],
             [
              0.4444444444444444,
              "#bd3786"
             ],
             [
              0.5555555555555556,
              "#d8576b"
             ],
             [
              0.6666666666666666,
              "#ed7953"
             ],
             [
              0.7777777777777778,
              "#fb9f3a"
             ],
             [
              0.8888888888888888,
              "#fdca26"
             ],
             [
              1,
              "#f0f921"
             ]
            ],
            "type": "heatmap"
           }
          ],
          "heatmapgl": [
           {
            "colorbar": {
             "outlinewidth": 0,
             "ticks": ""
            },
            "colorscale": [
             [
              0,
              "#0d0887"
             ],
             [
              0.1111111111111111,
              "#46039f"
             ],
             [
              0.2222222222222222,
              "#7201a8"
             ],
             [
              0.3333333333333333,
              "#9c179e"
             ],
             [
              0.4444444444444444,
              "#bd3786"
             ],
             [
              0.5555555555555556,
              "#d8576b"
             ],
             [
              0.6666666666666666,
              "#ed7953"
             ],
             [
              0.7777777777777778,
              "#fb9f3a"
             ],
             [
              0.8888888888888888,
              "#fdca26"
             ],
             [
              1,
              "#f0f921"
             ]
            ],
            "type": "heatmapgl"
           }
          ],
          "histogram": [
           {
            "marker": {
             "pattern": {
              "fillmode": "overlay",
              "size": 10,
              "solidity": 0.2
             }
            },
            "type": "histogram"
           }
          ],
          "histogram2d": [
           {
            "colorbar": {
             "outlinewidth": 0,
             "ticks": ""
            },
            "colorscale": [
             [
              0,
              "#0d0887"
             ],
             [
              0.1111111111111111,
              "#46039f"
             ],
             [
              0.2222222222222222,
              "#7201a8"
             ],
             [
              0.3333333333333333,
              "#9c179e"
             ],
             [
              0.4444444444444444,
              "#bd3786"
             ],
             [
              0.5555555555555556,
              "#d8576b"
             ],
             [
              0.6666666666666666,
              "#ed7953"
             ],
             [
              0.7777777777777778,
              "#fb9f3a"
             ],
             [
              0.8888888888888888,
              "#fdca26"
             ],
             [
              1,
              "#f0f921"
             ]
            ],
            "type": "histogram2d"
           }
          ],
          "histogram2dcontour": [
           {
            "colorbar": {
             "outlinewidth": 0,
             "ticks": ""
            },
            "colorscale": [
             [
              0,
              "#0d0887"
             ],
             [
              0.1111111111111111,
              "#46039f"
             ],
             [
              0.2222222222222222,
              "#7201a8"
             ],
             [
              0.3333333333333333,
              "#9c179e"
             ],
             [
              0.4444444444444444,
              "#bd3786"
             ],
             [
              0.5555555555555556,
              "#d8576b"
             ],
             [
              0.6666666666666666,
              "#ed7953"
             ],
             [
              0.7777777777777778,
              "#fb9f3a"
             ],
             [
              0.8888888888888888,
              "#fdca26"
             ],
             [
              1,
              "#f0f921"
             ]
            ],
            "type": "histogram2dcontour"
           }
          ],
          "mesh3d": [
           {
            "colorbar": {
             "outlinewidth": 0,
             "ticks": ""
            },
            "type": "mesh3d"
           }
          ],
          "parcoords": [
           {
            "line": {
             "colorbar": {
              "outlinewidth": 0,
              "ticks": ""
             }
            },
            "type": "parcoords"
           }
          ],
          "pie": [
           {
            "automargin": true,
            "type": "pie"
           }
          ],
          "scatter": [
           {
            "marker": {
             "colorbar": {
              "outlinewidth": 0,
              "ticks": ""
             }
            },
            "type": "scatter"
           }
          ],
          "scatter3d": [
           {
            "line": {
             "colorbar": {
              "outlinewidth": 0,
              "ticks": ""
             }
            },
            "marker": {
             "colorbar": {
              "outlinewidth": 0,
              "ticks": ""
             }
            },
            "type": "scatter3d"
           }
          ],
          "scattercarpet": [
           {
            "marker": {
             "colorbar": {
              "outlinewidth": 0,
              "ticks": ""
             }
            },
            "type": "scattercarpet"
           }
          ],
          "scattergeo": [
           {
            "marker": {
             "colorbar": {
              "outlinewidth": 0,
              "ticks": ""
             }
            },
            "type": "scattergeo"
           }
          ],
          "scattergl": [
           {
            "marker": {
             "colorbar": {
              "outlinewidth": 0,
              "ticks": ""
             }
            },
            "type": "scattergl"
           }
          ],
          "scattermapbox": [
           {
            "marker": {
             "colorbar": {
              "outlinewidth": 0,
              "ticks": ""
             }
            },
            "type": "scattermapbox"
           }
          ],
          "scatterpolar": [
           {
            "marker": {
             "colorbar": {
              "outlinewidth": 0,
              "ticks": ""
             }
            },
            "type": "scatterpolar"
           }
          ],
          "scatterpolargl": [
           {
            "marker": {
             "colorbar": {
              "outlinewidth": 0,
              "ticks": ""
             }
            },
            "type": "scatterpolargl"
           }
          ],
          "scatterternary": [
           {
            "marker": {
             "colorbar": {
              "outlinewidth": 0,
              "ticks": ""
             }
            },
            "type": "scatterternary"
           }
          ],
          "surface": [
           {
            "colorbar": {
             "outlinewidth": 0,
             "ticks": ""
            },
            "colorscale": [
             [
              0,
              "#0d0887"
             ],
             [
              0.1111111111111111,
              "#46039f"
             ],
             [
              0.2222222222222222,
              "#7201a8"
             ],
             [
              0.3333333333333333,
              "#9c179e"
             ],
             [
              0.4444444444444444,
              "#bd3786"
             ],
             [
              0.5555555555555556,
              "#d8576b"
             ],
             [
              0.6666666666666666,
              "#ed7953"
             ],
             [
              0.7777777777777778,
              "#fb9f3a"
             ],
             [
              0.8888888888888888,
              "#fdca26"
             ],
             [
              1,
              "#f0f921"
             ]
            ],
            "type": "surface"
           }
          ],
          "table": [
           {
            "cells": {
             "fill": {
              "color": "#EBF0F8"
             },
             "line": {
              "color": "white"
             }
            },
            "header": {
             "fill": {
              "color": "#C8D4E3"
             },
             "line": {
              "color": "white"
             }
            },
            "type": "table"
           }
          ]
         },
         "layout": {
          "annotationdefaults": {
           "arrowcolor": "#2a3f5f",
           "arrowhead": 0,
           "arrowwidth": 1
          },
          "autotypenumbers": "strict",
          "coloraxis": {
           "colorbar": {
            "outlinewidth": 0,
            "ticks": ""
           }
          },
          "colorscale": {
           "diverging": [
            [
             0,
             "#8e0152"
            ],
            [
             0.1,
             "#c51b7d"
            ],
            [
             0.2,
             "#de77ae"
            ],
            [
             0.3,
             "#f1b6da"
            ],
            [
             0.4,
             "#fde0ef"
            ],
            [
             0.5,
             "#f7f7f7"
            ],
            [
             0.6,
             "#e6f5d0"
            ],
            [
             0.7,
             "#b8e186"
            ],
            [
             0.8,
             "#7fbc41"
            ],
            [
             0.9,
             "#4d9221"
            ],
            [
             1,
             "#276419"
            ]
           ],
           "sequential": [
            [
             0,
             "#0d0887"
            ],
            [
             0.1111111111111111,
             "#46039f"
            ],
            [
             0.2222222222222222,
             "#7201a8"
            ],
            [
             0.3333333333333333,
             "#9c179e"
            ],
            [
             0.4444444444444444,
             "#bd3786"
            ],
            [
             0.5555555555555556,
             "#d8576b"
            ],
            [
             0.6666666666666666,
             "#ed7953"
            ],
            [
             0.7777777777777778,
             "#fb9f3a"
            ],
            [
             0.8888888888888888,
             "#fdca26"
            ],
            [
             1,
             "#f0f921"
            ]
           ],
           "sequentialminus": [
            [
             0,
             "#0d0887"
            ],
            [
             0.1111111111111111,
             "#46039f"
            ],
            [
             0.2222222222222222,
             "#7201a8"
            ],
            [
             0.3333333333333333,
             "#9c179e"
            ],
            [
             0.4444444444444444,
             "#bd3786"
            ],
            [
             0.5555555555555556,
             "#d8576b"
            ],
            [
             0.6666666666666666,
             "#ed7953"
            ],
            [
             0.7777777777777778,
             "#fb9f3a"
            ],
            [
             0.8888888888888888,
             "#fdca26"
            ],
            [
             1,
             "#f0f921"
            ]
           ]
          },
          "colorway": [
           "#636efa",
           "#EF553B",
           "#00cc96",
           "#ab63fa",
           "#FFA15A",
           "#19d3f3",
           "#FF6692",
           "#B6E880",
           "#FF97FF",
           "#FECB52"
          ],
          "font": {
           "color": "#2a3f5f"
          },
          "geo": {
           "bgcolor": "white",
           "lakecolor": "white",
           "landcolor": "#E5ECF6",
           "showlakes": true,
           "showland": true,
           "subunitcolor": "white"
          },
          "hoverlabel": {
           "align": "left"
          },
          "hovermode": "closest",
          "mapbox": {
           "style": "light"
          },
          "paper_bgcolor": "white",
          "plot_bgcolor": "#E5ECF6",
          "polar": {
           "angularaxis": {
            "gridcolor": "white",
            "linecolor": "white",
            "ticks": ""
           },
           "bgcolor": "#E5ECF6",
           "radialaxis": {
            "gridcolor": "white",
            "linecolor": "white",
            "ticks": ""
           }
          },
          "scene": {
           "xaxis": {
            "backgroundcolor": "#E5ECF6",
            "gridcolor": "white",
            "gridwidth": 2,
            "linecolor": "white",
            "showbackground": true,
            "ticks": "",
            "zerolinecolor": "white"
           },
           "yaxis": {
            "backgroundcolor": "#E5ECF6",
            "gridcolor": "white",
            "gridwidth": 2,
            "linecolor": "white",
            "showbackground": true,
            "ticks": "",
            "zerolinecolor": "white"
           },
           "zaxis": {
            "backgroundcolor": "#E5ECF6",
            "gridcolor": "white",
            "gridwidth": 2,
            "linecolor": "white",
            "showbackground": true,
            "ticks": "",
            "zerolinecolor": "white"
           }
          },
          "shapedefaults": {
           "line": {
            "color": "#2a3f5f"
           }
          },
          "ternary": {
           "aaxis": {
            "gridcolor": "white",
            "linecolor": "white",
            "ticks": ""
           },
           "baxis": {
            "gridcolor": "white",
            "linecolor": "white",
            "ticks": ""
           },
           "bgcolor": "#E5ECF6",
           "caxis": {
            "gridcolor": "white",
            "linecolor": "white",
            "ticks": ""
           }
          },
          "title": {
           "x": 0.05
          },
          "xaxis": {
           "automargin": true,
           "gridcolor": "white",
           "linecolor": "white",
           "ticks": "",
           "title": {
            "standoff": 15
           },
           "zerolinecolor": "white",
           "zerolinewidth": 2
          },
          "yaxis": {
           "automargin": true,
           "gridcolor": "white",
           "linecolor": "white",
           "ticks": "",
           "title": {
            "standoff": 15
           },
           "zerolinecolor": "white",
           "zerolinewidth": 2
          }
         }
        },
        "title": {
         "text": "Rental Prices Over Time"
        },
        "xaxis": {
         "anchor": "y",
         "domain": [
          0,
          1
         ],
         "title": {
          "text": "Date"
         }
        },
        "yaxis": {
         "anchor": "x",
         "domain": [
          0,
          1
         ],
         "title": {
          "text": "value"
         }
        }
       }
      },
      "text/html": [
       "<div>                            <div id=\"64fe8797-a923-47f9-afca-d15341e3be33\" class=\"plotly-graph-div\" style=\"height:525px; width:100%;\"></div>            <script type=\"text/javascript\">                require([\"plotly\"], function(Plotly) {                    window.PLOTLYENV=window.PLOTLYENV || {};                                    if (document.getElementById(\"64fe8797-a923-47f9-afca-d15341e3be33\")) {                    Plotly.newPlot(                        \"64fe8797-a923-47f9-afca-d15341e3be33\",                        [{\"hovertemplate\":\"variable=0<br>Date=%{x}<br>value=%{y}<extra></extra>\",\"legendgroup\":\"0\",\"line\":{\"color\":\"#636efa\",\"dash\":\"solid\"},\"mode\":\"lines\",\"name\":\"0\",\"orientation\":\"v\",\"showlegend\":true,\"type\":\"scatter\",\"x\":[\"2014-01-01\",\"2014-02-01\",\"2014-03-01\",\"2014-04-01\",\"2014-05-01\",\"2014-06-01\",\"2014-07-01\",\"2014-08-01\",\"2014-09-01\",\"2014-10-01\",\"2014-11-01\",\"2014-12-01\",\"2015-01-01\",\"2015-02-01\",\"2015-03-01\",\"2015-04-01\",\"2015-05-01\",\"2015-06-01\",\"2015-07-01\",\"2015-08-01\",\"2015-09-01\",\"2015-10-01\",\"2015-11-01\",\"2015-12-01\",\"2016-01-01\",\"2016-02-01\",\"2016-03-01\",\"2016-04-01\",\"2016-05-01\",\"2016-06-01\",\"2016-07-01\",\"2016-08-01\",\"2016-09-01\",\"2016-10-01\",\"2016-11-01\",\"2016-12-01\",\"2017-01-01\",\"2017-02-01\",\"2017-03-01\",\"2017-04-01\",\"2017-05-01\",\"2017-06-01\",\"2017-07-01\",\"2017-08-01\",\"2017-09-01\",\"2017-10-01\",\"2017-11-01\",\"2017-12-01\",\"2018-01-01\",\"2018-02-01\",\"2018-03-01\",\"2018-04-01\",\"2018-05-01\",\"2018-06-01\",\"2018-07-01\",\"2018-08-01\",\"2018-09-01\",\"2018-10-01\",\"2018-11-01\",\"2018-12-01\",\"2019-01-01\",\"2019-02-01\",\"2019-03-01\",\"2019-04-01\",\"2019-05-01\",\"2019-06-01\",\"2019-07-01\",\"2019-08-01\",\"2019-09-01\",\"2019-10-01\",\"2019-11-01\",\"2019-12-01\",\"2020-01-01\",\"2020-02-01\",\"2020-03-01\",\"2020-04-01\",\"2020-05-01\",\"2020-06-01\",\"2020-07-01\",\"2020-08-01\",\"2020-09-01\",\"2020-10-01\",\"2020-11-01\",\"2020-12-01\",\"2021-01-01\",\"2021-02-01\",\"2021-03-01\",\"2021-04-01\",\"2021-05-01\",\"2021-06-01\",\"2021-07-01\"],\"xaxis\":\"x\",\"y\":[1377.0124720107572,1331.091661442017,1307.9631527093716,1380.0980922525814,1417.820761307662,1451.3018137035401,1455.0909314823139,1470.3496283027355,1467.9348723690155,1431.3535288849127,1419.8326959247736,1431.016569637269,1458.9178011643576,1438.4957008508793,1484.0998477384726,1486.449646215857,1490.99879086431,1541.60431258397,1557.4122570532927,1556.0266412897463,1554.7100179131232,1557.59891177788,1552.1312897447413,1532.205991939099,1551.691576354682,1574.7900940438894,1562.2512763099003,1571.0276712942277,1609.1413479623834,1614.6586296462167,1604.5932198835665,1610.9627451858496,1622.8592521271846,1618.1690953873729,1599.3759785042557,1598.5528437080177,1630.7791580832964,1624.4594043887153,1648.7536408419173,1661.4571562919846,1668.3841513658765,1661.958746081505,1668.7612539184959,1680.71736229288,1668.664043887148,1669.1803806538298,1662.6075727720563,1642.176247201076,1654.2108374384245,1684.653304970892,1678.8449619346181,1692.9771025526206,1716.7442454097632,1727.7930900134352,1734.1231034482767,1726.3447559337224,1737.9524988804303,1734.4764218540088,1734.9748186296472,1737.3971518137043,1736.109189431259,1747.2749081952538,1758.4719749216306,1768.0581504702202,1783.4424048365433,1792.118172861622,1784.066256157636,1786.0958172861624,1794.3752530228394,1789.3416390506054,1782.9130362740714,1775.3733855799387,1790.7594491715192,1788.1445723242289,1785.741074787283,1773.680125391851,1800.1602463054196,1800.0357590685182,1805.3792386923428,1808.8266368114653,1797.4979131213622,1810.3178772951198,1809.391236005376,1795.5282803403513,1815.408696820423,1820.784791759967,1834.2531527093638,1859.5241737572799,1892.3589162561605,1922.614738020602,1974.358150470221],\"yaxis\":\"y\"}],                        {\"legend\":{\"title\":{\"text\":\"variable\"},\"tracegroupgap\":0},\"template\":{\"data\":{\"bar\":[{\"error_x\":{\"color\":\"#2a3f5f\"},\"error_y\":{\"color\":\"#2a3f5f\"},\"marker\":{\"line\":{\"color\":\"#E5ECF6\",\"width\":0.5},\"pattern\":{\"fillmode\":\"overlay\",\"size\":10,\"solidity\":0.2}},\"type\":\"bar\"}],\"barpolar\":[{\"marker\":{\"line\":{\"color\":\"#E5ECF6\",\"width\":0.5},\"pattern\":{\"fillmode\":\"overlay\",\"size\":10,\"solidity\":0.2}},\"type\":\"barpolar\"}],\"carpet\":[{\"aaxis\":{\"endlinecolor\":\"#2a3f5f\",\"gridcolor\":\"white\",\"linecolor\":\"white\",\"minorgridcolor\":\"white\",\"startlinecolor\":\"#2a3f5f\"},\"baxis\":{\"endlinecolor\":\"#2a3f5f\",\"gridcolor\":\"white\",\"linecolor\":\"white\",\"minorgridcolor\":\"white\",\"startlinecolor\":\"#2a3f5f\"},\"type\":\"carpet\"}],\"choropleth\":[{\"colorbar\":{\"outlinewidth\":0,\"ticks\":\"\"},\"type\":\"choropleth\"}],\"contour\":[{\"colorbar\":{\"outlinewidth\":0,\"ticks\":\"\"},\"colorscale\":[[0.0,\"#0d0887\"],[0.1111111111111111,\"#46039f\"],[0.2222222222222222,\"#7201a8\"],[0.3333333333333333,\"#9c179e\"],[0.4444444444444444,\"#bd3786\"],[0.5555555555555556,\"#d8576b\"],[0.6666666666666666,\"#ed7953\"],[0.7777777777777778,\"#fb9f3a\"],[0.8888888888888888,\"#fdca26\"],[1.0,\"#f0f921\"]],\"type\":\"contour\"}],\"contourcarpet\":[{\"colorbar\":{\"outlinewidth\":0,\"ticks\":\"\"},\"type\":\"contourcarpet\"}],\"heatmap\":[{\"colorbar\":{\"outlinewidth\":0,\"ticks\":\"\"},\"colorscale\":[[0.0,\"#0d0887\"],[0.1111111111111111,\"#46039f\"],[0.2222222222222222,\"#7201a8\"],[0.3333333333333333,\"#9c179e\"],[0.4444444444444444,\"#bd3786\"],[0.5555555555555556,\"#d8576b\"],[0.6666666666666666,\"#ed7953\"],[0.7777777777777778,\"#fb9f3a\"],[0.8888888888888888,\"#fdca26\"],[1.0,\"#f0f921\"]],\"type\":\"heatmap\"}],\"heatmapgl\":[{\"colorbar\":{\"outlinewidth\":0,\"ticks\":\"\"},\"colorscale\":[[0.0,\"#0d0887\"],[0.1111111111111111,\"#46039f\"],[0.2222222222222222,\"#7201a8\"],[0.3333333333333333,\"#9c179e\"],[0.4444444444444444,\"#bd3786\"],[0.5555555555555556,\"#d8576b\"],[0.6666666666666666,\"#ed7953\"],[0.7777777777777778,\"#fb9f3a\"],[0.8888888888888888,\"#fdca26\"],[1.0,\"#f0f921\"]],\"type\":\"heatmapgl\"}],\"histogram\":[{\"marker\":{\"pattern\":{\"fillmode\":\"overlay\",\"size\":10,\"solidity\":0.2}},\"type\":\"histogram\"}],\"histogram2d\":[{\"colorbar\":{\"outlinewidth\":0,\"ticks\":\"\"},\"colorscale\":[[0.0,\"#0d0887\"],[0.1111111111111111,\"#46039f\"],[0.2222222222222222,\"#7201a8\"],[0.3333333333333333,\"#9c179e\"],[0.4444444444444444,\"#bd3786\"],[0.5555555555555556,\"#d8576b\"],[0.6666666666666666,\"#ed7953\"],[0.7777777777777778,\"#fb9f3a\"],[0.8888888888888888,\"#fdca26\"],[1.0,\"#f0f921\"]],\"type\":\"histogram2d\"}],\"histogram2dcontour\":[{\"colorbar\":{\"outlinewidth\":0,\"ticks\":\"\"},\"colorscale\":[[0.0,\"#0d0887\"],[0.1111111111111111,\"#46039f\"],[0.2222222222222222,\"#7201a8\"],[0.3333333333333333,\"#9c179e\"],[0.4444444444444444,\"#bd3786\"],[0.5555555555555556,\"#d8576b\"],[0.6666666666666666,\"#ed7953\"],[0.7777777777777778,\"#fb9f3a\"],[0.8888888888888888,\"#fdca26\"],[1.0,\"#f0f921\"]],\"type\":\"histogram2dcontour\"}],\"mesh3d\":[{\"colorbar\":{\"outlinewidth\":0,\"ticks\":\"\"},\"type\":\"mesh3d\"}],\"parcoords\":[{\"line\":{\"colorbar\":{\"outlinewidth\":0,\"ticks\":\"\"}},\"type\":\"parcoords\"}],\"pie\":[{\"automargin\":true,\"type\":\"pie\"}],\"scatter\":[{\"marker\":{\"colorbar\":{\"outlinewidth\":0,\"ticks\":\"\"}},\"type\":\"scatter\"}],\"scatter3d\":[{\"line\":{\"colorbar\":{\"outlinewidth\":0,\"ticks\":\"\"}},\"marker\":{\"colorbar\":{\"outlinewidth\":0,\"ticks\":\"\"}},\"type\":\"scatter3d\"}],\"scattercarpet\":[{\"marker\":{\"colorbar\":{\"outlinewidth\":0,\"ticks\":\"\"}},\"type\":\"scattercarpet\"}],\"scattergeo\":[{\"marker\":{\"colorbar\":{\"outlinewidth\":0,\"ticks\":\"\"}},\"type\":\"scattergeo\"}],\"scattergl\":[{\"marker\":{\"colorbar\":{\"outlinewidth\":0,\"ticks\":\"\"}},\"type\":\"scattergl\"}],\"scattermapbox\":[{\"marker\":{\"colorbar\":{\"outlinewidth\":0,\"ticks\":\"\"}},\"type\":\"scattermapbox\"}],\"scatterpolar\":[{\"marker\":{\"colorbar\":{\"outlinewidth\":0,\"ticks\":\"\"}},\"type\":\"scatterpolar\"}],\"scatterpolargl\":[{\"marker\":{\"colorbar\":{\"outlinewidth\":0,\"ticks\":\"\"}},\"type\":\"scatterpolargl\"}],\"scatterternary\":[{\"marker\":{\"colorbar\":{\"outlinewidth\":0,\"ticks\":\"\"}},\"type\":\"scatterternary\"}],\"surface\":[{\"colorbar\":{\"outlinewidth\":0,\"ticks\":\"\"},\"colorscale\":[[0.0,\"#0d0887\"],[0.1111111111111111,\"#46039f\"],[0.2222222222222222,\"#7201a8\"],[0.3333333333333333,\"#9c179e\"],[0.4444444444444444,\"#bd3786\"],[0.5555555555555556,\"#d8576b\"],[0.6666666666666666,\"#ed7953\"],[0.7777777777777778,\"#fb9f3a\"],[0.8888888888888888,\"#fdca26\"],[1.0,\"#f0f921\"]],\"type\":\"surface\"}],\"table\":[{\"cells\":{\"fill\":{\"color\":\"#EBF0F8\"},\"line\":{\"color\":\"white\"}},\"header\":{\"fill\":{\"color\":\"#C8D4E3\"},\"line\":{\"color\":\"white\"}},\"type\":\"table\"}]},\"layout\":{\"annotationdefaults\":{\"arrowcolor\":\"#2a3f5f\",\"arrowhead\":0,\"arrowwidth\":1},\"autotypenumbers\":\"strict\",\"coloraxis\":{\"colorbar\":{\"outlinewidth\":0,\"ticks\":\"\"}},\"colorscale\":{\"diverging\":[[0,\"#8e0152\"],[0.1,\"#c51b7d\"],[0.2,\"#de77ae\"],[0.3,\"#f1b6da\"],[0.4,\"#fde0ef\"],[0.5,\"#f7f7f7\"],[0.6,\"#e6f5d0\"],[0.7,\"#b8e186\"],[0.8,\"#7fbc41\"],[0.9,\"#4d9221\"],[1,\"#276419\"]],\"sequential\":[[0.0,\"#0d0887\"],[0.1111111111111111,\"#46039f\"],[0.2222222222222222,\"#7201a8\"],[0.3333333333333333,\"#9c179e\"],[0.4444444444444444,\"#bd3786\"],[0.5555555555555556,\"#d8576b\"],[0.6666666666666666,\"#ed7953\"],[0.7777777777777778,\"#fb9f3a\"],[0.8888888888888888,\"#fdca26\"],[1.0,\"#f0f921\"]],\"sequentialminus\":[[0.0,\"#0d0887\"],[0.1111111111111111,\"#46039f\"],[0.2222222222222222,\"#7201a8\"],[0.3333333333333333,\"#9c179e\"],[0.4444444444444444,\"#bd3786\"],[0.5555555555555556,\"#d8576b\"],[0.6666666666666666,\"#ed7953\"],[0.7777777777777778,\"#fb9f3a\"],[0.8888888888888888,\"#fdca26\"],[1.0,\"#f0f921\"]]},\"colorway\":[\"#636efa\",\"#EF553B\",\"#00cc96\",\"#ab63fa\",\"#FFA15A\",\"#19d3f3\",\"#FF6692\",\"#B6E880\",\"#FF97FF\",\"#FECB52\"],\"font\":{\"color\":\"#2a3f5f\"},\"geo\":{\"bgcolor\":\"white\",\"lakecolor\":\"white\",\"landcolor\":\"#E5ECF6\",\"showlakes\":true,\"showland\":true,\"subunitcolor\":\"white\"},\"hoverlabel\":{\"align\":\"left\"},\"hovermode\":\"closest\",\"mapbox\":{\"style\":\"light\"},\"paper_bgcolor\":\"white\",\"plot_bgcolor\":\"#E5ECF6\",\"polar\":{\"angularaxis\":{\"gridcolor\":\"white\",\"linecolor\":\"white\",\"ticks\":\"\"},\"bgcolor\":\"#E5ECF6\",\"radialaxis\":{\"gridcolor\":\"white\",\"linecolor\":\"white\",\"ticks\":\"\"}},\"scene\":{\"xaxis\":{\"backgroundcolor\":\"#E5ECF6\",\"gridcolor\":\"white\",\"gridwidth\":2,\"linecolor\":\"white\",\"showbackground\":true,\"ticks\":\"\",\"zerolinecolor\":\"white\"},\"yaxis\":{\"backgroundcolor\":\"#E5ECF6\",\"gridcolor\":\"white\",\"gridwidth\":2,\"linecolor\":\"white\",\"showbackground\":true,\"ticks\":\"\",\"zerolinecolor\":\"white\"},\"zaxis\":{\"backgroundcolor\":\"#E5ECF6\",\"gridcolor\":\"white\",\"gridwidth\":2,\"linecolor\":\"white\",\"showbackground\":true,\"ticks\":\"\",\"zerolinecolor\":\"white\"}},\"shapedefaults\":{\"line\":{\"color\":\"#2a3f5f\"}},\"ternary\":{\"aaxis\":{\"gridcolor\":\"white\",\"linecolor\":\"white\",\"ticks\":\"\"},\"baxis\":{\"gridcolor\":\"white\",\"linecolor\":\"white\",\"ticks\":\"\"},\"bgcolor\":\"#E5ECF6\",\"caxis\":{\"gridcolor\":\"white\",\"linecolor\":\"white\",\"ticks\":\"\"}},\"title\":{\"x\":0.05},\"xaxis\":{\"automargin\":true,\"gridcolor\":\"white\",\"linecolor\":\"white\",\"ticks\":\"\",\"title\":{\"standoff\":15},\"zerolinecolor\":\"white\",\"zerolinewidth\":2},\"yaxis\":{\"automargin\":true,\"gridcolor\":\"white\",\"linecolor\":\"white\",\"ticks\":\"\",\"title\":{\"standoff\":15},\"zerolinecolor\":\"white\",\"zerolinewidth\":2}}},\"title\":{\"text\":\"Rental Prices Over Time\"},\"xaxis\":{\"anchor\":\"y\",\"domain\":[0.0,1.0],\"title\":{\"text\":\"Date\"}},\"yaxis\":{\"anchor\":\"x\",\"domain\":[0.0,1.0],\"title\":{\"text\":\"value\"}}},                        {\"responsive\": true}                    ).then(function(){\n",
       "                            \n",
       "var gd = document.getElementById('64fe8797-a923-47f9-afca-d15341e3be33');\n",
       "var x = new MutationObserver(function (mutations, observer) {{\n",
       "        var display = window.getComputedStyle(gd).display;\n",
       "        if (!display || display === 'none') {{\n",
       "            console.log([gd, 'removed!']);\n",
       "            Plotly.purge(gd);\n",
       "            observer.disconnect();\n",
       "        }}\n",
       "}});\n",
       "\n",
       "// Listen for the removal of the full notebook cells\n",
       "var notebookContainer = gd.closest('#notebook-container');\n",
       "if (notebookContainer) {{\n",
       "    x.observe(notebookContainer, {childList: true});\n",
       "}}\n",
       "\n",
       "// Listen for the clearing of the current output cell\n",
       "var outputEl = gd.closest('.output');\n",
       "if (outputEl) {{\n",
       "    x.observe(outputEl, {childList: true});\n",
       "}}\n",
       "\n",
       "                        })                };                });            </script>        </div>"
      ]
     },
     "metadata": {},
     "output_type": "display_data"
    }
   ],
   "source": [
    "# AVG of ALL zip code rental prices displayed in time\n",
    "\n",
    "# Plotly Express\n",
    "import plotly.express as px\n",
    "\n",
    "fig = px.line(zillow_df3, x=zillow_df3.index, y=[0], title='Rental Prices Over Time')\n",
    "fig.show()"
   ]
  },
  {
   "cell_type": "code",
   "execution_count": null,
   "id": "5c0839c2",
   "metadata": {},
   "outputs": [],
   "source": [
    "#Use "
   ]
  }
 ],
 "metadata": {
  "kernelspec": {
   "display_name": "pythondata",
   "language": "python",
   "name": "pythondata"
  },
  "language_info": {
   "codemirror_mode": {
    "name": "ipython",
    "version": 3
   },
   "file_extension": ".py",
   "mimetype": "text/x-python",
   "name": "python",
   "nbconvert_exporter": "python",
   "pygments_lexer": "ipython3",
   "version": "3.7.10"
  }
 },
 "nbformat": 4,
 "nbformat_minor": 5
}
