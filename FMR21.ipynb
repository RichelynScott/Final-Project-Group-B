{
 "cells": [
  {
   "cell_type": "code",
   "execution_count": 1,
   "id": "92efee60",
   "metadata": {},
   "outputs": [
    {
     "name": "stdout",
     "output_type": "stream",
     "text": [
      "Requirement already satisfied: pyod in c:\\users\\laure\\anaconda3\\envs\\pythondata\\lib\\site-packages (0.9.3)\n",
      "Requirement already satisfied: six in c:\\users\\laure\\appdata\\roaming\\python\\python37\\site-packages (from pyod) (1.16.0)\n",
      "Requirement already satisfied: scikit-learn>=0.20.0 in c:\\users\\laure\\anaconda3\\envs\\pythondata\\lib\\site-packages (from pyod) (0.24.1)\n",
      "Requirement already satisfied: joblib in c:\\users\\laure\\anaconda3\\envs\\pythondata\\lib\\site-packages (from pyod) (1.0.1)\n",
      "Requirement already satisfied: matplotlib in c:\\users\\laure\\anaconda3\\envs\\pythondata\\lib\\site-packages (from pyod) (3.3.4)\n",
      "Requirement already satisfied: scipy>=1.3.1 in c:\\users\\laure\\anaconda3\\envs\\pythondata\\lib\\site-packages (from pyod) (1.6.2)\n",
      "Requirement already satisfied: numpy>=1.13 in c:\\users\\laure\\anaconda3\\envs\\pythondata\\lib\\site-packages (from pyod) (1.20.1)\n",
      "Requirement already satisfied: numba>=0.35 in c:\\users\\laure\\anaconda3\\envs\\pythondata\\lib\\site-packages (from pyod) (0.53.1)\n",
      "Requirement already satisfied: statsmodels in c:\\users\\laure\\anaconda3\\envs\\pythondata\\lib\\site-packages (from pyod) (0.12.2)\n",
      "Requirement already satisfied: llvmlite<0.37,>=0.36.0rc1 in c:\\users\\laure\\anaconda3\\envs\\pythondata\\lib\\site-packages (from numba>=0.35->pyod) (0.36.0)\n",
      "Requirement already satisfied: setuptools in c:\\users\\laure\\anaconda3\\envs\\pythondata\\lib\\site-packages (from numba>=0.35->pyod) (52.0.0.post20210125)\n",
      "Requirement already satisfied: threadpoolctl>=2.0.0 in c:\\users\\laure\\anaconda3\\envs\\pythondata\\lib\\site-packages (from scikit-learn>=0.20.0->pyod) (2.1.0)\n",
      "Requirement already satisfied: pyparsing!=2.0.4,!=2.1.2,!=2.1.6,>=2.0.3 in c:\\users\\laure\\anaconda3\\envs\\pythondata\\lib\\site-packages (from matplotlib->pyod) (2.4.7)\n",
      "Requirement already satisfied: pillow>=6.2.0 in c:\\users\\laure\\anaconda3\\envs\\pythondata\\lib\\site-packages (from matplotlib->pyod) (8.2.0)\n",
      "Requirement already satisfied: python-dateutil>=2.1 in c:\\users\\laure\\appdata\\roaming\\python\\python37\\site-packages (from matplotlib->pyod) (2.8.1)\n",
      "Requirement already satisfied: kiwisolver>=1.0.1 in c:\\users\\laure\\anaconda3\\envs\\pythondata\\lib\\site-packages (from matplotlib->pyod) (1.3.1)\n",
      "Requirement already satisfied: cycler>=0.10 in c:\\users\\laure\\anaconda3\\envs\\pythondata\\lib\\site-packages (from matplotlib->pyod) (0.10.0)\n",
      "Requirement already satisfied: pandas>=0.21 in c:\\users\\laure\\anaconda3\\envs\\pythondata\\lib\\site-packages (from statsmodels->pyod) (1.2.4)\n",
      "Requirement already satisfied: patsy>=0.5 in c:\\users\\laure\\anaconda3\\envs\\pythondata\\lib\\site-packages (from statsmodels->pyod) (0.5.1)\n",
      "Requirement already satisfied: pytz>=2017.3 in c:\\users\\laure\\anaconda3\\envs\\pythondata\\lib\\site-packages (from pandas>=0.21->statsmodels->pyod) (2021.1)\n",
      "Note: you may need to restart the kernel to use updated packages.\n"
     ]
    }
   ],
   "source": [
    "pip install --upgrade pyod  "
   ]
  },
  {
   "cell_type": "code",
   "execution_count": 2,
   "id": "d5cc04ea",
   "metadata": {},
   "outputs": [
    {
     "name": "stdout",
     "output_type": "stream",
     "text": [
      "Requirement already satisfied: combo in c:\\users\\laure\\anaconda3\\envs\\pythondata\\lib\\site-packages (0.1.2)Note: you may need to restart the kernel to use updated packages.\n",
      "Requirement already satisfied: pyod in c:\\users\\laure\\anaconda3\\envs\\pythondata\\lib\\site-packages (from combo) (0.9.3)\n",
      "Requirement already satisfied: scipy in c:\\users\\laure\\anaconda3\\envs\\pythondata\\lib\\site-packages (from combo) (1.6.2)\n",
      "Requirement already satisfied: matplotlib in c:\\users\\laure\\anaconda3\\envs\\pythondata\\lib\\site-packages (from combo) (3.3.4)\n",
      "Requirement already satisfied: scikit-learn>=0.20 in c:\\users\\laure\\anaconda3\\envs\\pythondata\\lib\\site-packages (from combo) (0.24.1)\n",
      "Requirement already satisfied: joblib in c:\\users\\laure\\anaconda3\\envs\\pythondata\\lib\\site-packages (from combo) (1.0.1)\n",
      "Requirement already satisfied: numpy>=1.13 in c:\\users\\laure\\anaconda3\\envs\\pythondata\\lib\\site-packages (from combo) (1.20.1)\n",
      "Requirement already satisfied: numba>=0.35 in c:\\users\\laure\\anaconda3\\envs\\pythondata\\lib\\site-packages (from combo) (0.53.1)\n",
      "Requirement already satisfied: llvmlite<0.37,>=0.36.0rc1 in c:\\users\\laure\\anaconda3\\envs\\pythondata\\lib\\site-packages (from numba>=0.35->combo) (0.36.0)\n",
      "Requirement already satisfied: setuptools in c:\\users\\laure\\anaconda3\\envs\\pythondata\\lib\\site-packages (from numba>=0.35->combo) (52.0.0.post20210125)\n",
      "Requirement already satisfied: threadpoolctl>=2.0.0 in c:\\users\\laure\\anaconda3\\envs\\pythondata\\lib\\site-packages (from scikit-learn>=0.20->combo) (2.1.0)\n",
      "Requirement already satisfied: python-dateutil>=2.1 in c:\\users\\laure\\appdata\\roaming\\python\\python37\\site-packages (from matplotlib->combo) (2.8.1)\n",
      "Requirement already satisfied: kiwisolver>=1.0.1 in c:\\users\\laure\\anaconda3\\envs\\pythondata\\lib\\site-packages (from matplotlib->combo) (1.3.1)\n",
      "Requirement already satisfied: cycler>=0.10 in c:\\users\\laure\\anaconda3\\envs\\pythondata\\lib\\site-packages (from matplotlib->combo) (0.10.0)\n",
      "Requirement already satisfied: pillow>=6.2.0 in c:\\users\\laure\\anaconda3\\envs\\pythondata\\lib\\site-packages (from matplotlib->combo) (8.2.0)\n",
      "Requirement already satisfied: pyparsing!=2.0.4,!=2.1.2,!=2.1.6,>=2.0.3 in c:\\users\\laure\\anaconda3\\envs\\pythondata\\lib\\site-packages (from matplotlib->combo) (2.4.7)\n",
      "Requirement already satisfied: six in c:\\users\\laure\\appdata\\roaming\\python\\python37\\site-packages (from cycler>=0.10->matplotlib->combo) (1.16.0)\n",
      "Requirement already satisfied: statsmodels in c:\\users\\laure\\anaconda3\\envs\\pythondata\\lib\\site-packages (from pyod->combo) (0.12.2)\n",
      "Requirement already satisfied: pandas>=0.21 in c:\\users\\laure\\anaconda3\\envs\\pythondata\\lib\\site-packages (from statsmodels->pyod->combo) (1.2.4)\n",
      "Requirement already satisfied: patsy>=0.5 in c:\\users\\laure\\anaconda3\\envs\\pythondata\\lib\\site-packages (from statsmodels->pyod->combo) (0.5.1)\n",
      "Requirement already satisfied: pytz>=2017.3 in c:\\users\\laure\\anaconda3\\envs\\pythondata\\lib\\site-packages (from pandas>=0.21->statsmodels->pyod->combo) (2021.1)\n",
      "\n"
     ]
    }
   ],
   "source": [
    "pip install combo"
   ]
  },
  {
   "cell_type": "code",
   "execution_count": 3,
   "id": "bc30a458",
   "metadata": {},
   "outputs": [],
   "source": [
    "import numpy as np \n",
    "import pandas as pd \n",
    "\n",
    "import os\n",
    "\n",
    "import seaborn as sns\n",
    "import matplotlib.pyplot as plt\n",
    "import plotly.express as px\n",
    "from plotly.subplots import make_subplots\n",
    "import plotly.graph_objects as go"
   ]
  },
  {
   "cell_type": "code",
   "execution_count": 4,
   "id": "493cf934",
   "metadata": {},
   "outputs": [],
   "source": [
    "from sklearn.model_selection import train_test_split\n",
    "from sklearn.linear_model import Ridge, Lasso, LinearRegression\n",
    "from sklearn.ensemble import RandomForestRegressor\n",
    "from sklearn.preprocessing import StandardScaler, OneHotEncoder\n",
    "from sklearn.compose import make_column_transformer, ColumnTransformer\n",
    "from sklearn.pipeline import make_pipeline\n",
    "from sklearn.neural_network import MLPRegressor\n",
    "\n",
    "from scipy.stats.mstats import winsorize"
   ]
  },
  {
   "cell_type": "code",
   "execution_count": 5,
   "id": "5eef38bf",
   "metadata": {},
   "outputs": [],
   "source": [
    "from pyod.models.feature_bagging import FeatureBagging\n",
    "from pyod.models.lof import LOF"
   ]
  },
  {
   "cell_type": "code",
   "execution_count": 6,
   "id": "5f4225a9",
   "metadata": {},
   "outputs": [
    {
     "name": "stdout",
     "output_type": "stream",
     "text": [
      "Requirement already satisfied: xgboost in c:\\users\\laure\\anaconda3\\envs\\pythondata\\lib\\site-packages (1.4.2)\n",
      "Requirement already satisfied: scipy in c:\\users\\laure\\anaconda3\\envs\\pythondata\\lib\\site-packages (from xgboost) (1.6.2)\n",
      "Requirement already satisfied: numpy in c:\\users\\laure\\anaconda3\\envs\\pythondata\\lib\\site-packages (from xgboost) (1.20.1)\n",
      "Note: you may need to restart the kernel to use updated packages.\n"
     ]
    }
   ],
   "source": [
    "pip install xgboost"
   ]
  },
  {
   "cell_type": "code",
   "execution_count": 7,
   "id": "223bf285",
   "metadata": {},
   "outputs": [
    {
     "name": "stdout",
     "output_type": "stream",
     "text": [
      "Requirement already satisfied: catboost in c:\\users\\laure\\anaconda3\\envs\\pythondata\\lib\\site-packages (0.26.1)\n",
      "Requirement already satisfied: graphviz in c:\\users\\laure\\anaconda3\\envs\\pythondata\\lib\\site-packages (from catboost) (0.17)\n",
      "Requirement already satisfied: numpy>=1.16.0 in c:\\users\\laure\\anaconda3\\envs\\pythondata\\lib\\site-packages (from catboost) (1.20.1)\n",
      "Requirement already satisfied: scipy in c:\\users\\laure\\anaconda3\\envs\\pythondata\\lib\\site-packages (from catboost) (1.6.2)\n",
      "Requirement already satisfied: six in c:\\users\\laure\\appdata\\roaming\\python\\python37\\site-packages (from catboost) (1.16.0)\n",
      "Requirement already satisfied: plotly in c:\\users\\laure\\anaconda3\\envs\\pythondata\\lib\\site-packages (from catboost) (5.1.0)\n",
      "Requirement already satisfied: matplotlib in c:\\users\\laure\\anaconda3\\envs\\pythondata\\lib\\site-packages (from catboost) (3.3.4)\n",
      "Requirement already satisfied: pandas>=0.24.0 in c:\\users\\laure\\anaconda3\\envs\\pythondata\\lib\\site-packages (from catboost) (1.2.4)\n",
      "Requirement already satisfied: pytz>=2017.3 in c:\\users\\laure\\anaconda3\\envs\\pythondata\\lib\\site-packages (from pandas>=0.24.0->catboost) (2021.1)\n",
      "Requirement already satisfied: python-dateutil>=2.7.3 in c:\\users\\laure\\appdata\\roaming\\python\\python37\\site-packages (from pandas>=0.24.0->catboost) (2.8.1)\n",
      "Requirement already satisfied: cycler>=0.10 in c:\\users\\laure\\anaconda3\\envs\\pythondata\\lib\\site-packages (from matplotlib->catboost) (0.10.0)\n",
      "Requirement already satisfied: pyparsing!=2.0.4,!=2.1.2,!=2.1.6,>=2.0.3 in c:\\users\\laure\\anaconda3\\envs\\pythondata\\lib\\site-packages (from matplotlib->catboost) (2.4.7)\n",
      "Requirement already satisfied: pillow>=6.2.0 in c:\\users\\laure\\anaconda3\\envs\\pythondata\\lib\\site-packages (from matplotlib->catboost) (8.2.0)\n",
      "Requirement already satisfied: kiwisolver>=1.0.1 in c:\\users\\laure\\anaconda3\\envs\\pythondata\\lib\\site-packages (from matplotlib->catboost) (1.3.1)\n",
      "Requirement already satisfied: tenacity>=6.2.0 in c:\\users\\laure\\anaconda3\\envs\\pythondata\\lib\\site-packages (from plotly->catboost) (6.3.1)\n",
      "Note: you may need to restart the kernel to use updated packages.\n"
     ]
    }
   ],
   "source": [
    "pip install catboost"
   ]
  },
  {
   "cell_type": "code",
   "execution_count": 8,
   "id": "f7874b9a",
   "metadata": {},
   "outputs": [
    {
     "name": "stdout",
     "output_type": "stream",
     "text": [
      "Requirement already satisfied: lightgbm in c:\\users\\laure\\anaconda3\\envs\\pythondata\\lib\\site-packages (3.2.1)\n",
      "Requirement already satisfied: numpy in c:\\users\\laure\\anaconda3\\envs\\pythondata\\lib\\site-packages (from lightgbm) (1.20.1)\n",
      "Requirement already satisfied: scikit-learn!=0.22.0 in c:\\users\\laure\\anaconda3\\envs\\pythondata\\lib\\site-packages (from lightgbm) (0.24.1)\n",
      "Requirement already satisfied: wheel in c:\\users\\laure\\anaconda3\\envs\\pythondata\\lib\\site-packages (from lightgbm) (0.36.2)\n",
      "Requirement already satisfied: scipy in c:\\users\\laure\\anaconda3\\envs\\pythondata\\lib\\site-packages (from lightgbm) (1.6.2)\n",
      "Requirement already satisfied: threadpoolctl>=2.0.0 in c:\\users\\laure\\anaconda3\\envs\\pythondata\\lib\\site-packages (from scikit-learn!=0.22.0->lightgbm) (2.1.0)\n",
      "Requirement already satisfied: joblib>=0.11 in c:\\users\\laure\\anaconda3\\envs\\pythondata\\lib\\site-packages (from scikit-learn!=0.22.0->lightgbm) (1.0.1)\n",
      "Note: you may need to restart the kernel to use updated packages.\n"
     ]
    }
   ],
   "source": [
    "pip install lightgbm "
   ]
  },
  {
   "cell_type": "code",
   "execution_count": null,
   "id": "61f6d713",
   "metadata": {},
   "outputs": [],
   "source": []
  },
  {
   "cell_type": "code",
   "execution_count": 9,
   "id": "d54a0154",
   "metadata": {},
   "outputs": [],
   "source": [
    "from xgboost import XGBRegressor, XGBRFRegressor\n",
    "from catboost import CatBoostRegressor\n",
    "from lightgbm import LGBMRegressor\n",
    "import catboost\n",
    "import lightgbm"
   ]
  },
  {
   "cell_type": "code",
   "execution_count": 10,
   "id": "ff57a109",
   "metadata": {
    "scrolled": true
   },
   "outputs": [
    {
     "data": {
      "text/html": [
       "<div>\n",
       "<style scoped>\n",
       "    .dataframe tbody tr th:only-of-type {\n",
       "        vertical-align: middle;\n",
       "    }\n",
       "\n",
       "    .dataframe tbody tr th {\n",
       "        vertical-align: top;\n",
       "    }\n",
       "\n",
       "    .dataframe thead th {\n",
       "        text-align: right;\n",
       "    }\n",
       "</style>\n",
       "<table border=\"1\" class=\"dataframe\">\n",
       "  <thead>\n",
       "    <tr style=\"text-align: right;\">\n",
       "      <th></th>\n",
       "      <th>fips2010</th>\n",
       "      <th>fmr_0</th>\n",
       "      <th>fmr_1</th>\n",
       "      <th>fmr_2</th>\n",
       "      <th>fmr_3</th>\n",
       "      <th>fmr_4</th>\n",
       "      <th>state</th>\n",
       "      <th>metro_code</th>\n",
       "      <th>areaname</th>\n",
       "      <th>county</th>\n",
       "      <th>cousub</th>\n",
       "      <th>countyname</th>\n",
       "      <th>county_town_name</th>\n",
       "      <th>pop2017</th>\n",
       "      <th>state_alpha</th>\n",
       "      <th>metro</th>\n",
       "    </tr>\n",
       "  </thead>\n",
       "  <tbody>\n",
       "    <tr>\n",
       "      <th>4761</th>\n",
       "      <td>7215199999</td>\n",
       "      <td>436</td>\n",
       "      <td>477</td>\n",
       "      <td>556</td>\n",
       "      <td>740</td>\n",
       "      <td>909</td>\n",
       "      <td>72</td>\n",
       "      <td>METRO41980MM7440</td>\n",
       "      <td>San Juan-Guaynabo, PR HUD Metro FMR Area</td>\n",
       "      <td>151</td>\n",
       "      <td>99999</td>\n",
       "      <td>Yabucoa Municipio</td>\n",
       "      <td>Yabucoa Municipio</td>\n",
       "      <td>35025</td>\n",
       "      <td>PR</td>\n",
       "      <td>1</td>\n",
       "    </tr>\n",
       "    <tr>\n",
       "      <th>4762</th>\n",
       "      <td>7215399999</td>\n",
       "      <td>361</td>\n",
       "      <td>369</td>\n",
       "      <td>421</td>\n",
       "      <td>596</td>\n",
       "      <td>630</td>\n",
       "      <td>72</td>\n",
       "      <td>METRO38660M49500</td>\n",
       "      <td>Yauco, PR HUD Metro FMR Area</td>\n",
       "      <td>153</td>\n",
       "      <td>99999</td>\n",
       "      <td>Yauco Municipio</td>\n",
       "      <td>Yauco Municipio</td>\n",
       "      <td>37585</td>\n",
       "      <td>PR</td>\n",
       "      <td>1</td>\n",
       "    </tr>\n",
       "    <tr>\n",
       "      <th>4763</th>\n",
       "      <td>7801099999</td>\n",
       "      <td>835</td>\n",
       "      <td>852</td>\n",
       "      <td>1040</td>\n",
       "      <td>1294</td>\n",
       "      <td>1410</td>\n",
       "      <td>78</td>\n",
       "      <td>NCNTY78010N78010</td>\n",
       "      <td>St. Croix Island, VI</td>\n",
       "      <td>10</td>\n",
       "      <td>99999</td>\n",
       "      <td>St. Croix</td>\n",
       "      <td>St. Croix</td>\n",
       "      <td>53234</td>\n",
       "      <td>VI</td>\n",
       "      <td>0</td>\n",
       "    </tr>\n",
       "    <tr>\n",
       "      <th>4764</th>\n",
       "      <td>7802099999</td>\n",
       "      <td>1109</td>\n",
       "      <td>1314</td>\n",
       "      <td>1633</td>\n",
       "      <td>2031</td>\n",
       "      <td>2214</td>\n",
       "      <td>78</td>\n",
       "      <td>NCNTY78020N78020</td>\n",
       "      <td>St. John Island, VI</td>\n",
       "      <td>20</td>\n",
       "      <td>99999</td>\n",
       "      <td>St. John</td>\n",
       "      <td>St. John</td>\n",
       "      <td>4197</td>\n",
       "      <td>VI</td>\n",
       "      <td>0</td>\n",
       "    </tr>\n",
       "    <tr>\n",
       "      <th>4765</th>\n",
       "      <td>7803099999</td>\n",
       "      <td>797</td>\n",
       "      <td>962</td>\n",
       "      <td>1204</td>\n",
       "      <td>1498</td>\n",
       "      <td>1633</td>\n",
       "      <td>78</td>\n",
       "      <td>NCNTY78030N78030</td>\n",
       "      <td>St. Thomas Island, VI</td>\n",
       "      <td>30</td>\n",
       "      <td>99999</td>\n",
       "      <td>St. Thomas</td>\n",
       "      <td>St. Thomas</td>\n",
       "      <td>51181</td>\n",
       "      <td>VI</td>\n",
       "      <td>0</td>\n",
       "    </tr>\n",
       "  </tbody>\n",
       "</table>\n",
       "</div>"
      ],
      "text/plain": [
       "        fips2010  fmr_0  fmr_1  fmr_2  fmr_3  fmr_4  state        metro_code  \\\n",
       "4761  7215199999    436    477    556    740    909     72  METRO41980MM7440   \n",
       "4762  7215399999    361    369    421    596    630     72  METRO38660M49500   \n",
       "4763  7801099999    835    852   1040   1294   1410     78  NCNTY78010N78010   \n",
       "4764  7802099999   1109   1314   1633   2031   2214     78  NCNTY78020N78020   \n",
       "4765  7803099999    797    962   1204   1498   1633     78  NCNTY78030N78030   \n",
       "\n",
       "                                      areaname  county  cousub  \\\n",
       "4761  San Juan-Guaynabo, PR HUD Metro FMR Area     151   99999   \n",
       "4762              Yauco, PR HUD Metro FMR Area     153   99999   \n",
       "4763                      St. Croix Island, VI      10   99999   \n",
       "4764                       St. John Island, VI      20   99999   \n",
       "4765                     St. Thomas Island, VI      30   99999   \n",
       "\n",
       "             countyname   county_town_name  pop2017 state_alpha  metro  \n",
       "4761  Yabucoa Municipio  Yabucoa Municipio    35025          PR      1  \n",
       "4762    Yauco Municipio    Yauco Municipio    37585          PR      1  \n",
       "4763          St. Croix          St. Croix    53234          VI      0  \n",
       "4764           St. John           St. John     4197          VI      0  \n",
       "4765         St. Thomas         St. Thomas    51181          VI      0  "
      ]
     },
     "execution_count": 10,
     "metadata": {},
     "output_type": "execute_result"
    }
   ],
   "source": [
    "#CSV to Load\n",
    "FMR_21_data= \"FY21_FMR.csv\"\n",
    "FMR21_df=pd.read_csv(FMR_21_data, na_values=['999.99'])\n",
    "FMR21_df.head()\n",
    "FMR21_df.tail()"
   ]
  },
  {
   "cell_type": "code",
   "execution_count": 11,
   "id": "43630008",
   "metadata": {},
   "outputs": [
    {
     "name": "stdout",
     "output_type": "stream",
     "text": [
      "<class 'pandas.core.frame.DataFrame'>\n",
      "RangeIndex: 4766 entries, 0 to 4765\n",
      "Data columns (total 16 columns):\n",
      " #   Column            Non-Null Count  Dtype \n",
      "---  ------            --------------  ----- \n",
      " 0   fips2010          4766 non-null   int64 \n",
      " 1   fmr_0             4766 non-null   int64 \n",
      " 2   fmr_1             4766 non-null   int64 \n",
      " 3   fmr_2             4766 non-null   int64 \n",
      " 4   fmr_3             4766 non-null   int64 \n",
      " 5   fmr_4             4766 non-null   int64 \n",
      " 6   state             4766 non-null   int64 \n",
      " 7   metro_code        4766 non-null   object\n",
      " 8   areaname          4766 non-null   object\n",
      " 9   county            4766 non-null   int64 \n",
      " 10  cousub            4766 non-null   int64 \n",
      " 11  countyname        4766 non-null   object\n",
      " 12  county_town_name  4766 non-null   object\n",
      " 13  pop2017           4766 non-null   int64 \n",
      " 14  state_alpha       4766 non-null   object\n",
      " 15  metro             4766 non-null   int64 \n",
      "dtypes: int64(11), object(5)\n",
      "memory usage: 595.9+ KB\n"
     ]
    }
   ],
   "source": [
    "FMR21_df.info()"
   ]
  },
  {
   "cell_type": "code",
   "execution_count": 12,
   "id": "6675ef94",
   "metadata": {},
   "outputs": [
    {
     "data": {
      "text/plain": [
       "fips2010            0\n",
       "fmr_0               0\n",
       "fmr_1               0\n",
       "fmr_2               0\n",
       "fmr_3               0\n",
       "fmr_4               0\n",
       "state               0\n",
       "metro_code          0\n",
       "areaname            0\n",
       "county              0\n",
       "cousub              0\n",
       "countyname          0\n",
       "county_town_name    0\n",
       "pop2017             0\n",
       "state_alpha         0\n",
       "metro               0\n",
       "dtype: int64"
      ]
     },
     "execution_count": 12,
     "metadata": {},
     "output_type": "execute_result"
    }
   ],
   "source": [
    "FMR21_df.isnull().sum()"
   ]
  },
  {
   "cell_type": "code",
   "execution_count": 13,
   "id": "977da30c",
   "metadata": {},
   "outputs": [
    {
     "name": "stdout",
     "output_type": "stream",
     "text": [
      "Categorical Columns: ['metro_code', 'areaname', 'countyname', 'county_town_name', 'state_alpha']\n",
      "Numerical Columns: ['fips2010', 'fmr_0', 'fmr_1', 'fmr_2', 'fmr_3', 'fmr_4', 'state', 'county', 'cousub', 'pop2017', 'metro']\n"
     ]
    }
   ],
   "source": [
    "print(\"Categorical Columns:\", list(FMR21_df.select_dtypes(include = 'object').columns))\n",
    "print(\"Numerical Columns:\", list(FMR21_df.select_dtypes(exclude = 'object').columns))"
   ]
  },
  {
   "cell_type": "code",
   "execution_count": 14,
   "id": "fca78727",
   "metadata": {},
   "outputs": [],
   "source": [
    "#"
   ]
  },
  {
   "cell_type": "code",
   "execution_count": 15,
   "id": "440b573f",
   "metadata": {},
   "outputs": [
    {
     "data": {
      "text/plain": [
       "0"
      ]
     },
     "execution_count": 15,
     "metadata": {},
     "output_type": "execute_result"
    }
   ],
   "source": [
    "FMR21_df[FMR21_df['fmr_0']==0]['fmr_0'].count()"
   ]
  },
  {
   "cell_type": "code",
   "execution_count": 16,
   "id": "933ceb2c",
   "metadata": {},
   "outputs": [
    {
     "data": {
      "text/html": [
       "<div>\n",
       "<style scoped>\n",
       "    .dataframe tbody tr th:only-of-type {\n",
       "        vertical-align: middle;\n",
       "    }\n",
       "\n",
       "    .dataframe tbody tr th {\n",
       "        vertical-align: top;\n",
       "    }\n",
       "\n",
       "    .dataframe thead th {\n",
       "        text-align: right;\n",
       "    }\n",
       "</style>\n",
       "<table border=\"1\" class=\"dataframe\">\n",
       "  <thead>\n",
       "    <tr style=\"text-align: right;\">\n",
       "      <th></th>\n",
       "      <th>fips2010</th>\n",
       "      <th>fmr_0</th>\n",
       "      <th>fmr_1</th>\n",
       "      <th>fmr_2</th>\n",
       "      <th>fmr_3</th>\n",
       "      <th>fmr_4</th>\n",
       "      <th>state</th>\n",
       "      <th>metro_code</th>\n",
       "      <th>areaname</th>\n",
       "      <th>county</th>\n",
       "      <th>cousub</th>\n",
       "      <th>countyname</th>\n",
       "      <th>county_town_name</th>\n",
       "      <th>pop2017</th>\n",
       "      <th>state_alpha</th>\n",
       "      <th>metro</th>\n",
       "    </tr>\n",
       "  </thead>\n",
       "  <tbody>\n",
       "    <tr>\n",
       "      <th>0</th>\n",
       "      <td>100199999</td>\n",
       "      <td>640</td>\n",
       "      <td>766</td>\n",
       "      <td>908</td>\n",
       "      <td>1148</td>\n",
       "      <td>1520</td>\n",
       "      <td>1</td>\n",
       "      <td>METRO33860M33860</td>\n",
       "      <td>Montgomery, AL MSA</td>\n",
       "      <td>1</td>\n",
       "      <td>99999</td>\n",
       "      <td>Autauga County</td>\n",
       "      <td>Autauga County</td>\n",
       "      <td>55035</td>\n",
       "      <td>AL</td>\n",
       "      <td>1</td>\n",
       "    </tr>\n",
       "    <tr>\n",
       "      <th>1</th>\n",
       "      <td>100399999</td>\n",
       "      <td>718</td>\n",
       "      <td>723</td>\n",
       "      <td>922</td>\n",
       "      <td>1249</td>\n",
       "      <td>1584</td>\n",
       "      <td>1</td>\n",
       "      <td>METRO19300M19300</td>\n",
       "      <td>Daphne-Fairhope-Foley, AL MSA</td>\n",
       "      <td>3</td>\n",
       "      <td>99999</td>\n",
       "      <td>Baldwin County</td>\n",
       "      <td>Baldwin County</td>\n",
       "      <td>203360</td>\n",
       "      <td>AL</td>\n",
       "      <td>1</td>\n",
       "    </tr>\n",
       "    <tr>\n",
       "      <th>2</th>\n",
       "      <td>100599999</td>\n",
       "      <td>488</td>\n",
       "      <td>492</td>\n",
       "      <td>648</td>\n",
       "      <td>806</td>\n",
       "      <td>907</td>\n",
       "      <td>1</td>\n",
       "      <td>NCNTY01005N01005</td>\n",
       "      <td>Barbour County, AL</td>\n",
       "      <td>5</td>\n",
       "      <td>99999</td>\n",
       "      <td>Barbour County</td>\n",
       "      <td>Barbour County</td>\n",
       "      <td>26200</td>\n",
       "      <td>AL</td>\n",
       "      <td>0</td>\n",
       "    </tr>\n",
       "    <tr>\n",
       "      <th>3</th>\n",
       "      <td>100799999</td>\n",
       "      <td>817</td>\n",
       "      <td>871</td>\n",
       "      <td>1002</td>\n",
       "      <td>1303</td>\n",
       "      <td>1409</td>\n",
       "      <td>1</td>\n",
       "      <td>METRO13820M13820</td>\n",
       "      <td>Birmingham-Hoover, AL HUD Metro FMR Area</td>\n",
       "      <td>7</td>\n",
       "      <td>99999</td>\n",
       "      <td>Bibb County</td>\n",
       "      <td>Bibb County</td>\n",
       "      <td>22580</td>\n",
       "      <td>AL</td>\n",
       "      <td>1</td>\n",
       "    </tr>\n",
       "    <tr>\n",
       "      <th>4</th>\n",
       "      <td>100999999</td>\n",
       "      <td>817</td>\n",
       "      <td>871</td>\n",
       "      <td>1002</td>\n",
       "      <td>1303</td>\n",
       "      <td>1409</td>\n",
       "      <td>1</td>\n",
       "      <td>METRO13820M13820</td>\n",
       "      <td>Birmingham-Hoover, AL HUD Metro FMR Area</td>\n",
       "      <td>9</td>\n",
       "      <td>99999</td>\n",
       "      <td>Blount County</td>\n",
       "      <td>Blount County</td>\n",
       "      <td>57665</td>\n",
       "      <td>AL</td>\n",
       "      <td>1</td>\n",
       "    </tr>\n",
       "  </tbody>\n",
       "</table>\n",
       "</div>"
      ],
      "text/plain": [
       "    fips2010  fmr_0  fmr_1  fmr_2  fmr_3  fmr_4  state        metro_code  \\\n",
       "0  100199999    640    766    908   1148   1520      1  METRO33860M33860   \n",
       "1  100399999    718    723    922   1249   1584      1  METRO19300M19300   \n",
       "2  100599999    488    492    648    806    907      1  NCNTY01005N01005   \n",
       "3  100799999    817    871   1002   1303   1409      1  METRO13820M13820   \n",
       "4  100999999    817    871   1002   1303   1409      1  METRO13820M13820   \n",
       "\n",
       "                                   areaname  county  cousub      countyname  \\\n",
       "0                        Montgomery, AL MSA       1   99999  Autauga County   \n",
       "1             Daphne-Fairhope-Foley, AL MSA       3   99999  Baldwin County   \n",
       "2                        Barbour County, AL       5   99999  Barbour County   \n",
       "3  Birmingham-Hoover, AL HUD Metro FMR Area       7   99999     Bibb County   \n",
       "4  Birmingham-Hoover, AL HUD Metro FMR Area       9   99999   Blount County   \n",
       "\n",
       "  county_town_name  pop2017 state_alpha  metro  \n",
       "0   Autauga County    55035          AL      1  \n",
       "1   Baldwin County   203360          AL      1  \n",
       "2   Barbour County    26200          AL      0  \n",
       "3      Bibb County    22580          AL      1  \n",
       "4    Blount County    57665          AL      1  "
      ]
     },
     "execution_count": 16,
     "metadata": {},
     "output_type": "execute_result"
    }
   ],
   "source": [
    "FMR21_studio_df=FMR21_df[FMR21_df['fmr_0']!=0]\n",
    "FMR21_studio_df.head()"
   ]
  },
  {
   "cell_type": "code",
   "execution_count": 17,
   "id": "acaa2480",
   "metadata": {},
   "outputs": [
    {
     "data": {
      "text/html": [
       "<div>\n",
       "<style scoped>\n",
       "    .dataframe tbody tr th:only-of-type {\n",
       "        vertical-align: middle;\n",
       "    }\n",
       "\n",
       "    .dataframe tbody tr th {\n",
       "        vertical-align: top;\n",
       "    }\n",
       "\n",
       "    .dataframe thead th {\n",
       "        text-align: right;\n",
       "    }\n",
       "</style>\n",
       "<table border=\"1\" class=\"dataframe\">\n",
       "  <thead>\n",
       "    <tr style=\"text-align: right;\">\n",
       "      <th></th>\n",
       "      <th>fmr_0</th>\n",
       "      <th>fmr_1</th>\n",
       "      <th>fmr_2</th>\n",
       "      <th>fmr_3</th>\n",
       "      <th>fmr_4</th>\n",
       "      <th>countyname</th>\n",
       "      <th>pop2017</th>\n",
       "      <th>state_alpha</th>\n",
       "    </tr>\n",
       "  </thead>\n",
       "  <tbody>\n",
       "    <tr>\n",
       "      <th>0</th>\n",
       "      <td>640</td>\n",
       "      <td>766</td>\n",
       "      <td>908</td>\n",
       "      <td>1148</td>\n",
       "      <td>1520</td>\n",
       "      <td>Autauga County</td>\n",
       "      <td>55035</td>\n",
       "      <td>AL</td>\n",
       "    </tr>\n",
       "    <tr>\n",
       "      <th>1</th>\n",
       "      <td>718</td>\n",
       "      <td>723</td>\n",
       "      <td>922</td>\n",
       "      <td>1249</td>\n",
       "      <td>1584</td>\n",
       "      <td>Baldwin County</td>\n",
       "      <td>203360</td>\n",
       "      <td>AL</td>\n",
       "    </tr>\n",
       "    <tr>\n",
       "      <th>2</th>\n",
       "      <td>488</td>\n",
       "      <td>492</td>\n",
       "      <td>648</td>\n",
       "      <td>806</td>\n",
       "      <td>907</td>\n",
       "      <td>Barbour County</td>\n",
       "      <td>26200</td>\n",
       "      <td>AL</td>\n",
       "    </tr>\n",
       "    <tr>\n",
       "      <th>3</th>\n",
       "      <td>817</td>\n",
       "      <td>871</td>\n",
       "      <td>1002</td>\n",
       "      <td>1303</td>\n",
       "      <td>1409</td>\n",
       "      <td>Bibb County</td>\n",
       "      <td>22580</td>\n",
       "      <td>AL</td>\n",
       "    </tr>\n",
       "    <tr>\n",
       "      <th>4</th>\n",
       "      <td>817</td>\n",
       "      <td>871</td>\n",
       "      <td>1002</td>\n",
       "      <td>1303</td>\n",
       "      <td>1409</td>\n",
       "      <td>Blount County</td>\n",
       "      <td>57665</td>\n",
       "      <td>AL</td>\n",
       "    </tr>\n",
       "  </tbody>\n",
       "</table>\n",
       "</div>"
      ],
      "text/plain": [
       "   fmr_0  fmr_1  fmr_2  fmr_3  fmr_4      countyname  pop2017 state_alpha\n",
       "0    640    766    908   1148   1520  Autauga County    55035          AL\n",
       "1    718    723    922   1249   1584  Baldwin County   203360          AL\n",
       "2    488    492    648    806    907  Barbour County    26200          AL\n",
       "3    817    871   1002   1303   1409     Bibb County    22580          AL\n",
       "4    817    871   1002   1303   1409   Blount County    57665          AL"
      ]
     },
     "execution_count": 17,
     "metadata": {},
     "output_type": "execute_result"
    }
   ],
   "source": [
    "CFMR21_df = FMR21_df.drop(['state','metro_code', 'fips2010','areaname','county_town_name','metro', 'cousub','county'], axis=1)\n",
    "CFMR21_df.head()"
   ]
  },
  {
   "cell_type": "code",
   "execution_count": 18,
   "id": "a38af85e",
   "metadata": {},
   "outputs": [],
   "source": [
    "CFMR21_df.rename(columns = {'fmr_0':'Studio', 'fmr_1':'One Bedroom', 'fmr_2':'Two Bedroom', 'fmr_3':'Three Bedroom','fmr_4':'Four Bedroom','pop2017':'Population','countyname':'County','state_alpha':'State'}, inplace = True)"
   ]
  },
  {
   "cell_type": "code",
   "execution_count": 19,
   "id": "97c1bab0",
   "metadata": {},
   "outputs": [],
   "source": [
    "CFMR21_df=CFMR21_df.groupby(by=['State'], dropna=False).mean()"
   ]
  },
  {
   "cell_type": "code",
   "execution_count": 20,
   "id": "3c4466f4",
   "metadata": {},
   "outputs": [],
   "source": [
    "CFMR21_df.insert(0, 'Year', '2021')"
   ]
  },
  {
   "cell_type": "code",
   "execution_count": 21,
   "id": "e2e0b772",
   "metadata": {},
   "outputs": [],
   "source": [
    "CFMR21_df=CFMR21_df.round(2)"
   ]
  },
  {
   "cell_type": "code",
   "execution_count": 23,
   "id": "04a569b8",
   "metadata": {},
   "outputs": [
    {
     "data": {
      "text/html": [
       "<div>\n",
       "<style scoped>\n",
       "    .dataframe tbody tr th:only-of-type {\n",
       "        vertical-align: middle;\n",
       "    }\n",
       "\n",
       "    .dataframe tbody tr th {\n",
       "        vertical-align: top;\n",
       "    }\n",
       "\n",
       "    .dataframe thead th {\n",
       "        text-align: right;\n",
       "    }\n",
       "</style>\n",
       "<table border=\"1\" class=\"dataframe\">\n",
       "  <thead>\n",
       "    <tr style=\"text-align: right;\">\n",
       "      <th></th>\n",
       "      <th>Year</th>\n",
       "      <th>Studio</th>\n",
       "      <th>One Bedroom</th>\n",
       "      <th>Two Bedroom</th>\n",
       "      <th>Three Bedroom</th>\n",
       "      <th>Four Bedroom</th>\n",
       "      <th>Population</th>\n",
       "    </tr>\n",
       "    <tr>\n",
       "      <th>State</th>\n",
       "      <th></th>\n",
       "      <th></th>\n",
       "      <th></th>\n",
       "      <th></th>\n",
       "      <th></th>\n",
       "      <th></th>\n",
       "      <th></th>\n",
       "    </tr>\n",
       "  </thead>\n",
       "  <tbody>\n",
       "    <tr>\n",
       "      <th>AK</th>\n",
       "      <td>2021</td>\n",
       "      <td>850.97</td>\n",
       "      <td>951.28</td>\n",
       "      <td>1200.14</td>\n",
       "      <td>1582.72</td>\n",
       "      <td>1815.38</td>\n",
       "      <td>25467.93</td>\n",
       "    </tr>\n",
       "    <tr>\n",
       "      <th>AL</th>\n",
       "      <td>2021</td>\n",
       "      <td>548.28</td>\n",
       "      <td>591.99</td>\n",
       "      <td>725.82</td>\n",
       "      <td>949.51</td>\n",
       "      <td>1094.63</td>\n",
       "      <td>72399.63</td>\n",
       "    </tr>\n",
       "    <tr>\n",
       "      <th>AR</th>\n",
       "      <td>2021</td>\n",
       "      <td>515.95</td>\n",
       "      <td>553.85</td>\n",
       "      <td>697.31</td>\n",
       "      <td>920.29</td>\n",
       "      <td>1065.15</td>\n",
       "      <td>39706.00</td>\n",
       "    </tr>\n",
       "    <tr>\n",
       "      <th>AS</th>\n",
       "      <td>2021</td>\n",
       "      <td>590.00</td>\n",
       "      <td>594.00</td>\n",
       "      <td>783.00</td>\n",
       "      <td>1121.00</td>\n",
       "      <td>1201.00</td>\n",
       "      <td>55519.00</td>\n",
       "    </tr>\n",
       "    <tr>\n",
       "      <th>AZ</th>\n",
       "      <td>2021</td>\n",
       "      <td>698.13</td>\n",
       "      <td>767.93</td>\n",
       "      <td>970.13</td>\n",
       "      <td>1340.20</td>\n",
       "      <td>1493.53</td>\n",
       "      <td>453995.67</td>\n",
       "    </tr>\n",
       "  </tbody>\n",
       "</table>\n",
       "</div>"
      ],
      "text/plain": [
       "       Year  Studio  One Bedroom  Two Bedroom  Three Bedroom  Four Bedroom  \\\n",
       "State                                                                        \n",
       "AK     2021  850.97       951.28      1200.14        1582.72       1815.38   \n",
       "AL     2021  548.28       591.99       725.82         949.51       1094.63   \n",
       "AR     2021  515.95       553.85       697.31         920.29       1065.15   \n",
       "AS     2021  590.00       594.00       783.00        1121.00       1201.00   \n",
       "AZ     2021  698.13       767.93       970.13        1340.20       1493.53   \n",
       "\n",
       "       Population  \n",
       "State              \n",
       "AK       25467.93  \n",
       "AL       72399.63  \n",
       "AR       39706.00  \n",
       "AS       55519.00  \n",
       "AZ      453995.67  "
      ]
     },
     "execution_count": 23,
     "metadata": {},
     "output_type": "execute_result"
    }
   ],
   "source": [
    "CFMR21_df.head()"
   ]
  },
  {
   "cell_type": "code",
   "execution_count": 24,
   "id": "01dc2219",
   "metadata": {},
   "outputs": [],
   "source": [
    "CFMR21_df.to_csv(r\"CFMR21_df.csv\")"
   ]
  },
  {
   "cell_type": "code",
   "execution_count": null,
   "id": "b0c239c4",
   "metadata": {},
   "outputs": [],
   "source": [
    "numeric_columns = list(FMR21_df.select_dtypes(exclude = 'object').columns)\n",
    "fig = make_subplots(rows=2, cols=3, shared_yaxes=True)\n",
    "index = 0\n",
    "for row in range(1,3):\n",
    "    for col in range(1,4):\n",
    "        fig.add_trace(go.Box(x=FMR21_df[numeric_columns[index]], name = numeric_columns[index]),\n",
    "                      row = row,\n",
    "                      col = col,\n",
    ")\n",
    "        index = index + 1\n",
    "fig.update_layout(height=600, width=1300,\n",
    "                  title_text=\"Box-Plots of Numerical Variables\")\n",
    "\n",
    "fig.show()"
   ]
  },
  {
   "cell_type": "code",
   "execution_count": null,
   "id": "84d0174c",
   "metadata": {},
   "outputs": [],
   "source": [
    "sns.regplot(x=\"Studio\", y=\"Population\", data=FMR21_df)\n",
    "plt.ylim(0,)"
   ]
  },
  {
   "cell_type": "code",
   "execution_count": null,
   "id": "1b343feb",
   "metadata": {},
   "outputs": [],
   "source": []
  },
  {
   "cell_type": "code",
   "execution_count": null,
   "id": "3c04ad9f",
   "metadata": {},
   "outputs": [],
   "source": []
  },
  {
   "cell_type": "code",
   "execution_count": null,
   "id": "bcefda55",
   "metadata": {},
   "outputs": [],
   "source": []
  }
 ],
 "metadata": {
  "kernelspec": {
   "display_name": "Python 3",
   "language": "python",
   "name": "python3"
  },
  "language_info": {
   "codemirror_mode": {
    "name": "ipython",
    "version": 3
   },
   "file_extension": ".py",
   "mimetype": "text/x-python",
   "name": "python",
   "nbconvert_exporter": "python",
   "pygments_lexer": "ipython3",
   "version": "3.7.10"
  }
 },
 "nbformat": 4,
 "nbformat_minor": 5
}
